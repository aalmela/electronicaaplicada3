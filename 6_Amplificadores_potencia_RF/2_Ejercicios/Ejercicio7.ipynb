{
 "cells": [
  {
   "cell_type": "markdown",
   "metadata": {},
   "source": [
    "# Ejercicio 7\n",
    "\n",
    "El circuito de la figura corresponde amplificador de potencia de RF sintonizado, realizado con un MOSFET, para una portadora de $f = 10 MHz$.\n",
    "\n",
    "El amplificador de la figura trabaja en clase B\n",
    "\n",
    "![ex 2.13](fig/circuitoClaseC.png)\n",
    "\n",
    "\n",
    "Para este proyecto se busca máxima excursión de señal para un amplificador de RF Clase B. \n",
    "\n",
    "Se asume la impedancia del dispositivo a su salida entre  Drain  y Source es lo suficientemente elevada como para desestimarla frente a la carga.\n",
    "\n",
    "|Symbol        | Parameter                  | Value     | Unit     |   \n",
    "|--------------|----------------------------|-----------|----------|\n",
    "|$V_{(BR)DSS}$ |  Drain source voltage      | $125$     | V        |\n",
    "|$V_{GS}$      |  Gate source voltage       | $\\pm 20$  | V        |\n",
    "|$I_{D}$       |  Drain current             | $10$      | A        |\n",
    "|$V_{(min)DS}$ |  Drain source voltage min. | $10$      | V        |\n",
    "\n",
    "Impedancia de entrada del MOSFET a $f = 10MHz$ \n",
    "$$Z_{in}  = (4 -2j) \\Omega$$ \n",
    "\n",
    "Impedancia de salida del MOSFET   a $f = 10MHz$ \n",
    "$$Z_{out} = (80-2j)  \\Omega$$ \n",
    "\n",
    "![ex 2.13](fig/mosfet_BF177.png)\n",
    "\n",
    "https://www.ampleon.com/documents/data-sheet/BLF177_N.pdf\n",
    "\n",
    "\n",
    "\n",
    "La tensión de excitación en Gate es una señal BLU.\n",
    "\n",
    "La señal de BLU formada por dos tonos de igual nivel y frecuencias $f_1=9.99 MHz$ y  $f_2=10.10 MHz$\n",
    "\n",
    "\n",
    "El Q cargado de ambos tanques (Gate y  Drain) es de $Q_C = 10$ y el  $Q_{oL} = Q_{oC} = infinito$ de los elementos reactivos es infinito. \n",
    "\n",
    "La tensión de fuente es de $V_{DD} = 50V$. \n",
    "\n",
    "Potencia en la carga $P_L = 150 W$. \n",
    "\n",
    "\n",
    "NOTA: En ambos casos (IDM de 3 y 5 orden) se desprecian dentro de los paréntesis los signos MAS ya que dichas componentes son eliminadas por el filtro de salida.\n",
    " \n",
    "Recordatorio de identidad trigonometrica\n",
    "\n",
    "$cos(\\alpha) cos(\\beta) = \\frac{cos(\\alpha + \\beta)}{2}) +  \\frac{cos(\\alpha - \\beta)}{2})$\n",
    "\n",
    "\n",
    "Determinar:\n",
    "\n",
    "   1. $V_{GG}$ y $V_{s}$ (tener en cuenta que la señal es AM) \n",
    "   2. Componentes fundamentales de la corriente de drain Id1(f1), Id1(f2)\n",
    "   3. Componentes de IDM de 3er orden de la corriente de drain \n",
    "   4. Componentes de IDM de 5to orden de la corriente de drain \n",
    "   5. $R_{o}$ para maxima escursión de la salida (dada la fuente de alimentación).\n",
    "   6. $P_{dc}$.\n",
    "   7. $P_{tr}$ \n",
    "   8. Rendimiento.\n",
    "   9. Ganancia de potencia\n",
    "   10. Rendimiento\n",
    "   \n",
    "\n",
    "\n",
    "![ex 2.13](fig/circuitoClaseC_mosfet_1.png)\n"
   ]
  },
  {
   "cell_type": "markdown",
   "metadata": {},
   "source": [
    "## 1. $V_{GG}$ y $V_{s}$ (condición de pico)\n",
    "\n",
    "\n",
    "$v_{gs} = V_{GG} + V_s (1+ m cos(\\theta_m)) \\cdot cos(\\theta_c)$\n",
    "\n",
    "\n",
    "Para la condición de pico.\n",
    "\n",
    "$v_{gs} = V_{GG} + V_s (1.50) \\cdot cos(\\theta_c)$\n",
    "\n",
    "\n",
    "Para máxima excursión de la señal y un ángulo de circulación de 120 grados, podemos plantear el siguiente sistema de ecuaciones:\n",
    "\n",
    "Si $\\theta = 0$\n",
    "\n",
    "$V_{GG} + V_s = 7.5$\n",
    "\n",
    "Si $\\theta = \\pi$ (condición de Clase B)\n",
    "\n",
    "$V_{GG} + V_s \\cdot cos(\\pi) = 2.5$\n",
    "\n",
    "$V_{GG} = 2.5 V$\n",
    "\n",
    "$v_{g} =  5 V$\n",
    "\n"
   ]
  },
  {
   "cell_type": "markdown",
   "metadata": {},
   "source": [
    "## 2. \n",
    "Para la condición de portadora.\n",
    "\n",
    "$v_{gs} = V_{GG} + V_s (1.0) \\cdot cos(\\theta_c)$\n",
    "\n",
    "Para la condición de portadora.\n",
    "\n",
    "$v_{gs} = V_{GG} + V_s (0.50) \\cdot cos(\\theta_c)$\n"
   ]
  },
  {
   "cell_type": "markdown",
   "metadata": {},
   "source": [
    "## 3. $i_g$\n",
    "\n",
    "La impedancia de entrada es $Z_{in} = 4 -2j$\n",
    "\n",
    "Su admitancia es $Y_{in} = \\frac{1}{Z_{in}}$\n",
    "\n",
    "$Y_{in} = \\frac{1}{5}S + j\\frac{1}{10} S$\n",
    "\n",
    "$P_{in} = \\frac{v_g^2}{2 r_{in}}$\n",
    "\n",
    "$P_in = 1.25 W$\n",
    "\n",
    "\n",
    "Dado que adaptador no presenta perdidas, la potencia de entrada es igual a la de la salida. \n",
    "\n",
    "$P_{in} = \\frac{i_g^2  \\frac{50 \\Omega}{2}}{4}$\n",
    "\n",
    "$i_g = \\sqrt{\\frac{P_{in} 4}{\\frac{50 \\Omega}{2}}}$\n",
    "\n",
    "$i_g = 1.26 A$"
   ]
  },
  {
   "cell_type": "markdown",
   "metadata": {},
   "source": [
    "## 4. $I_{do(pico)}$, $I_{d1(pico)}$\n",
    "\n",
    "$v_{gs} = V_{GG} + V_s \\cdot cos(\\theta)$\n",
    "\n",
    "La corriente de Drain se expresa como \n",
    "\n",
    "Si $-\\pi \\ge \\theta \\le \\pi$ \n",
    "\n",
    "$i_d = (v_{gs} - V_{th}) \\frac{20 A}{5 V}$\n",
    "\n",
    "$i_d = (V_{GG} + V_s \\cdot cos(\\theta) - V_{th}) \\frac{20 A}{5 V}$\n",
    "\n",
    "$i_d = ( 2.5 V + 5 V \\cdot cos(\\theta) - 2.5 V) \\frac{20 A}{5 V}$\n",
    "\n",
    "$i_d = (0 V   + 5 V \\cdot cos(\\theta)) \\frac{20 A}{5 V}$\n",
    "\n",
    "$i_d = 20 A \\cdot cos(\\theta)$\n",
    "\n"
   ]
  },
  {
   "cell_type": "markdown",
   "metadata": {},
   "source": [
    "## 5. Valores instantaneos de  la corriente $i_d$\n",
    "\n",
    "\n",
    "### Empleando metodo de los trapeos\n",
    "\n",
    "\n",
    "|$\\theta_i$ | $v_{gs}(\\theta_i)$ | $i_d(\\theta_i)$ | $i_d(\\theta_i) cos(\\theta_i)$| $i_d cos(2 \\theta_i)$ | $i_d cos(3 \\theta_i)$ |\n",
    "|-------|----------------|-------------|-----------------------|-------------------|-------------------|\n",
    "|0.00| 7.50| 20.00| 20.00| 20.00 | 20.00 |\n",
    "|15.00| 7.33| 19.32| 18.66| 16.73 | 13.66 |\n",
    "|30.00| 6.83| 17.32| 15.00| 8.66 | -0.00 |\n",
    "|45.00| 6.04| 14.14| 10.00| -0.00 | -10.00 |\n",
    "|60.00| 5.00| 10.00| 5.00| -5.00 | -10.00 |\n",
    "|75.00| 3.79| 5.18| 1.34| -4.48 | -3.66 |\n",
    "|90.00| 2.50| 0.00| -0.00| -0.00 | 0.00 |\n",
    "|105.00| 1.21| 0.00| -0.00| -0.00 | 0.00 |\n",
    "|120.00| -0.00| 0.00| -0.00| -0.00 | 0.00 |\n",
    "|135.00| -1.04| 0.00| -0.00| 0.00 | 0.00 |\n",
    "|150.00| -1.83| 0.00| -0.00| 0.00 | -0.00 |\n",
    "|165.00| -2.33| 0.00| -0.00| 0.00 | -0.00 |\n",
    "\n",
    "$idco= 6.33 A$\n",
    "\n",
    "$idc1= 10.00 A$\n",
    "\n",
    "$idc2= 4.32 A$\n",
    "\n",
    "$idc3= -0.00 A$\n",
    "\n",
    "$idc4= -0.93 A$\n",
    "\n",
    "\n",
    "####   Componente de continua $I_{do}$\n",
    "\n",
    "$I_{do} = \\frac{1}{n} \\sum_{i=1}^{n} idc_1(\\theta_m(i))$\n",
    "\n",
    "donde n es el número de muestras. \n",
    "\n",
    "Por el metodo de los trapecios, primero obtenemos la tabla para 24 muestras.\n",
    "\n",
    "La ecuación puede simplificarse a por su simetria par:\n",
    "\n",
    "$I_{do} = \\frac{1}{12} \\sum_{i=1}^{\\frac{n}{2}} idc_1(\\theta_m(i))$\n",
    "\n",
    "Aplicando metodo de los trapecios:\n",
    "\n",
    "$I_{do} = \\frac{1}{12} [ \\frac{id(0)}{2} +id(15) +id(30) +id(45)+ id(60) +id(75) + id(90) id(105) +id(120) +id(135) +id(150) +id(165)]$\n",
    "\n",
    "$I_{do} = \\frac{1}{12} [ \\frac{20}{2} + 19.32 + 17.32 + 14.14 + 10.0 + 5.18 + 0]$\n",
    "\n",
    "$I_{do} = 6.33 A$\n",
    "\n",
    "\n",
    "\n",
    "####   Componente de fundamental $I_{d1}$\n",
    "\n",
    "$I_{d1} = \\frac{1}{n} \\sum_{i=0}^{n} idc_1(\\theta_m(i)) \\cdot cos(\\theta_m(i) \\cdot 1)$\n",
    "\n",
    "\n",
    "$I_{d1} = \\frac{1}{n} \\sum_{i=1}^{n} idc_1(\\theta_m(i))$\n",
    "\n",
    "donde n es el número de muestras. \n",
    "\n",
    "Por el metodo de los trapecios, primero obtenemos la tabla para 24 muestras.\n",
    "\n",
    " \n",
    "La ecuación puede simplificarse a por su simetria par:\n",
    "\n",
    "$I_{d1} = \\frac{1}{6} \\sum_{i=0}^{\\frac{n}{2}} idc_1(\\theta_m(i)) \\cdot cos(\\theta_m(i) \\cdot 1)$\n",
    "\n",
    "Aplicando metodo de los trapecios:\n",
    "\n",
    "$I_{d1} = \\frac{1}{6} [ \\frac{id(0)}{2} +id(15)\\cdot cos(15) +id(30) \\cdot cos(30) +id(45) \\cdot cos(45)+ id(60) \\cdot cos(60) +id(75) \\cdot cos(75) + id(90) \\cdot cos(90)]$\n",
    "\n",
    "\n",
    "$I_{d1} = \\frac{1}{6} [ \\frac{20}{2} +18.66 +15.00 +10.0 + 5.0 + 1.34]$\n",
    "\n",
    "$I_{d1} = 10 A$\n",
    "\n",
    "\n",
    "\n",
    "####   Componente de segundo armonico $I_{d2}$\n",
    "\n",
    "De igual manera: \n",
    "\n",
    "$I_{d2} = \\frac{1}{6} [ \\frac{id(0)}{2} +id(15)\\cdot cos(2 \\cdot 15) +id(2 \\cdot 30) \\cdot cos(2 \\cdot 30) +id(2 \\cdot 45) \\cdot cos(2 \\cdot 45)+ id(60) \\cdot cos(2 \\cdot 60) +id(75) \\cdot cos(2 \\cdot 75) + id(90) \\cdot cos(2 \\cdot 90)]$\n",
    "\n",
    "\n",
    "$I_{d2} = \\frac{1}{6} [ \\frac{20}{2} +16.73 + 8.66+ 0 - 5.0 -4.48 +0]$\n",
    "\n",
    "$I_{d2} = 4.32 A$\n",
    "\n",
    "$\\frac{I_{d2}}{I_{d1}} = 43.2\\%$ \n",
    "\n",
    "####   Componente de tercer armonico $I_{d3}$\n",
    "\n",
    "$I_{d3} = \\frac{1}{6} [ \\frac{id(0)}{2} +id(15)\\cdot cos(3 \\cdot 15) +id(3 \\cdot 30) \\cdot cos(3 \\cdot 30) +id(3 \\cdot 45) \\cdot cos(3 \\cdot 45)+ id(60) \\cdot cos(3 \\cdot 60) +id(75) \\cdot cos(3 \\cdot 75) + id(90) \\cdot cos(3 \\cdot 90)  ]$\n",
    "\n",
    "$I_{d3} = \\frac{1}{6} [ \\frac{20}{2} +13.66 + 0  - 10 -10 -3.66 ]$\n",
    "\n",
    "\n",
    "$I_{d3} = 0 A$\n",
    "\n",
    "$\\frac{I_{d3}}{I_{d1}} = 0\\%$ \n",
    "\n",
    "\n",
    "####   Componente de tercer armonico $I_{d4}$\n",
    "\n",
    "$I_{d4} = -0.93 A$\n",
    "\n",
    "$\\frac{I_{d4}}{I_{d1}} = 9.3\\%$ \n"
   ]
  },
  {
   "cell_type": "markdown",
   "metadata": {},
   "source": [
    "## 7. $P_{dc}$\n",
    "\n",
    "$P_{dc} = V_{DD} I_{d0}$\n",
    "\n",
    "$P_{dc} = 316.49 W$\n"
   ]
  },
  {
   "cell_type": "markdown",
   "metadata": {},
   "source": [
    "##### 8. \n",
    "\n",
    "$P_{tr} = P_{dc} - P_{o}$\n",
    "\n",
    "$P_{tr} = 64.84 W$\n"
   ]
  },
  {
   "cell_type": "markdown",
   "metadata": {},
   "source": [
    "## 9. Rendimiento y $P_{tr}$\n",
    "\n",
    "$P_{tr} = P_{dc} - P_{o}$\n",
    "\n",
    "$P_{tr}= 116.49W$\n",
    "\n",
    "$\\eta = \\frac{P_o}{P_{dc}}$\n",
    "\n",
    "$\\eta = 63\\%$"
   ]
  },
  {
   "cell_type": "markdown",
   "metadata": {},
   "source": [
    "## 10.  Ganancia de potencia\n",
    "\n",
    "$G = \\frac{P_o}{P_i}$\n",
    "\n",
    "$G = 15.66$\n",
    "\n",
    "$G = 12 dB$\n"
   ]
  },
  {
   "cell_type": "code",
   "execution_count": null,
   "metadata": {},
   "outputs": [],
   "source": []
  },
  {
   "cell_type": "code",
   "execution_count": null,
   "metadata": {},
   "outputs": [],
   "source": []
  },
  {
   "cell_type": "markdown",
   "metadata": {},
   "source": [
    "############\n",
    "\n",
    "Calculos !!!\n",
    "   1. $V_{GG}$ y $V_{s}$ (tener en cuenta que la señal es AM) \n",
    "   2. $V_{gs(portadora)}$, $V_{gs(valle)}$ \n",
    "   3. $i_{g}$ ( valor pico de la componente alterna de la excitación).\n",
    "   4. $I_{do(pico)}$, $I_{d1(pico)}$\n",
    "   5. $I_{do(portadora)}$, $I_{d1(portadora)}$\n",
    "   6. $I_{do(valle)}$, $I_{d1(valle)}$\n",
    "   7. $P_{dc}$.\n",
    "   8. $P_{o}$. \n",
    "   9. $P_{tr}.\n",
    "   10. Rendimiento\n",
    "   \n",
    "###########"
   ]
  },
  {
   "cell_type": "code",
   "execution_count": 110,
   "metadata": {},
   "outputs": [],
   "source": [
    "import numpy as np\n",
    "import matplotlib.pyplot as plt\n",
    "import scipy                  # http://scipy.org/\n",
    "from scipy import signal\n",
    "\n",
    "from IPython.display import Image  \n",
    "%matplotlib inline\n",
    "params = {'legend.fontsize': 24,\n",
    "          'figure.figsize': (8, 8),\n",
    "         'axes.labelsize': 24,\n",
    "         'axes.titlesize': 24,\n",
    "         'xtick.labelsize':24,\n",
    "         'ytick.labelsize':24}\n",
    "plt.rcParams.update(params) \n"
   ]
  },
  {
   "cell_type": "code",
   "execution_count": 111,
   "metadata": {},
   "outputs": [],
   "source": [
    "#Calculos \n",
    "#parametros de la senal \n",
    "fc   = 10e6 #Hz\n",
    "th_c = np.pi\n",
    "m    = 0.5\n",
    "\n",
    "#parametros del filtro de entrada y de salida \n",
    "Qo = np.inf\n",
    "Qc = 10\n",
    "\n",
    "#parametros del transistor\n",
    "Vds_min = 10  #V\n",
    "Vds_max = 125 #V\n",
    "Vgs_max = 7.5 #V\n",
    "Vth     = 2.5 #V\n",
    "Zin     =  4-2j #ohms\n",
    "Zout    = 80-2j #ohms\n",
    "\n",
    "# Generador\n",
    "Zg      = 50 #ohms\n",
    "\n",
    "# Carga\n",
    "Zl      = 50 #ohms\n",
    "rlp     = 3\n",
    "VDD     = 50 #V\n",
    "\n",
    "### Para los calculos!\n",
    "#tiempo de un periodo \n",
    "Tc  = 1/fc\n",
    "\n",
    "# muestreo (empleando 24 ya que corresponde a el muestreo del empleado comunmente en el metodo de los trapecios)\n",
    "ns  =  24       \n",
    "fs  =  fc*ns\n",
    "ds  =  1/(fs)"
   ]
  },
  {
   "cell_type": "code",
   "execution_count": 112,
   "metadata": {},
   "outputs": [
    {
     "name": "stdout",
     "output_type": "stream",
     "text": [
      "$Vs  = 3.33$\n",
      "$VGG = 2.50$\n"
     ]
    }
   ],
   "source": [
    "#### 1\n",
    "\n",
    "Vsp  = (Vgs_max-Vth)/(1-np.cos(th_c/2))\n",
    "VGG = Vgs_max - Vsp\n",
    "\n",
    "Vs  = Vsp/(1+m)\n",
    "print('$Vs  = {:.2f}$'.format(Vs))\n",
    "\n",
    "print('$VGG = {:.2f}$'.format(VGG))"
   ]
  },
  {
   "cell_type": "code",
   "execution_count": 113,
   "metadata": {},
   "outputs": [
    {
     "name": "stdout",
     "output_type": "stream",
     "text": [
      "$v_gs(pico) = 2.50 + 5.00 cos(\\theta)$\n",
      "$v_gs(portadora) = 2.50 + 3.33 cos(\\theta)$\n",
      "$v_gs(valle) = 2.50 + 1.67 cos(\\theta)$\n"
     ]
    }
   ],
   "source": [
    "#### 2. $V_{gs(portadora)}$, $V_{gs(valle)}$ \n",
    "\n",
    "print('$v_gs(pico) = {:.2f} + {:.2f} cos(\\\\theta)$'.format(VGG,Vs*(1+m)))\n",
    "\n",
    "\n",
    "print('$v_gs(portadora) = {:.2f} + {:.2f} cos(\\\\theta)$'.format(VGG,Vs))\n",
    "\n",
    "\n",
    "print('$v_gs(valle) = {:.2f} + {:.2f} cos(\\\\theta)$'.format(VGG,Vs*(1-m)))"
   ]
  },
  {
   "cell_type": "code",
   "execution_count": 114,
   "metadata": {},
   "outputs": [
    {
     "name": "stdout",
     "output_type": "stream",
     "text": [
      "$P_inp = 0.56 W$\n",
      "$igp = 0.30 A$\n",
      "$P_in = 0.25 W$\n"
     ]
    }
   ],
   "source": [
    "#### 3. $i_{g}$ ( valor pico de la componente alterna de la excitación).\n",
    "\n",
    "Yin = 1/Zin\n",
    "Pinp = Vs**2*Yin.real/(4)\n",
    "\n",
    "print('$P_inp = {:.2f} W$'.format(Pinp))\n",
    "\n",
    "ig  = (Pinp*4/(Zg.real/2))**0.5\n",
    "\n",
    "print('$igp = {:.2f} A$'.format(ig))\n",
    "\n",
    "Pin = Pinp/(1+m)**2\n",
    "print('$P_in = {:.2f} W$'.format(Pin))\n"
   ]
  },
  {
   "cell_type": "code",
   "execution_count": 115,
   "metadata": {},
   "outputs": [
    {
     "data": {
      "image/png": "[encoded data removed]",
      "text/plain": [
       "<Figure size 576x576 with 1 Axes>"
      ]
     },
     "metadata": {
      "needs_background": "light"
     },
     "output_type": "display_data"
    },
    {
     "name": "stdout",
     "output_type": "stream",
     "text": [
      "|0.00| 7.50| 20.00| 20.00| 20.00 | 20.00 |\n",
      "|15.00| 7.33| 19.32| 18.66| 16.73 | 13.66 |\n",
      "|30.00| 6.83| 17.32| 15.00| 8.66 | -0.00 |\n",
      "|45.00| 6.04| 14.14| 10.00| -0.00 | -10.00 |\n",
      "|60.00| 5.00| 10.00| 5.00| -5.00 | -10.00 |\n",
      "|75.00| 3.79| 5.18| 1.34| -4.48 | -3.66 |\n",
      "|90.00| 2.50| 0.00| -0.00| -0.00 | 0.00 |\n",
      "|105.00| 1.21| 0.00| -0.00| -0.00 | 0.00 |\n",
      "|120.00| -0.00| 0.00| -0.00| -0.00 | 0.00 |\n",
      "|135.00| -1.04| 0.00| -0.00| 0.00 | 0.00 |\n",
      "|150.00| -1.83| 0.00| -0.00| 0.00 | -0.00 |\n",
      "|165.00| -2.33| 0.00| -0.00| 0.00 | -0.00 |\n",
      "idcop= 6.33 A\n",
      "idc1p= 10.00 A\n",
      "idc2p= 4.32 A\n",
      "idc3p= -0.00 A\n"
     ]
    }
   ],
   "source": [
    "#### 4. $I_{do(pico)}$, $I_{d1(pico)}$\n",
    "\n",
    "def vgsi(VGG,Vs,th):\n",
    "    return VGG+Vs*np.cos(th)\n",
    "\n",
    "\n",
    "def idi(v):\n",
    "    i =  0.             if (v < 2.5) else 0\n",
    "    i = (20/5)*(v-2.5) if (v >= 2.5  and v < 7.5) else i\n",
    "    i = (20) if (v >= 7.5  ) else i\n",
    "    return i\n",
    "\n",
    "\n",
    "thi = np.arange(-np.pi,np.pi,2*np.pi/24)\n",
    "\n",
    "vgs = vgsi(VGG,Vs*(1+m),thi)\n",
    "\n",
    "idd = np.array([idi(v) for v in vgs])\n",
    "\n",
    "\n",
    "\n",
    "plt.plot(thi, idd)\n",
    "plt.plot(thi, idd, 'ro')\n",
    "plt.ylabel('$i_{o}$ [A]')\n",
    "plt.xlabel('${\\theta}$')\n",
    "\n",
    "plt.grid()\n",
    "plt.show()\n",
    "\n",
    "\n",
    "for i,p in enumerate(thi):\n",
    "    if p  >= 0 :\n",
    "        print('|{:1.2f}| {:1.2f}| {:1.2f}| {:1.2f}| {:1.2f} | {:1.2f} |'.format( \n",
    "            p*180/np.pi, vgs[i], idd[i], idd[i]*np.cos(p) , idd[i]*np.cos(2*p), idd[i]*np.cos(3*p)   ) ) \n",
    "        \n",
    "# Continua\n",
    "idcop = 1/ns * np.sum(idd) \n",
    "\n",
    "# primer arminico\n",
    "idc1p = 2/ns * np.sum([idd[i]*np.cos(1*thi[i]) for i in range(ns)] ) \n",
    "\n",
    "# segundo arminico\n",
    "idc2p = 2/ns * np.sum([idd[i]*np.cos(2*thi[i]) for i in range(ns)] ) \n",
    "\n",
    "# tercero arminico\n",
    "idc3p = 2/ns * np.sum([idd[i]*np.cos(3*thi[i]) for i in range(ns)] ) \n",
    "\n",
    "print('idcop= {:.2f} A'.format(idcop))\n",
    "\n",
    "print('idc1p= {:.2f} A'.format(idc1p))  \n",
    "\n",
    "print('idc2p= {:.2f} A'.format(idc2p))  \n",
    "\n",
    "print('idc3p= {:.2f} A'.format(idc3p))  \n"
   ]
  },
  {
   "cell_type": "code",
   "execution_count": 116,
   "metadata": {},
   "outputs": [
    {
     "data": {
      "image/png": "[encoded data removed]",
      "text/plain": [
       "<Figure size 576x576 with 1 Axes>"
      ]
     },
     "metadata": {
      "needs_background": "light"
     },
     "output_type": "display_data"
    },
    {
     "name": "stdout",
     "output_type": "stream",
     "text": [
      "|0.00| 5.83| 13.33| 13.33| 13.33 | 13.33 |\n",
      "|15.00| 5.72| 12.88| 12.44| 11.15 | 9.11 |\n",
      "|30.00| 5.39| 11.55| 10.00| 5.77 | -0.00 |\n",
      "|45.00| 4.86| 9.43| 6.67| -0.00 | -6.67 |\n",
      "|60.00| 4.17| 6.67| 3.33| -3.33 | -6.67 |\n",
      "|75.00| 3.36| 3.45| 0.89| -2.99 | -2.44 |\n",
      "|90.00| 2.50| 0.00| -0.00| -0.00 | 0.00 |\n",
      "|105.00| 1.64| 0.00| -0.00| -0.00 | 0.00 |\n",
      "|120.00| 0.83| 0.00| -0.00| -0.00 | 0.00 |\n",
      "|135.00| 0.14| 0.00| -0.00| 0.00 | 0.00 |\n",
      "|150.00| -0.39| 0.00| -0.00| 0.00 | -0.00 |\n",
      "|165.00| -0.72| 0.00| -0.00| 0.00 | -0.00 |\n",
      "idcoc= 4.22 A\n",
      "idc1c= 6.67 A\n",
      "idc2c= 2.88 A\n",
      "idc3c= 0.00 A\n"
     ]
    }
   ],
   "source": [
    "#####  5. $I_{do(portadora)}$, $I_{d1(portadora)}$\n",
    "def vgsi(VGG,Vs,th):\n",
    "    return VGG+Vs*np.cos(th)\n",
    "\n",
    "\n",
    "def idi(v):\n",
    "    i =  0.             if (v < 2.5) else 0\n",
    "    i = (20/5)*(v-2.5) if (v >= 2.5  and v < 7.5) else i\n",
    "    i = (20) if (v >= 7.5  ) else i\n",
    "    return i\n",
    "\n",
    "\n",
    "thi = np.arange(-np.pi,np.pi,2*np.pi/24)\n",
    "\n",
    "vgs = vgsi(VGG,Vs,thi)\n",
    "\n",
    "idd = np.array([idi(v) for v in vgs])\n",
    "\n",
    "\n",
    "\n",
    "plt.plot(thi, idd)\n",
    "plt.plot(thi, idd, 'ro')\n",
    "plt.ylabel('$i_{o}$ [A]')\n",
    "plt.xlabel('${\\theta}$')\n",
    "\n",
    "plt.grid()\n",
    "plt.show()\n",
    "\n",
    "\n",
    "for i,p in enumerate(thi):\n",
    "    if p  >= 0 :\n",
    "        print('|{:1.2f}| {:1.2f}| {:1.2f}| {:1.2f}| {:1.2f} | {:1.2f} |'.format( \n",
    "            p*180/np.pi, vgs[i], idd[i], idd[i]*np.cos(p) , idd[i]*np.cos(2*p), idd[i]*np.cos(3*p)   ) ) \n",
    "        \n",
    "# Continua\n",
    "idcoc = 1/ns * np.sum(idd) \n",
    "\n",
    "# primer arminico\n",
    "idc1c = 2/ns * np.sum([idd[i]*np.cos(1*thi[i]) for i in range(ns)] ) \n",
    "\n",
    "# segundo arminico\n",
    "idc2c = 2/ns * np.sum([idd[i]*np.cos(2*thi[i]) for i in range(ns)] ) \n",
    "\n",
    "# tercero arminico\n",
    "idc3c = 2/ns * np.sum([idd[i]*np.cos(3*thi[i]) for i in range(ns)] ) \n",
    "\n",
    "print('idcoc= {:.2f} A'.format(idcoc))\n",
    "\n",
    "print('idc1c= {:.2f} A'.format(idc1c))  \n",
    "\n",
    "print('idc2c= {:.2f} A'.format(idc2c))  \n",
    "\n",
    "print('idc3c= {:.2f} A'.format(idc3c))  \n",
    "\n",
    "\n",
    "\n"
   ]
  },
  {
   "cell_type": "code",
   "execution_count": 117,
   "metadata": {},
   "outputs": [
    {
     "data": {
      "image/png": "[encoded data removed]",
      "text/plain": [
       "<Figure size 576x576 with 1 Axes>"
      ]
     },
     "metadata": {
      "needs_background": "light"
     },
     "output_type": "display_data"
    },
    {
     "name": "stdout",
     "output_type": "stream",
     "text": [
      "|0.00| 4.17| 6.67| 6.67| 6.67 | 6.67 |\n",
      "|15.00| 4.11| 6.44| 6.22| 5.58 | 4.55 |\n",
      "|30.00| 3.94| 5.77| 5.00| 2.89 | -0.00 |\n",
      "|45.00| 3.68| 4.71| 3.33| -0.00 | -3.33 |\n",
      "|60.00| 3.33| 3.33| 1.67| -1.67 | -3.33 |\n",
      "|75.00| 2.93| 1.73| 0.45| -1.49 | -1.22 |\n",
      "|90.00| 2.50| 0.00| -0.00| -0.00 | 0.00 |\n",
      "|105.00| 2.07| 0.00| -0.00| -0.00 | 0.00 |\n",
      "|120.00| 1.67| 0.00| -0.00| -0.00 | 0.00 |\n",
      "|135.00| 1.32| 0.00| -0.00| 0.00 | 0.00 |\n",
      "|150.00| 1.06| 0.00| -0.00| 0.00 | -0.00 |\n",
      "|165.00| 0.89| 0.00| -0.00| 0.00 | -0.00 |\n",
      "idcov= 2.11 A\n",
      "idc1v= 3.33 A\n",
      "idc2v= 1.44 A\n",
      "idc3v= 0.00 A\n"
     ]
    }
   ],
   "source": [
    "#####  6. $I_{do(valle)}$, $I_{d1(valle)}$\n",
    "def vgsi(VGG,Vs,th):\n",
    "    return VGG+Vs*np.cos(th)\n",
    "\n",
    "\n",
    "def idi(v):\n",
    "    i =  0.             if (v < 2.5) else 0\n",
    "    i = (20/5)*(v-2.5) if (v >= 2.5  and v < 7.5) else i\n",
    "    i = (20) if (v >= 7.5  ) else i\n",
    "    return i\n",
    "\n",
    "\n",
    "thi = np.arange(-np.pi,np.pi,2*np.pi/24)\n",
    "\n",
    "vgs = vgsi(VGG,Vs*(1-m),thi)\n",
    "\n",
    "idd = np.array([idi(v) for v in vgs])\n",
    "\n",
    "\n",
    "\n",
    "plt.plot(thi, idd)\n",
    "plt.plot(thi, idd, 'ro')\n",
    "plt.ylabel('$i_{o}$ [A]')\n",
    "plt.xlabel('${\\theta}$')\n",
    "\n",
    "plt.grid()\n",
    "plt.show()\n",
    "\n",
    "\n",
    "for i,p in enumerate(thi):\n",
    "    if p  >= 0 :\n",
    "        print('|{:1.2f}| {:1.2f}| {:1.2f}| {:1.2f}| {:1.2f} | {:1.2f} |'.format( \n",
    "            p*180/np.pi, vgs[i], idd[i], idd[i]*np.cos(p) , idd[i]*np.cos(2*p), idd[i]*np.cos(3*p)   ) ) \n",
    "        \n",
    "# Continua\n",
    "idcov = 1/ns * np.sum(idd) \n",
    "\n",
    "# primer arminico\n",
    "idc1v = 2/ns * np.sum([idd[i]*np.cos(1*thi[i]) for i in range(ns)] ) \n",
    "\n",
    "# segundo arminico\n",
    "idc2v = 2/ns * np.sum([idd[i]*np.cos(2*thi[i]) for i in range(ns)] ) \n",
    "\n",
    "# tercero arminico\n",
    "idc3v = 2/ns * np.sum([idd[i]*np.cos(3*thi[i]) for i in range(ns)] ) \n",
    "\n",
    "print('idcov= {:.2f} A'.format(idcov))\n",
    "\n",
    "print('idc1v= {:.2f} A'.format(idc1v))  \n",
    "\n",
    "print('idc2v= {:.2f} A'.format(idc2v))  \n",
    "\n",
    "print('idc3v= {:.2f} A'.format(idc3v))  \n",
    "\n",
    "\n",
    "\n"
   ]
  },
  {
   "cell_type": "code",
   "execution_count": 118,
   "metadata": {},
   "outputs": [
    {
     "name": "stdout",
     "output_type": "stream",
     "text": [
      "$P_dc = 210.99 W$\n"
     ]
    }
   ],
   "source": [
    "##### 7.\n",
    "\n",
    "idco_o = 1/4*np.sum([idcop,idcoc,idcov,idcoc])\n",
    "idco_1 = 2/4*np.sum([idcop*np.cos(0),idcoc*np.cos(np.pi/2),idcov*np.cos(2*np.pi/2),idcoc*np.cos(3*np.pi/2)])\n",
    "\n",
    "Pdc = VDD*(idco_o)\n",
    "\n",
    "print('$P_dc = {:.2f} W$'.format(Pdc))"
   ]
  },
  {
   "cell_type": "code",
   "execution_count": 119,
   "metadata": {},
   "outputs": [
    {
     "name": "stdout",
     "output_type": "stream",
     "text": [
      "6.666666666666662\n",
      "3.333333333333332\n",
      "$P_dc = 75.00 W$\n"
     ]
    }
   ],
   "source": [
    "##### 8. \n",
    "idc1_o = 1/4 * np.sum([idc1p,idc1c,idc1v,idc1c] ) \n",
    "print(idc1_o)\n",
    "\n",
    "idc1_1 = 2/4 * np.sum([idc1p*np.cos(0),idc1c*np.cos(np.pi/2),idc1v*np.cos(np.pi*2/2),idc1c*np.cos(np.pi*3/2)] ) \n",
    "print(idc1_1)\n",
    "\n",
    "PL = (idc1_o**2+ 2*(idc1_1/2)**2) * rlp/2\n",
    "\n",
    "\n",
    "print('$P_dc = {:.2f} W$'.format(PL))"
   ]
  },
  {
   "cell_type": "code",
   "execution_count": 120,
   "metadata": {},
   "outputs": [
    {
     "name": "stdout",
     "output_type": "stream",
     "text": [
      "$ne = 0.36 $\n"
     ]
    }
   ],
   "source": [
    "###### 9 \n",
    "\n",
    "ne   = PL/Pdc\n",
    "\n",
    "print('$ne = {:.2f} $'.format(ne))"
   ]
  },
  {
   "cell_type": "code",
   "execution_count": 121,
   "metadata": {},
   "outputs": [
    {
     "name": "stdout",
     "output_type": "stream",
     "text": [
      "$G = 303.75$\n",
      "$G = 24.83 dB$\n"
     ]
    }
   ],
   "source": [
    "##### 10\n",
    "\n",
    "G = PL/Pin\n",
    "\n",
    "print('$G = {:.2f}$'.format(G))\n",
    "print('$G = {:.2f} dB$'.format(10*np.log10(G)) )"
   ]
  },
  {
   "cell_type": "code",
   "execution_count": null,
   "metadata": {},
   "outputs": [],
   "source": []
  },
  {
   "cell_type": "code",
   "execution_count": null,
   "metadata": {},
   "outputs": [],
   "source": []
  }
 ],
 "metadata": {
  "kernelspec": {
   "display_name": "Python 3",
   "language": "python",
   "name": "python3"
  },
  "language_info": {
   "codemirror_mode": {
    "name": "ipython",
    "version": 3
   },
   "file_extension": ".py",
   "mimetype": "text/x-python",
   "name": "python",
   "nbconvert_exporter": "python",
   "pygments_lexer": "ipython3",
   "version": "3.8.8"
  }
 },
 "nbformat": 4,
 "nbformat_minor": 2
}

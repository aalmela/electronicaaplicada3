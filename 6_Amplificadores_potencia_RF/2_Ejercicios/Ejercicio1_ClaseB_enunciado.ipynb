{
 "cells": [
  {
   "cell_type": "markdown",
   "metadata": {},
   "source": [
    "# Ejercicio 1\n",
    "\n",
    "El circuito de la figura corresponde amplificador de potencia de RF sintonizado, realizado con un MOSFET, para una portadora de $f = 10 MHz$.\n",
    "\n",
    "\n",
    "![ex 2.13](fig/circuitoClaseC.png)\n",
    "\n",
    "\n",
    "Para este proyecto se busca máxima excursión de señal para un amplificador de RF Clase B. \n",
    "\n",
    "Se asume la impedancia del dispositivo a su salida entre  Drain  y Source es lo suficientemente elevada como para desestimarla frente a la carga.\n",
    "\n",
    "|Symbol        | Parameter                  | Value     | Unit     |   \n",
    "|--------------|----------------------------|-----------|----------|\n",
    "|$V_{(BR)DSS}$ |  Drain source voltage      | $125$     | V        |\n",
    "|$V_{GS}$      |  Gate source voltage       | $\\pm 20$  | V        |\n",
    "|$I_{D}$       |  Drain current             | $10$      | A        |\n",
    "|$V_{(min)DS}$ |  Drain source voltage min. | $10$      | V        |\n",
    "\n",
    "Impedancia de entrada del MOSFET a $f = 10MHz$ \n",
    "$$Z_{in}  = (4 -2j) \\Omega$$ \n",
    "\n",
    "Impedancia de salida del MOSFET   a $f = 10MHz$ \n",
    "$$Z_{out} = (80-2j)  \\Omega$$ \n",
    "\n",
    "\n",
    "La tensión de excitación en Gate es absolutamente senoidal.\n",
    "\n",
    "![ex 2.13](fig/mosfet_lineal_1.png)\n",
    "\n",
    "\n",
    "\n",
    "El Q cargado de ambos tanques (Gate y  Drain) es de $Q_C = 10$ y el  $Q_{oL} = Q_{oC} = infinito$ de los elementos reactivos es infinito. \n",
    "\n",
    "La tensión de fuente es de $V_{DD} = 50V$. Potencia en la carga $P_L = 150 W$\n",
    "\n",
    "Determinar:\n",
    "\n",
    "   1. $V_{GG}$ y $V_{s}$ \n",
    "   2. $P_{in}$ para maxima Potencia de salida.\n",
    "   3. $i_{g}$ ( valor pico de la componente alterna de la excitación).\n",
    "   4. Valores instantaneos de $i_d$.\n",
    "   5. $I_{do}$, $I_{d1}$, $I_{d2}$ e $I_{d3}$.\n",
    "   6. $R_{o}$ para maxima escursión de la salida (dada la fuente de alimentación).\n",
    "   7. $P_{dc}$.\n",
    "   8. $P_{tr}$ \n",
    "   9. Rendimiento.\n",
    "   10. Ganancia de potencia\n",
    "   \n",
    "\n",
    "\n",
    "![ex 2.13](fig/circuitoClaseC_mosfet_1.png)\n"
   ]
  }
 ],
 "metadata": {
  "kernelspec": {
   "display_name": "Python 3",
   "language": "python",
   "name": "python3"
  },
  "language_info": {
   "codemirror_mode": {
    "name": "ipython",
    "version": 3
   },
   "file_extension": ".py",
   "mimetype": "text/x-python",
   "name": "python",
   "nbconvert_exporter": "python",
   "pygments_lexer": "ipython3",
   "version": "3.8.8"
  },
  "latex_envs": {
   "LaTeX_envs_menu_present": true,
   "autoclose": false,
   "autocomplete": true,
   "bibliofile": "biblio.bib",
   "cite_by": "apalike",
   "current_citInitial": 1,
   "eqLabelWithNumbers": true,
   "eqNumInitial": 1,
   "hotkeys": {
    "equation": "Ctrl-E",
    "itemize": "Ctrl-I"
   },
   "labels_anchors": false,
   "latex_user_defs": false,
   "report_style_numbering": false,
   "user_envs_cfg": false
  }
 },
 "nbformat": 4,
 "nbformat_minor": 2
}

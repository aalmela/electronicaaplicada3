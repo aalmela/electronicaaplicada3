{
 "cells": [
  {
   "cell_type": "markdown",
   "metadata": {},
   "source": [
    "# Ejercicio 1\n",
    "\n",
    "El circuito de la figura corresponde amplificador de potencia de RF sintonizado, realizado con un MOSFET, para una portadora de $f = 10 MHz$.\n",
    "\n",
    "\n",
    "![ex 2.13](fig/circuitoClaseC.png)\n",
    "\n",
    "\n",
    "Para este proyecto se busca máxima excursión de señal para un amplificador de RF Clase B. \n",
    "\n",
    "Se asume la impedancia del dispositivo a su salida entre  Drain  y Source es lo suficientemente elevada como para desestimarla frente a la carga.\n",
    "\n",
    "|Symbol        | Parameter                  | Value     | Unit     |   \n",
    "|--------------|----------------------------|-----------|----------|\n",
    "|$V_{(BR)DSS}$ |  Drain source voltage      | $125$     | V        |\n",
    "|$V_{GS}$      |  Gate source voltage       | $\\pm 20$  | V        |\n",
    "|$I_{D}$       |  Drain current             | $10$      | A        |\n",
    "|$V_{(min)DS}$ |  Drain source voltage min. | $10$      | V        |\n",
    "\n",
    "Impedancia de entrada del MOSFET a $f = 10MHz$ \n",
    "$$Z_{in}  = (4 -2j) \\Omega$$ \n",
    "\n",
    "Impedancia de salida del MOSFET   a $f = 10MHz$ \n",
    "$$Z_{out} = (80-2j)  \\Omega$$ \n",
    "\n",
    "\n",
    "La tensión de excitación en Gate es absolutamente senoidal.\n",
    "\n",
    "![ex 2.13](fig/mosfet_lineal_1.png)\n",
    "\n",
    "\n",
    "\n",
    "El Q cargado de ambos tanques (Gate y  Drain) es de $Q_C = 10$ y el  $Q_{oL} = Q_{oC} = infinito$ de los elementos reactivos es infinito. \n",
    "\n",
    "La tensión de fuente es de $V_{DD} = 50V$. Potencia en la carga $P_L = 150 W$\n",
    "\n",
    "Determinar:\n",
    "\n",
    "   1. $V_{GG}$ y $V_{s}$ \n",
    "   2. $P_{in}$ para maxima Potencia de salida.\n",
    "   3. $i_{g}$ ( valor pico de la componente alterna de la excitación).\n",
    "   4. Valores instantaneos de $i_d$.\n",
    "   5. $I_{do}$, $I_{d1}$, $I_{d2}$ e $I_{d3}$.\n",
    "   6. $R_{o}$ para maxima escursión de la salida (dada la fuente de alimentación).\n",
    "   7. $P_{dc}$.\n",
    "   8. $P_{tr}$ \n",
    "   9. Rendimiento.\n",
    "   10. Ganancia de potencia\n",
    "   \n",
    "\n",
    "\n",
    "![ex 2.13](fig/circuitoClaseC_mosfet_1.png)\n"
   ]
  },
  {
   "cell_type": "markdown",
   "metadata": {},
   "source": [
    "## 1. $V_{GG}$ y $V_{s}$\n",
    "\n",
    "$v_{gs} = V_{GG} + V_s \\cdot cos(\\theta)$\n",
    "\n",
    "Para máxima excursión de la señal y un ángulo de circulación de 120 grados, podemos plantear el siguiente sistema de ecuaciones:\n",
    "\n",
    "Si $\\theta = 0$\n",
    "\n",
    "$V_{GG} + V_s = 7.5$\n",
    "\n",
    "Si $\\theta = \\pi$ (condición de Clase B)\n",
    "\n",
    "$V_{GG} + V_s \\cdot cos(\\pi) = 2.5$\n",
    "\n",
    "$V_{GG} = 2.5 V$\n",
    "\n",
    "$v_{g} =  5 V$"
   ]
  },
  {
   "cell_type": "markdown",
   "metadata": {},
   "source": [
    "## 2. $P_{in}$\n",
    "\n",
    "La impedancia de entrada es $Z_{in} = 4 -2j$\n",
    "\n",
    "Su admitancia es $Y_{in} = \\frac{1}{Z_{in}}$\n",
    "\n",
    "$Y_{in} = \\frac{1}{5}S + j\\frac{1}{10} S$\n",
    "\n",
    "$P_{in} = \\frac{v_g^2}{2 r_{in}}$\n",
    "\n",
    "$P_in = 1.25 W$\n"
   ]
  },
  {
   "cell_type": "markdown",
   "metadata": {},
   "source": [
    "## 3. $i_g$\n",
    "\n",
    "Dado que adaptador no presenta perdidas, la potencia de entrada es igual a la de la salida. \n",
    "\n",
    "$P_{in} = \\frac{i_g^2  \\frac{50 \\Omega}{2}}{4}$\n",
    "\n",
    "$i_g = \\sqrt{\\frac{P_{in} 4}{\\frac{50 \\Omega}{2}}}$\n",
    "\n",
    "$i_g = 1.26 A$"
   ]
  },
  {
   "cell_type": "markdown",
   "metadata": {},
   "source": [
    "## 4. $i_d$\n",
    "\n",
    "$v_{gs} = V_{GG} + V_s \\cdot cos(\\theta)$\n",
    "\n",
    "La corriente de Drain se expresa como \n",
    "\n",
    "Si $-\\pi \\ge \\theta \\le \\pi$ \n",
    "\n",
    "$i_d = (v_{gs} - V_{th}) \\frac{20 A}{5 V}$\n",
    "\n",
    "$i_d = (V_{GG} + V_s \\cdot cos(\\theta) - V_{th}) \\frac{20 A}{5 V}$\n",
    "\n",
    "$i_d = ( 2.5 V + 5 V \\cdot cos(\\theta) - 2.5 V) \\frac{20 A}{5 V}$\n",
    "\n",
    "$i_d = (0 V   + 5 V \\cdot cos(\\theta)) \\frac{20 A}{5 V}$\n",
    "\n",
    "$i_d = 20 A \\cdot cos(\\theta)$"
   ]
  },
  {
   "cell_type": "markdown",
   "metadata": {},
   "source": [
    "## 5. Valores instantaneos de  la corriente $i_d$\n",
    "\n",
    "\n",
    "### Empleando Fourier\n",
    "\n",
    "### Serie de Fourier trigonometrica\n",
    "\n",
    "Luego la serie de Fourier asociada a $f(t)$ es:\n",
    "\n",
    "$i_d(\\theta) \\sim \\frac{a_0}{2} + \\sum_{n=1}^\\infty [ a_n cos(\\frac{2n\\pi}{T} t) + b_n sin(\\frac{2n\\pi}{T} t)]$\n",
    "\n",
    "Donde $a_0$, $a_n$ y $b_n$ son los coeficientes de Fourier que toman los valores:\n",
    "\n",
    "$a_0 = \\frac{2}{T} \\int_{t_o}^{t_o+T}  f(t) dt$\n",
    "\n",
    "$a_n = \\frac{2}{T} \\int_{t_o}^{t_o+T}  f(t) cos(\\frac{2 n \\pi}{T} t) dt$\n",
    "\n",
    "$b_n = \\frac{2}{T} \\int_{t_o}^{t_o+T}  f(t) sin(\\frac{2 n \\pi}{T} t) dt$\n",
    "\n",
    "\n",
    "####   Componente de continua $I_{do}$\n",
    "\n",
    "\n",
    "$a_0 = \\frac{2}{2 \\pi} \\int_{-\\pi}^{\\pi} i_d(\\theta) d\\theta$\n",
    "\n",
    "$a_0 = \\frac{2}{\\pi} \\int_{0}^{\\pi} (20 A \\cdot cos(\\theta)) d\\theta$\n",
    "\n",
    "$a_0 = \\frac{2}{\\pi} [20 A \\cdot sin(\\theta)]_{0}^{\\pi}$\n",
    "\n",
    "$a_0 = \\frac{2 \\cdot 20 A}{\\pi}$\n",
    "\n",
    "\n",
    "$i_{d0} = \\frac{a_0}{2}$\n",
    "\n",
    "$i_{d0} = \\frac{20 A}{\\pi}$\n",
    "\n",
    "$i_{d0} = 6.36 A$\n",
    "\n",
    "\n",
    "\n",
    "####   Componente de fundamental $I_{d1}$\n",
    "\n",
    "$a_1 = \\frac{2}{2 \\pi} \\int_{-\\frac{\\pi}{2}}^{\\frac{\\pi}{2}} (20 A \\cdot cos(\\theta)) cos(\\theta) d\\theta$\n",
    "\n",
    "$a_1 = \\frac{2}{\\pi} \\int_{0}^{\\frac{\\pi}{2}} (20 A \\cdot cos(\\theta)) cos(\\theta) d\\theta$\n",
    "\n",
    "$a_1 = \\frac{2}{\\pi} \\int_{0}^{\\frac{\\pi}{2}} (20 A \\cdot cos^2(\\theta))  d\\theta$\n",
    "\n",
    "$a_1 = \\frac{2}{\\pi} \\int_{0}^{\\frac{\\pi}{2}} (10 A + 10 A \\cdot cos(2\\theta))  d\\theta$\n",
    "\n",
    "$a_1 = \\frac{2}{\\pi} [10 A \\cdot \\theta + 10 A \\cdot \\frac{sin(2\\theta)}{2}]_{0}^{\\frac{\\pi}{2}}$\n",
    "\n",
    "$a_1 = \\frac{2}{\\pi} [10 A \\cdot \\frac{\\pi}{2}]$\n",
    "\n",
    "$a_1 = 10 A$\n",
    "\n",
    "$b_1 = 0$\n",
    "\n",
    "\n",
    "####   Componente  $I_{dn}$\n",
    "\n",
    "$a_n = \\frac{2}{2 \\pi} \\int_{-\\frac{\\pi}{2}}^{\\frac{\\pi}{2}} (20 A \\cdot cos(\\theta)) cos(n \\cdot \\theta) d\\theta$\n",
    "\n",
    "$a_n = \\frac{2}{\\pi} \\int_{0}^{\\frac{\\pi}{2}} (20 A \\cdot cos(\\theta)) cos(n \\cdot \\theta) d\\theta$\n",
    "\n",
    "$a_n = \\frac{2}{\\pi} \\int_{0}^{\\frac{\\pi}{2}} (10 A \\cdot cos(\\theta - n \\cdot \\theta) + 10 A \\cdot cos(\\theta + n \\cdot \\theta)))  d\\theta$\n",
    "\n",
    "$a_n = \\frac{2}{\\pi} \\int_{0}^{\\frac{\\pi}{2}} (10 A \\cdot cos(\\theta \\cdot (1- n)) + 10 A \\cdot cos(\\theta \\cdot (1+n))))  d\\theta$\n",
    "\n",
    "$a_n = \\frac{2 \\cdot 10 A}{\\pi} \\int_{0}^{\\frac{\\pi}{2}} (cos(\\theta \\cdot (1- n)) + cos(\\theta \\cdot (1+n))))  d\\theta$\n",
    "\n",
    "$a_n = \\frac{2 \\cdot 10 A}{\\pi} [\\frac{sin(\\theta \\cdot (1- n))}{(1- n)} + \\frac{sin(\\theta \\cdot (1+ n))}{(1+ n)}]_{0}^{\\frac{\\pi}{2}}$\n",
    "\n",
    "$a_n = \\frac{2 \\cdot 10 A}{\\pi} [\\frac{sin(\\frac{\\pi}{2} \\cdot (1- n))}{(1- n)} + \\frac{sin(\\frac{\\pi}{2} \\cdot (1+ n))}{(1+ n)})$\n",
    "\n",
    "$a_2 = \\frac{2 \\cdot 10 A}{\\pi} [-\\frac{sin(-\\frac{\\pi}{2})}{1} + \\frac{sin(\\frac{\\pi}{2} \\cdot 3)}{3})$\n",
    "\n",
    "$a_2 = \\frac{20 A}{\\pi} (\\frac{2}{3})$\n",
    "\n",
    "$b_2 = 0$\n",
    "\n",
    "\n",
    "$a_3 = \\frac{2 \\cdot 10 A}{\\pi} [-\\frac{sin(\\frac{\\pi}{2} \\cdot (2))}{2} + \\frac{sin(\\frac{\\pi}{2} \\cdot 4)}{4})$\n",
    "\n",
    "$a_3 = 0A$\n",
    "\n",
    "$a_4 = \\frac{2 \\cdot 10 A}{\\pi} [-\\frac{sin(-\\frac{\\pi}{2}\\cdot 3)}{3} + \\frac{sin(\\frac{\\pi}{2} \\cdot 5)}{5})$\n",
    "\n",
    "$a_4 = \\frac{20 A}{\\pi} (-\\frac{1}{3} + \\frac{1}{5})$\n",
    "\n",
    "$a_4 = -0.848 A$\n",
    "\n",
    "\n",
    "### Empleando metodo de los trapeos\n",
    "\n",
    "\n",
    "|$\\theta_i$ | $v_{gs}(\\theta_i)$ | $i_d(\\theta_i)$ | $i_d(\\theta_i) cos(\\theta_i)$| $i_d cos(2 \\theta_i)$ | $i_d cos(3 \\theta_i)$ |\n",
    "|-------|----------------|-------------|-----------------------|-------------------|-------------------|\n",
    "|0.00| 7.50| 20.00| 20.00| 20.00 | 20.00 |\n",
    "|15.00| 7.33| 19.32| 18.66| 16.73 | 13.66 |\n",
    "|30.00| 6.83| 17.32| 15.00| 8.66 | -0.00 |\n",
    "|45.00| 6.04| 14.14| 10.00| -0.00 | -10.00 |\n",
    "|60.00| 5.00| 10.00| 5.00| -5.00 | -10.00 |\n",
    "|75.00| 3.79| 5.18| 1.34| -4.48 | -3.66 |\n",
    "|90.00| 2.50| 0.00| -0.00| -0.00 | 0.00 |\n",
    "|105.00| 1.21| 0.00| -0.00| -0.00 | 0.00 |\n",
    "|120.00| -0.00| 0.00| -0.00| -0.00 | 0.00 |\n",
    "|135.00| -1.04| 0.00| -0.00| 0.00 | 0.00 |\n",
    "|150.00| -1.83| 0.00| -0.00| 0.00 | -0.00 |\n",
    "|165.00| -2.33| 0.00| -0.00| 0.00 | -0.00 |\n",
    "\n",
    "$idco= 6.33 A$\n",
    "\n",
    "$idc1= 10.00 A$\n",
    "\n",
    "$idc2= 4.32 A$\n",
    "\n",
    "$idc3= -0.00 A$\n",
    "\n",
    "$idc4= -0.93 A$\n",
    "\n",
    "\n",
    "####   Componente de continua $I_{do}$\n",
    "\n",
    "$I_{do} = \\frac{1}{n} \\sum_{i=1}^{n} idc_1(\\theta_m(i))$\n",
    "\n",
    "donde n es el número de muestras. \n",
    "\n",
    "Por el metodo de los trapecios, primero obtenemos la tabla para 24 muestras.\n",
    "\n",
    "La ecuación puede simplificarse a por su simetria par:\n",
    "\n",
    "$I_{do} = \\frac{1}{12} \\sum_{i=1}^{\\frac{n}{2}} idc_1(\\theta_m(i))$\n",
    "\n",
    "Aplicando metodo de los trapecios:\n",
    "\n",
    "$I_{do} = \\frac{1}{12} [ \\frac{id(0)}{2} +id(15) +id(30) +id(45)+ id(60) +id(75) + id(90) id(105) +id(120) +id(135) +id(150) +id(165)]$\n",
    "\n",
    "$I_{do} = \\frac{1}{12} [ \\frac{20}{2} + 19.32 + 17.32 + 14.14 + 10.0 + 5.18 + 0]$\n",
    "\n",
    "$I_{do} = 6.33 A$\n",
    "\n",
    "\n",
    "\n",
    "####   Componente de fundamental $I_{d1}$\n",
    "\n",
    "$I_{d1} = \\frac{1}{n} \\sum_{i=0}^{n} idc_1(\\theta_m(i)) \\cdot cos(\\theta_m(i) \\cdot 1)$\n",
    "\n",
    "\n",
    "$I_{d1} = \\frac{1}{n} \\sum_{i=1}^{n} idc_1(\\theta_m(i))$\n",
    "\n",
    "donde n es el número de muestras. \n",
    "\n",
    "Por el metodo de los trapecios, primero obtenemos la tabla para 24 muestras.\n",
    "\n",
    " \n",
    "La ecuación puede simplificarse a por su simetria par:\n",
    "\n",
    "$I_{d1} = \\frac{1}{6} \\sum_{i=0}^{\\frac{n}{2}} idc_1(\\theta_m(i)) \\cdot cos(\\theta_m(i) \\cdot 1)$\n",
    "\n",
    "Aplicando metodo de los trapecios:\n",
    "\n",
    "$I_{d1} = \\frac{1}{6} [ \\frac{id(0)}{2} +id(15)\\cdot cos(15) +id(30) \\cdot cos(30) +id(45) \\cdot cos(45)+ id(60) \\cdot cos(60) +id(75) \\cdot cos(75) + id(90) \\cdot cos(90)]$\n",
    "\n",
    "\n",
    "$I_{d1} = \\frac{1}{6} [ \\frac{20}{2} +18.66 +15.00 +10.0 + 5.0 + 1.34]$\n",
    "\n",
    "$I_{d1} = 10 A$\n",
    "\n",
    "\n",
    "\n",
    "####   Componente de segundo armonico $I_{d2}$\n",
    "\n",
    "De igual manera: \n",
    "\n",
    "$I_{d2} = \\frac{1}{6} [ \\frac{id(0)}{2} +id(15)\\cdot cos(2 \\cdot 15) +id(2 \\cdot 30) \\cdot cos(2 \\cdot 30) +id(2 \\cdot 45) \\cdot cos(2 \\cdot 45)+ id(60) \\cdot cos(2 \\cdot 60) +id(75) \\cdot cos(2 \\cdot 75) + id(90) \\cdot cos(2 \\cdot 90)]$\n",
    "\n",
    "\n",
    "$I_{d2} = \\frac{1}{6} [ \\frac{20}{2} +16.73 + 8.66+ 0 - 5.0 -4.48 +0]$\n",
    "\n",
    "$I_{d2} = 4.32 A$\n",
    "\n",
    "$\\frac{I_{d2}}{I_{d1}} = 43.2\\%$ \n",
    "\n",
    "####   Componente de tercer armonico $I_{d3}$\n",
    "\n",
    "$I_{d3} = \\frac{1}{6} [ \\frac{id(0)}{2} +id(15)\\cdot cos(3 \\cdot 15) +id(3 \\cdot 30) \\cdot cos(3 \\cdot 30) +id(3 \\cdot 45) \\cdot cos(3 \\cdot 45)+ id(60) \\cdot cos(3 \\cdot 60) +id(75) \\cdot cos(3 \\cdot 75) + id(90) \\cdot cos(3 \\cdot 90)  ]$\n",
    "\n",
    "$I_{d3} = \\frac{1}{6} [ \\frac{20}{2} +13.66 + 0  - 10 -10 -3.66 ]$\n",
    "\n",
    "\n",
    "$I_{d3} = 0 A$\n",
    "\n",
    "$\\frac{I_{d3}}{I_{d1}} = 0\\%$ \n",
    "\n",
    "\n",
    "####   Componente de tercer armonico $I_{d4}$\n",
    "\n",
    "$I_{d4} = -0.93 A$\n",
    "\n",
    "$\\frac{I_{d4}}{I_{d1}} = 9.3\\%$ \n"
   ]
  },
  {
   "cell_type": "markdown",
   "metadata": {},
   "source": [
    "## 6. $r_{ext}$\n",
    "\n",
    "$P_L = \\frac{i_{r_lp}^2 r_{lp}}{2}$\n",
    "\n",
    "$i_{r_lp} = i_{d1} \\frac{r_o}{r_o r_{lp}}$\n",
    "\n",
    "Combinando \n",
    "$r_lp = 3.00 ohms$\n",
    "\n",
    "$r_ext = 2.90 ohms$\n",
    "\n",
    "$v_d1 = 28.96 V$\n",
    "\n",
    "\n",
    "\n",
    "Comentario: la máxima excursión a la salida en tensión es \n",
    "\n",
    "$v_{d1} = V_{DD} - V_{DS(min)}$\n",
    "\n",
    "$v_{d1} = 40 V$\n",
    "\n",
    "$r_{l}' = \\frac{v_{d1}^2}{2 P_L}$\n",
    "\n",
    "$r_{l}' = 5.33 \\Omega$\n",
    "\n",
    "$Y_{out}  = \\frac{1}{Z_{out}}$\n",
    "\n",
    "$r_{out}  = \\frac{1}{Y_{out}.real}$ \n",
    "\n",
    "$r_{ext}  = \\frac{1}{\\frac{1}{r_{out}}+\\frac{1}{r_l'}}$\n",
    "\n",
    "$r_{ext}  = 5 \\Omega$\n",
    "\n"
   ]
  },
  {
   "cell_type": "markdown",
   "metadata": {},
   "source": [
    "## 7. $P_{dc}$\n",
    "\n",
    "$P_{dc} = V_{DD} I_{d0}$\n",
    "\n",
    "$P_{dc} = 316.49 W$\n"
   ]
  },
  {
   "cell_type": "markdown",
   "metadata": {},
   "source": [
    "##### 8. \n",
    "\n",
    "$P_{tr} = P_{dc} - P_{o}$\n",
    "\n",
    "$P_{tr} = 64.84 W$\n"
   ]
  },
  {
   "cell_type": "markdown",
   "metadata": {},
   "source": [
    "## 9. Rendimiento y $P_{tr}$\n",
    "\n",
    "$P_{tr} = P_{dc} - P_{o}$\n",
    "\n",
    "$P_{tr}= 116.49W$\n",
    "\n",
    "$\\eta = \\frac{P_o}{P_{dc}}$\n",
    "\n",
    "$\\eta = 63\\%$"
   ]
  },
  {
   "cell_type": "markdown",
   "metadata": {},
   "source": [
    "## 10.  Ganancia de potencia\n",
    "\n",
    "$G = \\frac{P_o}{P_i}$\n",
    "\n",
    "$G = 15.66$\n",
    "\n",
    "$G = 12 dB$\n"
   ]
  },
  {
   "cell_type": "code",
   "execution_count": null,
   "metadata": {},
   "outputs": [],
   "source": []
  },
  {
   "cell_type": "code",
   "execution_count": null,
   "metadata": {},
   "outputs": [],
   "source": []
  },
  {
   "cell_type": "markdown",
   "metadata": {},
   "source": [
    "############\n",
    "\n",
    "Calculos !!!\n",
    "\n",
    "###########"
   ]
  },
  {
   "cell_type": "code",
   "execution_count": 2,
   "metadata": {},
   "outputs": [],
   "source": [
    "import numpy as np\n",
    "import matplotlib.pyplot as plt\n",
    "import scipy                  # http://scipy.org/\n",
    "from scipy import signal\n",
    "\n",
    "from IPython.display import Image  \n",
    "%matplotlib inline\n",
    "params = {'legend.fontsize': 24,\n",
    "          'figure.figsize': (8, 8),\n",
    "         'axes.labelsize': 24,\n",
    "         'axes.titlesize': 24,\n",
    "         'xtick.labelsize':24,\n",
    "         'ytick.labelsize':24}\n",
    "plt.rcParams.update(params) \n"
   ]
  },
  {
   "cell_type": "code",
   "execution_count": 3,
   "metadata": {},
   "outputs": [],
   "source": [
    "#Calculos \n",
    "#parametros de la senal \n",
    "fc   = 10e6 #Hz\n",
    "th_c    = np.pi\n",
    "\n",
    "\n",
    "#parametros del filtro de entrada y de salida \n",
    "Qo = np.inf\n",
    "Qc = 10\n",
    "\n",
    "#parametros del transistor\n",
    "Vds_min = 10  #V\n",
    "Vds_max = 125 #V\n",
    "Vgs_max = 7.5 #V\n",
    "Vth     = 2.5 #V\n",
    "Zin     =  4-2j #ohms\n",
    "Zout    = 80-2j #ohms\n",
    "\n",
    "# Generador\n",
    "Zg      = 50 #ohms\n",
    "\n",
    "# Carga\n",
    "Zl      = 50 #ohms\n",
    "\n",
    "VDD     = 50 #V\n",
    "PL      = 150 #W\n",
    "### Para los calculos!\n",
    "#tiempo de un periodo \n",
    "Tc  = 1/fc\n",
    "\n",
    "# muestreo (empleando 24 ya que corresponde a el muestreo del empleado comunmente en el metodo de los trapecios)\n",
    "ns  =  24       \n",
    "fs  =  fc*ns\n",
    "ds  =  1/(fs)"
   ]
  },
  {
   "cell_type": "code",
   "execution_count": 4,
   "metadata": {},
   "outputs": [
    {
     "name": "stdout",
     "output_type": "stream",
     "text": [
      "$Vs  = 5.00$\n",
      "$VGG = 2.50$\n"
     ]
    }
   ],
   "source": [
    "#### 1\n",
    "\n",
    "Vs  = (Vgs_max-Vth)/(1-np.cos(th_c/2))\n",
    "VGG = Vgs_max - Vs\n",
    "print('$Vs  = {:.2f}$'.format(Vs))\n",
    "\n",
    "print('$VGG = {:.2f}$'.format(VGG))"
   ]
  },
  {
   "cell_type": "code",
   "execution_count": 5,
   "metadata": {},
   "outputs": [
    {
     "name": "stdout",
     "output_type": "stream",
     "text": [
      "$P_in = 1.25 W$\n"
     ]
    }
   ],
   "source": [
    "#### 2\n",
    "Yin = 1/Zin\n",
    "Pin = Vs**2*Yin.real/(4)\n",
    "\n",
    "print('$P_in = {:.2f} W$'.format(Pin))"
   ]
  },
  {
   "cell_type": "code",
   "execution_count": 6,
   "metadata": {},
   "outputs": [
    {
     "name": "stdout",
     "output_type": "stream",
     "text": [
      "$ig = 0.45 A$\n"
     ]
    }
   ],
   "source": [
    "#### 3\n",
    "\n",
    "ig  = (Pin*4/(Zg.real/2))**0.5\n",
    "\n",
    "print('$ig = {:.2f} A$'.format(ig))"
   ]
  },
  {
   "cell_type": "code",
   "execution_count": 7,
   "metadata": {},
   "outputs": [
    {
     "data": {
      "image/png": "[encoded data removed]",
      "text/plain": [
       "<Figure size 432x288 with 1 Axes>"
      ]
     },
     "metadata": {
      "needs_background": "light"
     },
     "output_type": "display_data"
    }
   ],
   "source": [
    "#### 4\n",
    "\n",
    "def vgsi(VGG,Vs,th):\n",
    "    return VGG+Vs*np.cos(th)\n",
    "\n",
    "\n",
    "def idi(v):\n",
    "    i =  0.             if (v < 2.5) else 0\n",
    "    i = (20/5)*(v-2.5) if (v >= 2.5  and v < 7.5) else i\n",
    "    i = (20) if (v >= 7.5  ) else i\n",
    "    return i\n",
    "\n",
    "\n",
    "thi = np.arange(-np.pi,np.pi,2*np.pi/24)\n",
    "\n",
    "vgs = vgsi(VGG,Vs,thi)\n",
    "\n",
    "idd = np.array([idi(v) for v in vgs])\n",
    "\n",
    "\n",
    "\n",
    "plt.plot(thi, idd)\n",
    "plt.plot(thi, idd, 'ro')\n",
    "plt.ylabel('$i_{o}$ [A]')\n",
    "plt.xlabel('${\\ theta}$')\n",
    "\n",
    "plt.grid()\n",
    "plt.show()\n",
    "\n",
    "\n"
   ]
  },
  {
   "cell_type": "code",
   "execution_count": 169,
   "metadata": {},
   "outputs": [
    {
     "name": "stdout",
     "output_type": "stream",
     "text": [
      "|0.00| 7.50| 20.00| 20.00| 20.00 | 20.00 |\n",
      "|15.00| 7.33| 19.32| 18.66| 16.73 | 13.66 |\n",
      "|30.00| 6.83| 17.32| 15.00| 8.66 | -0.00 |\n",
      "|45.00| 6.04| 14.14| 10.00| -0.00 | -10.00 |\n",
      "|60.00| 5.00| 10.00| 5.00| -5.00 | -10.00 |\n",
      "|75.00| 3.79| 5.18| 1.34| -4.48 | -3.66 |\n",
      "|90.00| 2.50| 0.00| -0.00| -0.00 | 0.00 |\n",
      "|105.00| 1.21| 0.00| -0.00| -0.00 | 0.00 |\n",
      "|120.00| -0.00| 0.00| -0.00| -0.00 | 0.00 |\n",
      "|135.00| -1.04| 0.00| -0.00| 0.00 | 0.00 |\n",
      "|150.00| -1.83| 0.00| -0.00| 0.00 | -0.00 |\n",
      "|165.00| -2.33| 0.00| -0.00| 0.00 | -0.00 |\n",
      "idco= 6.33 A\n",
      "idc1= 10.00 A\n",
      "idc2= 4.32 A\n",
      "idc3= -0.00 A\n",
      "idc4= -0.93 A\n",
      "idc5= 0.00 A\n",
      "idc6= 0.45 A\n"
     ]
    }
   ],
   "source": [
    "#####  5\n",
    "\n",
    "for i,p in enumerate(thi):\n",
    "    if p  >= 0 :\n",
    "        print('|{:1.2f}| {:1.2f}| {:1.2f}| {:1.2f}| {:1.2f} | {:1.2f} |'.format( \n",
    "            p*180/np.pi, vgs[i], idd[i], idd[i]*np.cos(p) , idd[i]*np.cos(2*p), idd[i]*np.cos(3*p)   ) ) \n",
    "        \n",
    "        \n",
    "        \n",
    "# Continua\n",
    "idco = 1/ns * np.sum(idd) \n",
    "\n",
    "\n",
    "# primer arminico\n",
    "idc1 = 2/ns * np.sum([idd[i]*np.cos(1*thi[i]) for i in range(ns)] ) \n",
    "\n",
    "# segundo arminico\n",
    "idc2 = 2/ns * np.sum([idd[i]*np.cos(2*thi[i]) for i in range(ns)] ) \n",
    "\n",
    "# tercero arminico\n",
    "idc3 = 2/ns * np.sum([idd[i]*np.cos(3*thi[i]) for i in range(ns)] ) \n",
    "\n",
    "# cuarto arminico\n",
    "idc4 = 2/ns * np.sum([idd[i]*np.cos(4*thi[i]) for i in range(ns)] ) \n",
    "\n",
    "# quinto arminico\n",
    "idc5 = 2/ns * np.sum([idd[i]*np.cos(5*thi[i]) for i in range(ns)] ) \n",
    "\n",
    "# sexto arminico\n",
    "idc6 = 2/ns * np.sum([idd[i]*np.cos(6*thi[i]) for i in range(ns)] ) \n",
    "\n",
    "print('idco= {:.2f} A'.format(idco))\n",
    "print('idc1= {:.2f} A'.format(idc1))  \n",
    "\n",
    "print('idc2= {:.2f} A'.format(idc2))  \n",
    "\n",
    "\n",
    "print('idc3= {:.2f} A'.format(idc3))  \n",
    "\n",
    "print('idc4= {:.2f} A'.format(idc4))  \n",
    "\n",
    "print('idc5= {:.2f} A'.format(idc5)) \n",
    "\n",
    "print('idc6= {:.2f} A'.format(idc6)) "
   ]
  },
  {
   "cell_type": "code",
   "execution_count": 177,
   "metadata": {},
   "outputs": [
    {
     "name": "stdout",
     "output_type": "stream",
     "text": [
      "$r_lp = 3.00 ohms$\n",
      "$r_ext = 2.90 ohms$\n",
      "$v_d1 = 28.96 V$\n"
     ]
    }
   ],
   "source": [
    "#### 6.\n",
    "Yout  = 1/Zout\n",
    "rout  = 1/(Yout.real) \n",
    "\n",
    "a    = 2*PL\n",
    "b    = 2*rout-idc1**2*rout**2\n",
    "c    = 2*PL*rout**2\n",
    "\n",
    "rlp = (-b-(b**2-4*a*c)**0.5)/(2*a)\n",
    "\n",
    "print('$r_lp = {:.2f} ohms$'.format(rlp))\n",
    "\n",
    "\n",
    "rext  = 1/((1/rout)+(1/rlp))\n",
    "print('$r_ext = {:.2f} ohms$'.format(rext))\n",
    "\n",
    "vd1  = idc1*rext\n",
    "\n",
    "print('$v_d1 = {:.2f} V$'.format(vd1))\n"
   ]
  },
  {
   "cell_type": "code",
   "execution_count": 171,
   "metadata": {},
   "outputs": [
    {
     "name": "stdout",
     "output_type": "stream",
     "text": [
      "$P_dc = 316.49 W$\n"
     ]
    }
   ],
   "source": [
    "##### 7.\n",
    "Pdc = VDD*idco\n",
    "\n",
    "print('$P_dc = {:.2f} W$'.format(Pdc))"
   ]
  },
  {
   "cell_type": "code",
   "execution_count": 172,
   "metadata": {},
   "outputs": [
    {
     "name": "stdout",
     "output_type": "stream",
     "text": [
      "$P_tr = 166.49 W$\n"
     ]
    }
   ],
   "source": [
    "##### 8. \n",
    "\n",
    "Ptr = Pdc - PL\n",
    "\n",
    "\n",
    "print('$P_tr = {:.2f} W$'.format(Ptr))"
   ]
  },
  {
   "cell_type": "code",
   "execution_count": 173,
   "metadata": {},
   "outputs": [
    {
     "name": "stdout",
     "output_type": "stream",
     "text": [
      "$ne = 0.47 $\n"
     ]
    }
   ],
   "source": [
    "###### 9 \n",
    "\n",
    "ne   = PL/Pdc\n",
    "\n",
    "print('$ne = {:.2f} $'.format(ne))"
   ]
  },
  {
   "cell_type": "code",
   "execution_count": 144,
   "metadata": {},
   "outputs": [
    {
     "name": "stdout",
     "output_type": "stream",
     "text": [
      "$G = 120.00$\n",
      "$G = 20.79 dB$\n"
     ]
    }
   ],
   "source": [
    "##### 10\n",
    "\n",
    "G = PL/Pin\n",
    "\n",
    "print('$G = {:.2f}$'.format(G))\n",
    "print('$G = {:.2f} dB$'.format(10*np.log10(G)) )"
   ]
  },
  {
   "cell_type": "code",
   "execution_count": null,
   "metadata": {},
   "outputs": [],
   "source": []
  }
 ],
 "metadata": {
  "kernelspec": {
   "display_name": "Python 3",
   "language": "python",
   "name": "python3"
  },
  "language_info": {
   "codemirror_mode": {
    "name": "ipython",
    "version": 3
   },
   "file_extension": ".py",
   "mimetype": "text/x-python",
   "name": "python",
   "nbconvert_exporter": "python",
   "pygments_lexer": "ipython3",
   "version": "3.8.8"
  },
  "latex_envs": {
   "LaTeX_envs_menu_present": true,
   "autoclose": false,
   "autocomplete": true,
   "bibliofile": "biblio.bib",
   "cite_by": "apalike",
   "current_citInitial": 1,
   "eqLabelWithNumbers": true,
   "eqNumInitial": 1,
   "hotkeys": {
    "equation": "Ctrl-E",
    "itemize": "Ctrl-I"
   },
   "labels_anchors": false,
   "latex_user_defs": false,
   "report_style_numbering": false,
   "user_envs_cfg": false
  }
 },
 "nbformat": 4,
 "nbformat_minor": 2
}

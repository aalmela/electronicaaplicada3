{
 "cells": [
  {
   "cell_type": "markdown",
   "id": "2b83ef3d",
   "metadata": {},
   "source": [
    "# Amplificadore de Potencia\n",
    "\n",
    "Los amplificadores de potencia se utilizan en el lado de transmisión de los circuitos de RF, normalmente para controlar trasmisores.\n",
    "Los amplificadores de potencia normalmente compensan entre eficiencia y linealidad.\n",
    "Una mayor eficiencia significa menor consumo, lo que podria resultar en una mayor duración de la batería, y esto es especialmente importante en la realización de productos pequeños y portátiles.\n",
    "Hay algunos desafíos adicionales específicamente relacionados con la integración total. Los circuitos integrados suelen tener un voltaje de alimentación limitado para evitar averías, así como un límite de migración de metal para la corriente. Por lo tanto, simplemente lograr la potencia de salida deseada puede ser un desafío.\n",
    "\n",
    "Los amplificadores de potencia disipan energía y generan calor, que debe eliminarse. Debido al pequeño tamaño de los circuitos integrados, este es un ejercicio desafiante de diseño y empaquetado.\n",
    "Varias presentaciones generales recientes han destacado los problemas especiales que surgen al lograr alta eficiencia y linealidad en amplificadores de potencia totalmente integrados.\n",
    "\n",
    "Los amplificadores de potencia se encuentran entre los últimos circuitos en estar completamente integrados.\n",
    "En muchos casos, no queda más remedio que diseñarlos con transistores de potencia discretos, o al menos separados del resto de los circuitos frontales de radiofrecuencia.\n",
    "\n",
    "Hay mucho interés en el diseño de amplificadores de potencia discretos y semiintegrados, y durante años la principal referencia fue el libro clásico de Krauss, Bostian y Raab.\n"
   ]
  },
  {
   "cell_type": "markdown",
   "id": "d76da3ef",
   "metadata": {},
   "source": [
    "Capacidad de Potencia\n",
    "\n",
    "Uno de los principales objetivos del diseño de PA es entregar una potencia determinada a una carga.\n",
    "Esto está determinado en gran medida por la resistencia de carga y la fuente de alimentación.\n",
    "Dado un voltaje de fuente de alimentación particular $V_{CC}$, como 3 V, y una resistencia de carga $R_L =50 \\Omega$, es posible determinar la potencia máxima que se debe usar.\n",
    "\n",
    "$P = \\frac{V^2_{CC}}{2R}$\n",
    "\n",
    "Esto supone que tenemos un amplificador sintonizado y un punto de funcionamiento de $3 V$, una oscilación máxima negativa de $0 V$ y una oscilación máxima positiva de hasta $6 V$."
   ]
  },
  {
   "cell_type": "markdown",
   "id": "10622d2e",
   "metadata": {},
   "source": [
    "# Amplificadores Clase A, B y C\n",
    "\n",
    "\n",
    "Los amplificadores de potencia se agrupan en clases según la naturaleza de su voltaje y formas de onda de corriente.\n",
    "Las primeras clases principales a considerar son los amplificadores de clase A, B y C.\n",
    "\n",
    "![5-cuatrocientos](fig/circ_gral.png)\n",
    "\n",
    "\n",
    "\n",
    "La figura muestra un circuito básico que se puede utilizar para cualquiera de estas clases.\n",
    "Las formas de onda para el voltaje de base $v_B$, el voltaje del colector $v_C$ y la corriente del colector $i_C$ se muestran en la Figura para operación clase A.\n",
    "\n",
    "\n",
    "![5-cuatrocientos](fig/signal_clase_a.png)\n",
    "\n",
    "\n",
    "Para operación clase B \n",
    "\n",
    "![5-cuatrocientos](fig/signal_clase_b.png)\n",
    "\n",
    "\n",
    "\n",
    "Para operación clase C\n",
    "![5-cuatrocientos](fig/signal_clase_c.png)\n",
    "\n",
    "\n",
    "\n"
   ]
  },
  {
   "cell_type": "markdown",
   "id": "a1d3d7dd",
   "metadata": {},
   "source": [
    "Los amplificadores de clase A pueden diseñarse para tener más ganancia que los amplificadores de clase B o C.\n",
    "Sin embargo, como se verá más adelante, la potencia de salida alcanzable es casi la misma para un amplificador de clase A, clase AB o clase B.\n",
    "Para un amplificador de clase C, donde el transistor conduce durante una breve parte del período, la potencia de salida se reduce.\n",
    "\n",
    "El voltaje minimo del colector sinusoidal es de aproximadamente $0 V$ a $2 V_{CC}$.\n",
    "La suposición de que el voltaje del colector puede descender cerca de 0 V se justifica porque simplifica el análisis y normalmente produce sólo un error insignificante. \n",
    "Si bien se supone que el voltaje del colector es sinusoidal debido a la acción de filtrado del circuito sintonizado, la corriente del colector puede ser sinusoidal, como en la operación de clase A, o puede ser no sinusoidal, como en la operación de clase B o C, que está determinada principalmente por cómo está polarizado el transistor. \n",
    "\n",
    "La clasificación como A, AB, B o C describe la fracción del ciclo completo durante la cual fluye corriente en el transistor controlador. Esta fracción se puede describir como un ángulo de conducción, que es el número de grados (de 360\\°) durante los cuales fluye corriente. Si siempre fluye corriente, el ángulo de conducción es de 360\\° y el funcionamiento es de clase A.\n",
    "Si la corriente fluye exactamente la mitad del tiempo, el ángulo de conducción es de 180\\° y el funcionamiento es de clase B.\n",
    "Para ángulos de conducción entre 180° y 360° el funcionamiento es clase AB. Si la corriente fluye entre 0\\° y 180\\°, se dice que el transistor funciona como clase C.\n",
    "Más adelante se demostrará que un ángulo de conducción mayor dará como resultado una mejor linealidad pero una menor eficiencia.\n",
    "En la Tabla se muestra un resumen.\n",
    "\n",
    "|class |Conduction Angle |Efficiency (max theoretical) (%) |Ouput Power (normalized)|\n",
    "|------|-----------------|---------------------------------|------------------------|\n",
    "|A     | 360             | 50                              | 1|\n",
    "|AB    | 360–180         | 50–78.5                         | cerca de 1(theory: max of 1.15 at 240°)|\n",
    "|B     | 180             |78.5                             | 1  |\n",
    "|C     |180–0            |78.5–100                         | 1  |\n",
    "\n",
    "\n",
    "Para obtener una alta eficiencia, se debe minimizar la pérdida de potencia en el transistor, y esto significa que la corriente debe ser mínima mientras el voltaje sea alto, y el voltaje debe ser mínimo mientras la corriente sea alta.\n",
    "Se puede ver en las Figuras 10.7 y 10.8 que para todas las formas de onda, el voltaje máximo está alineado con la corriente mínima y la corriente máxima está alineada con el voltaje mínimo.\n",
    "Se puede ver además que para las clases B y C, la corriente se establece en cero durante la parte del ciclo en la que el voltaje es alto.\n",
    "Esto conduce a una mayor eficiencia; sin embargo, todavía habrá alguna pérdida, ya que hay una superposición de voltaje y corriente distintos de cero.\n",
    "Otras clases de amplificadores, que se describirán en secciones posteriores, a saber, las clases D, E, F y S, están diseñadas de manera que el voltaje a través del transistor también sea no lineal, lo que conduce a eficiencias más altas, en algunos casos hasta el 100%.\n",
    "Una forma diferente de mejorar la eficiencia, manteniendo potencialmente la linealidad, es alimentar un amplificador lineal desde una fuente de alimentación variable o conmutada.\n",
    "Esta es la base para los diseños de clase G y H. Todos los amplificadores anteriores se analizarán con más detalle en las Secciones 10.6 a 10.9."
   ]
  },
  {
   "cell_type": "markdown",
   "id": "16bd7dfb",
   "metadata": {},
   "source": [
    "![5-cuatrocientos](fig/diagrama_clase.png)\n",
    "\n",
    "La figura  muestra un amplificador de potencia simplificado y una gráfica de la corriente del transistor versus el tiempo para clase C.\n",
    "Las diferentes clases se pueden obtener con el mismo circuito ajustando el circuito de polarización de entrada.\n",
    "Por ejemplo, en la clase A, si la corriente máxima es Imax, el amplificador se configura para que tenga una polarización nominal de la mitad de Imax, de modo que la corriente oscile de casi 0 a Imax.\n",
    "\n",
    "Para la clase B, la polarización se establece de modo que el transistor esté nominalmente en el borde de conducción, de modo que la oscilación de entrada positiva hará que el transistor conduzca, mientras que la entrada negativa garantizará que el transistor esté apagado.\n",
    "Por tanto, el transistor conducirá la mitad del tiempo."
   ]
  },
  {
   "cell_type": "markdown",
   "id": "d74ed6ba",
   "metadata": {},
   "source": [
    "## Análisis de clase A, B y C\n",
    "\n",
    "Excepto en el caso de la clase A, la corriente que circula por el transistor no es sinusoidal, pero puede modelarse como una sinusoide polarizada.\n",
    "\n",
    "La corriente del colector se puede expresar como\n",
    "\n",
    "$i_C = I_{CC} cos(\\omega t) − I_{CQ}$\n",
    "\n",
    "Esto es válido desde $−\\theta < \\omega t < \\theta$.\n",
    "\n",
    "Aquí,  $I_{CQ}$ es dado por\n",
    "\n",
    "$I_{CQ} = I_{CC} cos(\\omega)$\n",
    "\n",
    "Podemos encontrar el componente de continua y el componente fundamental mediante determinar la serie de Fourier de esta forma de onda. \n",
    "\n",
    "Tenga en cuenta que el circuito sintonizado nos dará el componente fundamental (si está sintonizado en $f_o$ ).\n",
    "\n",
    "\n",
    "$I_{dc} = \\frac{1}{2 \\pi} \\int^{\\theta}_{-\\theta} (I_{CC} cos(\\omega t) - I_{CQ}) d(\\omega t)$\n",
    "\n",
    "$I_{dc} = \\frac{I_{CC}}{\\pi}[sin(\\theta) - \\theta cos(\\theta)]$\n",
    "\n",
    "La potencia suministrada está dada por\n",
    "\n",
    "\n",
    "$P_{CC} = V_{CC} I_{dc} = \\frac{V_{CC} I_{CC}}{\\pi}  (sin(\\theta) - \\theta cos(\\theta))$\n",
    "\n",
    "La corriente fundamental $i_1$ dada por\n",
    "\n",
    "$i_1 = \\frac{4}{2\\pi}  \\int^{\\theta}_{-\\theta}  (I_{CC} cos(\\theta t) − I_{CQ} ) cos(\\theta t) d (\\omega t )$ \n",
    "\n",
    "$i_1 = \\frac{I_{CC}}{2 \\pi}  (2\\theta − sin 2\\theta )$\n",
    "\n",
    "\n",
    "La potencia de salida está dada por\n",
    "\n",
    "$P_{out} = \\frac{i^2 R_L}{2} = \\frac{v_{peak}}{\\sqrt{2}} \\frac{i_{peak}}{\\sqrt{2}}$\n",
    "\n",
    "El pico v máximo posible es cuando la salida oscila de aproximadamente 0 V a 2 V CC o pico v = V CC. De este modo,\n",
    "\n",
    "\n",
    "$P_{salida, máx} = \\frac{V_{CC}}{\\sqrt{2}} \\frac{i_{1}}{\\sqrt{2}}$\n",
    "\n",
    "La eficiencia para esta oscilación de voltaje máxima posible está dada por\n",
    " \n",
    "$n_{max} = \\frac{P_{out,max}}{P_{dc}}$\n",
    "\n",
    "$n_{max} = \\frac{2 \\theta - sin(2\\theta)}{4 (sin \\theta - \\theta cos(\\theta)}$ \n",
    " \n",
    "La eficiencia se representa en la Figura 10.11.\n"
   ]
  },
  {
   "cell_type": "code",
   "execution_count": 10,
   "id": "e8abb6b7",
   "metadata": {},
   "outputs": [
    {
     "name": "stderr",
     "output_type": "stream",
     "text": [
      "<ipython-input-10-bf8b5d7441ca>:17: RuntimeWarning: invalid value encountered in true_divide\n",
      "  return (2 *th - np.sin(2 * th))/(4 *(np.sin(th)- th * np.cos(th)))\n"
     ]
    },
    {
     "data": {
      "image/png": "[encoded data removed]",
      "text/plain": [
       "<Figure size 576x576 with 1 Axes>"
      ]
     },
     "metadata": {
      "needs_background": "light"
     },
     "output_type": "display_data"
    }
   ],
   "source": [
    "import numpy as np\n",
    "import matplotlib.pyplot as plt\n",
    "\n",
    "from IPython.display import Image  \n",
    "%matplotlib inline\n",
    "params = {'legend.fontsize': 12,\n",
    "          'figure.figsize': (8, 8),\n",
    "         'axes.labelsize': 12,\n",
    "         'axes.titlesize': 12,\n",
    "         'xtick.labelsize':12,\n",
    "         'ytick.labelsize':12}\n",
    "plt.rcParams.update(params) \n",
    "\n",
    "\n",
    " \n",
    "def nn(th):\n",
    "    return (2 *th - np.sin(2 * th))/(4 *(np.sin(th)- th * np.cos(th)))\n",
    "\n",
    "\n",
    "th = np.arange(0,np.pi,np.pi/100)\n",
    "\n",
    "n    = nn(th)\n",
    "\n",
    "#ictso  = IcTS(vbe,VBE,Is)\n",
    "\n",
    "\n",
    "\n",
    "plt.plot(th/np.pi, n, 'bo')\n",
    "\n",
    "plt.ylabel('$\\eta$')\n",
    "plt.xlabel('$\\Theta_{c}/\\pi$')\n",
    "#plt.ylim(0, 1.5)\n",
    "plt.grid()\n",
    "plt.show()\n"
   ]
  },
  {
   "cell_type": "markdown",
   "id": "44d97036",
   "metadata": {},
   "source": [
    "La potencia de salida real para un voltaje pico de salida de V op se puede encontrar en función de ␪:\n",
    "\n",
    "$P_{out} = \\frac{V_{op} I_{CC}}{(2 \\theta − sin 2\\theta)}$\n",
    " \n",
    "teniendo en cuenta que para obtener la potencia máxima, la resistencia de la carga debe ajustarse de modo que el voltaje máximo $v_{o,max}$ sea aproximadamente 2 V CC y el voltaje mínimo v o, min sea aproximadamente cero, por lo tanto, V op es igual a V CC .\n",
    "\n",
    "La ecuación anterior será más conveniente de trazar si eliminamos I CC.\n",
    "Recuerde que I CC es una medida de la corriente máxima, no con respecto a cero, sino con respecto al centro de la onda sinusoidal donde el centro para la clase C es menor que cero, como se muestra en la figura 10.12.\n",
    "\n",
    "La corriente máxima es\n",
    "\n",
    "$i_{pico} = I_{CC} (1 − cos \\theta)$\n",
    "\n",
    "\n",
    "Para la misma corriente máxima, la potencia de salida máxima distorsionada, o clase A, se puede determinar observando que el voltaje va de 0 a 2 V CC y la corriente va de 0 a i pico. Luego, convirtiendo pico a pico a rms, obtenemos la potencia de salida normalizada Po, norma como\n",
    "\n",
    "\n",
    "$P_{o,norm} = \\frac{(I_{max} − I{min}) (V_{max} − V_{min} )}{8} = \\frac{I_{CC} V_{CC} (1 − cos(\\theta)}{4}$\n",
    "\n",
    "\n",
    "Entonces podríamos trazar la potencia de salida máxima normalizada como\n",
    "\n",
    "$P_{o,max,norm} = \\frac{P_{o,max}}{P_{o,norm}}$ \n",
    "\n",
    "$P_{o,max,norm} =\\frac{1}{\\pi} \\frac{(2 \\theta − sin 2\\theta )}{1 - cos(\\theta)}$\n",
    "\n",
    "\n"
   ]
  },
  {
   "cell_type": "code",
   "execution_count": 13,
   "id": "39599a3f",
   "metadata": {},
   "outputs": [
    {
     "name": "stderr",
     "output_type": "stream",
     "text": [
      "<ipython-input-13-69431476cf91>:2: RuntimeWarning: invalid value encountered in true_divide\n",
      "  return (2 *th - np.sin(2 * th))/(1-np.cos(th))*(1/np.pi)\n"
     ]
    },
    {
     "data": {
      "image/png": "[encoded data removed]",
      "text/plain": [
       "<Figure size 576x576 with 1 Axes>"
      ]
     },
     "metadata": {
      "needs_background": "light"
     },
     "output_type": "display_data"
    }
   ],
   "source": [
    "def pp(th):\n",
    "    return (2 *th - np.sin(2 * th))/(1-np.cos(th))*(1/np.pi)\n",
    "\n",
    "\n",
    "th = np.arange(0,np.pi,np.pi/100)\n",
    "\n",
    "p    = pp(th)\n",
    "\n",
    "#ictso  = IcTS(vbe,VBE,Is)\n",
    "\n",
    "\n",
    "\n",
    "plt.plot(th/np.pi, p, 'bo')\n",
    "\n",
    "plt.ylabel('$\\eta$')\n",
    "plt.xlabel('$\\Theta_{c}/\\pi$')\n",
    "#plt.ylim(0, 1.5)\n",
    "plt.grid()\n",
    "plt.show()\n"
   ]
  },
  {
   "cell_type": "markdown",
   "id": "10aa8c5b",
   "metadata": {},
   "source": [
    "Esto se ha representado en la Figura 10.13. \n",
    "\n",
    "Se puede ver que en un ángulo de conducción de 180\\° y 360\\° (o $\\theta = 90$\\° y 180\\°), la potencia de salida máxima normalizada es 1. \n",
    "En el medio hay un pico con un valor de aproximadamente 1,15 en un ángulo de conducción de alrededor de 240\\°.\n",
    "\n",
    "Para una potencia de salida máxima, este podría parecer el ángulo de conducción óptimo; sin embargo, se puede observar que en la vida real, o en simulaciones con otros modelos de la corriente (en lugar de la punta de una sinusoide), este pico no ocurre. \n",
    "\n",
    "Sin embargo, en general, la figura 10.13 es una descripción bastante buena del desempeño en la vida real. \n",
    "Como ejemplo, si $V_{CC} = 3 V$, entonces $V_{max}$ puede llegar a 6 V. \n",
    "Si $I_{max} = 1A$, entonces la potencia de salida máxima viene dada por $P_{out, max} \n",
    "\n",
    "$P_{out, norma} = (V_{max} ⭈ I_{max} )/8 = 0,75 W en ␪ = 90° y en ␪ = 180°. \n",
    "\n",
    "Se puede encontrar una expresión que sea válida para n = 2 o superior para i n , la corriente máxima del n.ésimo armónico:\n",
    "\n",
    "$i_n = \\frac{2 I_{CC}}{\\pi} \\frac{cos(\\theta) sin(n\\theta)}{n (n^2 − 1)}$\n",
    "       \n",
    "La figura 10.14 muestra los componentes actuales normalizados a las excursiones máximas de corriente en el transistor.\n",
    "\n",
    "\n",
    "El componente de CC se encuentra en (10.8), el componente fundamental se encuentra en (10.10) y los otros componentes en (10.18), con la normalización realizada usando (10.15).\n",
    "Observamos que para la clase A ($\\theta = 180$ o el ángulo de conducción es $360$) la corriente del colector es perfectamente sinusoidal y no hay armónicos.\n",
    "En ángulos de conducción más bajos, la corriente del colector es rica en armónicos.\n",
    "Sin embargo, la carga del circuito sintonizado filtrará la mayoría de estos, dejando solo lo fundamental para llegar a la salida.\n",
    "\n",
    "En ángulos de conducción muy bajos, el \"pulso\" de corriente es muy estrecho, acercándose a la forma de un impulso en el que todos los componentes armónicos son de igual amplitud. Aquí la eficiencia puede ser alta, pero la potencia de salida es menor."
   ]
  },
  {
   "cell_type": "code",
   "execution_count": null,
   "id": "3d297d7d",
   "metadata": {},
   "outputs": [],
   "source": []
  }
 ],
 "metadata": {
  "kernelspec": {
   "display_name": "Python 3",
   "language": "python",
   "name": "python3"
  },
  "language_info": {
   "codemirror_mode": {
    "name": "ipython",
    "version": 3
   },
   "file_extension": ".py",
   "mimetype": "text/x-python",
   "name": "python",
   "nbconvert_exporter": "python",
   "pygments_lexer": "ipython3",
   "version": "3.8.8"
  }
 },
 "nbformat": 4,
 "nbformat_minor": 5
}

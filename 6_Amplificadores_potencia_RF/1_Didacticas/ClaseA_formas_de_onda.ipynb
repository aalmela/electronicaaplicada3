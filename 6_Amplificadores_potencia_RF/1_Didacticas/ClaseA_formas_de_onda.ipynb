{
 "cells": [
  {
   "cell_type": "code",
   "execution_count": 2,
   "metadata": {},
   "outputs": [
    {
     "ename": "NameError",
     "evalue": "name 'np' is not defined",
     "output_type": "error",
     "traceback": [
      "\u001b[0;31m---------------------------------------------------------------------------\u001b[0m",
      "\u001b[0;31mNameError\u001b[0m                                 Traceback (most recent call last)",
      "\u001b[0;32m<ipython-input-2-f18dca11de62>\u001b[0m in \u001b[0;36m<module>\u001b[0;34m\u001b[0m\n\u001b[1;32m     30\u001b[0m \u001b[0mn\u001b[0m  \u001b[0;34m=\u001b[0m \u001b[0;36m100\u001b[0m\u001b[0;34m\u001b[0m\u001b[0m\n\u001b[1;32m     31\u001b[0m \u001b[0;31m# vector de tiempo\u001b[0m\u001b[0;34m\u001b[0m\u001b[0;34m\u001b[0m\u001b[0m\n\u001b[0;32m---> 32\u001b[0;31m \u001b[0mth\u001b[0m  \u001b[0;34m=\u001b[0m \u001b[0;36m2\u001b[0m\u001b[0;34m*\u001b[0m\u001b[0mnp\u001b[0m\u001b[0;34m.\u001b[0m\u001b[0mpi\u001b[0m\u001b[0;34m*\u001b[0m\u001b[0mnp\u001b[0m\u001b[0;34m.\u001b[0m\u001b[0mlinspace\u001b[0m\u001b[0;34m(\u001b[0m\u001b[0;36m0\u001b[0m\u001b[0;34m,\u001b[0m \u001b[0;36m1\u001b[0m\u001b[0;34m,\u001b[0m \u001b[0mnum\u001b[0m\u001b[0;34m=\u001b[0m\u001b[0mn\u001b[0m\u001b[0;34m)\u001b[0m\u001b[0;34m\u001b[0m\u001b[0m\n\u001b[0m\u001b[1;32m     33\u001b[0m \u001b[0;34m\u001b[0m\u001b[0m\n\u001b[1;32m     34\u001b[0m \u001b[0;34m\u001b[0m\u001b[0m\n",
      "\u001b[0;31mNameError\u001b[0m: name 'np' is not defined"
     ]
    }
   ],
   "source": [
    "# import numpy as np\n",
    "import matplotlib.pyplot as plt\n",
    "\n",
    "import scipy                  # http://scipy.org/\n",
    "from scipy.fftpack import fft, fftfreq\n",
    "from time import time\n",
    "\n",
    "\n",
    "\n",
    "%matplotlib inline\n",
    "\n",
    "params = {'legend.fontsize': 12,\n",
    "          'figure.figsize': (6, 2),\n",
    "         'axes.labelsize': 12,\n",
    "         'axes.titlesize': 12,\n",
    "         'xtick.labelsize':12,\n",
    "         'ytick.labelsize':12}\n",
    "plt.rcParams.update(params)\n",
    "\n",
    "# Señal\n",
    "VCC  =10\n",
    "\n",
    "icq  = 1\n",
    "icm  = .4\n",
    "R    = 10\n",
    "\n",
    "\n",
    "\n",
    "# defino el sampleo\n",
    "n  = 100\n",
    "# vector de tiempo \n",
    "th  = 2*np.pi*np.linspace(0, 1, num=n)\n",
    "\n",
    "\n",
    "# modulante\n",
    "ic   = icq - icm*(np.sin(th) )\n",
    "io   = icm*(np.sin(th) )\n",
    "vo   = R*io \n",
    "vce  = VCC+vo\n",
    "\n",
    "ax = plt.plot(th, ic)\n",
    "plt.ylabel('$i_c$ [A]')\n",
    "plt.xlabel('$\\\\theta$')\n",
    "plt.ylim(-icq*0.1, icq*1.5)\n",
    "plt.grid()\n",
    "plt.show()\n",
    "\n",
    "plt.plot(th, io)\n",
    "plt.ylabel('$i_o$ [A]')\n",
    "plt.xlabel('$\\\\theta$')\n",
    "#plt.ylim(0, icq*1.5)\n",
    "plt.grid()\n",
    "plt.show()\n",
    "\n",
    "plt.plot(th, vo)\n",
    "plt.ylabel('$i_o$ [V]')\n",
    "plt.xlabel('$\\\\theta$')\n",
    "#plt.ylim(0, icq*1.5)\n",
    "plt.grid()\n",
    "plt.show()\n",
    "\n",
    "plt.plot(th, vce)\n",
    "plt.ylabel('$v_{ce}$ [V]')\n",
    "plt.xlabel('${\\\\theta}$')\n",
    "plt.ylim(0, VCC*1.5)\n",
    "plt.grid()\n",
    "plt.show()"
   ]
  },
  {
   "cell_type": "code",
   "execution_count": null,
   "metadata": {},
   "outputs": [],
   "source": []
  }
 ],
 "metadata": {
  "kernelspec": {
   "display_name": "Python 3",
   "language": "python",
   "name": "python3"
  },
  "language_info": {
   "codemirror_mode": {
    "name": "ipython",
    "version": 3
   },
   "file_extension": ".py",
   "mimetype": "text/x-python",
   "name": "python",
   "nbconvert_exporter": "python",
   "pygments_lexer": "ipython3",
   "version": "3.7.0"
  },
  "latex_envs": {
   "LaTeX_envs_menu_present": true,
   "autoclose": false,
   "autocomplete": true,
   "bibliofile": "biblio.bib",
   "cite_by": "apalike",
   "current_citInitial": 1,
   "eqLabelWithNumbers": true,
   "eqNumInitial": 1,
   "hotkeys": {
    "equation": "Ctrl-E",
    "itemize": "Ctrl-I"
   },
   "labels_anchors": false,
   "latex_user_defs": false,
   "report_style_numbering": false,
   "user_envs_cfg": false
  }
 },
 "nbformat": 4,
 "nbformat_minor": 2
}

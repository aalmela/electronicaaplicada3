{
 "cells": [
  {
   "cell_type": "code",
   "execution_count": 1,
   "metadata": {},
   "outputs": [
    {
     "data": {
      "image/png": "[encoded data removed]",
      "text/plain": [
       "<Figure size 432x288 with 1 Axes>"
      ]
     },
     "metadata": {
      "needs_background": "light"
     },
     "output_type": "display_data"
    },
    {
     "name": "stdout",
     "output_type": "stream",
     "text": [
      "a0 =0.32\n",
      "a1 =0.50\n",
      "a2 =0.22\n",
      "a3 =0.00\n",
      "a4 =0.04\n",
      "a5 =0.00\n",
      "a6 =0.02\n"
     ]
    },
    {
     "data": {
      "image/png": "[encoded data removed]",
      "text/plain": [
       "<Figure size 432x288 with 1 Axes>"
      ]
     },
     "metadata": {
      "needs_background": "light"
     },
     "output_type": "display_data"
    },
    {
     "name": "stdout",
     "output_type": "stream",
     "text": [
      "3.1510034249551144 2.487330868028244 0.789377392715362\n"
     ]
    }
   ],
   "source": [
    "import numpy as np\n",
    "import matplotlib.pyplot as plt\n",
    "\n",
    "# Estas funciones calculas las componentes de la serie de Fourier para una senal dada\n",
    "# A cada función se pasa como argumento la señal x y el numero de armonico a calcular.\n",
    "# El muestreo se define por la cantidad de muestras dentro del periodo de la señal x.\n",
    "\n",
    "# Serie trigonometrica\n",
    "def DFTT(x, k):\n",
    "    N = len(x)\n",
    "    a = 2/N*sum([s*np.cos(2*np.pi*i/N*k) for i,s in enumerate(x)])\n",
    "    b = 2/N*sum([s*np.sin(2*np.pi*i/N*k) for i,s in enumerate(x)])\n",
    "    if k == 0 : a = a /2.\n",
    "    return a,b\n",
    "\n",
    "# defino el sampleo\n",
    "n   = 100\n",
    "# vector de tiempo \n",
    "th  = 2*np.pi*np.linspace(0, 1, num=n)\n",
    "\n",
    "# frecuancia de la señal\n",
    "fm   = 1/(2*np.pi) #rad\n",
    "# Amplitud\n",
    "Ac   = 1 \n",
    "\n",
    "# Muestreo: tiempo máximo del analisis (periodo de la ventana)\n",
    "T = 1/fm \n",
    "\n",
    "# Pulso \n",
    "Sm   = Ac*np.sin(th)  \n",
    "\n",
    "thc  = 1*np.pi\n",
    "# Señal Pulso de coseno\n",
    "Sp   = np.array([Sm[i] if t <= thc  else 0  for i,t in enumerate(th)]) \n",
    "\n",
    "plt.plot(th, Sp)\n",
    "plt.ylabel('$i_{o}$ [A]')\n",
    "plt.xlabel('${\\theta}$')\n",
    "#plt.ylim(0, Ic*1.5)\n",
    "plt.grid()\n",
    "plt.show()\n",
    "\n",
    "# Serie de Fourier Trigonometrica\n",
    "# la separacion de las deltas = 1/T  \n",
    "freq = np.arange(0,n*fm/2,1/T)\n",
    "\n",
    "a = [DFTT(Sp,m)[0] for m in range(len(freq))]\n",
    "b = [DFTT(Sp,m)[1] for m in range(len(freq))]\n",
    "\n",
    "ab = [(a[i]+1j*b[i]) for i in range(len(a))] # debido al defasaje se emplea la variacion de j\n",
    "for i in range(7):\n",
    "    print('a{:1} ={:.2f}'.format(i, np.abs(ab)[i]) )\n",
    "\n",
    "\n",
    "plt.stem( freq, np.abs(ab))\n",
    "plt.xlim([-0.5*fm,fm*10])\n",
    "plt.ylabel('abs')\n",
    "plt.xlabel('freq/Hz')\n",
    "plt.grid()\n",
    "plt.show()\n",
    "\n",
    "VDC = 10\n",
    "PDC = VDC*abs(ab[0])\n",
    "\n",
    "PL  = VDC*abs(ab[1])/2\n",
    "\n",
    "rendimiento = PL/PDC\n",
    "\n",
    "print(abs(PDC),abs(PL),rendimiento)"
   ]
  },
  {
   "cell_type": "code",
   "execution_count": null,
   "metadata": {},
   "outputs": [],
   "source": []
  }
 ],
 "metadata": {
  "kernelspec": {
   "display_name": "Python 3",
   "language": "python",
   "name": "python3"
  },
  "language_info": {
   "codemirror_mode": {
    "name": "ipython",
    "version": 3
   },
   "file_extension": ".py",
   "mimetype": "text/x-python",
   "name": "python",
   "nbconvert_exporter": "python",
   "pygments_lexer": "ipython3",
   "version": "3.8.8"
  },
  "latex_envs": {
   "LaTeX_envs_menu_present": true,
   "autoclose": false,
   "autocomplete": true,
   "bibliofile": "biblio.bib",
   "cite_by": "apalike",
   "current_citInitial": 1,
   "eqLabelWithNumbers": true,
   "eqNumInitial": 1,
   "hotkeys": {
    "equation": "Ctrl-E",
    "itemize": "Ctrl-I"
   },
   "labels_anchors": false,
   "latex_user_defs": false,
   "report_style_numbering": false,
   "user_envs_cfg": false
  }
 },
 "nbformat": 4,
 "nbformat_minor": 2
}

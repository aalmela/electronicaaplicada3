{
 "cells": [
  {
   "cell_type": "markdown",
   "metadata": {},
   "source": [
    "## Serie de Fourier\n",
    "\n",
    "\n",
    "Si $f(t)$  es una función de variable real $t$, que es integrable en el intervalo $[-t_o-T/2,t_o+T/2]$  entonces se puede obtener el desarrollo en serie de Fourier de $f(t)$ en ese intervalo. \n",
    "\n",
    "Fuera del intervalo la serie es periódica, con período $T$. \n",
    "\n",
    "Si $f(t)$ es periódica en toda la recta real, la aproximación por series de Fourier también será válida en todos los valores de $t$. \n",
    "\n",
    "### Serie de Fourier trigonometrica\n",
    "\n",
    "Luego la serie de Fourier asociada a $f(t)$ es:\n",
    "\n",
    "$f(t) \\sim \\frac{a_0}{2} + \\sum_{n=1}^\\infty [ a_n cos(\\frac{2n\\pi}{T} t) + b_n sin(\\frac{2n\\pi}{T} t)]$\n",
    "\n",
    "Donde $a_0$, $a_n$ y $b_n$ son los coeficientes de Fourier que toman los valores:\n",
    "\n",
    "$a_0 = \\frac{2}{T} \\int_{t_o}^{t_o+T}  f(t) dt$\n",
    "\n",
    "$a_n = \\frac{2}{T} \\int_{t_o}^{t_o+T}  f(t) cos(\\frac{2 n \\pi}{T} t) dt$\n",
    "\n",
    "$b_n = \\frac{2}{T} \\int_{t_o}^{t_o+T}  f(t) sin(\\frac{2 n \\pi}{T} t) dt$\n",
    "\n",
    "\n",
    "### Serie de Fourier exponencial\n",
    "\n",
    "Por la identidad de Euler, las fórmulas de arriba pueden expresarse también en su forma compleja:\n",
    "\n",
    "$f(t) \\sim \\sum_{n=-\\infty}^{\\infty} c_{n} e^{j 2 \\pi \\frac{n}{t}}$\n",
    "\n",
    "Los coeficientes ahora serían:\n",
    "\n",
    "$c_n = \\frac{1}{T}\\int_{t_o}^{t_o+T} f(t)\\,e^{-2\\pi i \\frac{n}{T} t} dt$\n",
    "\n",
    "Otra forma de definir la serie de Fourier es:\n",
    "\n",
    "$f(t) = \\frac{a_0}{2} + \\sum_{n=1}^\\infty a_n cos(2 \\pi n) + b_n sin(2 \\pi n)$\n",
    "\n",
    "donde $\\omega_n = n\\omega$ y $\\omega = 2 \\pi f_o = \\frac{2 \\pi}{T}$\n",
    "\n",
    "siendo:\n",
    "\n",
    "$a_0 = \\frac{2}{T} \\int_{t_o}^{t_o+T} f(t) dt$\n",
    "\n",
    "$a_n = \\frac{2}{T} \\int_{t_o}^{t_o+T} f(t) cos(\\omega_n t) dt$ \n",
    "\n",
    "$b_n = \\frac{2}{T} \\int_{t_o}^{t_o+T} f(t) sin(\\omega_n t) dt$\n",
    "\n",
    "Esta forma de la serie de Fourier se le conoce como la serie trigonométrica de Fourier.\n",
    "\n",
    "### Euler's formula:\n",
    "$e^{ i \\theta} = cos(\\theta) + i \\cdot sin(\\theta)$\n"
   ]
  },
  {
   "cell_type": "code",
   "execution_count": 1,
   "metadata": {},
   "outputs": [
    {
     "data": {
      "text/plain": [
       "<Figure size 640x480 with 1 Axes>"
      ]
     },
     "metadata": {},
     "output_type": "display_data"
    },
    {
     "name": "stdout",
     "output_type": "stream",
     "text": [
      "a0 =0.32\n",
      "a1 =0.50\n",
      "a2 =0.21\n",
      "a3 =0.00\n",
      "a4 =0.04\n",
      "a5 =0.00\n",
      "a6 =0.02\n"
     ]
    },
    {
     "name": "stderr",
     "output_type": "stream",
     "text": [
      "/home/aalmela/anaconda3/lib/python3.7/site-packages/ipykernel_launcher.py:62: UserWarning: In Matplotlib 3.3 individual lines on a stem plot will be added as a LineCollection instead of individual lines. This significantly improves the performance of a stem plot. To remove this warning and switch to the new behaviour, set the \"use_line_collection\" keyword argument to True.\n"
     ]
    },
    {
     "data": {
      "text/plain": [
       "<Figure size 640x480 with 1 Axes>"
      ]
     },
     "metadata": {},
     "output_type": "display_data"
    }
   ],
   "source": [
    "import numpy as np\n",
    "import matplotlib.pyplot as plt\n",
    "\n",
    "# Estas funciones calculas las componentes de la serie de Fourier para una senal dada\n",
    "# A cada función se pasa como argumento la señal x y el numero de armonico a calcular.\n",
    "# El muestreo se define por la cantidad de muestras dentro del periodo de la señal x.\n",
    "\n",
    "# Serie trigonometrica\n",
    "def DFTT(x, k):\n",
    "    N = len(x)\n",
    "    a = 2/N*sum([s*np.cos(2*np.pi*i/N*k) for i,s in enumerate(x)])\n",
    "    b = 2/N*sum([s*np.sin(2*np.pi*i/N*k) for i,s in enumerate(x)])\n",
    "    if k == 0 : a = a /2.\n",
    "    return a,b\n",
    "\n",
    "# defino el sampleo\n",
    "n   = 100\n",
    "# vector de tiempo \n",
    "th  = 2*np.pi*np.linspace(0, 1, num=n)\n",
    "\n",
    "# frecuancia de la señal\n",
    "fm   = 10 #Hz\n",
    "# Amplitud\n",
    "Ac   = 1 \n",
    "\n",
    "# senal pulso coseno de frecuencia 10 Hz, \n",
    "\n",
    "# muestrea a 100 Sps (muestras por segundo). \n",
    "# defino el muestreo\n",
    "fs =  100*fm #Sps\n",
    "\n",
    "# Muestreo: tiempo máximo del analisis (periodo de la ventana)\n",
    "T = 1/fm \n",
    "\n",
    "# Defino el vector de tiempo del muestreo\n",
    "time  = np.arange(-T/2, T/2, 1/fs)\n",
    "\n",
    "# Pulso clase B (coseno)\n",
    "Sm   = Ac*np.cos(2*np.pi*fm*time)  \n",
    "# Señal Pulso de coseno\n",
    "Sp   = np.array([s if s >=  0 else 0  for s in Sm]) \n",
    "\n",
    "plt.plot(time, Sp)\n",
    "plt.ylabel('$i_{o}$ [A]')\n",
    "plt.xlabel('${\\theta}$')\n",
    "#plt.ylim(0, Ic*1.5)\n",
    "plt.grid()\n",
    "plt.show()\n",
    "\n",
    "# Serie de Fourier Trigonometrica\n",
    "# la separacion de las deltas = 1/T  \n",
    "freq = np.arange(0,fs/2,1/T)\n",
    "\n",
    "a = [DFTT(Sp,n)[0] for n in range(len(freq))]\n",
    "b = [DFTT(Sp,n)[1] for n in range(len(freq))]\n",
    "\n",
    "ab = [(a[i]+1j*b[i]) for i in range(len(a))] # debido al defasaje se emplea la variacion de j\n",
    "for i in range(7):\n",
    "    print('a{:1} ={:.2f}'.format(i, np.abs(ab)[i]) )\n",
    "\n",
    "\n",
    "plt.stem( freq, np.abs(ab))\n",
    "plt.xlim([-2  , 100])\n",
    "plt.ylim([-0.1, 4.7])\n",
    "plt.ylabel('abs')\n",
    "plt.xlabel('freq/Hz')\n",
    "plt.grid()\n",
    "plt.show()\n"
   ]
  },
  {
   "cell_type": "markdown",
   "metadata": {},
   "source": [
    "## Metodo de los trapecios \n",
    "\n",
    "El metodo de los trapecios permite calcular las componentes de Fourier de forma aproximada empleando un muestreo discreto.\n",
    "\n",
    "Este metodo emplea trapecios para estimar el area de calculada por la integral en las componentes de Fourier. \n",
    "\n",
    "\n",
    "$f(t) = {a_0} + \\sum_{n=1}^\\infty\\left(a_n\\cos\\left( \\frac{2\\pi}{T}\\cdot  n \\cdot t \\right) + b_n\\sin \\left( \\frac{2\\pi}{T} \\cdot  n \\cdot t \\right) \\right)$\n",
    "\n",
    "\n",
    "siendo:\n",
    "\n",
    "$ a_0 = \\frac{1}{T} \\sum_{i=\\frac{-N}{2}}^{\\frac{N}{2}-1} f(T_s \\cdot i) \\cdot T_s $\n",
    "\n",
    "$ a_n = \\frac{2}{T} \\sum_{i=\\frac{-N}{2}}^{\\frac{N}{2}-1}  f(T_s \\cdot i) \\cdot \\cos{(\\frac{2\\cdot \\pi }{T} \\cdot n \\cdot T_s \\cdot i )} \\cdot T_s $ \n",
    "\n",
    "$ b_n = \\frac{2}{T} \\sum_{i=\\frac{-N}{2}}^{\\frac{N}{2}-1}  f(T_s \\cdot i) \\cdot \\sin{(\\frac{2\\cdot \\pi }{T} \\cdot n \\cdot T_s \\cdot i )} \\cdot T_s $ \n",
    "\n",
    "donde:\n",
    "$ T   $ es el periodo de la señal, $ T_s $ es el periodo del muestreo y $ N = \\frac{T}{T_s} $\n",
    "\n",
    "Si $N = 24$  resulta entonces (valido para una función par):\n",
    "\n",
    "$ a_0 = \\frac{1}{12} \\sum_{i=0}^{\\frac{N}{2}-1} f(T_s \\cdot i) =  \\frac{1}{12} ( \\frac{A+B}{2} + \\frac{B+C}{2} + \\frac{C+D}{2}+ \\frac{D+E}{2}+ \\frac{E+F}{2}+ \\frac{F+G}{2}+ \\frac{G+H}{2} + \\frac{H+I}{2}+ \\frac{I+J}{2}+ \\frac{J+K}{2} )   $\n",
    "\n",
    "$ a_0 = \\frac{1}{12} ( \\frac{A}{2} + B + C + D +E+ F  + G + H + I + J + \\frac{K}{2})   $\n",
    "\n",
    "\n",
    "$ a_n = \\frac{1}{6} \\sum_{i=0}^{\\frac{N}{2}-1}  f(T_s \\cdot i) \\cdot \\cos{(\\frac{2\\cdot \\pi }{24} \\cdot i \\cdot n )} $ \n",
    "\n",
    "$ a_n =  \\frac{1}{6} ( \\frac{A}{2}  + B \\cos{\\frac{\\pi }{12}}+ C \\cos{\\frac{2\\cdot \\pi }{12}}+ D\\cos{\\frac{3\\cdot \\pi }{12}}+ E\\cos{\\frac{4\\cdot \\pi }{12}} + F \\cos{\\frac{ \\cdot \\pi  }{12}}+ G \\cos{ \\frac{ \\cdot \\pi }{12}}+ H \\cos{\\frac{7 \\cdot \\pi }{12}}+ I \\cos{\\frac{8\\cdot \\pi }{12}}+ J \\cos{\\frac{9\\cdot \\pi }{12}}+ \\frac{K}{2}\\cos{\\frac{10\\cdot \\pi }{12}} )  $\n",
    "\n",
    "\n",
    "$ b_n = 0 $ \n",
    "\n"
   ]
  },
  {
   "cell_type": "code",
   "execution_count": 2,
   "metadata": {},
   "outputs": [
    {
     "data": {
      "image/png": "[encoded data removed]",
      "text/plain": [
       "<Figure size 432x288 with 1 Axes>"
      ]
     },
     "metadata": {
      "needs_background": "light"
     },
     "output_type": "display_data"
    }
   ],
   "source": [
    "# senal pulso coseno de frecuencia 100 Hz, muestrea a 100e3 Sps (muestras por segundo). \n",
    "# En este caso N es 24 \n",
    "# defino el sampleo\n",
    "fs = fm*24 #Sps \n",
    "\n",
    "# Defino el vector de tiempo del muestreo\n",
    "time  = np.arange(-T/2, T/2, 1/fs)\n",
    "\n",
    "# Señal coseno\n",
    "Sm   = [Ac*np.cos(2*np.pi*fm*t) for t in time] \n",
    "# Señal Pulso de coseno\n",
    "Sm   = [s if s > 0 else 0  for s in Sm] \n",
    "\n",
    "# Defino el vector \n",
    "myPoint  = [ 'A','B','C','D','E','F','G','H','I','J','K']\n",
    "\n",
    "plt.plot(time, Sm)\n",
    "plt.plot(time, Sm, 'ro')\n",
    "for i, mp in enumerate(myPoint):\n",
    "    plt.text(time[i+12], Sm[i+12] +0.02, mp, fontsize=12)\n",
    "    plt.fill_between(time[i+12:i+14], 0, (Sm[i+12] + Sm[i+13] )/2 )\n",
    "plt.ylim([-0.2,Ac*1.2])\n",
    "plt.show()"
   ]
  },
  {
   "cell_type": "code",
   "execution_count": null,
   "metadata": {},
   "outputs": [],
   "source": []
  }
 ],
 "metadata": {
  "kernelspec": {
   "display_name": "Python 3",
   "language": "python",
   "name": "python3"
  },
  "language_info": {
   "codemirror_mode": {
    "name": "ipython",
    "version": 3
   },
   "file_extension": ".py",
   "mimetype": "text/x-python",
   "name": "python",
   "nbconvert_exporter": "python",
   "pygments_lexer": "ipython3",
   "version": "3.7.0"
  },
  "latex_envs": {
   "LaTeX_envs_menu_present": true,
   "autoclose": false,
   "autocomplete": true,
   "bibliofile": "biblio.bib",
   "cite_by": "apalike",
   "current_citInitial": 1,
   "eqLabelWithNumbers": true,
   "eqNumInitial": 1,
   "hotkeys": {
    "equation": "Ctrl-E",
    "itemize": "Ctrl-I"
   },
   "labels_anchors": false,
   "latex_user_defs": false,
   "report_style_numbering": false,
   "user_envs_cfg": false
  }
 },
 "nbformat": 4,
 "nbformat_minor": 2
}

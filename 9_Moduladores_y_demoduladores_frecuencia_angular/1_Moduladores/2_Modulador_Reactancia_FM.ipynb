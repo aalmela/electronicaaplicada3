{
 "cells": [
  {
   "cell_type": "markdown",
   "metadata": {},
   "source": [
    "# Modulador de reactancia de FM.\n",
    " \n",
    "    \n",
    "La figura  muestra un diagrama esquemático para un modulador de reactancia usando un JFET como el dispositivo activo. \n",
    "\n",
    "![ex 2.13](fig/FETreactancia.png)\n",
    "\n",
    "Esta configuración del circuito se llama modulador de reactancia porque el JFET observa como una carga de reactancia variable al circuito tanque $LC$. \n",
    "La señal modulante varía en la reactancia de $Q_1$, lo cual causa un cambio correspondiente en la frecuencia resonante del circuito tanque del oscilador.\n",
    "El capacitor $C$ que está en serie con el resistor $R$ de compuerta, tiene un valor muy pequeño de manera tal\n",
    "que su reactancia sea muy grande con respecto a $R$. \n",
    "Como la corriente de drenaje es directamente proporcional a la tensión de compuerta, está en fase con ella. \n",
    "La tensión en $R$ es prácticamente toda la tensión de drenaje y por ser resistivas las ramas de $R$ y del tanque en resonancia, la corriente a través de $R$ está en fase con la tensión. \n",
    "La corriente a través de $C$, en cambio, adelanta $90$ con respecto a esa tensión, con lo que la corriente de drenaje de RF quedará en fase con la tensión de compuerta, pero atrasará $90$ respecto de la corriente en C.\n",
    "\n",
    "En resumen, la tensión de drenaje se encuentra $90$ desfasada con la corriente de drenaje, por lo que el JFET\n",
    "visto desde la carga, se comporta como un capacitor.\n",
    "\n",
    "La figura muestra el circuito de C.A. equivalente. Las resistencias $R_1$, $R_2$, $R_e$ y $R_c$ proporcionan\n",
    "la polarización en C.C. para Q1. \n",
    "\n",
    "$R_e$ se evita por CC y es, por lo tanto, omitida del circuito de C.A. equivalente. \n",
    "La operación del circuito es de la siguiente manera. \n",
    "\n",
    "Asumiendo un JFET ideal (la corriente de compuerta (gate) $i_g = 0$) en donde $g_m$ es la transconductancia del JFET.\n",
    "\n",
    "\n",
    "\n"
   ]
  },
  {
   "cell_type": "markdown",
   "metadata": {},
   "source": [
    "Para el calculo de la admitancia de entrada $Y_i$\n",
    "\n",
    "Del circuito C.A. podemos plantear\n",
    "\n",
    "$$i_1 = v_i \\cdot \\frac{1}{(R+\\frac{1}{S C})}$$\n",
    "\n",
    "$$i_2 = g_m \\cdot v_m$$\n",
    "\n",
    "$$v_m = i_1 \\cdot R$$\n",
    "\n",
    "Entonces\n",
    "\n",
    "$$v_m = v_i \\cdot \\frac{1}{(R+\\frac{1}{S C})} \\cdot R$$\n",
    "\n",
    "\n",
    "Por lo tanto, $i_2$\n",
    "\n",
    "$$i_2 = g_m \\cdot v_i \\cdot \\frac{R}{(R+\\frac{1}{S C})}$$\n",
    "\n",
    "La corriente $i_i$ entonces\n",
    "\n",
    "$$i_i = i_1 + i_2 = v_i \\cdot \\frac{1}{(R+\\frac{1}{S C})} + g_m \\cdot v_i \\cdot \\frac{R}{(R+\\frac{1}{S C})}$$\n",
    "\n",
    "\n",
    "La admintacia de entrada $Y_i$ es \n",
    "\n",
    "$$Y_i = \\frac{i_i}{v_i} =  \\frac{1}{(R+\\frac{1}{S C})} + g_m \\cdot \\frac{R}{(R+\\frac{1}{S C})}$$\n",
    "\n",
    "$$Y_i =   \\frac{1 + g_m R }{(R+\\frac{1}{S C})}$$\n",
    "\n",
    "\n",
    "$$Y_i =   \\frac{SC \\cdot (1 + g_m R) }{(SC R+1)}$$\n",
    "\n",
    "Remplazando $S = j\\omega$\n",
    "\n",
    "$$Y_i =   \\frac{j\\omega C \\cdot (1 + g_m R) }{( j\\omega C R+1)}$$\n",
    "\n",
    "\n",
    "Si $j\\omega C R << 1$\n",
    "\n",
    "$$Y_i =   j\\omega C \\cdot (1 + g_m R)$$\n",
    "\n",
    "Así se consigue engañar al oscilador haciéndolo ver un capacitor cuyo valor de capacidad varía según la transconductancia gm del transistor.\n",
    "\n",
    "La transconductancia se varía obviamente moviendo el punto de polarización. \n",
    "\n",
    "\n"
   ]
  },
  {
   "cell_type": "markdown",
   "metadata": {},
   "source": [
    "# Ejemplo\n",
    "\n",
    "El circuito de la figura muestra un modulador de frecuencia directo realizado con un circuito JFET de reactancia; a través del switch A el mismo está conectado a un oscilador Colpitts.\n",
    "\n",
    "\n",
    "![ex 2.13](fig/reactancia.png)\n",
    "\n",
    "\n",
    "Con la llave A abierta la frecuencia del oscilador está dada por:\n",
    "$W_o^2 = \\frac{(C1 + C2)}{ L.C_1.C_2}$\n",
    "\n",
    "Con la llave A cerrada el oscilador entrega al modulador una tensión senoidal pura de valor $V_o = 1 V_{pp}$\n",
    "  \n",
    "$C_1 = C_2= 47 pF$\n",
    "\n",
    "El FET de reactancia presenta una Capacidad Equivalente  $C_e = C( 1 + {gm}.R)$\n",
    "\n",
    "La corriente de drain del FET responde a  $ i_D = I_{DSS}(1-\\frac {V_{gs}} {V_{c}} )^2$  y está trabajando con una $I_{do} = 6 mA$    $ I_{dss} = 12 mA$     $ V_c = -3 V$\n",
    "\n",
    "\n",
    "Los $C_A$ son cortocircuito a todas las frecuencias de interés.\n",
    "$L_{CH}$ es un circuito abierto a todas las frecuencias de interés.\n",
    "\n",
    "\n",
    "La señal modulante (A la entrada del trafo) es una senoide de audio de $1 KHz$ y $0,1 V_{pico}$\n",
    "\n",
    "El trafo del modulador tiene relación de transformación igual a 1 ($\\frac{N1}{N2}=1$), es plano en la banda de audio  con frecuencias de corte en $300 Hz$ y $3 KHz$. \n",
    "\n",
    "\n",
    "A partir de la frecuencia de corte superior la transferencia cae $6 dB$ por octava hasta $10 KHz$, a partir de allí la transferencia es nula\n",
    "\n",
    "\n",
    "\n",
    "Determinar:\n",
    "\n",
    "1. $R_{e1}$ y $C_{A1}$\n",
    "2.  Inductancia del ${L}_{CH}$\n",
    "3. $F_o$ con la llave A cerrada y $V_{mod}=0$\n",
    "4. $V_{mod pico}$ (Secundario del trafo) para producir un  $\\Delta f = 5 KHz$ \n",
    "5. La señal modulante (A la entrada del trafo) se cambia por una senoide de audio de $300 Hz$ y $0,02V$. ¿Cuánto vale el nuevo $\\Delta f$?\n",
    "6. La señal modulante (A la entrada del trafo) se cambia por una onda cuadrada pura de $0,1 V_{pico}$ y frecuencia fundamental  $3 KHz$. ¿Cuánto vale el nuevo $\\Delta f$ máximo?\n",
    "\n"
   ]
  },
  {
   "cell_type": "code",
   "execution_count": 4,
   "metadata": {},
   "outputs": [],
   "source": [
    "import numpy as np\n",
    "import matplotlib.pyplot as plt\n",
    "import scipy                  # http://scipy.org/\n",
    "from scipy import signal\n",
    "\n",
    "from scipy.fftpack import fft, fftfreq\n",
    "from time import time\n",
    "\n",
    "from IPython.display import Image  \n",
    "#%matplotlib inline\n",
    "%matplotlib notebook\n",
    "params = {'legend.fontsize': 14,\n",
    "          'figure.figsize': (8, 8),\n",
    "         'axes.labelsize': 14,\n",
    "         'axes.titlesize': 14,\n",
    "         'xtick.labelsize':14,\n",
    "         'ytick.labelsize':14}\n",
    "\n",
    "plt.rcParams.update(params) "
   ]
  },
  {
   "cell_type": "markdown",
   "metadata": {},
   "source": [
    "### 1. $R_{e1}$ y $C_{A1}$\n"
   ]
  },
  {
   "cell_type": "code",
   "execution_count": 5,
   "metadata": {},
   "outputs": [
    {
     "name": "stdout",
     "output_type": "stream",
     "text": [
      "vgs= -0.879 V\n",
      "Vs= 0.879 V\n",
      "Re= 146.447 ohm\n",
      " \n",
      "fo= 146.825 MHz\n",
      "Ca= 10867.779 pF\n",
      "Xca @146.83MHz= 0.100 ohm\n"
     ]
    }
   ],
   "source": [
    "# Calculo de Re\n",
    "# Datos\n",
    "#FET\n",
    "Ids  = 6e-3\n",
    "Idss = 12e-3\n",
    "Vp   = -3\n",
    "Vg   =  0\n",
    "\n",
    "\n",
    "# FET\n",
    "Vgs = Vp*(1 - (Ids/Idss)**.5)\n",
    "print('vgs= {:1.3f} V'.format(Vgs))\n",
    "\n",
    "Vs  = Vg - Vgs\n",
    "print('Vs= {:1.3f} V'.format(Vs))\n",
    "\n",
    "Re = Vs/Ids\n",
    "print('Re= {:1.3f} ohm'.format(Re))\n",
    "\n",
    "\n",
    "print(' ')\n",
    "#Calculo  Ca\n",
    "# Ca tiene que ser cortocircuito para RF (Xca @ 150MHz =  0) y abierto para modulante (Xca @ 1KHz >>  Re)\n",
    "\n",
    "# Calculo de fo\n",
    "# Datos\n",
    "L = 50e-9\n",
    "C1 = 47e-12\n",
    "C2 = 47e-12\n",
    "fm = 1e3\n",
    "\n",
    "# Calculo fo (RF)\n",
    "C = C1*C2/(C1+C2)\n",
    "fo = 1/(2*np.pi*(L*C)**.5)\n",
    "print('fo= {:1.3f} MHz'.format(fo/1e6))\n",
    "\n",
    "\n",
    "# Xca = 1/(jw*C)\n",
    "# Si Xca @1KHz = Re*10\n",
    "Xca = 100*Re\n",
    "Ca  = 1/(2*np.pi*fm*Xca)\n",
    "print('Ca= {:1.3f} pF'.format(Ca/1e-12))\n",
    "\n",
    "# verifindo el comportamiento a 150MHz\n",
    "Xca  = 1/(2*np.pi*fo*Ca)\n",
    "print('Xca @{:1.2f}MHz= {:1.3f} ohm'.format(fo/1e6,Xca))"
   ]
  },
  {
   "cell_type": "markdown",
   "metadata": {},
   "source": [
    "## 2.  Inductancia del ${L}_{CH}$\n"
   ]
  },
  {
   "cell_type": "code",
   "execution_count": 6,
   "metadata": {},
   "outputs": [
    {
     "name": "stdout",
     "output_type": "stream",
     "text": [
      "Lch = 159.155 uHy\n",
      "XLch @146.83MHz= 146.825 Kohm\n",
      "XLch @1000.00Hz= 1.000 ohm\n"
     ]
    }
   ],
   "source": [
    "# Lch\n",
    "# Inductancia tiene que ser circuito abierto para RF (Xca @ 150MHz =  0) y un cortocircuito para la modulante\n",
    "# XLch = (jw*L)\n",
    "XLch = 1 #ohms\n",
    "Lch  = XLch/(2*np.pi*fm)\n",
    "print('Lch = {:1.3f} uHy'.format(Lch/1e-6))\n",
    "\n",
    "# verifindo el comportamiento a 150MHz\n",
    "XLch  = 2*np.pi*fo*Lch\n",
    "print('XLch @{:1.2f}MHz= {:1.3f} Kohm'.format(fo/1e6,XLch/1e3))\n",
    "XLch  = 2*np.pi*fm*Lch\n",
    "print('XLch @{:1.2f}Hz= {:1.3f} ohm'.format(fm,XLch))"
   ]
  },
  {
   "cell_type": "markdown",
   "metadata": {},
   "source": [
    "## 3. $F_o$ con la llave A cerrada y $V_{mod}=0$\n"
   ]
  },
  {
   "cell_type": "code",
   "execution_count": 7,
   "metadata": {},
   "outputs": [
    {
     "name": "stdout",
     "output_type": "stream",
     "text": [
      "gm= 5.657 mS\n",
      "Cin= 1.124 pF\n",
      "fo= 145.965 MHz\n"
     ]
    }
   ],
   "source": [
    "# Fo llave cerrada.\n",
    "# Datos\n",
    "C = 1e-12\n",
    "R = 22\n",
    "\n",
    "# Cin = C *(1 + gm*R)\n",
    "# Se necesita conocer gm, para un FET cuadratico gm = -2 * Idss/Vp * (1 - Vgs/Vp)\n",
    "gm = -2 * Idss/Vp * (1 - Vgs/Vp)\n",
    "print('gm= {:1.3f} mS'.format(gm/1e-3))\n",
    "\n",
    "\n",
    "Cin =  C *(1 + gm*R)\n",
    "print('Cin= {:1.3f} pF'.format(Cin/1e-12))\n",
    "\n",
    "# Calculo fo (RF)\n",
    "C1p = C1+Cin\n",
    "C   = C1p*C2/(C1p+C2)\n",
    "fo  = 1/(2*np.pi*(L*C)**.5)\n",
    "print('fo= {:1.3f} MHz'.format(fo/1e6))\n"
   ]
  },
  {
   "cell_type": "markdown",
   "metadata": {},
   "source": [
    "## 4. $V_{mod pico}$ (Secundario del trafo) para producir un  $\\Delta f = 5 KHz$ \n"
   ]
  },
  {
   "cell_type": "markdown",
   "metadata": {},
   "source": [
    "# Buscamos la relación entre la variación de $v_{mod}$ y $f_o$\n",
    "\n",
    "\n",
    "Planteamos las ecuaciones\n",
    "\n",
    "Relación entre $v_{gs}$ y $v_{mod}$\n",
    "\n",
    "$$v_{gs} = v_{g} - (v_{s} + v_{mod})$$\n",
    "\n",
    "\n",
    "$$v_{gsm} = v_{gs} -  v_{mod}$$\n",
    "\n",
    "\n",
    "Relación entre   $v_{gsm}$ y $g_m$ \n",
    "\n",
    "$$v_{gsm} = V_p (1 + \\frac{g_m V_p}{2 Idss})$$\n",
    "\n",
    "\n",
    "\n",
    "Relación entre $g_m$ y $C_{in}$\n",
    "\n",
    "$$gm = \\frac{C_{in} - C}{C \\cdot R}$$\n",
    "\n",
    "\n",
    "\n",
    "Relación $C_{in}$ y $C_{1p}$\n",
    "\n",
    "$$C_{in} = C_{1p} - C_1$$\n",
    "\n",
    "\n",
    "\n",
    "Relación entre $C_{1p}$ y $C$\n",
    "\n",
    "$$C = \\frac{C_{1p} \\cdot C_2}{C_{1p} + C_2}$$\n",
    "\n",
    "\n",
    "\n",
    "Relación entre $f_o$ y $C$\n",
    "\n",
    "$$f_o = \\frac{1}{2 \\pi \\sqrt{L C}}$$\n",
    "\n",
    "\n",
    "\n",
    "Por lo tanto, las variaciones de $C$ modifican $f_o$\n",
    "\n",
    "$$\\Delta f_o = \\frac{d f_o}{d C} \\Delta C =  - \\frac{1}{4 \\pi \\sqrt{L}} \\cdot C^{-\\frac{3}{2}} \\Delta C$$\n",
    "\n",
    "\n",
    "Luego\n",
    "\n",
    "$$\\frac{\\Delta f_o}{f_o} =  \\frac{- \\frac{1}{4 \\pi \\sqrt{L C^3}} }{\\frac{1}{2 \\pi \\sqrt{L C}}} \\Delta C = -\\frac{1}{2} \\frac{\\Delta C}{C}$$\n",
    "\n",
    "\n",
    "\n",
    "Expresión que vincula la variación relativa de frecuencia con la variación relativa de capacidad.\n",
    " \n",
    " \n",
    "$$\\frac{\\Delta C}{C} = \\frac{C_2}{(C_1 + C_2)} \\frac{\\Delta C_{1p}}{C_{1p}}$$\n",
    "\n",
    "\n",
    "De igual manera podemos calcular las variaciones relativas siguientes\n",
    "\n",
    "\n",
    "$$\\frac{\\Delta C_{1p}}{C_{1p}} = \\frac{1}{(1+\\frac{C_{1p}}{C_{in}})} \\frac{\\Delta C_{in}}{C_{in}}$$\n",
    "\n",
    "\n",
    "$$\\frac{\\Delta C_{in}}{C_{in}} = \\frac{R}{(R+\\frac{1}{g_m})} \\frac{\\Delta g_m}{g_{m}}$$\n",
    "\n",
    "$$\\frac{\\Delta g_{m}}{g_{m}} = \\frac{- v_{gs}}{(V_p - v_{gs})} \\frac{\\Delta v_{gs}}{v_{gs}}$$\n",
    "\n"
   ]
  },
  {
   "cell_type": "code",
   "execution_count": 8,
   "metadata": {},
   "outputs": [
    {
     "name": "stdout",
     "output_type": "stream",
     "text": [
      "Df/f = 2.62e-04 x Dvgs/vgs\n",
      "Dvgs = -0.12 V\n"
     ]
    }
   ],
   "source": [
    "# Se busca una variacion de 5KHz\n",
    "\n",
    "# Datos\n",
    "df = 5e3\n",
    "Vm = 0.1\n",
    "\n",
    "# Calculos\n",
    "\n",
    "RfC   = -1/2\n",
    "\n",
    "RCC1  = C2/(C1+C2)\n",
    "\n",
    "C1p = C1 + Cin\n",
    "\n",
    "RC1Cin = 1/(1+C1p/Cin)\n",
    "\n",
    "RCingm = R/(R+1/gm)\n",
    "\n",
    "Rgmvgs = -Vgs/(Vp-Vgs)\n",
    "\n",
    "\n",
    "rf = RfC * RCC1 * RC1Cin * RCingm * Rgmvgs  \n",
    "\n",
    "\n",
    "print('Df/f = {:1.2e} x Dvgs/vgs'.format(rf))\n",
    "\n",
    "Df   = 5e3\n",
    "\n",
    "Dvgs = Df/fo*Vgs/rf\n",
    "\n",
    "print('Dvgs = {:1.2f} V'.format(Dvgs))"
   ]
  },
  {
   "cell_type": "markdown",
   "metadata": {},
   "source": [
    "## 5. La señal modulante (A la entrada del trafo) se cambia por una senoide de audio de $300 Hz$ y $0,02V$. ¿Cuánto vale el nuevo $\\Delta f$?\n"
   ]
  },
  {
   "cell_type": "code",
   "execution_count": 7,
   "metadata": {},
   "outputs": [
    {
     "name": "stdout",
     "output_type": "stream",
     "text": [
      "Df = -614.75 Hz\n"
     ]
    }
   ],
   "source": [
    "Dvgs = 0.02/2**.5\n",
    "\n",
    "Df   = rf*Dvgs/Vgs*fo\n",
    "\n",
    "print('Df = {:1.2f} Hz'.format(Df))\n",
    "\n"
   ]
  },
  {
   "cell_type": "markdown",
   "metadata": {},
   "source": [
    "## 6. La señal modulante (A la entrada del trafo) se cambia por una onda cuadrada pura de $0,1 V_{pico}$ y frecuencia fundamental  $3 KHz$. ¿Cuánto vale el nuevo $\\Delta f$ máximo?"
   ]
  },
  {
   "cell_type": "code",
   "execution_count": 8,
   "metadata": {},
   "outputs": [
    {
     "data": {
      "image/png": "[encoded data removed]",
      "text/plain": [
       "<Figure size 432x288 with 1 Axes>"
      ]
     },
     "metadata": {
      "needs_background": "light"
     },
     "output_type": "display_data"
    },
    {
     "data": {
      "image/png": "[encoded data removed]",
      "text/plain": [
       "<Figure size 432x288 with 1 Axes>"
      ]
     },
     "metadata": {
      "needs_background": "light"
     },
     "output_type": "display_data"
    },
    {
     "name": "stdout",
     "output_type": "stream",
     "text": [
      "DVgs = 0.08 V\n",
      "Df = -3388.43 Hz\n"
     ]
    }
   ],
   "source": [
    "# en frecuencia la tensión Vgs cuadrada\n",
    "# entrada del TRAFO\n",
    "Vgs3k = 4*0.1/np.pi\n",
    "Vgs9k = 4*0.1/np.pi/3\n",
    "\n",
    "# Plot\n",
    "t = np.arange(0,4,0.01)\n",
    "\n",
    "s1 =  Vgs3k*np.sin(2*np.pi*t)\n",
    "s3 =  Vgs9k*np.sin(2*np.pi*3*t)\n",
    "plt.plot(t,s1, 'g--')\n",
    "plt.plot(t,s3, 'b--')\n",
    "plt.plot(t,s1+s3, 'r-')\n",
    "plt.show()\n",
    "\n",
    "#Secundario TRAFO\n",
    "Vgs3ks = Vgs3k/2**0.5\n",
    "Vgs9ks = Vgs9k/10**(6*1.5/20)\n",
    "\n",
    "s1 =  Vgs3ks*np.sin(2*np.pi*t)\n",
    "s3 =  Vgs9ks*np.sin(2*np.pi*3*t)\n",
    "plt.plot(t,s1, 'g--')\n",
    "plt.plot(t,s3, 'b--')\n",
    "plt.plot(t,s1+s3, 'r-')\n",
    "plt.show()\n",
    "\n",
    "Dvgs = max(s1+s3)\n",
    "\n",
    "\n",
    "print('DVgs = {:1.2f} V'.format(Dvgs))\n",
    "\n",
    "Df   = rf*Dvgs/Vgs*fo\n",
    "\n",
    "print('Df = {:1.2f} Hz'.format(Df))"
   ]
  },
  {
   "cell_type": "code",
   "execution_count": null,
   "metadata": {},
   "outputs": [],
   "source": []
  }
 ],
 "metadata": {
  "kernelspec": {
   "display_name": "Python 3",
   "language": "python",
   "name": "python3"
  },
  "language_info": {
   "codemirror_mode": {
    "name": "ipython",
    "version": 3
   },
   "file_extension": ".py",
   "mimetype": "text/x-python",
   "name": "python",
   "nbconvert_exporter": "python",
   "pygments_lexer": "ipython3",
   "version": "3.8.8"
  }
 },
 "nbformat": 4,
 "nbformat_minor": 2
}

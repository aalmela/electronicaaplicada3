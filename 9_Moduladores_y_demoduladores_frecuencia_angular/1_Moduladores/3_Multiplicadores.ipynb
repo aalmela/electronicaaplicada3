{
 "cells": [
  {
   "cell_type": "markdown",
   "metadata": {},
   "source": [
    "# Multiplicadores\n",
    "\n",
    "Los multiplicadores de frecuencia son amplificadores de Clase C con el circuito de salida sintonizado con una armónica de la frecuencia de entrada. \n",
    "Los duplicadores y los triplicadores son los tipos más comunes de multiplicadores de frecuencia, aunque es posible mayor multiplicación a expensas de reducir la eficiencia.\n",
    "Los multiplicadores de frecuencia son útiles en particular en los transmisores de FM, porque multiplican la desviación de una señal de FM por el mismo factor que la frecuencia portadora. \n",
    "\n",
    "\n",
    "Primero suponga que una portadora no modulada con frecuencia $f_c$ se aplica en la entrada de un circuito que multiplica la frecuencia por $N$. \n",
    "Entonces, la frecuencia de la señal de salida es $f_o = N \\cdot f_c$. \n",
    "Ahora suponga que debido a la modulación, la frecuencia de la entrada se modifica a $(f_c+ 8)$. \n",
    "La señal de salida tendrá una frecuencia de la cual corresponde a una portadora de $N$ veces la frecuencia original de la portadora, con una desviación de frecuencia $N$ veces la desviación original. \n",
    "\n",
    "Por consiguiente, un multiplicador de frecuencia es capaz de incrementar lo necesario a la desviación obtenida en el modulador.\n",
    "\n",
    "Por ejemplo, un transmisor de FM directa tiene un modulador con varactor con $k_f= 2 kHz/V$ y una desviación máxima de $300 Hz$. Se desea una frecuencia de portadora de $f_c = 150MHz$ \n",
    "A este modulador le sigue un regulador separado y tres etapas de multiplicación de frecuencia: un triplicador, un duplicador y otro triplicador y luego, sigue un amplificador de potencia.\n",
    "\n",
    "![ex 2.13](fig/multiplicadores.png)\n",
    "\n",
    "El transmisor propuesto tiene una multiplicación en frecuencia total de $N = 3 \\times 2 \\times 3 = 18$.  \n",
    "\n",
    "La desviación máxima del modulador FM entonces\n",
    "\n",
    "$$ \\delta_{mod} = \\frac{\\delta_{total}}{N} = \\frac{5 KHz}{18} = 278 Hz$$\n",
    "\n",
    "La frecuencia del oscilador \n",
    "\n",
    "$$ f_{osc} = \\frac{f_{c}}{N} = \\frac{150 MHz}{18} = 8.33 MHz$$\n",
    "\n",
    "\n",
    "El voltaje de audio se requiere en la entrada del modulador para lograr una desviación completa se calcula como\n",
    "\n",
    "$$ k_{f} = \\frac{\\delta_{osc}}{V_i}$$\n",
    "\n",
    "$$ V_i = \\frac{278 Hz}{2 kHz/V} = 0.139 V$$\n",
    "\n",
    "\n"
   ]
  },
  {
   "cell_type": "markdown",
   "metadata": {},
   "source": [
    "# Multiplicadores y mezcladores\n",
    "\n",
    "Por medio del proceso de mezcla es posible cambiar la frecuencia de la portadora a cualquier valor, pero esto no tiene efecto en la desviación. \n",
    "\n",
    "Sea $(f_c+ \\delta)$ la frecuencia de entrada al mezclador y sea $f_{LO}$ la frecuencia de mezcla, proporcionada por un oscilador local. \n",
    "\n",
    "El mezclador producirá las frecuencias de suma y diferencia, pero en este caso, la que se usa es la diferencia, puesto que la finalidad es reducir la frecuencia portadora.\n",
    "\n",
    "Aquí hay dos posibilidades, que dependen de cuál frecuencia es más alta. \n",
    "Si la frecuencia portadora es más alta que la frecuencia del oscilador local, la salida es\n",
    "\n",
    "$$f_o = (f_c + \\delta) - f_{LO} = (f_c - f_{LO} ) + \\delta  $$\n",
    "\n",
    "En cambio, si la frecuencia del oscilador local es mayor\n",
    "\n",
    "$$f_o = f_{LO} - (f_c + \\delta)   = (f_{LO} - f_c) - \\delta  $$\n",
    "\n",
    "El cambio de signo en $\\delta$ tiene que ver con el espectro en frecuencia. \n",
    "\n",
    "\n",
    "Para el transmisor de la figura, calcule la desviación de la frecuencia requerida del oscilador si se necesita una desviación de frecuencia de salida $\\delta = 75 kHz$.\n",
    "\n",
    "![ex 2.13](fig/multiplicadoresmix.png)\n",
    "\n",
    "En este transmisor, la frecuencia de un oscilador modulado que funciona a $f_c = 5 MHz$ está multiplicada por $N= 18$,justo como en el ejemplo anterior. \n",
    "\n",
    "Luego, la señal vuelve a mezclarse para tener $f_c =5 MHz$ y se multiplica de nuevo por $N=18$.\n",
    "\n",
    "La desviación se multiplicó por $\\delta = 18 \\times 18 = 324$. \n",
    "\n",
    "Una desviación de $75 kHz$ en la salida requeriría que la frecuencia del oscilador se desviara sólo $\\delta_t = \\frac{75 kHz}{324} = 232 Hz$.\n"
   ]
  },
  {
   "cell_type": "code",
   "execution_count": null,
   "metadata": {},
   "outputs": [],
   "source": []
  }
 ],
 "metadata": {
  "kernelspec": {
   "display_name": "Python 3",
   "language": "python",
   "name": "python3"
  },
  "language_info": {
   "codemirror_mode": {
    "name": "ipython",
    "version": 3
   },
   "file_extension": ".py",
   "mimetype": "text/x-python",
   "name": "python",
   "nbconvert_exporter": "python",
   "pygments_lexer": "ipython3",
   "version": "3.8.8"
  }
 },
 "nbformat": 4,
 "nbformat_minor": 2
}

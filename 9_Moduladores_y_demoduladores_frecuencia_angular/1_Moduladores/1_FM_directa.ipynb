{
 "cells": [
  {
   "cell_type": "markdown",
   "metadata": {},
   "source": [
    "# Modulador FM directa\n",
    "\n",
    "En la FM directa se requiere que la frecuencia del oscilador de portadora varíe en forma correspondiente con la \n",
    "amplitud instantánea de la señal modulante. \n",
    "\n",
    "Con la FM directa, la desviación de frecuencia instantánea es directamente proporcional a la amplitud de la señal modulante. \n",
    "\n",
    "La figura muestra un diagrama esquemático para un generador de FM simple y directo. \n",
    "\n",
    "El circuito tanque formado por $L$ y $C$ determina la frecuencia para un oscilador estándar. \n",
    "\n",
    "Conforme el capacitor $C_m$ varía, la frecuencia de resonancia varía. \n",
    "Por lo tanto, la frecuencia de salida del oscilador varíadirectamente con la capacidad. \n",
    "\n",
    "Este circuito es de FM directa porque la frecuencia del oscilador se cambia directamente por la señal modulante y la magnitud del cambio de frecuencia es proporcional a la amplitud del voltajede la señal modulante.\n",
    "\n",
    "\n",
    "![ex 2.13](fig/FMdirectaLC.png)\n",
    "\n",
    "\n",
    "Del circuito de la figura\n",
    "\n",
    "$$f_o = \\frac{1}{2 \\pi \\sqrt{L C}}$$\n",
    "\n",
    "Por lo tanto, las variaciones de $C$ modifican $f_o$\n",
    "\n",
    "$$\\Delta f_o = \\frac{\\partial f_o}{\\partial C} \\Delta C =  - \\frac{1}{4 \\pi \\sqrt{L}} \\cdot C^{-\\frac{3}{2}} \\Delta C$$\n",
    "\n",
    "\n",
    "Luego\n",
    "\n",
    "$$\\frac{\\Delta f_o}{f_o} =  \\frac{- \\frac{1}{4 \\pi \\sqrt{L C^3}} }{\\frac{1}{2 \\pi \\sqrt{L C}}} \\Delta C = -\\frac{1}{2} \\frac{\\Delta C}{C}$$\n",
    "\n",
    " Expresión que vincula la variación relativa de frecuencia con la variación relativa de capacidad.\n",
    " \n",
    "\n",
    "\n"
   ]
  },
  {
   "cell_type": "code",
   "execution_count": 4,
   "metadata": {},
   "outputs": [],
   "source": [
    "import numpy as np\n",
    "import matplotlib.pyplot as plt\n",
    "import scipy                  # http://scipy.org/\n",
    "from scipy import signal\n",
    "\n",
    "from scipy.fftpack import fft, fftfreq\n",
    "from time import time\n",
    "\n",
    "from IPython.display import Image  \n",
    "#%matplotlib inline\n",
    "%matplotlib notebook\n",
    "params = {'legend.fontsize': 14,\n",
    "          'figure.figsize': (8, 8),\n",
    "         'axes.labelsize': 14,\n",
    "         'axes.titlesize': 14,\n",
    "         'xtick.labelsize':14,\n",
    "         'ytick.labelsize':14}\n",
    "\n",
    "plt.rcParams.update(params) "
   ]
  },
  {
   "cell_type": "code",
   "execution_count": 5,
   "metadata": {},
   "outputs": [
    {
     "name": "stdout",
     "output_type": "stream",
     "text": [
      "f = 1.59e+08 Hz\n"
     ]
    },
    {
     "data": {
      "text/plain": [
       "[<matplotlib.lines.Line2D at 0x7f6136f73160>]"
      ]
     },
     "execution_count": 5,
     "metadata": {},
     "output_type": "execute_result"
    },
    {
     "data": {
      "image/png": "[encoded data removed]",
      "text/plain": [
       "<Figure size 432x288 with 1 Axes>"
      ]
     },
     "metadata": {
      "needs_background": "light"
     },
     "output_type": "display_data"
    }
   ],
   "source": [
    "# Ejemplo\n",
    "\n",
    "L = 100e-9\n",
    "C = 10e-12\n",
    "\n",
    "def freq(L,C):\n",
    "    return 1/(2 * np.pi * (L*C)**.5)\n",
    "\n",
    "f = freq(L,C)\n",
    "print('f = {:1.2e} Hz'.format(f))\n",
    "\n",
    "\n",
    "Cm = np.arange(0,1e-12,0.1e-12)\n",
    "\n",
    "plt.plot(Cm, freq(L,C+Cm))"
   ]
  },
  {
   "cell_type": "markdown",
   "metadata": {},
   "source": [
    "# FM directa usando un oscilador Clapps \n",
    "\n",
    "La manera más simple de lograrlo es usando un modulador de reactancia. \n",
    "Para su funcionamiento utiliza la señal modulante para modificar una reactancia en el circuito que determina la frecuencia. \n",
    "Una forma simple de construir un modulador de reactancia es instalar un varactor o diodo de reactancia variable dentro del circuito que determina la frecuencia en el oscilador de portadora. \n",
    "\n",
    "![ex 2.13](fig/FMdirectoColpitts.png)\n",
    "\n",
    "En la figura se ilustra un circuitos sencillo que usa un oscilador Clapp.\n",
    "\n",
    "El varactor tiene polarización inversa y ésta varía con la señal modulante.\n",
    "\n",
    " \n",
    "## Diodo Varicap\n",
    "\n",
    "El diodo varicap es un diodo que polirizado en inversa presenta una capacidad equivalente que se ajusta a la ecuación \n",
    "\n",
    "$$C_d = \\frac{C_o}{\\sqrt{1+ 2 |V_d|}}$$\n",
    "\n",
    "donde \n",
    "\n",
    "$C =$ capacidad del diodo con polarización inversa (Faradios)\n",
    "\n",
    "$V_d =$ voltaje de polarización inversa del diodo, siempre positiva. \n",
    "\n",
    "[simularVaricap](https://www.google.com/url?sa=t&rct=j&q=&esrc=s&source=web&cd=&cad=rja&uact=8&ved=2ahUKEwi-yPKljeXsAhX4GbkGHeBAC1MQFjAAegQIAxAC&url=https%3A%2F%2Fwww.skyworksinc.com%2F-%2Fmedia%2FSkyWorks%2FDocuments%2FProducts%2F1-100%2FVaractor_SPICE_Model_AN_200315C.pdf&usg=AOvVaw1uZuU9u5TmePifeXDtcD4C). \n"
   ]
  },
  {
   "cell_type": "code",
   "execution_count": 6,
   "metadata": {},
   "outputs": [],
   "source": [
    "def Ct(VR,Cj0, Vj, M, Cp, Rs, Ls):\n",
    "    return Cj0/(1+VR/Vj)**M + Cp\n",
    "\n",
    "\n",
    "smv = dict()\n",
    "                  # CJO(F)    VJ(V)     M         CP(F) RS(Ω) Ls(Hy)\n",
    "smv['SMV1234'] = ( 8.36e-12,   7.95,  3.96,  1.15e-12,  0.80, 1.4e-9)\n",
    "smv['SMV2022'] = ( 7.30e-12,   4.00,  1.40,         0,   2.2, 1.5e-9)\n",
    "smv['SMV1253'] = ( 51.8e-12,  73.60,  48.7,  2.70e-12,   1.1, 1.4e-9)\n",
    "smv['SMV1213'] = ( 28.9e-12, 190.00, 105.0,  2.20e-12,   1.4, 1.5e-9)  \n",
    "smv['SMV1470'] = (110.0e-12,  80.00,  39.7,  3.94e-12,   0.5, 1.4e-9)  \n",
    "smv['SMV1430'] = ( 1.11e-12,  0.86,    0.5,  0.13e-12,  3.15, 1.4e-9) \n",
    "        "
   ]
  },
  {
   "cell_type": "code",
   "execution_count": 13,
   "metadata": {},
   "outputs": [
    {
     "name": "stdout",
     "output_type": "stream",
     "text": [
      ".param Cjo1  =  1.11e-12\n",
      ".param M1    =  0.50\n",
      ".param Vj1   =  0.86\n",
      ".param Ls1   =  1.40e-09\n",
      ".param Rs1    =  3.150\n",
      ".param Cp1   =  1.30e-13\n"
     ]
    }
   ],
   "source": [
    "Cj01, Vj, M, Cp, Rs, Ls = smv['SMV1430']\n",
    "\n",
    "print('.param Cjo1  =  {:3.2e}'.format(Cj01) )\n",
    "print('.param M1    =  {:3.2f}'.format(M) )\n",
    "print('.param Vj1   =  {:3.2f}'.format(Vj) )\n",
    "print('.param Ls1   =  {:3.2e}'.format(Ls) )\n",
    "print('.param Rs1    =  {:3.3f}'.format(Rs) )\n",
    "print('.param Cp1   =  {:3.2e}'.format(Cp) )"
   ]
  },
  {
   "cell_type": "code",
   "execution_count": 14,
   "metadata": {},
   "outputs": [
    {
     "data": {
      "image/png": "[encoded data removed]",
      "text/plain": [
       "<Figure size 432x288 with 1 Axes>"
      ]
     },
     "metadata": {
      "needs_background": "light"
     },
     "output_type": "display_data"
    }
   ],
   "source": [
    "v = np.arange(4,5,0.1)\n",
    "\n",
    "plt.plot(v,Ct(v,Cj01, Vj, M, Cp, Rs, Ls)/1e-12)\n",
    "\n",
    "plt.ylabel('$C_T$ [pF]')\n",
    "plt.xlabel('$V_R$[V]')\n",
    "plt.grid()"
   ]
  },
  {
   "cell_type": "markdown",
   "metadata": {},
   "source": [
    "Para el calculo de la admitancia de entrada $Y_i$\n",
    "\n",
    "Del circuito C.A. podemos plantear\n",
    "\n",
    "$$i_1 = v_i \\cdot \\frac{1}{(R+\\frac{1}{S C})}$$\n",
    "\n",
    "$$i_2 = g_m \\cdot v_m$$\n",
    "\n",
    "$$v_m = i_1 \\cdot R$$\n",
    "\n",
    "Entonces\n",
    "\n",
    "$$v_m = v_i \\cdot \\frac{1}{(R+\\frac{1}{S C})} \\cdot R$$\n",
    "\n",
    "\n",
    "Por lo tanto, $i_2$\n",
    "\n",
    "$$i_2 = g_m \\cdot v_i \\cdot \\frac{R}{(R+\\frac{1}{S C})}$$\n",
    "\n",
    "La corriente $i_i$ entonces\n",
    "\n",
    "$$i_i = i_1 + i_2 = v_i \\cdot \\frac{1}{(R+\\frac{1}{S C})} + g_m \\cdot v_i \\cdot \\frac{R}{(R+\\frac{1}{S C})}$$\n",
    "\n",
    "\n",
    "La admintacia de entrada $Y_i$ es \n",
    "\n",
    "$$Y_i = \\frac{i_i}{v_i} =  \\frac{1}{(R+\\frac{1}{S C})} + g_m \\cdot \\frac{R}{(R+\\frac{1}{S C})}$$\n",
    "\n",
    "$$Y_i =   \\frac{1 + g_m R }{(R+\\frac{1}{S C})}$$\n",
    "\n",
    "\n",
    "$$Y_i =   \\frac{SC \\cdot (1 + g_m R) }{(SC R+1)}$$\n",
    "\n",
    "Remplazando $S = j\\omega$\n",
    "\n",
    "$$Y_i =   \\frac{j\\omega C \\cdot (1 + g_m R) }{( j\\omega C R+1)}$$\n",
    "\n",
    "\n",
    "Si $j\\omega C R << 1$\n",
    "\n",
    "$$Y_i =   j\\omega C \\cdot (1 + g_m R)$$\n",
    "\n",
    "Así se consigue engañar al oscilador haciéndolo ver un capacitor cuyo valor de capacidad varía según la transconductancia gm del transistor.\n",
    "\n",
    "La transconductancia se varía obviamente moviendo el punto de polarización. \n",
    "\n",
    "\n"
   ]
  },
  {
   "cell_type": "code",
   "execution_count": null,
   "metadata": {},
   "outputs": [],
   "source": []
  }
 ],
 "metadata": {
  "kernelspec": {
   "display_name": "Python 3",
   "language": "python",
   "name": "python3"
  },
  "language_info": {
   "codemirror_mode": {
    "name": "ipython",
    "version": 3
   },
   "file_extension": ".py",
   "mimetype": "text/x-python",
   "name": "python",
   "nbconvert_exporter": "python",
   "pygments_lexer": "ipython3",
   "version": "3.8.8"
  }
 },
 "nbformat": 4,
 "nbformat_minor": 2
}

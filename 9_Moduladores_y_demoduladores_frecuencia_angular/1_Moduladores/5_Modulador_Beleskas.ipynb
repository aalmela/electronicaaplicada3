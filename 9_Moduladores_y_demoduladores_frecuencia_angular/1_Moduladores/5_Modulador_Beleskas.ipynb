{
 "cells": [
  {
   "cell_type": "markdown",
   "metadata": {},
   "source": [
    "# Modulador Fase Beleskas\n",
    "\n",
    "\n",
    "\n",
    "## Circuito practico\n",
    "\n",
    "\n",
    "![ex 2.13](fig/BeleskasPMsch.png)\n",
    "\n",
    "\n",
    "## Circuito RF\n",
    "\n",
    "![ex 2.13](fig/BeleskasPMRF.png)\n",
    "\n",
    "Suponiendo $C_1 = C_2$ y $R_L = Inf$.\n",
    "\n",
    "$$v_1 = v_i - (g_m \\cdot v_1) \\cdot \\frac{1}{SC_1} $$\n",
    "\n",
    "$$v_1 = v_i \\frac{1}{1+   \\frac{g_m}{SC_1}} $$\n",
    "\n",
    "\n",
    "$$v_o = v_1 - (g_m \\cdot v_1) \\cdot \\frac{1}{SC_1} = v_1  (1 - \\frac{g_m}{SC_1})$$\n",
    "\n",
    "$$v_o = v_i \\frac{1}{1+   \\frac{g_m}{SC_1}}  (1 - \\frac{g_m}{SC_1})$$\n",
    "\n",
    "\n",
    "$$\\frac{v_o}{v_i} =  \\frac{SC_1 - g_m}{SC_1 + g_m}$$\n",
    "\n",
    "\n",
    "$$|A(j\\omega)| =  \\sqrt{ \\frac{(\\omega C_1)^2  + g_m^2}{(\\omega C_1)^2  + g_m^2}}= 1$$\n",
    "\n",
    "\n",
    "$$\\varphi (A(j\\omega)) = arctg(-\\frac{\\omega C_1}{g_m}) - arctg(\\frac{\\omega C_1}{g_m}) = -2 arctg(\\frac{\\omega C_1}{g_m}) $$\n",
    "\n",
    "$$\\Delta \\varphi = \\frac{d \\varphi }{d g_m} \\Delta g_m$$\n",
    "\n",
    "$$\\frac{d \\varphi }{d g_m} = \\frac{2 \\omega C_1}{g_m^2 + (\\omega C_1)^2}$$\n",
    "\n",
    "$$\\Delta \\varphi = \\frac{2 \\omega C_1}{g_m^2 + (\\omega C_1)^2} \\Delta g_m $$\n"
   ]
  },
  {
   "cell_type": "code",
   "execution_count": null,
   "metadata": {},
   "outputs": [],
   "source": []
  }
 ],
 "metadata": {
  "kernelspec": {
   "display_name": "Python 3",
   "language": "python",
   "name": "python3"
  },
  "language_info": {
   "codemirror_mode": {
    "name": "ipython",
    "version": 3
   },
   "file_extension": ".py",
   "mimetype": "text/x-python",
   "name": "python",
   "nbconvert_exporter": "python",
   "pygments_lexer": "ipython3",
   "version": "3.8.8"
  }
 },
 "nbformat": 4,
 "nbformat_minor": 2
}

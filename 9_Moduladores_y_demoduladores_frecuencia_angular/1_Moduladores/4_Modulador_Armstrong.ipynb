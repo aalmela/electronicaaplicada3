{
 "cells": [
  {
   "cell_type": "markdown",
   "metadata": {},
   "source": [
    "## Modulador Armstrong de PM.\n",
    " \n",
    "    \n",
    "En 1933, Edwin H. Armstrong patentó un método para generar modulación de frecuencia de señales de radio.  \n",
    "\n",
    "Las primeras emisoras utilizaron la modulación de amplitud porque era más fácil de generar que la modulación de frecuencia y porque los receptores eran más simples de hacer. \n",
    "\n",
    "\n",
    "![ex 2.13](fig/amstrongPM.png)\n",
    "\n",
    "Armstrong se dio cuenta de que, si bien una señal de frecuencia modulada tendría un ancho de banda infinito, solo los primeros conjuntos de bandas laterales serían significativos; el resto podría ser ignorado. \n",
    "Un ancho de banda de canal de voz modulado en amplitud sería de aproximadamente $6 kHz$; un ancho de banda de canal de voz modulado en frecuencia común podría ser de $15 kHz$.\n",
    "\n",
    "\n",
    "El método Armstrong comienza generando una señal portadora a una frecuencia muy baja, digamos $500 kHz$. \n",
    "Esta frecuencia está por debajo de la banda de transmisión de AM y muy por debajo de la banda de transmisión de FM actual de $88 MHz$ a $108 MHz$. \n",
    "Esta señal portadora se inyecta a dos etapas en el transmisor: un modulador balanceado y un mezclador.\n",
    "\n",
    "El modulador balanceado mezcla la señal de audio y la portadora de radiofrecuencia, pero suprime la portadora, dejando solo las bandas laterales (DBLSC). \n",
    "\n",
    "En el método Armstrong, la señal de audio y la señal portadora de radiofrecuencia se aplican al modulador balanceado para generar una señal portadora suprimida de doble banda lateral. La fase de esta señal de salida se desplaza 90 grados con respecto a la portadora original. La salida del modulador balanceado puede adelantar o retrasar la fase de la portadora. La señal de doble banda lateral y la señal portadora original se inyectan luego al mezclador, y la portadora original, 90 grados fuera de fase, se suma luego. \n",
    "La salida del mezclador es una señal de frecuencia modulada.\n",
    "\n",
    "Reinsertar la portadora sin el cambio de fase produce una señal de AM. Reinsertar la portadora con el desplazamiento de fase de 90 grados produce una señal PM. Si la modulante se integra antes de aplicarse al modulador de fase resultante, este resulta en una señal de FM.\n",
    "\n",
    "Uno de los problemas con el método Armstrong es que la desviación de frecuencia (la cantidad de modulación) debe mantenerse pequeña para minimizar la distorsión. \n",
    "La desviación máxima es una fracción de $1 kHz$, pero la transmisión FM requiere una desviación de $75 kHz$ y una desviación típica del canal de voz FM es de $5 kHz$. \n",
    "\n",
    "Para resolver este problema, Armstrong multiplicó la señal muchas veces a una frecuencia más alta para obtener la desviación necesaria. Por ejemplo, para generar una señal FM con una desviación de $5 kHz$ a $146,94 MHz$, el transmisor generaría una señal a $6,1225 MHz$ con solo una desviación de $0,2 kHz$ y luego multiplicaría la señal $24 veces$."
   ]
  },
  {
   "cell_type": "code",
   "execution_count": 1,
   "metadata": {},
   "outputs": [],
   "source": [
    "from __future__ import print_function\n",
    "from ipywidgets import interact, interactive, fixed, interact_manual\n",
    "import ipywidgets as widgets\n",
    "\n",
    "import numpy as np\n",
    "import matplotlib.pyplot as plt\n",
    "import scipy                  # http://scipy.org/\n",
    "from scipy import signal\n",
    "\n",
    "from scipy.fftpack import fft, fftfreq\n",
    "from time import time\n",
    "\n",
    "from IPython.display import Image  \n",
    "\n",
    "\n",
    "from matplotlib import animation\n",
    "from IPython.display import HTML\n",
    "\n",
    "%matplotlib inline\n",
    "#%matplotlib notebook\n",
    "params = {'legend.fontsize': 14,\n",
    "          'figure.figsize': (8, 8),\n",
    "         'axes.labelsize': 14,\n",
    "         'axes.titlesize': 14,\n",
    "         'xtick.labelsize':14,\n",
    "         'ytick.labelsize':14}\n",
    "\n",
    "plt.rcParams.update(params) "
   ]
  },
  {
   "cell_type": "code",
   "execution_count": 2,
   "metadata": {},
   "outputs": [],
   "source": [
    "def myVector(a,w,d,n):\n",
    "    U = a*np.sin( w*n/np.pi+d)  \n",
    "    V = a*np.cos( w*n/np.pi+d)     \n",
    "    return U,V\n",
    "\n",
    "def oneTone(a,w,d,n):\n",
    "    Up,Vp = myVector(a, w,d,n) \n",
    "    Un,Vn = myVector(a,-w,d,n) \n",
    "    return Up,Vp,Un,Vn \n",
    "\n",
    "\n",
    "\n",
    "def mixTone(a,wa,b, wb, n):\n",
    "    Uap,Vap,Uan,Van = oneTone(a*b/2, wb + wa,0,n)\n",
    "    Ua = Uap + Uan\n",
    "    Va = Vap + Van\n",
    "\n",
    "    Ubp,Vbp,Ubn,Vbn = oneTone(a*b/2,wb - wa ,0,n)\n",
    "    Ub = Ubp + Ubn\n",
    "    Vb = Vbp + Vbn\n",
    "\n",
    "    return Ua,Va,Ub,Vb \n"
   ]
  },
  {
   "cell_type": "code",
   "execution_count": 7,
   "metadata": {
    "scrolled": false
   },
   "outputs": [
    {
     "data": {
      "image/png": "[encoded data removed]",
      "text/plain": [
       "<Figure size 432x288 with 1 Axes>"
      ]
     },
     "metadata": {
      "needs_background": "light"
     },
     "output_type": "display_data"
    }
   ],
   "source": [
    "a  = 0.1\n",
    "wa = 2*np.pi/200\n",
    "b  = 10\n",
    "wb = 2*np.pi/50\n",
    "\n",
    "U  = [0,0,0]\n",
    "V  = [0,0,0]\n",
    "\n",
    "fig, ax = plt.subplots(1,1)\n",
    "Q       = ax.quiver([0,0,0],[0,0,0], U, V,  color=['g','b','r'], units= 'xy', scale=1, pivot ='tail')\n",
    "\n",
    "ax.set_xlim(-20,  20)\n",
    "ax.set_ylim(-20,  20)\n",
    "\n",
    "def update_quiver(num, Q, a, b, wa, wb):\n",
    "    \"\"\"updates the horizontal and vertical vector components by a\n",
    "    fixed increment on each frame\n",
    "    \"\"\"\n",
    "    Ucp,Vcp,Ucn,Vcn= oneTone(b,wb,0,num)\n",
    "    Uc = Ucn + Ucp\n",
    "    Vc = Vcn + Vcp\n",
    "    Ump,Vmp,Umn,Vmn= oneTone(1,wa,0,num)\n",
    "    Um = Umn + Ump\n",
    "    Vm = Vmn + Vmp\n",
    "    Ucp,Vcp,Ucn,Vcn= oneTone(b,wb,np.pi/2,num)\n",
    "    Uc90 = Ucn + Ucp\n",
    "    Vc90 = Vcn + Vcp\n",
    "    Ua,Va,Ub,Vb  = mixTone(a,wa,b, wb, num)\n",
    "    \n",
    "    U = [Ua+Ub+Uc90,Um,Uc]\n",
    "    V = [Va+Vb+Vc90,Vm,Vc]\n",
    "    \n",
    "    Q.set_UVC(U,V)\n",
    "    return Q,\n",
    "\n",
    "# you need to set blit=False, or the first set of arrows never gets\n",
    "# cleared on subsequent frames\n",
    "anim = animation.FuncAnimation(fig, update_quiver, fargs=(Q, a,b,wa,wb), interval=20, frames=400,blit=True)\n",
    "\n",
    "#HTML(anim.to_html5_video())\n",
    "anim.save('sine_wave.gif', writer='imagemagick')"
   ]
  },
  {
   "cell_type": "code",
   "execution_count": 8,
   "metadata": {},
   "outputs": [],
   "source": [
    "def modPM(time, Am, fm, Ac, fc, output='PM', showme = 'time'):\n",
    "    dt = time[1] - time[0] \n",
    "    Sc   = Ac*np.cos(2*np.pi*fc*time)\n",
    "    Sc90 = Ac*2*np.cos(2*np.pi*fc*time + np.pi/2)\n",
    "    Sm   = Am*np.cos(2*np.pi*fm*time)\n",
    "    \n",
    "    Spm  = (Sc*Sm)+Sc90\n",
    "    \n",
    "    if   output == 'PM'  : Smo = Spm\n",
    "    elif output == 'Sm'  : Smo = Sm\n",
    "    elif output == 'Sc'  : Smo = Sc\n",
    "    elif output == 'Sc90': Smo = Sc90\n",
    "    else                 : Smo = Spm\n",
    "        \n",
    "    if showme == 'time':\n",
    "        plt.plot(time, Smo, 'r-')\n",
    "        plt.xlim([0,max(time)/2])\n",
    "        plt.ylabel('PM(t)/V')\n",
    "        plt.xlabel('Time/s')\n",
    "        plt.show()    \n",
    "    elif showme == 'freq' :\n",
    "        Y = fft(Smo) / len(Smo)  # Normalizada\n",
    "        frq = fftfreq(len(Smo), dt)  # Recuperamos las frecuencias\n",
    "        plt.plot(frq, np.abs(Y), 'ro-' )  # Representamos la parte imaginaria\n",
    "        plt.ylim(-0.1, 1.1)\n",
    "        plt.xlabel('$Frecuencia/Hz$')\n",
    "        plt.ylabel('$Abs(Y)$')\n",
    "        plt.xlim([-120,120])\n",
    "        plt.grid()\n",
    "        plt.show()\n",
    "    else :\n",
    "        plt.plot(Sc, Spm, 'r-')\n",
    "        plt.ylim(-20, 20)\n",
    "        plt.ylabel('Smo')\n",
    "        plt.xlabel('Sc')\n",
    "        plt.grid()\n",
    "        plt.show()    \n",
    "        \n",
    "\n",
    "        \n",
    "# Ejemplo FM en el tiempo\n",
    "# modulante\n",
    "fm    = 10 #Hz\n",
    "T     = 10/fm\n",
    "Am    = 2\n",
    "# carrier\n",
    "fc    = 100\n",
    "Ac    = 1\n",
    "# defino el sampleo\n",
    "Fs = 20*fc #Sps \n",
    "dt = 1/Fs\n",
    "# vector de tiempo \n",
    "t  = np.arange(0., T, dt)"
   ]
  },
  {
   "cell_type": "code",
   "execution_count": 9,
   "metadata": {
    "scrolled": false
   },
   "outputs": [
    {
     "data": {
      "application/vnd.jupyter.widget-view+json": {
       "model_id": "ca11d1717125416c881957cb95cc8783",
       "version_major": 2,
       "version_minor": 0
      },
      "text/plain": [
       "interactive(children=(Dropdown(description='output', index=3, options=('Sm', 'Sc', 'Sc90', 'PM'), value='PM'),…"
      ]
     },
     "metadata": {},
     "output_type": "display_data"
    },
    {
     "data": {
      "text/plain": [
       "<function __main__.modPM(time, Am, fm, Ac, fc, output='PM', showme='time')>"
      ]
     },
     "execution_count": 9,
     "metadata": {},
     "output_type": "execute_result"
    }
   ],
   "source": [
    "%matplotlib inline\n",
    "interact(modPM, time = fixed(t), Am=fixed(Am), fm=fixed(fm), Ac=fixed(Ac), fc=fixed(fc),\n",
    "         output = ['Sm','Sc','Sc90', 'PM'], showme = ['time','freq', 'l']  )"
   ]
  },
  {
   "cell_type": "markdown",
   "metadata": {},
   "source": [
    "\n",
    "## Circuito practico\n",
    "\n",
    "\n",
    "![ex 2.13](fig/amstrongPMsch.png)\n",
    "\n",
    "\n",
    "## Circuito RF\n",
    "\n",
    "![ex 2.13](fig/amstrongPMRF.png)\n",
    "\n",
    "\n",
    "\n",
    "$$-v_i (S C_1 - g_m) + v_o [\\frac{1}{SL} + \\frac{1}{R_L} + S(C+C_1) ] = 0$$\n",
    "\n",
    "\n",
    "$$\\frac{v_o}{v_i}|_{j\\omega} = A(j\\omega) =  \\frac{-g_m + j \\omega C_1}{\\frac{1}{R_L} + j [\\omega (C+C_1)-\\frac{1}{\\omega L}]}$$\n",
    "\n",
    "\n",
    "$$|A(j\\omega)| = \\sqrt{ \\frac{g_m^2 +  (\\omega C_1)^2}{ (\\frac{1}{R_L})^2 + (\\omega (C+C_1)-\\frac{1}{\\omega L})^2}}$$\n",
    "\n",
    "\n",
    "En resonancia \n",
    "\n",
    "$$\\omega = \\frac{1}{\\sqrt{(C+C_1) \\cdot L}}$$\n",
    "\n",
    "\n",
    "$$A(j\\omega) = - R_L (g_m + j \\omega C_1)$$\n",
    "\n",
    "\n",
    "$$|A(j\\omega)| = R_L \\sqrt{ g_m^2 +  (\\omega C_1)^2 }$$\n",
    "\n",
    "\n",
    "$$\\varphi (A(j\\omega)) = arctg(-\\frac{\\omega C_1}{g_m})$$\n",
    "\n",
    "$$\\Delta \\varphi = \\frac{d \\varphi }{d g_m} \\Delta g_m$$\n",
    "\n",
    "$$\\frac{d \\varphi }{d g_m} = \\frac{\\omega C_1}{g_m^2 + (\\omega C_1)^2}$$\n",
    "\n",
    "$$\\Delta \\varphi = \\frac{\\omega C_1}{g_m^2 + (\\omega C_1)^2} \\Delta g_m $$\n",
    "\n"
   ]
  },
  {
   "cell_type": "markdown",
   "metadata": {},
   "source": []
  },
  {
   "cell_type": "markdown",
   "metadata": {},
   "source": [
    "# Ejercicio\n",
    "\n",
    "El FET de la figura constituye un modulador de fase tipo Armstrong precedido por un circuito integrador realizado con un amplificador operacional ideal.\n",
    "\n",
    "![ex 2.13](fig/armstrongEJ.png)\n",
    "\n",
    "La próxima etapa, que no se muestra en la figura, es un circuito multiplicador realizado en base a un PLL con posibilidad de multiplicar por cualquier número entero entre $1$ y $10.000$ (Índice programable) para todas las frecuencias de interés. \n",
    "\n",
    "La $Z_{in}$ del multiplicador está representada por $R_L$.\n",
    "\n",
    "A la salida del multiplicador hay una señal con $f_c = 150 MHz$ y  $\\Delta f_c= 5KHz$ que a través de etapas amplificadoras se envía a antena.\n",
    "\n",
    "\n",
    "\n",
    "El FET es de transferencia cuadrática  \n",
    "\n",
    "$$I_D = I_{DSS}(1-\\frac {V_{gs}} {V_{c}} )^2$$  \n",
    "\n",
    "$$Y_{22}=100 \\mu S$$\n",
    "\n",
    "El tanque de salida trabaja con $Q_c=10$ y la bobina $L$ sintoniza, a la frecuencia del oscilador, con los capacitores $C_1$ y $C$ en paralelo.\n",
    "\n",
    "Los capacitores de acople $C_A$, son un cortocircuito para todas las frecuencias de interés.\n",
    "\n",
    "El choque $L_{CH}$ es un circuito abierto a la frecuencia del oscilador y un corto a las frecuencias de modulación.\n",
    "\n",
    "Los elementos reactivos no tienen pérdidas.\n",
    "\n",
    "El FET está polarizado de forma tal que $G_m(pol)= \\frac{G_m(máxima)}{2}$.\n",
    "\n",
    "El oscilador entrega una señal senoidal pura  de amplitud 1Vpico independiente de la impedancia de carga ($R_{int.oscil}= 0$).\n",
    "\n",
    "La señal de modulación es una sinusoide pura de $V_{mod}= 1V_{pico}$ y frecuencia $f_{mod} = 1 KHz$.\n",
    "\n",
    "$$R_1=R_2=4,7 K\\Omega$$\t \n",
    "\n",
    "$$R_L=1 K\\Omega$$ \t\n",
    "\n",
    "$$C_2=0,1\\mu F$$\t\n",
    "\n",
    "$$I_{dss}=10 mA$$\t\n",
    "\n",
    "$$V_c= -5 V$$\n",
    "\n",
    "$C_1$ se ha elegido para que maximice la sensibilidad de modulación $\\frac{\\Delta \\varphi}{\\Delta g_m}$.\n",
    "\n",
    "\n",
    "Determinar:\n",
    "\n",
    "\n",
    "1. $V_{ref}$\n",
    "\n",
    "2. $\\Delta g_m$\n",
    "\n",
    "\n",
    "3. N: índice de multiplicación del multiplicador (adoptar el entero más cercano al valor de cálculo) y frecuencia del oscilador $f_{osc}$\n",
    "\n",
    "4. $\\Delta \\varphi$ y $ \\Delta f$ sobre $R_L$\n",
    "\n",
    "5. $C$\n",
    "\n",
    "\n",
    "6. Se cambia la frecuencia de salida del $T_x$ para que opere alrededor de los $30 MHz$ (Valor no exacto dependiente de los N posibles) manteniéndose el  $ \\Delta f$= 5Khz. \n",
    "Esto se logra cambiando solamente el índice N del multiplicador y el valor de $R_1$, el resto de los componentes y frecuencia del oscilador permanecen sin cambios.  \n",
    "Determinar los nuevos valores $N^{\\prime}$ y $R_1^{\\prime}$ \n",
    "\n",
    "7. En las condiciones del ítem 6 determinar el porcentaje de modulación de AM sobre RL\n",
    "\n",
    "8. Repuesto el circuito a las condiciones iniciales del problema se cambia $V_{mod}$ para operación multitonal. $V_{mod}$ pasa a estar constituida por dos generadores senoidales en serie. \n",
    "Cada uno de ellos entrega $0,5 V_{pico}$ con frecuencias de $2 KHz$ y $5 KHz$ respectivamente. Determinar el  máximo a la salida sobre $R_L$.\n",
    "\n"
   ]
  },
  {
   "cell_type": "markdown",
   "metadata": {},
   "source": [
    "# 1. Vref\n",
    "\n"
   ]
  },
  {
   "cell_type": "code",
   "execution_count": 1,
   "metadata": {},
   "outputs": [
    {
     "name": "stdout",
     "output_type": "stream",
     "text": [
      "gmax= 4.000 mS\n",
      "Vgso= -2.500 V\n",
      "gmo= 2.000 mS\n",
      "Vref= -2.500 V\n"
     ]
    }
   ],
   "source": [
    "# Calculo de Re\n",
    "# Datos\n",
    "\n",
    "#FET\n",
    "Idss = 10e-3\n",
    "Vc   = -5\n",
    "Vg   =  0\n",
    "\n",
    "\n",
    "#integrador\n",
    "R1   = 4.7e3\n",
    "R2   = 4.7e3\n",
    "C2    = 100e-9\n",
    "fmod = 1e3 \n",
    "vmod = 1\n",
    "\n",
    "#Salida\n",
    "fc = 150e6\n",
    "\n",
    "# gm\n",
    "def gmVgs(Vgs, Idss, vc):\n",
    "    return -2 * Idss/Vc *(1-(Vgs/Vc))\n",
    "\n",
    "print('gmax= {:1.3f} mS'.format(gmVgs(0,Idss,Vc)/1e-3))\n",
    "\n",
    "Vgso = -(0.5 - 1)*Vc   \n",
    "print('Vgso= {:1.3f} V'.format(Vgso))\n",
    "print('gmo= {:1.3f} mS'.format(gmVgs(Vgso,Idss,Vc)/1e-3))\n",
    "\n",
    "gmo   = gmVgs(Vgso,Idss,Vc)\n",
    "Vref = Vgso \n",
    "\n",
    "print('Vref= {:1.3f} V'.format(Vref))\n"
   ]
  },
  {
   "cell_type": "markdown",
   "metadata": {},
   "source": [
    "# 2. $\\Delta g_m$\n",
    "\n",
    "![ex 2.13](armstrongInt.png)\n",
    "\n",
    "$$Z_1 = R_1$$\n",
    "\n",
    "$$Z_2 = \\frac{R_2}{1 + S C_2 R_2}$$\n",
    "\n",
    "$$A_v = -\\frac{Z_2}{Z_1} = -\\frac{R_2}{R_1} \\frac{1}{1+S C_2 R_2}$$ \n",
    "\n",
    "$$A_v = -\\frac{R_2}{R_1} \\frac{1}{1+j \\omega C_2 R_2}$$ \n",
    "\n",
    "$$\\omega_p = \\frac{1}{C_2 R_2}$$ \n",
    "\n",
    "$$f_p = \\frac{1}{2 \\pi C_2 R_2}$$\n",
    "\n",
    "## $\\Delta g_{m}$\n",
    "\n",
    "$$\\Delta g_{m} = -\\frac{2 I_{dss}}{v_c^2} \\Delta v_{gs}$$\n"
   ]
  },
  {
   "cell_type": "code",
   "execution_count": 4,
   "metadata": {},
   "outputs": [
    {
     "ename": "NameError",
     "evalue": "name 'np' is not defined",
     "output_type": "error",
     "traceback": [
      "\u001b[0;31m---------------------------------------------------------------------------\u001b[0m",
      "\u001b[0;31mNameError\u001b[0m                                 Traceback (most recent call last)",
      "\u001b[0;32m<ipython-input-4-868a471abad0>\u001b[0m in \u001b[0;36m<module>\u001b[0;34m\u001b[0m\n\u001b[1;32m      2\u001b[0m     \u001b[0;32mreturn\u001b[0m \u001b[0;34m-\u001b[0m\u001b[0mR2\u001b[0m\u001b[0;34m/\u001b[0m\u001b[0mR1\u001b[0m \u001b[0;34m*\u001b[0m \u001b[0;34m(\u001b[0m\u001b[0;36m1\u001b[0m\u001b[0;34m/\u001b[0m\u001b[0;34m(\u001b[0m\u001b[0;36m1\u001b[0m\u001b[0;34m+\u001b[0m\u001b[0;36m1j\u001b[0m\u001b[0;34m*\u001b[0m\u001b[0;36m2\u001b[0m\u001b[0;34m*\u001b[0m\u001b[0mnp\u001b[0m\u001b[0;34m.\u001b[0m\u001b[0mpi\u001b[0m\u001b[0;34m*\u001b[0m\u001b[0mf\u001b[0m\u001b[0;34m*\u001b[0m\u001b[0mR2\u001b[0m\u001b[0;34m*\u001b[0m\u001b[0mC2\u001b[0m\u001b[0;34m)\u001b[0m\u001b[0;34m)\u001b[0m\u001b[0;34m\u001b[0m\u001b[0m\n\u001b[1;32m      3\u001b[0m \u001b[0;34m\u001b[0m\u001b[0m\n\u001b[0;32m----> 4\u001b[0;31m \u001b[0mfreq\u001b[0m \u001b[0;34m=\u001b[0m \u001b[0mnp\u001b[0m\u001b[0;34m.\u001b[0m\u001b[0marange\u001b[0m\u001b[0;34m(\u001b[0m\u001b[0;36m1\u001b[0m\u001b[0;34m,\u001b[0m\u001b[0;36m1e4\u001b[0m\u001b[0;34m,\u001b[0m\u001b[0;36m100\u001b[0m\u001b[0;34m)\u001b[0m\u001b[0;34m\u001b[0m\u001b[0m\n\u001b[0m\u001b[1;32m      5\u001b[0m \u001b[0mplt\u001b[0m\u001b[0;34m.\u001b[0m\u001b[0msemilogx\u001b[0m\u001b[0;34m(\u001b[0m\u001b[0mfreq\u001b[0m\u001b[0;34m,\u001b[0m \u001b[0;36m20\u001b[0m\u001b[0;34m*\u001b[0m\u001b[0mnp\u001b[0m\u001b[0;34m.\u001b[0m\u001b[0mlog10\u001b[0m\u001b[0;34m(\u001b[0m\u001b[0mabs\u001b[0m\u001b[0;34m(\u001b[0m\u001b[0mAvint\u001b[0m\u001b[0;34m(\u001b[0m\u001b[0mR1\u001b[0m\u001b[0;34m,\u001b[0m\u001b[0mR2\u001b[0m\u001b[0;34m,\u001b[0m\u001b[0mC2\u001b[0m\u001b[0;34m,\u001b[0m\u001b[0mfreq\u001b[0m\u001b[0;34m)\u001b[0m\u001b[0;34m)\u001b[0m\u001b[0;34m)\u001b[0m \u001b[0;34m)\u001b[0m\u001b[0;34m\u001b[0m\u001b[0m\n\u001b[1;32m      6\u001b[0m \u001b[0mplt\u001b[0m\u001b[0;34m.\u001b[0m\u001b[0mgrid\u001b[0m\u001b[0;34m(\u001b[0m\u001b[0;34m)\u001b[0m\u001b[0;34m\u001b[0m\u001b[0m\n",
      "\u001b[0;31mNameError\u001b[0m: name 'np' is not defined"
     ]
    }
   ],
   "source": [
    "def Avint(R1,R2,C2,f): \n",
    "    return -R2/R1 * (1/(1+1j*2*np.pi*f*R2*C2))\n",
    "\n",
    "freq = np.arange(1,1e4,100)\n",
    "plt.semilogx(freq, 20*np.log10(abs(Avint(R1,R2,C2,freq))) )\n",
    "plt.grid()\n",
    "plt.show()\n",
    "\n",
    "\n",
    "Dvgs = abs(Avint(R1,R2,C2,fmod))*vmod \n",
    "print('Dvg = {:1.2f} V'.format(abs(Dvgs) ) )\n",
    "\n",
    "Dgm = -2 * Idss/Vc**2 * Dvgs\n",
    "print('Dgm = {:1.2f} uS'.format(abs(Dgm/1e-6) ) )\n"
   ]
  },
  {
   "cell_type": "markdown",
   "metadata": {},
   "source": [
    "# 3. N: índice de multiplicación del multiplicador (adoptar el entero más cercano al valor de cálculo) y frecuencia del oscilador $f_{osc}$\n",
    "\n",
    "$$\\Delta \\varphi = \\frac{\\omega C}{g_{mo}^2 + (\\omega C)^2} \\Delta g_{mo} $$\n",
    "\n",
    "\n",
    "$$\\frac{d \\varphi}{d C} =   \\frac{g_{mo}^2-(\\omega C)^2}{(g_{mo}^2 + (\\omega C)^2)^2} = 0$$\n",
    "\n",
    "$$g_{mo}^2-(\\omega C)^2 = 0$$\n",
    "\n",
    "$$\\omega C =  g_{mo}$$\n",
    "\n",
    "$$\\Delta \\varphi = \\frac{ \\omega C_1}{g_{mo}^2 + (\\omega C_1)^2} \\Delta g_m $$\n",
    "\n",
    "$$\\Delta \\varphi = \\frac{1}{2 g_{mo}} \\Delta g_m $$\n"
   ]
  },
  {
   "cell_type": "code",
   "execution_count": 5,
   "metadata": {},
   "outputs": [
    {
     "ename": "NameError",
     "evalue": "name 'Dgm' is not defined",
     "output_type": "error",
     "traceback": [
      "\u001b[0;31m---------------------------------------------------------------------------\u001b[0m",
      "\u001b[0;31mNameError\u001b[0m                                 Traceback (most recent call last)",
      "\u001b[0;32m<ipython-input-5-fe0eb53fe644>\u001b[0m in \u001b[0;36m<module>\u001b[0;34m\u001b[0m\n\u001b[0;32m----> 1\u001b[0;31m \u001b[0mDphi\u001b[0m \u001b[0;34m=\u001b[0m \u001b[0;36m1\u001b[0m\u001b[0;34m/\u001b[0m\u001b[0;34m(\u001b[0m\u001b[0;36m2\u001b[0m\u001b[0;34m*\u001b[0m\u001b[0mgmo\u001b[0m\u001b[0;34m)\u001b[0m \u001b[0;34m*\u001b[0m\u001b[0mDgm\u001b[0m\u001b[0;34m\u001b[0m\u001b[0m\n\u001b[0m\u001b[1;32m      2\u001b[0m \u001b[0;34m\u001b[0m\u001b[0m\n\u001b[1;32m      3\u001b[0m \u001b[0mprint\u001b[0m\u001b[0;34m(\u001b[0m\u001b[0;34m'Dphi = {:1.3f} rad'\u001b[0m\u001b[0;34m.\u001b[0m\u001b[0mformat\u001b[0m\u001b[0;34m(\u001b[0m\u001b[0mDphi\u001b[0m\u001b[0;34m)\u001b[0m \u001b[0;34m)\u001b[0m\u001b[0;34m\u001b[0m\u001b[0m\n\u001b[1;32m      4\u001b[0m \u001b[0;34m\u001b[0m\u001b[0m\n\u001b[1;32m      5\u001b[0m \u001b[0mprint\u001b[0m\u001b[0;34m(\u001b[0m\u001b[0;34m'Dphi = {:1.3f} grados'\u001b[0m\u001b[0;34m.\u001b[0m\u001b[0mformat\u001b[0m\u001b[0;34m(\u001b[0m\u001b[0mDphi\u001b[0m\u001b[0;34m*\u001b[0m\u001b[0;36m180\u001b[0m\u001b[0;34m/\u001b[0m\u001b[0mnp\u001b[0m\u001b[0;34m.\u001b[0m\u001b[0mpi\u001b[0m\u001b[0;34m)\u001b[0m \u001b[0;34m)\u001b[0m\u001b[0;34m\u001b[0m\u001b[0m\n",
      "\u001b[0;31mNameError\u001b[0m: name 'Dgm' is not defined"
     ]
    }
   ],
   "source": [
    "Dphi = 1/(2*gmo) *Dgm \n",
    "\n",
    "print('Dphi = {:1.3f} rad'.format(Dphi) )\n",
    "\n",
    "print('Dphi = {:1.3f} grados'.format(Dphi*180/np.pi) )\n",
    "\n",
    "Df = fmod*Dphi\n",
    "\n",
    "print('Df = {:1.3f} '.format(Df) )\n",
    "\n",
    "\n",
    "N = 5000/abs(Df)\n",
    "\n",
    "print('N = {:1.0f} '.format(N) )\n",
    "\n",
    "fosc = fc/N\n",
    "\n",
    "print('fosc = {:1.2f} MHz'.format(fosc/1e6) )\n"
   ]
  },
  {
   "cell_type": "markdown",
   "metadata": {},
   "source": [
    "# 3. Relación entre $\\Delta \\varphi$ y $\\Delta f$\n",
    "\n",
    "\n",
    "$$\\omega_i(t) = \\omega_c + \\Delta \\omega(t)$$\n",
    "\n",
    "$$\\omega_i(t) = \\omega_c + \\Delta \\omega \\cdot \\cos(\\omega_m t)$$\n",
    "\n",
    "\n",
    "$$\\varphi = \\int \\omega_i(t) dt$$ \n",
    "\n",
    "$$\\varphi = \\omega_c t +  \\frac{\\Delta \\omega_m}{\\omega_m} \\cdot \\sin(\\omega_m t)$$ \n",
    "\n",
    "$$\\Delta \\varphi = \\frac{\\Delta \\omega_m}{\\omega_m} = \\frac{\\Delta f_m}{f_m}$$\n"
   ]
  },
  {
   "cell_type": "code",
   "execution_count": null,
   "metadata": {},
   "outputs": [],
   "source": [
    "Df = fmod*Dphi\n",
    "\n",
    "print('Df = {:1.3f} '.format(Df) )"
   ]
  },
  {
   "cell_type": "markdown",
   "metadata": {},
   "source": [
    "# 5. $C$\n",
    "\n",
    "$$\\Delta \\varphi = \\frac{\\omega C}{g_{mo}^2 + (\\omega C)^2} \\Delta g_{mo} $$\n",
    "\n",
    "\n",
    "$$\\frac{d \\varphi}{d C} =   \\frac{g_{mo}^2-(\\omega C)^2}{(g_{mo}^2 + (\\omega C)^2)^2} = 0$$\n",
    "\n",
    "$$g_{mo}^2-(\\omega C)^2 = 0$$\n",
    "\n",
    "$$C = \\frac{g_{mo}}{ \\omega} $$\n",
    "\n"
   ]
  },
  {
   "cell_type": "code",
   "execution_count": null,
   "metadata": {},
   "outputs": [],
   "source": [
    "C = gmo/(2*np.pi*fosc) \n",
    "\n",
    "print('C= {:1.3f} pF'.format(C/1e-12))"
   ]
  },
  {
   "cell_type": "markdown",
   "metadata": {},
   "source": [
    "# 6. Se cambia la frecuencia de salida del $T_x$ para que opere alrededor de los $30 MHz$ (Valor no exacto dependiente de los N posibles) manteniéndose el  $ \\Delta f$= 5Khz.  Esto se logra cambiando solamente el índice N del multiplicador y el valor de $R_1$, el resto de los componentes y frecuencia del oscilador permanecen sin cambios.   Determinar los nuevos valores $N^{\\prime}$ y $R_1^{\\prime}$ \n",
    "\n",
    "\n",
    "$$N^{\\prime} = \\frac{f_c^{\\prime}}{f_{osc}}$$ \n",
    "\n",
    "\n",
    "$$\\Delta f_m^{\\prime} = \\frac{f}{N^{\\prime}}$$\n",
    "\n",
    "\n",
    "$$\\Delta \\varphi = \\frac{\\Delta \\omega_m}{\\omega_m} = \\frac{\\Delta f_m}{f_m}$$\n",
    "\n",
    "$$\\Delta g_m  = \\Delta \\varphi \\cdot \\frac{g_m^2 + (\\omega C_1)^2}{ \\omega C_1} $$\n",
    "\n",
    "$$\\Delta v_{gs} = -\\Delta g_{m}  \\frac{v_c^2}{2 I_{dss}} $$\n",
    "\n",
    "$$A_v = -\\frac{R_2}{R_1} \\frac{1}{1+j \\omega C_2 R_2}$$ \n",
    "\n"
   ]
  },
  {
   "cell_type": "code",
   "execution_count": null,
   "metadata": {},
   "outputs": [],
   "source": [
    "print(fosc)\n",
    "Np    = int(30e6/fosc)\n",
    "print('N={:2.0f}'.format(Np))\n",
    "\n",
    "\n",
    "Dfp   = 5000/Np\n",
    "\n",
    "Dphip = Dfp/fmod\n",
    "print('Dphi ={:1.3e} rad'.format(Dphip))\n",
    "print('Dphi ={:1.3f} '.format(Dphip*180/np.pi))\n",
    "\n",
    "\n",
    "Dgmp   = Dphip * (2*gmo) \n",
    "\n",
    "print('Dgmp ={:1.3f} '.format(Dgmp))\n",
    "\n",
    "\n",
    "Dvgsp  = -Dgmp * Vc**2 /(2 * Idss) \n",
    "\n",
    "print('Dvgsp ={:1.3f} '.format(Dvgsp))\n",
    "\n",
    "Avp = abs(Dvgsp)\n",
    "\n",
    "\n",
    "R1p = R2/Avp * abs(1/(1+1j*2*np.pi*fmod*R2*C2))\n",
    "\n",
    "\n",
    "print('R1={:1.0f} ohms'.format(R1p))"
   ]
  },
  {
   "cell_type": "markdown",
   "metadata": {},
   "source": [
    "# 7. En las condiciones del ítem 6 determinar el porcentaje de modulación de AM sobre RL\n",
    "\n",
    "$$A(j\\omega) = - R_L (g_m + j \\omega C_1)$$\n",
    "\n",
    "$$|A(j\\omega)| = R_L \\sqrt{ g_m^2 +  (\\omega C_1)^2 }$$\n",
    "\n",
    "$$m = \\frac{V_{max}-V_{min}}{V_{max}+V_{min}}$$"
   ]
  },
  {
   "cell_type": "code",
   "execution_count": null,
   "metadata": {},
   "outputs": [],
   "source": [
    "RL = 1e3\n",
    "print(gmo, 2.5-Dvgsp)\n",
    "\n",
    "Vomax = (-RL*(2**0.2)*gmo)*(2.5+Dvgsp)\n",
    "Vomin = (-RL*(2**0.2)*gmo)*(2.5-Dvgsp)\n",
    "\n",
    "m = (Vomax-Vomin)/(Vomax+Vomin)\n",
    "\n",
    "print(m)"
   ]
  },
  {
   "cell_type": "markdown",
   "metadata": {},
   "source": [
    "# 8. Repuesto el circuito a las condiciones iniciales del problema se cambia $V_{mod}$ para operación multitonal. $V_{mod}$ pasa a estar constituida por dos generadores senoidales en serie.  Cada uno de ellos entrega $0,5 V_{pico}$ con frecuencias de $2 KHz$ y $5 KHz$ respectivamente. Determinar el  máximo a la salida sobre $R_L$.\n"
   ]
  },
  {
   "cell_type": "code",
   "execution_count": null,
   "metadata": {},
   "outputs": [],
   "source": [
    "# Ejemplo FM en el tiempo\n",
    "# modulante\n",
    "fa    = 2e3 #Hz\n",
    "Va    = 0.5\n",
    "fb    = 5e3\n",
    "Vb    = 0.5\n",
    "\n",
    "T     = 2/1e3\n",
    "\n",
    "# defino el sampleo\n",
    "Fs = 100e3 #Sps \n",
    "dt = 1/Fs\n",
    "\n",
    "# vector de tiempo \n",
    "t  = np.arange(0., T, dt)\n",
    "\n",
    "Sa   = Va*np.cos(2*np.pi*fa*t) * abs(Avint(R1,R2,C2,fa))\n",
    "Sb   = Vb*np.cos(2*np.pi*fb*t) * abs(Avint(R1,R2,C2,fb))\n",
    "\n",
    "plt.plot(t, Sa+Sb, 'r-')\n",
    "plt.plot(t, Sa   , 'b-')\n",
    "plt.plot(t, Sb, 'g-')\n",
    "plt.ylabel('PM(t)/V')\n",
    "plt.xlabel('Time/s')\n",
    "plt.show()    \n",
    "\n"
   ]
  },
  {
   "cell_type": "code",
   "execution_count": null,
   "metadata": {},
   "outputs": [],
   "source": []
  }
 ],
 "metadata": {
  "kernelspec": {
   "display_name": "Python 3",
   "language": "python",
   "name": "python3"
  },
  "language_info": {
   "codemirror_mode": {
    "name": "ipython",
    "version": 3
   },
   "file_extension": ".py",
   "mimetype": "text/x-python",
   "name": "python",
   "nbconvert_exporter": "python",
   "pygments_lexer": "ipython3",
   "version": "3.8.8"
  },
  "latex_envs": {
   "LaTeX_envs_menu_present": true,
   "autoclose": false,
   "autocomplete": true,
   "bibliofile": "biblio.bib",
   "cite_by": "apalike",
   "current_citInitial": 1,
   "eqLabelWithNumbers": true,
   "eqNumInitial": 1,
   "hotkeys": {
    "equation": "Ctrl-E",
    "itemize": "Ctrl-I"
   },
   "labels_anchors": false,
   "latex_user_defs": false,
   "report_style_numbering": false,
   "user_envs_cfg": false
  }
 },
 "nbformat": 4,
 "nbformat_minor": 2
}

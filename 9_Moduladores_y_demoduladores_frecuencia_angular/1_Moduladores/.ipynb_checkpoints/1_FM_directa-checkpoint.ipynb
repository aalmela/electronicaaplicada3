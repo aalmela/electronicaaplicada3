{
 "cells": [
  {
   "cell_type": "markdown",
   "metadata": {},
   "source": [
    "# Modulador FM directa\n",
    "\n",
    "En la FM directa se requiere que la frecuencia del oscilador de portadora varíe en forma correspondiente con la \n",
    "amplitud instantánea de la señal modulante. \n",
    "\n",
    "Con la FM directa, la desviación de frecuencia instantánea es directamente proporcional a la amplitud de la señal modulante. \n",
    "\n",
    "La figura muestra un diagrama esquemático para un generador de FM simple y directo. \n",
    "\n",
    "El circuito tanque formado por $L$ y $C$ determina la frecuencia para un oscilador estándar. \n",
    "\n",
    "Conforme el capacitor $C_m$ varía, la frecuencia de resonancia varía. \n",
    "Por lo tanto, la frecuencia de salida del oscilador varíadirectamente con la capacidad. \n",
    "\n",
    "Este circuito es de FM directa porque la frecuencia del oscilador se cambia directamente por la señal modulante y la magnitud del cambio de frecuencia es proporcional a la amplitud del voltajede la señal modulante.\n",
    "\n",
    "\n",
    "![ex 2.13](FMdirectaLC.png)\n",
    "\n",
    "\n",
    "Del circuito de la figura\n",
    "\n",
    "$$f_o = \\frac{1}{2 \\pi \\sqrt{L C}}$$\n",
    "\n",
    "Por lo tanto, las variaciones de $C$ modifican $f_o$\n",
    "\n",
    "$$\\Delta f_o = \\frac{d f_o}{d C} \\Delta C =  - \\frac{1}{4 \\pi \\sqrt{L}} \\cdot C^{-\\frac{3}{2}} \\Delta C$$\n",
    "\n",
    "\n",
    "Luego\n",
    "\n",
    "$$\\frac{\\Delta f_o}{f_o} =  \\frac{- \\frac{1}{4 \\pi \\sqrt{L C^3}} }{\\frac{1}{2 \\pi \\sqrt{L C}}} \\Delta C = -\\frac{1}{2} \\frac{\\Delta C}{C}$$\n",
    "\n",
    " Expresión que vincula la variación relativa de frecuencia con la variación relativa de capacidad.\n",
    " \n",
    "\n",
    "\n"
   ]
  },
  {
   "cell_type": "code",
   "execution_count": 2,
   "metadata": {},
   "outputs": [],
   "source": [
    "import numpy as np\n",
    "import matplotlib.pyplot as plt\n",
    "import scipy                  # http://scipy.org/\n",
    "from scipy import signal\n",
    "\n",
    "from scipy.fftpack import fft, fftfreq\n",
    "from time import time\n",
    "\n",
    "from IPython.display import Image  \n",
    "#%matplotlib inline\n",
    "%matplotlib notebook\n",
    "params = {'legend.fontsize': 14,\n",
    "          'figure.figsize': (8, 8),\n",
    "         'axes.labelsize': 14,\n",
    "         'axes.titlesize': 14,\n",
    "         'xtick.labelsize':14,\n",
    "         'ytick.labelsize':14}\n",
    "\n",
    "plt.rcParams.update(params) "
   ]
  },
  {
   "cell_type": "code",
   "execution_count": 7,
   "metadata": {},
   "outputs": [
    {
     "name": "stdout",
     "output_type": "stream",
     "text": [
      "f = 1.59e+08 Hz\n"
     ]
    },
    {
     "data": {
      "text/plain": [
       "[<matplotlib.lines.Line2D at 0x7ff2451819d0>]"
      ]
     },
     "execution_count": 7,
     "metadata": {},
     "output_type": "execute_result"
    },
    {
     "data": {
      "image/png": "[encoded data removed]",
      "text/plain": [
       "<Figure size 432x288 with 1 Axes>"
      ]
     },
     "metadata": {
      "needs_background": "light"
     },
     "output_type": "display_data"
    }
   ],
   "source": [
    "# Ejemplo\n",
    "\n",
    "L = 100e-9\n",
    "C = 10e-12\n",
    "\n",
    "def freq(L,C):\n",
    "    return 1/(2 * np.pi * (L*C)**.5)\n",
    "\n",
    "f = freq(L,C)\n",
    "print('f = {:1.2e} Hz'.format(f))\n",
    "\n",
    "\n",
    "Cm = np.arange(0,1e-12,0.1e-12)\n",
    "\n",
    "plt.plot(Cm, freq(L,C+Cm))"
   ]
  },
  {
   "cell_type": "markdown",
   "metadata": {},
   "source": [
    "# FM directa usando un oscilador Clapps \n",
    "\n",
    "La manera más simple de lograrlo es usando un modulador de reactancia. \n",
    "Para su funcionamiento utiliza la señal modulante para modificar una reactancia en el circuito que determina la frecuencia. \n",
    "Una forma simple de construir un modulador de reactancia es instalar un varactor o diodo de reactancia variable dentro del circuito que determina la frecuencia en el oscilador de portadora. \n",
    "\n",
    "![ex 2.13](fig/FMdirectoColpitts.png)\n",
    "\n",
    "En la figura se ilustra un circuitos sencillo que usa un oscilador Clapp.\n",
    "\n",
    "El varactor tiene polarización inversa y ésta varía con la señal modulante.\n",
    "\n",
    " \n"
   ]
  },
  {
   "cell_type": "code",
   "execution_count": null,
   "metadata": {},
   "outputs": [],
   "source": []
  }
 ],
 "metadata": {
  "kernelspec": {
   "display_name": "Python 3",
   "language": "python",
   "name": "python3"
  },
  "language_info": {
   "codemirror_mode": {
    "name": "ipython",
    "version": 3
   },
   "file_extension": ".py",
   "mimetype": "text/x-python",
   "name": "python",
   "nbconvert_exporter": "python",
   "pygments_lexer": "ipython3",
   "version": "3.7.4"
  }
 },
 "nbformat": 4,
 "nbformat_minor": 2
}

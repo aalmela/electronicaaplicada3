{
 "cells": [
  {
   "cell_type": "markdown",
   "metadata": {},
   "source": [
    "# Descriminador de Foster-Seeley. \n",
    "\n",
    "\n",
    "\n",
    "Un discriminador de Foster-Seeley (a veces llamado un discriminador de desplazamiento de la fase) es un discriminador de frecuencia de circuito sintonizado, cuya operación es muy similar a la de un detector de pendiente balanceado. \n",
    "\n",
    "El circuito de Foster-Seeley funciona con una diferencia de fase entre las señales. \n",
    "\n",
    "![ex 2.13](fig/FosterSeeley_r1.png)\n",
    "\n",
    "Para las señales de distintas fases, se realiza una conexión en el lado primario del transformador, utilizando un capacitor, y esto se lleva al área central del transformador. \n",
    "Esto produce un defasaje de la señal que es $90$ grados.\n",
    "\n",
    "Cuando una portadora no modulada es aplicada en la frecuencia central, ambos diodos conducen para producir tensiones iguales y opuestas en sus respectivas resistencias de carga. \n",
    "\n",
    "Estas tensiones se anulan entre sí en la salida de manera que no hay tensión. \n",
    "\n",
    "A medida que la portadora se mueve en frecuencia, la condición de equilibrio de la frecuencia central pierde, y un diodo conduce más que el otro.\n",
    "\n",
    "Resultando entonces una incremento de la corriente a través de las resistencias siendo un voltaje mayor\n",
    "que otro, además de una tensión resultante en la salida correspondiente a la\n",
    "modulación de la señal de entrada. \n",
    "\n",
    "Es decir, transforma las frecuencias mayores a la fc en voltajes positivos, y a su vez las frecuencias menores a la fc las transforma en voltajes negativos. \n",
    "\n",
    "![ex 2.13](fig/FosterSeeley_lt1.png)\n",
    "\n",
    "\n"
   ]
  },
  {
   "cell_type": "markdown",
   "metadata": {},
   "source": [
    "El diagrama esquemático para un discriminador de Foster-Seeley se muestra en la figura. \n",
    "El valor de la capacidades para $C_c$ se elige para que sean cortocircuitos para la frecuencia central IF y $C_1$ y $C_2$ estan en resonancia con los inductores $L_1$, y $L_2$ respectivamente.  \n",
    "\n",
    "\n",
    "La IF que está entrando se invierte $180$ por el transformador, y se divide igualmente entre $L_a$ y $L_b$ En la frecuencia resonante del circuito tanque secundario (la frecuencia central de IF), la corriente del secundario ($I_s$) está en fase con el voltaje secundario total. Para el secundario formado por $L_{2b}$ la salida de tensión esta a $180$ grados respecto a la salida de $L_{2a}$.\n",
    "\n",
    "Los diagramas del vector correspondientes se muestran en la figura. \n",
    "La figura muestra que los voltajes a través de $D_1$,y $D_2$ son iguales. \n",
    "Por lo tanto, en la resonancia, $I_1$ y $I_2$ son iguales y consecuentemente, $V_{salida} = V_{c1} - V_{c2}= 0 V$. \n",
    "\n",
    "\n",
    "Cuando la IF sube por arriba de la resonancia ($X_L > X_C$), la impedancia del circuito tanque secundario se convierte en inductiva y la corriente secundaria se atrasa al voltaje secundario por un ángulo 0, lo cual es proporcional a la magnitud de la desviación de frecuencia. \n",
    "\n",
    "\n",
    "\n",
    "\n",
    "\n",
    "\n",
    "\n",
    "![ex 2.13](fig/FosterSeeley_avec.png)\n"
   ]
  },
  {
   "cell_type": "markdown",
   "metadata": {},
   "source": [
    "## Analisis\n",
    "\n",
    "\n",
    "\n",
    "![ex 2.13](fig/FosterSeeley_b.png)"
   ]
  },
  {
   "cell_type": "markdown",
   "metadata": {},
   "source": [
    "# \n",
    "\n",
    "Analizando las dos mallas\n",
    "\n",
    "\n",
    "------\n",
    "$v_i =  i_1 (SL_1)  + i_2 (-SM)$\n",
    "\n",
    "\n",
    "$0 =  i_1 (-SM)   + i_2 (SL_2+\\frac{1}{SC_2'}+R_2')$\n",
    "\n",
    "------\n",
    "\n",
    "\n",
    "$i_2 = \\frac{\\Delta i_2}{\\Delta} = \\frac{v_i SM}{(SL_1)\\cdot(SL_2+\\frac{1}{SC_2'}+R_2') - (SM)^2}$\n",
    "\n",
    "$i_2 = \\frac{v_i SM}{(S^2 L_1 L_2 +\\frac{S L_1}{SC_2'}+S L_1 R_2') - (SM)^2}$\n",
    "\n",
    "$i_2 = \\frac{v_i SM}{(S^2 (L_1 L_2 - (SM)^2) +\\frac{ L_1}{C_2'}+S L_1 R_2') }$\n",
    "\n",
    "$i_2 = \\frac{v_i SM C_2}{(S^2 (L_1 L_2 - M^2) C_2 + L_1+S L_1 R_2 C_2) }$\n",
    "\n",
    "$i_2 = \\frac{v_i SM C_2}{(S^2 L_1 L_2 (1 - k^2) C_2 + L_1+S L_1 R_2 C_2) }$\n",
    "\n",
    "$i_2 = \\frac{v_i SM C_2}{L_1 [S^2  L_2 (1 - k^2) C_2 +S R_2 C_2 + 1 ] }$\n",
    "\n",
    "$i_2 = \\sqrt{\\frac{L_2}{L_1}} k \\frac{v_i S C_2}{[S^2  L_2 (1 - k^2) C_2 +S R_2 C_2 + 1 ] }$\n",
    "\n",
    "\n",
    "La corriente $i_2$\n",
    "\n",
    "$i_2 = \\frac{v_2}{(R_2 + \\frac{1}{SC_2})}$\n",
    "\n",
    "\n",
    "Remplazando\n",
    "\n",
    "\n",
    "$\\frac{v_2}{(R_2 + \\frac{1}{SC_2})} = \\sqrt{\\frac{L_2}{L_1}} k \\frac{v_i S C_2}{[S^2  L_2 (1 - k^2) C_2 +S R_2 C_2 + 1 ] }$\n",
    "\n",
    "\n",
    "$\\frac{v_2}{v_i} = \\sqrt{\\frac{L_2}{L_1}} k \\frac{{(R_2 + \\frac{1}{SC_2})} C_2 S}{[S^2  L_2 (1 - k^2) C_2 +S R_2 C_2 + 1 ] }$\n",
    "\n",
    "\n",
    "$\\frac{v_2}{v_i} = \\sqrt{\\frac{L_2}{L_1}} k \\frac{{(S C_2 R_2 + 1)} }{[S^2  L_2 (1 - k^2) C_2 +S R_2 C_2 + 1 ] }$\n",
    "\n",
    "\n",
    "$\\frac{v_2}{v_i} = \\sqrt{\\frac{L_2}{L_1}} k \\frac{{(j\\omega C_2 R_2 + 1)} }{[-\\omega^2  L_2 (1 - k^2) C_2 +j\\omega R_2 C_2 + 1 ] }$\n",
    "\n",
    "\n",
    "De la ecuación:\n",
    "\n",
    "$\\omega_o = \\frac{1}{L_2 (1 - k^2) C_2}$\n",
    "\n",
    "$Q = \\frac{1}{\\omega R_2 C_2}$\n",
    "\n",
    "\n",
    "Remplazando \n",
    "\n",
    "$\\frac{v_2}{v_i} = \\sqrt{\\frac{L_2}{L_1}} k \\frac{{(j \\frac{1}{Q} + 1)} }{[(1- \\frac{\\omega^2}{\\omega_o^2})  +j \\frac{1}{Q}  ] }$\n",
    " \n",
    "$\\frac{v_2}{v_i} = \\sqrt{\\frac{L_2}{L_1}} k \\frac{{(1 - jQ)} }{1-jQ(1- \\frac{\\omega^2}{\\omega_o^2})   }$ \n",
    "\n",
    "\n",
    "\n",
    "Si $Q >> 1$, podemos simplificar \n",
    "\n",
    "## $\\frac{v_2}{v_i} = \\sqrt{\\frac{L_2}{L_1}} k \\frac{{( - jQ)} }{1-jQ(1- \\frac{\\omega^2}{\\omega_o^2})   }$\n",
    "\n",
    "\n",
    "\n",
    "La fase varia con $\\omega$ que es variable. \n",
    "\n",
    "La fase resulta:\n",
    "\n",
    "$\\varphi_2(\\frac{v_2}{v_i}) = -\\frac{\\pi}{2} - arctg(-Q(1- \\frac{\\omega^2}{\\omega_o^2}) )$\n",
    "\n",
    "$\\varphi_3(\\frac{v_2}{v_i}) = -\\frac{\\pi}{2} + arctg(-Q(1- \\frac{\\omega^2}{\\omega_o^2}) )$\n",
    "\n"
   ]
  },
  {
   "cell_type": "markdown",
   "metadata": {},
   "source": [
    "# Detector de relación.\n",
    "\n",
    "El detector de relación tiene una ventaja principal, sobre el detector de pendiente y el discriminador de Foster-Seeley, para la demodulación de FM; un detector de relación es relativamente inmune a las variaciones de amplitud en su señal de entrada. \n",
    "\n",
    "![ex 2.13](fig/detector_de_relacion_lt1.png)\n",
    "\n",
    "Como el discriminador de Foster-Seeley, el detector de relación tiene un circuito sintonizado sencillo en el secundario del transformador. \n",
    "\n",
    "Por lo tanto, la operación de un detector de relación es muy similar al discriminador de Foster-Seeley. \n",
    "\n",
    "En realidad, los vectores de voltaje para $D_1$ , y $D_2$, son idénticos a los del circuito del discriminador de Foster-Seeley. \n",
    "\n",
    "Sin embargo, con el detector de relación, un diodo está invertido ($D_2$) y la corriente ($I_d$) puede fluir alrededor del circuito más externo del circuito. \n",
    "\n",
    "Por lo tanto, después de varios ciclos de señal de entrada, el capacitor derivador $C$ se carga, aproximadamente al voltaje pico, a través del bobinado secundario de T1. \n",
    "\n",
    "La reactancia de $C_s$ es baja, y $R_s$ simplemente proporciona una trayectoria de d.c. para la\n",
    "corriente del diodo. \n",
    "\n",
    "Por lo tanto, la constante del tiempo para $R$, y $C$ es lo suficientemente grande de manera que los\n",
    "cambios rápidos en la amplitud de la señal de entrada, debidos al ruido térmico u otras señales interferentes son cortocircuitadas a tierra y no tienen efecto sobre el voltaje promedio a través de C. \n",
    "\n",
    "Consecuentemente, $C$, y $C_2$ cargan y descargan proporcionalmente a los cambios de frecuencia en la señal de entrada y son relativamente inmunes a las variaciones de la amplitud. \n",
    "\n",
    "Además, el voltaje de salida del detector de relación se toma con respecto a tierra, y para las polaridades de diodo mostradas, el voltaje promedio de salida es positivo. \n",
    "\n",
    "En resonancia, el voltaje de salida se divide igualmente entre $C_1$ y $C_2$ y se redistribuye conforme la frecuencia de entrada se desvía por arriba y por abajo de la resonancia. \n",
    "\n",
    "Por lo tanto, los cambios en $V_{salida}$ son debidos a la relación cambiante del voltaje a través de $C_1$ y $C_2$, mientras que el voltaje total se sujeta por $C_s$.\n",
    "\n",
    "La figura 7-6b muestra la curva de respuesta de la frecuencia de salida para el detector de relación mostrado en la figura 7-6a. Puede observarse que en resonancia, Vsalida no es igual a 0 V pero, más bien, es la mitad del voltaje a través de los bobinados secundarios de T1. \n",
    "\n",
    "Debido a que el detector de relación es relativamente inmune a las variaciones de amplitud, se selecciona frecuentemente sobre el discriminador. \n",
    "\n",
    "Sin embargo, un discriminador produce una curva de respuesta más lineal de voltaje de salida contra frecuencia.\n"
   ]
  },
  {
   "cell_type": "code",
   "execution_count": 2,
   "metadata": {},
   "outputs": [],
   "source": [
    "from __future__ import print_function\n",
    "from ipywidgets import interact, interactive, fixed, interact_manual\n",
    "import ipywidgets as widgets\n",
    "\n",
    "import numpy as np\n",
    "import matplotlib.pyplot as plt\n",
    "import scipy                  # http://scipy.org/\n",
    "from scipy import signal\n",
    "\n",
    "from scipy.fftpack import fft, fftfreq\n",
    "from time import time\n",
    "\n",
    "from IPython.display import Image  \n",
    "\n",
    "\n",
    "from matplotlib import animation\n",
    "from IPython.display import HTML\n",
    "\n",
    "%matplotlib inline\n",
    "#%matplotlib notebook\n",
    "params = {'legend.fontsize': 14,\n",
    "          'figure.figsize': (8, 8),\n",
    "         'axes.labelsize': 14,\n",
    "         'axes.titlesize': 14,\n",
    "         'xtick.labelsize':14,\n",
    "         'ytick.labelsize':14}\n",
    "\n",
    "plt.rcParams.update(params) "
   ]
  },
  {
   "cell_type": "markdown",
   "metadata": {},
   "source": [
    "# Ejercicio\n",
    "\n",
    "\n",
    "El detector de relación de la figura forma parte de un receptor superheterodino de FM y está conectado a la salida de la FI (10,7Mhz).\n",
    "\n",
    "![ex 2.13](fig/detector_de_relacion.png)\n",
    "\n",
    "El tanque $L_1C_1$ forma parte del último amplificador de FI y resuena en $10,7 MHz$.\n",
    "\n",
    "Asimismo el capacitor $C_2$ sintoniza a la serie $<L_{2a},L_{2b}>$ en la misma frecuencia con $Q=100$.\n",
    "\n",
    "$L_1$ y $L_2$ operan con acoplamiento crítico.\n",
    "\n",
    "Los detectores de envolvente ($D_1$,$R_1$,$C_3$ y $D_2$,$R_2$,$C_4$) operan con un rendimiento de detección de $0,8$ , no presentan ningún tipo de distorsión para cualquiera de las señales recibidas y la relación $\\frac{R_{in}}{R_{dc}} = 0,65$  \n",
    "\n",
    "\n",
    "La salida de FI ($V_1$) tiene $1 V_{pico}$; la señal se recibe modulada en frecuencia con un $\\Delta f =5 KHz$. \n",
    "La señal modulante es de telefonía $(300 Hz \\leq f_{mod} \\leq 3 KHz)$.\n",
    "\n",
    "DATOS:\n",
    "$L_1 = L_2$,    $ R_1=R_2=R_3=R_4= 10 K\\Omega$\n",
    "\n",
    "Todos los elementos reactivos tienen $Q_o$ infinito.\n",
    "\n",
    "\n",
    "Determinar:\n",
    "\n",
    "\n",
    "1. $L_2$, $C_2$\n",
    "\n",
    "2. Se recibe una portadora sin modular ($\\Delta f =0$), y considerando a $V_1$ como el origen de las fases,  calcular módulo, fase y frecuencia de las tensiones $V_2$, $V^{\\prime}$, $V^{\\prime \\prime}$, $V_A$,  $V_B$  y $V_{dem}$\n",
    "\n",
    "3.  Se recibe la señal modulada ($\\Delta f=5 KHz$, señal moduladora senoidal de $1 KHz$). Indicar los valores instantáneos de las tensiones $V_2$, $V^{\\prime}$, $V^{\\prime \\prime}$, $V_A$,  $V_B$  y $V_{dem}$ que resultan en el  pico positivo de modulación ($\\Delta f=+5 KHz$)\n",
    "\n",
    "4.  La señal de entrada cambia a $\\Delta f=75 KHz$ (señal moduladora se mantiene: senoidal de 1Khz) determinar $V_{dem}$\n",
    "\n",
    "5.  Asumiendo que la curva de detección responde a $V_{dem}=a.\\Delta f + b. \\Delta f^3$ determinar los coeficientes en base a los valores obtenidos en 3 y 4. Adicionalmente dibujarla a mano alzada, en el intervalo $ +/-75KHz$, superpuesta a la que correspondería a un detector lineal \n",
    "\n",
    "6. Para la curva alineal hallada en 5 determinar la distorsión de la señal detectada supuesto que la moduladora es una senoide pura de audio que produce un $.\\Delta f = 75 KHz$\n",
    "\n",
    "7. Supuesto que la FI entrega ruido de AM plano en la banda  $100 Hz \\leq Ruido \\leq 10 KHz$ determinar $C_5$ para minimizar el ruido de AM sin afectar las señales de audio recibidas, explicitando los criterios utilizados para su determinación.\n",
    "\n",
    "8.  Se cambia la señal de entrada por otra modulada en PM con un $ \\Delta  \\phi =180^\\circ{}$. Diseñar el circuito que a de conectarse a la salida (Borne $V_{dem}$) para recuperar una modulante de telefonía ($300 Hz \\leq f_{mod} \\leq 3 KHz$). La tensión recuperada deberá tener $1 V_{pico}$ para todas las frecuencias de audio posibles. El circuito debe ser analógico, para realizarlo se dispone de operacionales ideales, resistencias y capacitores en cantidad y valores que sean necesarios.\n",
    "\n",
    "\n",
    "\n",
    "\n"
   ]
  },
  {
   "cell_type": "markdown",
   "metadata": {},
   "source": [
    "# 1. $L_2$, $C_2$"
   ]
  },
  {
   "cell_type": "code",
   "execution_count": 3,
   "metadata": {},
   "outputs": [
    {
     "name": "stdout",
     "output_type": "stream",
     "text": [
      "5.7208822103485026e-11 3.867316374195588e-06\n"
     ]
    }
   ],
   "source": [
    "# 1\n",
    "R1  = 10e3\n",
    "R2  = 10e3\n",
    "R3  = 10e3\n",
    "R4  = 10e3\n",
    "Qc  = 100\n",
    "\n",
    "fif = 10.7e6\n",
    "wif = (2*np.pi*fif)\n",
    "\n",
    "Rdc = R1*R3/(R1+R3)\n",
    "Rin = 0.65 * Rdc\n",
    "\n",
    "Rint = 2*Rin\n",
    "\n",
    "XL2 = Rint/100\n",
    "\n",
    "L2a  = XL2/wif\n",
    "\n",
    "\n",
    "L2  = L2a*4\n",
    "\n",
    "C2 = 1/(L2*wif**2)\n",
    "\n",
    "print(C2,L2)\n",
    "\n",
    "\n"
   ]
  },
  {
   "cell_type": "markdown",
   "metadata": {},
   "source": [
    "# 2 Se recibe una portadora sin modular ($\\Delta f =0$), y considerando a $V_1$ como el origen de las fases,  calcular módulo, fase y frecuencia de las tensiones $V_2$, $V^{\\prime}$, $V^{\\prime \\prime}$, $V_A$,  $V_B$  y $V_{dem}$\n",
    "La transferencia del circuito \n",
    "\n",
    "$$\\frac{v'}{v_1} = 1 + \\sqrt{\\frac{L_{2a}}{L_1}} \\frac{{( - jQ k)} }{1-jQ(1- \\frac{\\omega^2}{\\omega_o^2})   }$$\n",
    "\n",
    "$$\\frac{v'}{v_1} = 1 + 0.5 \\frac{{( - j)} }{1-j100 (1- \\frac{\\omega^2}{\\omega_o^2})}$$\n",
    "\n",
    "donde  $\\omega_o = 2 \\pi 10.7MHz$\n",
    "\n",
    "Sin modular $\\omega = 2 \\pi 10.7MHz$, entonces\n",
    "\n",
    "$$v' = (1+ 0.5 \\frac{{( - j)} }{1-j100 (1- 1))}$$\n",
    "\n",
    "$$v' = v_1 (1-j0.5) = (1-j0.5) V$$\n",
    "\n",
    "Del mismo modo,\n",
    "\n",
    "$$v'' = v_1 (1+j0.5) = (1+j0.5) V$$\n",
    "\n",
    "Las tensiones de los dectores\n",
    "\n",
    "$$v_A =  0.8 \\cdot |v'| =  0.89 V$$\n",
    "\n",
    "$$v_B = -0.8 \\cdot |v''|= -0.89 V$$\n",
    "\n",
    "Entonces\n",
    "\n",
    "$$V_{dem} = \\frac{v_A - v_B}{R_3+R_4} \\cdot R_4 + v_B = 0 V$$"
   ]
  },
  {
   "cell_type": "code",
   "execution_count": 5,
   "metadata": {},
   "outputs": [
    {
     "name": "stdout",
     "output_type": "stream",
     "text": [
      "(1-0.5j)\n",
      "(1+0.5j)\n",
      "0.894427190999916\n",
      "-0.894427190999916\n",
      "Vdem = -0.0000 V\n"
     ]
    },
    {
     "data": {
      "text/plain": [
       "-1.1102230246251565e-16"
      ]
     },
     "execution_count": 5,
     "metadata": {},
     "output_type": "execute_result"
    }
   ],
   "source": [
    "k  = 1/Qc\n",
    "Df = 0\n",
    "v1 = 1\n",
    "fif= 10.7e6 \n",
    "def CalcVdem(fif, Df, v1, Qc, R3,R4,showme= True):\n",
    "    vp  = v1 *( 1-0.5j/(1-1j*Qc*(1-((fif+Df)/fif)**2)))\n",
    "    vpp = v1 *( 1+0.5j/(1-1j*Qc*(1-((fif+Df)/fif)**2)))\n",
    "    vA =  0.8*abs(vp)\n",
    "    vB = -0.8*abs(vpp)\n",
    "    Vdem = ((vA-vB)/(R3+R4))*R4 + vB\n",
    "    if showme:\n",
    "        print((vp) )\n",
    "        print((vpp) )\n",
    "        print(vA)\n",
    "        print(vB )\n",
    "        print('Vdem = {:1.4f} V'.format(Vdem))\n",
    "    return Vdem\n",
    "\n",
    "CalcVdem(fif, Df, v1, Qc, R3,R4)"
   ]
  },
  {
   "cell_type": "markdown",
   "metadata": {},
   "source": [
    "# 3.  Se recibe la señal modulada ($\\Delta f=5 KHz$, señal moduladora senoidal de $1 KHz$). Indicar los valores instantáneos de las tensiones $V_2$, $V^{\\prime}$, $V^{\\prime \\prime}$, $V_A$,  $V_B$  y $V_{dem}$ que resultan en el  pico positivo de modulación ($\\Delta f=+5 KHz$)\n",
    "La transferencia del circuito \n",
    "\n",
    "$\\omega_o = 2 \\pi 10.7MHz$\n",
    "\n",
    "Siendo $\\Delta f = 5KHz$ $\\omega = 2 \\pi 10.705MHz$, entonces\n",
    "\n",
    "$$\\frac{v'}{v_1} = 0.5 \\frac{{( - j)} }{1-j100 (1- \\frac{10.705MHz}{10.7MHz})}$$\n",
    "\n",
    "$$\\frac{v'}{v_1} = (0.953  -0.495j) V$$\n",
    "\n",
    "Del mismo modo,\n",
    "\n",
    "$$\\frac{v''}{v_1} = (1.0463 + 0.495j) V$$\n",
    "\n",
    "\n",
    "Las tensiones de los dectores\n",
    "\n",
    "$$v_A =  0.8 \\cdot |v'| =  0.859 V$$\n",
    "\n",
    "$$v_B = -0.8 \\cdot |v''|= -0.9262 V$$\n",
    "\n",
    "\n",
    "Entonces\n",
    "\n",
    "$$V_{dem} = \\frac{v_A - v_B}{R_3+R_4} \\cdot R_4 + v_B = -0.033 V$$"
   ]
  },
  {
   "cell_type": "code",
   "execution_count": 27,
   "metadata": {},
   "outputs": [
    {
     "name": "stdout",
     "output_type": "stream",
     "text": [
      "(0.9536650069650728-0.4956686150497317j)\n",
      "(1.0463349930349273+0.4956686150497317j)\n",
      "0.8598285676407871\n",
      "-0.9262411931568478\n",
      "Vdem = -0.0332 V\n"
     ]
    }
   ],
   "source": [
    "# El transformador funciona con acoplamiento crítico\n",
    "# k*Qc = 1\n",
    "\n",
    "k  = 1/Qc\n",
    "Df = 5e3 \n",
    "v1 = 1\n",
    "\n",
    "Vdem5 = CalcVdem(fif, Df, v1, Qc, R3,R4)"
   ]
  },
  {
   "cell_type": "markdown",
   "metadata": {},
   "source": [
    "# 4.  La señal de entrada cambia a $\\Delta f=75 KHz$ (señal moduladora se mantiene: senoidal de 1Khz) determinar $V_{dem}$"
   ]
  },
  {
   "cell_type": "markdown",
   "metadata": {},
   "source": [
    "La transferencia del circuito \n",
    "\n",
    "$\\omega_o = 2 \\pi 10.7MHz$\n",
    "\n",
    "Siendo $\\Delta f = 75KHz$ $\\omega = 2 \\pi 10.705MHz$, entonces\n",
    "\n",
    "$$\\frac{v'}{v_1} = 1 \\frac{{( - j0.5)} }{1-j100 (1- \\frac{10.705MHz}{10.7MHz})}$$\n",
    "\n",
    "$$\\frac{v'}{v_1} = (0.7638-0.1678j) V$$\n",
    "\n",
    "Del mismo modo,\n",
    "\n",
    "$$\\frac{v''}{v_1} = (1.236+0.16783j) V$$\n",
    "\n",
    "\n",
    "Las tensiones de los dectores\n",
    "\n",
    "$$v_A =  0.8 \\cdot |v'| =  0.62 V$$\n",
    "\n",
    "$$v_B = -0.8 \\cdot |v''|= -0.99 V$$\n",
    "\n",
    "\n",
    "\n",
    "Entonces\n",
    "\n",
    "$$V_{dem} = \\frac{v_A - v_B}{R_3+R_4} \\cdot R_4 + v_B = -0.1861 V$$"
   ]
  },
  {
   "cell_type": "code",
   "execution_count": 10,
   "metadata": {},
   "outputs": [
    {
     "name": "stdout",
     "output_type": "stream",
     "text": [
      "(0.7638863531227502-0.1678395121830124j)\n",
      "(1.2361136468772498+0.1678395121830124j)\n",
      "0.625686164059654\n",
      "-0.9979649853083242\n",
      "Vdem = -0.1861 V\n"
     ]
    }
   ],
   "source": [
    "# El transformador funciona con acoplamiento crítico\n",
    "# k*Qc = 1\n",
    "\n",
    "k  = 1/Qc\n",
    "Df = 75e3 \n",
    "v1 = 1\n",
    "\n",
    "Vdem75 = CalcVdem(fif, Df, v1, Qc, R3,R4)"
   ]
  },
  {
   "cell_type": "markdown",
   "metadata": {},
   "source": [
    "# 5.  Asumiendo que la curva de detección responde a $V_{dem}=a.\\Delta f + b. \\Delta f^3$ determinar los coeficientes en base a los valores obtenidos en 3 y 4. Adicionalmente dibujarla a mano alzada, en el intervalo $ +/-75KHz$, superpuesta a la que correspondería a un detector lineal "
   ]
  },
  {
   "cell_type": "code",
   "execution_count": 11,
   "metadata": {},
   "outputs": [
    {
     "data": {
      "image/png": "[encoded data removed]",
      "text/plain": [
       "<Figure size 432x288 with 1 Axes>"
      ]
     },
     "metadata": {
      "needs_background": "light"
     },
     "output_type": "display_data"
    }
   ],
   "source": [
    "#5\n",
    "plt.plot(   0,CalcVdem(fif,   0, v1, Qc, R3,R4,False),'x')\n",
    "plt.plot( 5e3,CalcVdem(fif, 5e3, v1, Qc, R3,R4,False),'x')\n",
    "plt.plot(75e3,CalcVdem(fif,75e3, v1, Qc, R3,R4,False),'x')\n",
    "plt.show()\n",
    "\n"
   ]
  },
  {
   "cell_type": "code",
   "execution_count": 15,
   "metadata": {},
   "outputs": [
    {
     "name": "stdout",
     "output_type": "stream",
     "text": [
      "a= -6.64e-06\n",
      "b= 6.03e-16\n"
     ]
    }
   ],
   "source": [
    "b = (Vdem5/5e3-Vdem75/57e3)/(5e3**2 - 75e3**2)\n",
    "\n",
    "\n",
    "a = Vdem5/5e3 - b * Vdem5**2 \n",
    "print('a= {:1.2e}'.format(a))\n",
    "print('b= {:1.2e}'.format(b))"
   ]
  },
  {
   "cell_type": "code",
   "execution_count": 26,
   "metadata": {},
   "outputs": [
    {
     "name": "stdout",
     "output_type": "stream",
     "text": [
      "a= -5.59e-06\n",
      "b= 6.08e-16\n"
     ]
    },
    {
     "data": {
      "image/png": "[encoded data removed]",
      "text/plain": [
       "<Figure size 432x288 with 1 Axes>"
      ]
     },
     "metadata": {
      "needs_background": "light"
     },
     "output_type": "display_data"
    }
   ],
   "source": [
    "from scipy.optimize import curve_fit\n",
    "\n",
    "def func(x, a, b):\n",
    "    return a*x + b*x**3\n",
    "\n",
    "xdata = np.linspace(-75e3, 75e3, 1e3)\n",
    "\n",
    "ydata = [CalcVdem(fif, Df, v1, Qc, R3,R4,showme= False) for Df in xdata]\n",
    "\n",
    "plt.plot(xdata,ydata)\n",
    "\n",
    "\n",
    "popt, pcov = curve_fit(func, xdata, ydata)\n",
    "[af,bf] = popt\n",
    "print('a= {:1.2e}'.format(af))\n",
    "print('b= {:1.2e}'.format(bf))\n",
    "\n",
    "plt.plot(xdata, func(xdata, *popt), 'r-')\n",
    "plt.grid()\n",
    "plt.show()"
   ]
  },
  {
   "cell_type": "markdown",
   "metadata": {},
   "source": [
    "#  6. Para la curva alineal hallada en 5 determinar la distorsión de la señal detectada supuesto que la moduladora es una senoide pura de audio que produce un $\\Delta f = 75 KHz$\n",
    "\n",
    "\n",
    "$THD = \\frac{ \\sum_{i=2}^{\\inf}{V_n}}{V_1}$\n",
    "\n",
    "Si la función tiene simetria par, los armanicos se calculan como:\n",
    "\n",
    "\n",
    "$I_{d_a} = \\frac{1}{n} \\sum_{i=0}^{n} idc_1(\\theta_m(i)) \\cdot cos(\\theta_m(i) \\cdot a)$\n",
    "\n"
   ]
  },
  {
   "cell_type": "code",
   "execution_count": 16,
   "metadata": {},
   "outputs": [
    {
     "data": {
      "image/png": "[encoded data removed]",
      "text/plain": [
       "<Figure size 432x288 with 1 Axes>"
      ]
     },
     "metadata": {
      "needs_background": "light"
     },
     "output_type": "display_data"
    }
   ],
   "source": [
    "thi   = np.linspace(0, 2*np.pi, 24)\n",
    "dft  = 75e3*np.sin(thi)\n",
    "vdem = func(dft, *popt)\n",
    "\n",
    "\n",
    "plt.plot(thi, vdem)\n",
    "plt.show()\n",
    "\n",
    "\n"
   ]
  },
  {
   "cell_type": "markdown",
   "metadata": {},
   "source": [
    "# 7. Supuesto que la FI entrega ruido de AM plano en la banda  $100 Hz \\leq Ruido \\leq 10 KHz$ determinar $C_5$ para minimizar el ruido de AM sin afectar las señales de audio recibidas, explicitando los criterios utilizados para su determinación.\n",
    "\n"
   ]
  },
  {
   "cell_type": "code",
   "execution_count": null,
   "metadata": {},
   "outputs": [],
   "source": []
  },
  {
   "cell_type": "markdown",
   "metadata": {},
   "source": [
    "# 8.  Se cambia la señal de entrada por otra modulada en PM con un $ \\Delta  \\phi =180^\\circ{}$. Diseñar el circuito que a de conectarse a la salida (Borne $V_{dem}$) para recuperar una modulante de telefonía ($300 Hz \\leq f_{mod} \\leq 3 KHz$). La tensión recuperada deberá tener $1 V_{pico}$ para todas las frecuencias de audio posibles. El circuito debe ser analógico, para realizarlo se dispone de operacionales ideales, resistencias y capacitores en cantidad y valores que sean necesarios."
   ]
  },
  {
   "cell_type": "code",
   "execution_count": null,
   "metadata": {},
   "outputs": [],
   "source": []
  }
 ],
 "metadata": {
  "kernelspec": {
   "display_name": "Python 3",
   "language": "python",
   "name": "python3"
  },
  "language_info": {
   "codemirror_mode": {
    "name": "ipython",
    "version": 3
   },
   "file_extension": ".py",
   "mimetype": "text/x-python",
   "name": "python",
   "nbconvert_exporter": "python",
   "pygments_lexer": "ipython3",
   "version": "3.7.4"
  }
 },
 "nbformat": 4,
 "nbformat_minor": 2
}

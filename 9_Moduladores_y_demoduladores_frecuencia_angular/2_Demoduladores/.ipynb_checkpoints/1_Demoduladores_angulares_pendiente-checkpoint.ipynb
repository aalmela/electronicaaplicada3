{
 "cells": [
  {
   "cell_type": "markdown",
   "metadata": {},
   "source": [
    "## Detector de pendiente.\n",
    "La figura muestra el diagrama esquemático para un detector dependiente unilateral, la cual es la forma más sencilla de discriminador de frecuencia de circuito sintonizado.\n",
    "El detector de pendiente unilateral tiene una gran cantidad de características de voltaje contra frecuencia no lineales y, por lo tanto, se usa raramente. Sin embargo, su operación de circuito es básico para todos los discriminadores de frecuencia de circuito sintonizado.\n",
    "\n",
    "En la figura, el circuito sintonizado ($L_a$ y $C_a$) produce un voltaje de salida que es proporcional a la frecuencia de entrada. \n",
    "El voltaje máximo de salida ocurre en la frecuencia resonante del circuito tanque ($f_c$) y su salida disminuye proporcionalmente conforme la frecuencia de entrada se desvía por encima o por debajo de $f_o$. \n",
    "\n",
    "El circuito está diseñado para que la frecuencia central IF ($f_c$) caiga en el centro de la porción más lineal de la curva de voltaje contra frecuencia, como está mostrado en la figura. \n",
    "Cuando la frecuencia intermedia se desvía por encima de $f_c$ , el voltaje de salida incrementa; cuando la frecuencia intermedia se desvía, por debajo de $f_c$, el voltaje de salida disminuye. \n",
    "Por lo tanto, el circuito sintonizado convierte las variaciones de frecuencia a variaciones de amplitud (conversión de de FM a AM). \n",
    "\n",
    "$D_i$ , $C_i$ y $R_i$ componen un detector de picos simple que convierte las variaciones de amplitud\n",
    "a un voltaje de salida que varía a una proporción igual a los cambios de entrada de frecuencia y de los cuales su amplitud es proporcional a la magnitud de los cambios de frecuencia.\n",
    "\n",
    "\n",
    "![ex 2.13](pendiente.png)"
   ]
  },
  {
   "cell_type": "code",
   "execution_count": 1,
   "metadata": {},
   "outputs": [],
   "source": [
    "from __future__ import print_function\n",
    "from ipywidgets import interact, interactive, fixed, interact_manual\n",
    "import ipywidgets as widgets\n",
    "\n",
    "import numpy as np\n",
    "import matplotlib.pyplot as plt\n",
    "import scipy                  # http://scipy.org/\n",
    "from scipy import signal\n",
    "\n",
    "from scipy.fftpack import fft, fftfreq\n",
    "from time import time\n",
    "\n",
    "from IPython.display import Image  \n",
    "\n",
    "\n",
    "from matplotlib import animation\n",
    "from IPython.display import HTML\n",
    "\n",
    "%matplotlib inline\n",
    "#%matplotlib notebook\n",
    "params = {'legend.fontsize': 14,\n",
    "          'figure.figsize': (8, 8),\n",
    "         'axes.labelsize': 14,\n",
    "         'axes.titlesize': 14,\n",
    "         'xtick.labelsize':14,\n",
    "         'ytick.labelsize':14}\n",
    "\n",
    "plt.rcParams.update(params) "
   ]
  },
  {
   "cell_type": "markdown",
   "metadata": {},
   "source": [
    "## Detector de pendiente balanceado.\n",
    "\n",
    "La figura muestra el diagrama esquemático para un detector de pendiente balanceado. \n",
    "Un detector de pendiente unilateral es un discriminador de frecuencia de un circuito sintonizado, y un detector de pendiente balanceado es simplemente dos detectores de pendiente unilaterales conectados en paralelo y alimentados $180$ fuera de fase. \n",
    "La inversión de fase se logra al conectar el\n",
    "\n",
    "FM a AM y los detectores de picos balanceados ($D_1$, $C_1$, $R_1$ y $D_2$, $C_2$, $R_2$ )remueven la información de la envolvente de AM.\n",
    "\n",
    "El circuito superior sintonizado ($L_a$ y $C_a$) se sintoniza a una frecuencia ($f_a$) que está por arriba de la frecuencia central IF ($f_o$ ) por aproximadamente $1.33 \\times \\Delta f$ (para la banda de radiodifusión de FM, esto es, aproximadamente $1.33 \\times 75 kHz = 100 kHz$). \n",
    "\n",
    "El circuito inferior sintonizado ($L_b$ y $C_b$) se sintoniza a una frecuencia ($f_b$) que está por debajo de la frecuencia central IF por una cantidad igual.\n",
    "La operación del circuito es muy sencilla. \n",
    "\n",
    "El voltaje de salida, de cada circuito sintonizado, es proporcional a la frecuencia de entrada y cada salida se rectifica por su detector de picos respectivo. \n",
    "\n",
    "Por lo tanto, mientras más cerca esté la frecuencia de entrada a la frecuencia resonante del circuito tanque, mayor es el voltaje de salida del circuito tanque. \n",
    "\n",
    "La frecuencia central de IF cae exactamente a la mitad, entre las frecuencias resonantes y los dos\n",
    "circuitos sintonizados. Por lo tanto, en la frecuencia central de IF los voltajes de salida de los dos circuitos sintonizados son iguales en amplitud, pero opuestos en polaridad. Consecuentemente, el voltaje de salida rectificado a través de $R_1$ y $R_2$ ,cuando se suman, produce un voltaje de salida diferencial $V_{salida} = 0 V$. \n",
    "\n",
    "Cuando la IF se desvía por arriba de la resonancia, el circuito superior sintonizado produce un voltaje de salida más alto que el circuito tanque inferior y Vsalida se hace positivo. Cuando la IF se desvía por abajo de la resonancia, el voltaje de salida del circuito tanque inferior es más grande que el voltaje de salida del circuito tanque superior, y $V_{salida}$ se hace negativo. \n",
    "La curva de respuesta de salida contra frecuencia se muestra en la Figura.\n",
    "\n",
    "Aunque el detector de pendiente es probablemente el detector de FM más sencillo, tiene varias desventajas inherentes, las cuales incluyen, una mala función lineal, dificultad para sintonizar y la falta de provisiones para limitar. \n",
    "\n",
    "Debido a que la limitación no es proporcional un detector de pendiente produce un voltaje de salida que es proporcional a la amplitud, así como las variaciones de la frecuencia en la señal de entrada y, consecuentemente, debe estar precedido por una etapa limitadora separada. Un detector de pendiente balanceado se alinea inyectando una frecuencia igual a la frecuencia central IF y sintonizando a $C_a$ y $C_b$ para $0 V$ a la salida. \n",
    "\n",
    "Entonces las frecuencias iguales a $f_a$ y $f_b$ se inyectan alternadamente, mientras que Ca y Cb se sintonizan para voltajes iguales y máximos de salida con polaridades opuestas.\n",
    "\n",
    "![ex 2.13](pendienteBalanceado.png)"
   ]
  },
  {
   "cell_type": "code",
   "execution_count": null,
   "metadata": {},
   "outputs": [],
   "source": []
  }
 ],
 "metadata": {
  "kernelspec": {
   "display_name": "Python 3",
   "language": "python",
   "name": "python3"
  },
  "language_info": {
   "codemirror_mode": {
    "name": "ipython",
    "version": 3
   },
   "file_extension": ".py",
   "mimetype": "text/x-python",
   "name": "python",
   "nbconvert_exporter": "python",
   "pygments_lexer": "ipython3",
   "version": "3.7.4"
  }
 },
 "nbformat": 4,
 "nbformat_minor": 2
}

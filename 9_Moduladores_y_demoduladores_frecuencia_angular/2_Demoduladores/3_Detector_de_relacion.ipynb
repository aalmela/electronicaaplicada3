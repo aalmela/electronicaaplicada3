{
 "cells": [
  {
   "cell_type": "markdown",
   "metadata": {},
   "source": [
    "# Detector de relación.\n",
    "\n",
    "El detector de relación tiene una ventaja principal, sobre el detector de pendiente y el discriminador de Foster-Seeley, para la demodulación de FM; un detector de relación es relativamente inmune a las variaciones de amplitud en su señal de entrada. \n",
    "\n",
    "![ex 2.13](fig/detector_de_relacion_lt1.png)\n",
    "\n",
    "Como el discriminador de Foster-Seeley, el detector de relación tiene un circuito sintonizado sencillo en el secundario del transformador. \n",
    "\n",
    "Por lo tanto, la operación de un detector de relación es muy similar al discriminador de Foster-Seeley. \n",
    "\n",
    "En realidad, los vectores de voltaje para $D_1$ , y $D_2$, son idénticos a los del circuito del discriminador de Foster-Seeley. \n",
    "\n",
    "Sin embargo, con el detector de relación, un diodo está invertido ($D_2$) y la corriente ($I_d$) puede fluir alrededor del circuito más externo del circuito. \n",
    "\n",
    "Por lo tanto, después de varios ciclos de señal de entrada, el capacitor derivador $C$ se carga, aproximadamente al voltaje pico, a través del bobinado secundario de T1. \n",
    "\n",
    "La reactancia de $C_s$ es baja, y $R_s$ simplemente proporciona una trayectoria de d.c. para la\n",
    "corriente del diodo. \n",
    "\n",
    "Por lo tanto, la constante del tiempo para $R$, y $C$ es lo suficientemente grande de manera que los\n",
    "cambios rápidos en la amplitud de la señal de entrada, debidos al ruido térmico u otras señales interferentes son cortocircuitadas a tierra y no tienen efecto sobre el voltaje promedio a través de C. \n",
    "\n",
    "Consecuentemente, $C$, y $C_2$ cargan y descargan proporcionalmente a los cambios de frecuencia en la señal de entrada y son relativamente inmunes a las variaciones de la amplitud. \n",
    "\n",
    "Además, el voltaje de salida del detector de relación se toma con respecto a tierra, y para las polaridades de diodo mostradas, el voltaje promedio de salida es positivo. \n",
    "\n",
    "En resonancia, el voltaje de salida se divide igualmente entre $C_1$ y $C_2$ y se redistribuye conforme la frecuencia de entrada se desvía por arriba y por abajo de la resonancia. \n",
    "\n",
    "Por lo tanto, los cambios en $V_{salida}$ son debidos a la relación cambiante del voltaje a través de $C_1$ y $C_2$, mientras que el voltaje total se sujeta por $C_s$.\n",
    "\n",
    "La figura 7-6b muestra la curva de respuesta de la frecuencia de salida para el detector de relación mostrado en la figura 7-6a. Puede observarse que en resonancia, Vsalida no es igual a 0 V pero, más bien, es la mitad del voltaje a través de los bobinados secundarios de T1. \n",
    "\n",
    "Debido a que el detector de relación es relativamente inmune a las variaciones de amplitud, se selecciona frecuentemente sobre el discriminador. \n",
    "\n",
    "Sin embargo, un discriminador produce una curva de respuesta más lineal de voltaje de salida contra frecuencia.\n"
   ]
  },
  {
   "cell_type": "code",
   "execution_count": null,
   "metadata": {},
   "outputs": [],
   "source": []
  }
 ],
 "metadata": {
  "kernelspec": {
   "display_name": "Python 3",
   "language": "python",
   "name": "python3"
  },
  "language_info": {
   "codemirror_mode": {
    "name": "ipython",
    "version": 3
   },
   "file_extension": ".py",
   "mimetype": "text/x-python",
   "name": "python",
   "nbconvert_exporter": "python",
   "pygments_lexer": "ipython3",
   "version": "3.7.0"
  }
 },
 "nbformat": 4,
 "nbformat_minor": 2
}

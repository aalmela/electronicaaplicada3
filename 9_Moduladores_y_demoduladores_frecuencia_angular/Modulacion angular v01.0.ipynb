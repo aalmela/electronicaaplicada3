{
 "cells": [
  {
   "cell_type": "markdown",
   "metadata": {},
   "source": [
    "## Modulaciones angulares\n",
    "En las modulaciones angulares, es la fase  o la frecuencia de la portadora la que es modulada.\n",
    "\n",
    "$$c(t)=A_{c}\\cos(\\theta(t))$$\n",
    "\n",
    "$$\\theta = \\omega _{c}t + k_p S_m(t)$$\n",
    "\n",
    "Existe dos tipos de modulaciones angulares.\n",
    "\n",
    "## FM (Frequency Modulation) \n",
    "\n",
    "$$F_{FM}(t) = A_c\\cos( (\\omega_c + k_{FM} \\cdot F(t) )\\cdot t )$$\n",
    "\n",
    "\n",
    "Para las modulaciones en frecuencia FM se varia la frecuencia angular $\\theta_i(t)$\n",
    "\n",
    "$$\\theta _{i}(t) = (\\omega_c + k_{FM} F(t) ) \\cdot t $$\n",
    "\n",
    "\n",
    "\n",
    "## PM (Phase Modulation)\n",
    "\n",
    "$$F_{PM}(t) = A_c\\cos(\\omega_c t + k_{PM} \\cdot F_m(t) )$$\n",
    "\n",
    "\n",
    "Para las modulaciones en fase PM se varia el ángunlo segun la desviación instantanea de la fase $\\theta_i(t)$\n",
    "\n",
    "$$\\theta _{i}(t) = \\omega t + k_{PM} F(t)$$ \n",
    "\n",
    "La diferencia entre modulación de frecuencia FM y de fase  PM radica en cuál propiedad de la portadora (frecuencia o fase) se encuentra variando directamente con la modulante y cuál propiedad esta variando indirectamente. \n",
    "Siempre que la frecuencia de la portadora está variando, también lo hace la fase y viceversa. \n",
    "Cuando la frecuencia de la portadora varía directamente con la modulante, se está en presencia de FM, pero si lo que se varía con la modulante es la fase de la portadora, se está en presencia de PM, entonces una FM directa provoca una PM indirecta y una PM directa provoca una FM indirecta.\n",
    "\n",
    "\n",
    "\n",
    "\n",
    "\n"
   ]
  },
  {
   "cell_type": "markdown",
   "metadata": {},
   "source": [
    "\n",
    "\n",
    "Al modular en fase se produce una variación en la frecuencia instantánea de la señal, la que también variará de acuerdo con la modulación, la desviación de frecuencia instantánea (velocidad angular) se expresa mediante la derivada de la desviación de fase instantánea respecto del tiempo, esto es:\n",
    "\n",
    "\n",
    "$$  \\frac{\\partial \\theta_{i}(t)}{\\partial t} = \\omega _{i}(t) $$\n",
    "\n",
    "\n",
    "La frecuencia es la derivada de la fase.\n",
    "\n",
    "\n",
    "$$ \\omega _{i}(t) = \\frac{\\partial (\\omega_c \\cdot t + \\theta_o + k_{PM} F(t) )}{\\partial t}$$\n",
    "\n",
    "$$ \\omega _{i}(t) = \\omega_c  + k_{PM} \\frac{\\partial  F(t) }{\\partial t}$$\n",
    "\n",
    "Si $F(t) = sin(\\omega_m t)$\n",
    "\n",
    "$$ \\omega _{i}(t) = \\omega_c  + k_{PM} \\omega_m cos(\\omega_m t)$$\n",
    "\n",
    "\n",
    "La modulación de frecuencia resulta cuando la desviación instantánea de frecuencia, es directamente proporcional a la amplitud instantánea de la señal de modulación. \n",
    "\n",
    "La fase instantánea se expresa mediante:\n",
    "\n",
    "$$ \\theta_{i}(t) = \\omega_c \\cdot t  + k_{FM} \\int F(t) dt $$\n",
    "\n",
    "\n",
    "Para las modulaciones  en frecuencia FM se varia la frecuencia $\\omega$\n",
    "\n",
    "$$\\theta _{i}(t) = \\omega_i(t) \\cdot t$$ \n",
    "\n",
    "$$\\omega_c(t) = \\omega_c + k_{FM} F(t)$$\n",
    "\n",
    "\n",
    "![ex 2.13](RelacionesPMFM.png)"
   ]
  },
  {
   "cell_type": "markdown",
   "metadata": {},
   "source": [
    "### Modulacion en Fase (PM)\n",
    "\n",
    "$$F_{PM}(t) = A_c\\cos(\\omega_\\mathrm{c}t + k_p \\cdot f_m(t) )$$\n",
    "\n",
    "si $f_m(t) = \\Delta v_m \\cos (\\omega_m \\cdot t)$\n",
    "\n",
    "$$F_{PM}(t) = A_c\\cos(\\omega_\\mathrm{c}t + k_p \\cdot \\Delta v_m \\cos (\\omega_m \\cdot t))$$\n",
    "\n",
    "donde \n",
    "\n",
    "$$\\omega_i = \\frac{\\partial \\theta}{\\partial t}$$\n",
    "\n",
    "$$\\omega_i = \\omega_c - k_p \\Delta v_m \\omega_m \\sin (\\omega_m \\cdot t)$$\n",
    "\n",
    "donde llamamos como indice de modulación de fase: \n",
    "\n",
    "$$\\beta_p = k_p \\Delta v_m \\omega_m $$\n",
    "\n",
    "Donde vemos que \n",
    "\n",
    "$$\\Delta \\omega= k_p \\Delta v_m \\omega_m$$"
   ]
  },
  {
   "cell_type": "markdown",
   "metadata": {},
   "source": [
    "### Modulacion en Frecuencia (FM)\n",
    "\n",
    "$$F_{fm}= \\cos[w_c t + k_f \\int f{(t)} dt]$$\n",
    "\n",
    "si $f_m(t) = \\Delta v_m \\cos (\\omega_m \\cdot t)$\n",
    "\n",
    "$$F_{fm}= \\cos[w_c t + k_f \\int \\Delta v_m \\cos (\\omega_m \\cdot t) dt]$$\n",
    "\n",
    "$$F_{fm}= \\cos[w_c t + \\frac{k_f  \\Delta v_m}{\\omega_m} \\sin (\\omega_m \\cdot t) ]$$\n",
    "\n",
    "\n",
    "donde llamamos como indice de modulación de frecuencia: \n",
    "\n",
    "$$\\beta_f = \\frac{k_p \\Delta v_m}{\\omega_m} = \\frac{\\Delta \\omega_m}{\\omega_m}  $$"
   ]
  },
  {
   "cell_type": "code",
   "execution_count": 1,
   "metadata": {},
   "outputs": [],
   "source": [
    "from __future__ import print_function\n",
    "from ipywidgets import interact, interactive, fixed, interact_manual\n",
    "import ipywidgets as widgets\n",
    "\n",
    "\n",
    "from scipy import signal\n",
    "from scipy.fftpack import fft, fftfreq\n",
    "from time import time\n",
    "\n",
    "import math\n",
    "import numpy as np\n",
    "import matplotlib.pyplot as plt\n",
    "import scipy                  # http://scipy.org/\n",
    "import scipy.odr, scipy.special, scipy.stats \n",
    "import sys\n",
    "import pandas as pd\n",
    "from scipy import stats\n",
    "from scipy import integrate\n",
    "\n",
    "from IPython.display import Image  \n",
    "\n",
    "params = {'legend.fontsize': 24,\n",
    "          'figure.figsize': (15, 5),\n",
    "         'axes.labelsize': 24,\n",
    "         'axes.titlesize': 24,\n",
    "         'xtick.labelsize':24,\n",
    "         'ytick.labelsize':24}\n",
    "plt.rcParams.update(params)\n",
    "\n"
   ]
  },
  {
   "cell_type": "code",
   "execution_count": 2,
   "metadata": {},
   "outputs": [],
   "source": [
    "# Ejemplo FM en el tiempo\n",
    "# modulante\n",
    "fm    = 5 #Hz\n",
    "# Periodo de la frecuencia minima\n",
    "fmmin = 4 \n",
    "fmmax = 10\n",
    "T     = 2/fmmin\n",
    "Am    = 0.5   \n",
    "\n",
    "# carrier\n",
    "fc    = 40\n",
    "\n",
    "kf    = (2*np.pi*fc)/10  # rad/volt\n",
    "kp    = (2*np.pi)/4     # fase/volt\n",
    "Ac    = 1\n",
    "\n",
    "# defino el sampleo\n",
    "Fs = 20*fc #Sps \n",
    "dt = 1/Fs\n",
    "# tiempo maximo del analisis \n",
    "\n",
    "# vector de tiempo \n",
    "t  = np.arange(0., T, dt)\n",
    "\n",
    "\n",
    "def mod(Am,fm,time,stype='square', modulation = 'FM',fc = fc, Ac = Ac ,show = 'time'):\n",
    "\n",
    "    if stype == 'square':  Sm = Am*signal.square(2*np.pi*fm*time)\n",
    "    elif stype == 'ramp'  :  Sm = Am*signal.sawtooth(2*np.pi*fm*time)\n",
    "    else                :  Sm = Am*np.cos(2*np.pi*fm*time) \n",
    "\n",
    "    # modulada\n",
    "    if modulation == 'FM': \n",
    "        Smo  = Ac*np.cos( (2*np.pi*fc+ kf*Sm)*time )  \n",
    "    else    : \n",
    "        Smo  = Ac*np.cos(2*np.pi*fc*time + kp*Sm) \n",
    "    \n",
    "\n",
    "    if show == 'time':\n",
    "        plt.plot(t, Sm, 'b-')\n",
    "        plt.plot(t, Smo, 'r-')\n",
    "        plt.ylabel('PM(t)/V')\n",
    "        plt.xlabel('Time/s')\n",
    "        plt.show()    \n",
    "    else :\n",
    "        Y = fft(Smo) / len(Smo)  # Normalizada\n",
    "        frq = fftfreq(len(Smo), dt)  # Recuperamos las frecuencias\n",
    "\n",
    "        plt.stem(frq, np.abs(Y), 'ro-' )  # Representamos la parte imaginaria\n",
    "        plt.ylim(-0.1, 0.8)\n",
    "        plt.xlabel('$Frecuencia/Hz$')\n",
    "        plt.ylabel('$Abs(Y)$')\n",
    "        plt.xlim([0,100])\n",
    "        plt.grid()\n",
    "        plt.show()"
   ]
  },
  {
   "cell_type": "code",
   "execution_count": 3,
   "metadata": {
    "scrolled": false
   },
   "outputs": [
    {
     "data": {
      "application/vnd.jupyter.widget-view+json": {
       "model_id": "008d9ba121364d2499805cd234e4a6e2",
       "version_major": 2,
       "version_minor": 0
      },
      "text/plain": [
       "interactive(children=(FloatSlider(value=0.0, description='Am', max=1.0), FloatSlider(value=7.0, description='f…"
      ]
     },
     "metadata": {},
     "output_type": "display_data"
    },
    {
     "data": {
      "text/plain": [
       "<function __main__.mod(Am, fm, time, stype='square', modulation='FM', fc=40, Ac=1, show='time')>"
      ]
     },
     "execution_count": 3,
     "metadata": {},
     "output_type": "execute_result"
    }
   ],
   "source": [
    "%matplotlib inline\n",
    "interact(mod, Am=(0,1,0.1), fm=(fmmin,fmmax,0.2),time = fixed(t),stype=['square','ramp','sin'], modulation = ['FM','PM'],fc = fixed(fc), Ac = fixed(Ac), show = ['time','freq']  )"
   ]
  },
  {
   "cell_type": "code",
   "execution_count": null,
   "metadata": {},
   "outputs": [],
   "source": []
  },
  {
   "cell_type": "code",
   "execution_count": null,
   "metadata": {},
   "outputs": [],
   "source": []
  }
 ],
 "metadata": {
  "kernelspec": {
   "display_name": "Python 3",
   "language": "python",
   "name": "python3"
  },
  "language_info": {
   "codemirror_mode": {
    "name": "ipython",
    "version": 3
   },
   "file_extension": ".py",
   "mimetype": "text/x-python",
   "name": "python",
   "nbconvert_exporter": "python",
   "pygments_lexer": "ipython3",
   "version": "3.8.8"
  },
  "latex_envs": {
   "LaTeX_envs_menu_present": true,
   "autoclose": false,
   "autocomplete": true,
   "bibliofile": "biblio.bib",
   "cite_by": "apalike",
   "current_citInitial": 1,
   "eqLabelWithNumbers": true,
   "eqNumInitial": 1,
   "hotkeys": {
    "equation": "Ctrl-E",
    "itemize": "Ctrl-I"
   },
   "labels_anchors": false,
   "latex_user_defs": false,
   "report_style_numbering": false,
   "user_envs_cfg": false
  }
 },
 "nbformat": 4,
 "nbformat_minor": 1
}

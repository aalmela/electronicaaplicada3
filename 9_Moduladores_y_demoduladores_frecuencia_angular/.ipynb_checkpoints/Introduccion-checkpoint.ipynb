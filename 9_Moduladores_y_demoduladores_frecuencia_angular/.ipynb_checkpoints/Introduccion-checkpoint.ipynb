{
 "cells": [
  {
   "cell_type": "markdown",
   "metadata": {},
   "source": [
    "# Introducción\n",
    "\n",
    "Los receptores que se utilizan para las señales de modulación angular son muy similares a los que se usan para la recepción de AM o SSB convencional, excepto por el método utilizado para extraer la información de audio de la forma de onda de IF compuesta. \n",
    "\n",
    "En los receptores de FM, el voltaje a la salida del detector de audio es directamente proporcional a la desviación de frecuencia en su entrada. \n",
    "Con los receptores de PM, el voltaje a la salida del detector de audio es directamente proporcional a la desviación de fase en su entrada. Debido a que la modulación de frecuencia y de fase ocurren con cualquiera de los sistemas de modulación angular, las señales de FM pueden demodularse por los receptores de PM y viceversa. \n",
    "Por lo tanto, los circuitos usados para demodular las señales de FM y de PM se describen bajo el encabezado de \"Receptores de FM.\"\n",
    "\n",
    "Con el AM convencional, la señal modulante se imprime en la portadora en la forma de variaciones de ampli-\n",
    "tud. \n",
    "Sin embargo, el ruido introducido en el sistema también produce cambios en la amplitud de la envolvente. Por lo tanto, el ruido no puede eliminarse de la forma de onda compuesta sin también eliminar una parte de la señal de información. Con la modulación angular, la información se imprime en la portadora en la forma de variaciones de frecuencia o fase. \n",
    "Por lo tanto, con los receptores de modulación angular, las variaciones de amplitud causadas por el\n",
    "ruido pueden eliminarse de la forma de onda compuesta simplemente limitando (recortando) los picos de la envolvente antes de la detección. \n",
    "Con la modulación angular, se logra una mejora en la relación señal-a-ruido durante el proceso de demodulación; por lo tanto, el funcionamiento del sistema, en presencia de ruido, se puede mejorar al limitarlo. \n",
    "\n",
    "Esencialmente, esta es la ventaja principal de la modulación angular sobre la AM convencional.\n",
    "Los propósitos de este capítulo son introducir al lector a las configuraciones y circuitos básicos de receptor, utilizados para la recepción y demodulación de señales de FM y de PM, así como a la descripción del funcionamiento y describir cómo difieren de la AM convencional o de los receptores de banda lateral única. \n",
    "Además, se describen varios sistemas de comunicaciones de FM, incluyendo la FM de dos sentidos y el radio celular.\n",
    "\n",
    "##  Receptores de modulaciones angulares\n",
    "\n",
    "La etapa del detector en un receptor de FM es bastante diferente a los utilizados en los receptores de AM. \n",
    "\n",
    "El detector de envolvente (pico) utilizado en los receptores de AM convencionales se reemplaza por un limitador, discriminador de frecuencia y red de deénfasis. \n",
    "El circuito del limitador y red de deénfasis contribuyen a la mejora en la relación de S/N que se logra en la etapa del demodulador. \n",
    "\n",
    "Para los receptores de banda de radiodifusión de FM, el primer IF es de una frecuencia relativamente alta (generalmente, $10.7 MHz$) para un buen rechazo a la frecuencia imagen, y el segundo IF es una frecuencia relativamente baja (normalmente $455 kHz$), que les permite a los amplificadores de IF tener una ganancia\n",
    "relativamente alta y aun así no son susceptibles a romperse en las oscilaciones.\n",
    "\n",
    "\n",
    "## Demoduladores de FM\n",
    "Los demoduladores de FM son circuitos dependientes de la frecuencia que producen un voltaje de salida que\n",
    "es directamente proporcional a la frecuencia instantánea en su entrada ($V_{salida} = K \\Delta f$ , en donde $K$ está en voltios por hertz y es la función de transferencia para el demodulador, y Δ f es la diferencia, entre la frecuencia de entrada y la frecuencia central del demodulador). \n",
    "Se usan varios circuitos para demodular las señales de FM. \n",
    "\n",
    "Los más comunes son el detector de pendiente, discriminador de Foster-Seeley, detector de relación, demodulador de PLL y detector en cuadratura. \n",
    "\n",
    "El detector de pendiente, discriminador de Foster-Seeley y el detector de relación son todos\n",
    "formas de discriminadores de frecuencia de circuito sintonizado. \n",
    "\n",
    "Los discriminadores de frecuencia de circuito sintonizado se convierten de FM a AM y después demodulan la envolvente de AM con detectores de picos convencionales. \n",
    "\n",
    "Además, la mayoría de los discriminadores de frecuencia requieren de una inversión de fase de 180°, un\n",
    "circuito sumador y uno o más circuitos dependientes de la frecuencia.\n",
    "\n",
    "Los demoduladores de FM están constituidos por circuitos que entregan en su salida, una  tensión cuya amplitud es  proporcional  al corrimiento de frecuencia de la señal de entrada  (Vsal = f K)  donde  K  es  la  función  de  transferencia  del  demodulador  y fes  la diferencia entre la frecuencia central del demodulador y la frecuencia de entrada.\n",
    "\n",
    "\n",
    "Existen  varios  tipos  de  circuitos  que  demodulan  señales  de  FM,  los  más  utilizados son por ejemplo:\n",
    "\n",
    "1. Detector de Pendiente\n",
    "2. Discriminador de Foster-Seeley\n",
    "3. Discriminador de Razón\n",
    "4. Detector de Cuadratura\n",
    "5. Demodulador con PLL"
   ]
  },
  {
   "cell_type": "code",
   "execution_count": null,
   "metadata": {},
   "outputs": [],
   "source": []
  }
 ],
 "metadata": {
  "kernelspec": {
   "display_name": "Python 3",
   "language": "python",
   "name": "python3"
  },
  "language_info": {
   "codemirror_mode": {
    "name": "ipython",
    "version": 3
   },
   "file_extension": ".py",
   "mimetype": "text/x-python",
   "name": "python",
   "nbconvert_exporter": "python",
   "pygments_lexer": "ipython3",
   "version": "3.7.4"
  }
 },
 "nbformat": 4,
 "nbformat_minor": 2
}

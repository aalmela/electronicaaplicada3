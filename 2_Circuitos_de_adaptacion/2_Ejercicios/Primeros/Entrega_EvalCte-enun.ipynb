{
 "cells": [
  {
   "cell_type": "markdown",
   "metadata": {},
   "source": [
    "# Ejercicio 1\n",
    "\n",
    "![11-cuatrocientos](fig/eje_MTE_Qcte_a.png)\n",
    "\n",
    "En la figura se muestra un filtro sintonizado realizado con un inductor y un capacitor que esta sintonizado a $f = 10\\,MHz$.\n",
    "\n",
    "Suponga que los elementos reactivos no tiene perdidas ($Q_o = \\infty$). \n",
    "\n",
    "La fuente tiene una $P_{disp} = 100\\,pW$ a $f = 10\\,MHz$.\n",
    "\n",
    "Para adaptar máxima transferencia de energía con $Q_c = 20$\n",
    "\n",
    "Calcular \n",
    "\n",
    "1. $R_{L}$\n",
    "\n",
    "2. Ancho  de banda\n",
    "\n",
    "3. $L_1$.\n",
    "\n",
    "4. $C_1$  \n",
    "\n",
    "5. Corriente de la fuente\n",
    "\n",
    "6. La potencia sobre la carga.\n",
    "\n",
    "\n"
   ]
  },
  {
   "cell_type": "code",
   "execution_count": null,
   "metadata": {},
   "outputs": [],
   "source": []
  }
 ],
 "metadata": {
  "kernelspec": {
   "display_name": "Python 3",
   "language": "python",
   "name": "python3"
  },
  "language_info": {
   "codemirror_mode": {
    "name": "ipython",
    "version": 3
   },
   "file_extension": ".py",
   "mimetype": "text/x-python",
   "name": "python",
   "nbconvert_exporter": "python",
   "pygments_lexer": "ipython3",
   "version": "3.8.8"
  },
  "latex_envs": {
   "LaTeX_envs_menu_present": true,
   "autoclose": false,
   "autocomplete": true,
   "bibliofile": "biblio.bib",
   "cite_by": "apalike",
   "current_citInitial": 1,
   "eqLabelWithNumbers": true,
   "eqNumInitial": 1,
   "hotkeys": {
    "equation": "Ctrl-E",
    "itemize": "Ctrl-I"
   },
   "labels_anchors": false,
   "latex_user_defs": false,
   "report_style_numbering": false,
   "user_envs_cfg": false
  }
 },
 "nbformat": 4,
 "nbformat_minor": 2
}

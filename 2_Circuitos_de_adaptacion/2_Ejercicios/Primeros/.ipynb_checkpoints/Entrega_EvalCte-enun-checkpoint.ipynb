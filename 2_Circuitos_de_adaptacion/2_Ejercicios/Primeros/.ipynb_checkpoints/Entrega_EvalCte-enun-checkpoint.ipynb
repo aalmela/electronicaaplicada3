{
 "cells": [
  {
   "cell_type": "markdown",
   "metadata": {},
   "source": [
    "# Ejercicio 1\n",
    "\n",
    "![11-cuatrocientos](fig/eje_MTE_Qcte_a.png)\n",
    "\n",
    "En la figura se muestra un filtro sintonizado realizado con un inductor y un capacitor que esta sintonizado a $f = 10\\,MHz$.\n",
    "\n",
    "Suponga que los elementos reactivos no tiene perdidas ($Q_o = \\infty$). \n",
    "\n",
    "La fuente tiene una $P_{disp} = 100\\,pW$ a $f = 10\\,MHz$.\n",
    "\n",
    "Para adaptar máxima transferencia de energía con $Q_c = 20$\n",
    "\n",
    "Calcular \n",
    "\n",
    "1. $R_{L}$\n",
    "\n",
    "2. Ancho  de banda\n",
    "\n",
    "3. $L_1$.\n",
    "\n",
    "4. $C_1$  \n",
    "\n",
    "5. Corriente de la fuente\n",
    "\n",
    "6. La potencia sobre la carga.\n",
    "\n",
    "\n",
    "Respuestas\n",
    "\n",
    "1. $R_L$ = 10.00\n",
    "2. Ancho  de banda = 500000.00 Hz\n",
    "3. $L_1$ = 3.979 nHy\n",
    "4. $C_1$   = 63.66 nF\n",
    "5. Corriente de la fuente= 8.94e-05 A\n",
    "6. La potencia sobre la carga. = 1.00e-10 W\n",
    "\n",
    "\n"
   ]
  },
  {
   "cell_type": "code",
   "execution_count": 2,
   "metadata": {},
   "outputs": [
    {
     "name": "stdout",
     "output_type": "stream",
     "text": [
      "BW= 500000.00 Hz\n",
      ".param ig  =  8.944e-05\n",
      ".param fo  =  1.000e+07\n",
      ".param rg  =  10.000\n",
      ".param L  =  3.9789e-09\n",
      ".param C =  6.366e-08\n",
      ".param RL  =  10.000\n"
     ]
    }
   ],
   "source": [
    "import numpy as np\n",
    "# Datos\n",
    "QoL = np.inf\n",
    "QoC = np.inf\n",
    "\n",
    "zg     = 10  \n",
    "Pdisp  = 100e-12 # W RMS\n",
    "Qc     = 20\n",
    "\n",
    "fo     =  10e6\n",
    "wo     = 2*np.pi*fo\n",
    "\n",
    "\n",
    "# Calculo la impedancia de la fuente para el modelo paralelo\n",
    "rg = zg.real \n",
    "\n",
    "#Para MTE_Qcte \n",
    "RL = rg\n",
    "\n",
    "BW = fo/Qc\n",
    "print(\"BW= {:1.2f} Hz\".format(BW))\n",
    "# Calculo de L\n",
    "#1/Qc = 1/Qo + wo L /Rext\n",
    "\n",
    "Rext = rg*RL/(rg+RL)\n",
    "\n",
    "L = Rext/Qc/wo\n",
    "\n",
    "\n",
    "# Calculo de C1\n",
    "C = 1/ (L * wo**2)\n",
    "\n",
    "ig = (Pdisp*8*rg)**.5\n",
    "\n",
    "\n",
    "print('.param ig  =  {:1.3e}'.format(ig) )\n",
    "print('.param fo  =  {:1.3e}'.format(fo) )\n",
    "print('.param rg  =  {:1.3f}'.format(rg) )\n",
    "\n",
    "print('.param L  =  {:1.4e}'.format(L) )\n",
    "print('.param C =  {:1.3e}'.format(C) )\n",
    "\n",
    "print('.param RL  =  {:1.3f}'.format(RL) )\n",
    "\n"
   ]
  },
  {
   "cell_type": "code",
   "execution_count": 15,
   "metadata": {},
   "outputs": [
    {
     "name": "stdout",
     "output_type": "stream",
     "text": [
      "1. $RL$ = 10.00\n",
      "2. Ancho  de banda = 500000.00 Hz\n",
      "3. $L_1$ = 3.979 nHy\n",
      "4. $C_1$   = 63.66 nF\n",
      "5. Corriente de la fuente= 8.94e-05 A\n",
      "6. La potencia sobre la carga. = 1.00e-10 W\n"
     ]
    }
   ],
   "source": [
    "print('1. $RL$ = {:1.2f}'.format(RL))\n",
    "\n",
    "print('2. Ancho  de banda = {:1.2f} Hz'.format(BW))\n",
    "\n",
    "print('3. $L_1$ = {:1.3f} nHy'.format(L/1e-9))\n",
    "\n",
    "print('4. $C_1$   = {:1.2f} nF'.format(C/1e-9))\n",
    "\n",
    "print('5. Corriente de la fuente= {:1.2e} A'.format(ig))\n",
    "\n",
    "print('6. La potencia sobre la carga. = {:1.2e} W'.format(Pdisp))\n",
    "\n",
    "\n",
    "\n",
    "\n",
    "\n",
    "\n",
    "\n",
    "\n",
    "\n",
    "\n",
    "\n"
   ]
  },
  {
   "cell_type": "code",
   "execution_count": null,
   "metadata": {},
   "outputs": [],
   "source": []
  }
 ],
 "metadata": {
  "kernelspec": {
   "display_name": "Python 3",
   "language": "python",
   "name": "python3"
  },
  "language_info": {
   "codemirror_mode": {
    "name": "ipython",
    "version": 3
   },
   "file_extension": ".py",
   "mimetype": "text/x-python",
   "name": "python",
   "nbconvert_exporter": "python",
   "pygments_lexer": "ipython3",
   "version": "3.7.0"
  },
  "latex_envs": {
   "LaTeX_envs_menu_present": true,
   "autoclose": false,
   "autocomplete": true,
   "bibliofile": "biblio.bib",
   "cite_by": "apalike",
   "current_citInitial": 1,
   "eqLabelWithNumbers": true,
   "eqNumInitial": 1,
   "hotkeys": {
    "equation": "Ctrl-E",
    "itemize": "Ctrl-I"
   },
   "labels_anchors": false,
   "latex_user_defs": false,
   "report_style_numbering": false,
   "user_envs_cfg": false
  }
 },
 "nbformat": 4,
 "nbformat_minor": 2
}

{
 "cells": [
  {
   "cell_type": "markdown",
   "metadata": {},
   "source": [
    "### Ejemplo adaptador tipo  L, adaptador para antena de 11m.\n",
    "\n",
    "Supóngase querer adaptar una antena látigo de cuarto de onda diseñada para operar a $28.5MHz$, cuya impedacia es de $37.5+j21.25 ohms$.\n",
    "\n",
    "Se desea emplear la misma antena a la frecuencia de $f_{RF} = 3 MHz$, donde presenta una impedancia de  $Z_{ant}= 2 \\Omega - j \\frac{1}{2 \\pi 3MHz 30pF}$.\n",
    "\n",
    "![30-cuatrocientos](fig/eje_a_antena.png)\n",
    "\n",
    "Se desea que el equipo transmisor, la fuente de corriente, tenga una carga de $Z_{in} = 50\\Omega+j0\\Omega$ @ $28.5 MHz$ para que esté adaptada, se recurre así al circuito de adaptación mostrado en la figura compuesto por L y C. \n",
    "\n",
    "Suponga que la resistencia de perdida de L es despresiable. \n",
    "\n",
    "La potencia disponible del transmisor es $P_{disp} = 100 W$. \n",
    "\n",
    "Realcular el adaptador para la frecuencia de $f_{RF} = 3 MHz$."
   ]
  }
 ],
 "metadata": {
  "kernelspec": {
   "display_name": "Python 3",
   "language": "python",
   "name": "python3"
  },
  "language_info": {
   "codemirror_mode": {
    "name": "ipython",
    "version": 3
   },
   "file_extension": ".py",
   "mimetype": "text/x-python",
   "name": "python",
   "nbconvert_exporter": "python",
   "pygments_lexer": "ipython3",
   "version": "3.7.0"
  },
  "latex_envs": {
   "LaTeX_envs_menu_present": true,
   "autoclose": false,
   "autocomplete": true,
   "bibliofile": "biblio.bib",
   "cite_by": "apalike",
   "current_citInitial": 1,
   "eqLabelWithNumbers": true,
   "eqNumInitial": 1,
   "hotkeys": {
    "equation": "Ctrl-E",
    "itemize": "Ctrl-I"
   },
   "labels_anchors": false,
   "latex_user_defs": false,
   "report_style_numbering": false,
   "user_envs_cfg": false
  }
 },
 "nbformat": 4,
 "nbformat_minor": 2
}

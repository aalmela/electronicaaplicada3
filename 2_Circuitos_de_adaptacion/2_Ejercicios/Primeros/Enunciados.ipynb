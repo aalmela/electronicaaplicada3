{
 "cells": [
  {
   "cell_type": "markdown",
   "metadata": {},
   "source": [
    "# Ejercicio 1\n",
    "\n",
    "![11-cuatrocientos](fig/eje_MTE_Qcte_a.png)\n",
    "\n",
    "En la figura se muestra un filtro sintonizado realizado con un inductor y un capacitor que esta sintonizado a $f = 10\\,MHz$.\n",
    "\n",
    "El inductor tiene un $Q_{oL}(10MHz) = 100$ y suponga que el capacitor tiene $ESR\\sim 0\\Omega$. \n",
    "\n",
    "La fuente tiene una $P_{disp} = 200\\,pW$ a $f = 10\\,MHz$.\n",
    "\n",
    "\n",
    "\n",
    "\n",
    "1. Calcule $L_1$ y $C_1$ para adaptar máxima transferencia de energía a $R_L$ con $Q_c = 20$ y el generador a $10MHz$ (recuerde que para esta condición $R_L = r_g$ .\n",
    "2. Calcule la impedancia de entrada del adaptador cargado a $10 MHz$. \n",
    "3. La potencia sobre la carga.\n",
    "4. La potencia de entrada al adaptador (la potencia entregada por la fuente al adaptador y carga).\n",
    "5. Verificar utilizando simuladores.  \n"
   ]
  },
  {
   "cell_type": "markdown",
   "metadata": {},
   "source": [
    "# Ejercicio 2\n",
    "\n",
    "En la figura se muestra un circuitos de adaptación realizado con un inductor y un capacitor. El inductor tiene un $Q_{oL} = 100$ y el capacitor tiene $ESR= 1\\Omega$. La fuente tiene una $P_{disp} = 10nW$ a $100MHz$.\n",
    "\n",
    "\n",
    "![11-cuatrocientos](fig/eje_MTE_Qte_b.png)\n",
    "\n",
    "1. Calcule $L_1$, $C_1$ y $Q_c$ del circuito resultante para adaptar MTEcte la carga y el generador a $100MHz$ mediante conversiones serie-paralelo. \n",
    "2. Verificar usando la carta de Smith.\n",
    "3. Calcule la potencia entregada por la fuente, la potencia en la carga y verificar usando simuladores. "
   ]
  },
  {
   "cell_type": "markdown",
   "metadata": {},
   "source": [
    "# Ejercicio 3\n",
    "\n",
    "\n",
    "\n",
    "![ejercicio2](fig/eje_BJT_a.png)\n",
    "\n",
    "\n",
    "El circuito amplificador transistorizado sintonizado, el cual corresponde a la etapa de salida.\n",
    "\n",
    "A la frecuencia $f_o = 1 MHz$, el transistor presenta una impedancia de salida $Z_{out} = 2500 \\Omega - j 8000 \\Omega$ y un tiene una corriente de salida de $i_o = 200 \\mu A$  \n",
    "\n",
    "\n",
    "La resistencia de carga es de $R_L = 100 \\Omega$. \n",
    "\n",
    "Suponiendo que el capacitor de $C_1$ y el inductor $L_1$ tiene pérdidas despreciables.\n",
    "\n",
    "Calcular para máxima transferencia de energía hacia la carga:\n",
    "\n",
    "1. $L_1$\n",
    "\n",
    "2. $C_1$ \n",
    "\n",
    "3. $P_{R_L}$. \n",
    "\n",
    "El inductor $L_1$ disponible para el valor necesario presenta un factor de merito de $Q_o = 50$ a la frecuencia de trabajo.\n",
    "\n",
    "4. El nuevo valor de $L_1$.\n",
    "\n",
    "5. $C_1$ que sintoniza a $L_1$, tenga en cuenta la capacidad de salida del transistor. \n",
    "\n",
    "6. $Z_{in}$\n",
    "\n",
    "7. $P_{R_L}$\n",
    "\n",
    "8. Potencia a la entrada del adaptador. "
   ]
  },
  {
   "cell_type": "markdown",
   "metadata": {},
   "source": [
    "###  Ejercicio 4\n",
    "\n",
    "Supóngase querer adaptar una antena látigo de cuarto de onda diseñada para operar a $144 MHz$, cuya impedacia es de $20 - j2.25 ohms$.\n",
    "\n",
    "\n",
    "![30-cuatrocientos](fig/eje_a_antena.png)\n",
    "\n",
    "Se desea que el equipo transmisor, la fuente de corriente, tenga una carga de $Z_{in} = 50\\Omega+j0\\Omega$ @ $144 MHz$. \n",
    "\n",
    "Para que esté adaptador, se recurre así al circuito de adaptación mostrado en la figura compuesto por L y C. \n",
    "\n",
    "La potencia disponible del transmisor es $P_{disp} = 10 W$. \n",
    "\n",
    "Calcular suponiendo elementos reactivos sin perdidas.\n",
    "\n",
    "1. $L$\n",
    "\n",
    "2. $C$ \n",
    "\n",
    "3. $P_{RL}$\n",
    "\n",
    "Se desea emplear la misma antena a la frecuencia de $f_{RF} = 110 MHz$, donde presenta una impedancia de  $Z_{ant}= 10 \\Omega -  j500 ohms$.\n",
    "\n",
    "\n",
    "6. $L$\n",
    "\n",
    "7. $C$ \n",
    "\n",
    "8. $P_{RL}$\n"
   ]
  },
  {
   "cell_type": "code",
   "execution_count": null,
   "metadata": {},
   "outputs": [],
   "source": []
  }
 ],
 "metadata": {
  "kernelspec": {
   "display_name": "Python 3",
   "language": "python",
   "name": "python3"
  },
  "language_info": {
   "codemirror_mode": {
    "name": "ipython",
    "version": 3
   },
   "file_extension": ".py",
   "mimetype": "text/x-python",
   "name": "python",
   "nbconvert_exporter": "python",
   "pygments_lexer": "ipython3",
   "version": "3.8.8"
  },
  "latex_envs": {
   "LaTeX_envs_menu_present": true,
   "autoclose": false,
   "autocomplete": true,
   "bibliofile": "biblio.bib",
   "cite_by": "apalike",
   "current_citInitial": 1,
   "eqLabelWithNumbers": true,
   "eqNumInitial": 1,
   "hotkeys": {
    "equation": "Ctrl-E",
    "itemize": "Ctrl-I"
   },
   "labels_anchors": false,
   "latex_user_defs": false,
   "report_style_numbering": false,
   "user_envs_cfg": false
  }
 },
 "nbformat": 4,
 "nbformat_minor": 2
}

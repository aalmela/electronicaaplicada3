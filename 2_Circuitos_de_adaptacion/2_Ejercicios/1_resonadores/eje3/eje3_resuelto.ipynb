{
 "cells": [
  {
   "cell_type": "markdown",
   "id": "6c6188bf",
   "metadata": {},
   "source": [
    "# Ejercicio 3\n",
    "\n",
    "![](resonador.png)\n",
    "\n",
    "En la figura se muestra un filtro sintonizado realizado con un inductor y un capacitor que esta sintonizado a $f = 10\\,MHz$.\n",
    "\n",
    "El inductor tiene un $Q_{oL}(10MHz) = 100$ y suponga que el capacitor tiene $ESR\\sim 0\\Omega$. \n",
    "\n",
    "La fuente tiene una $P_{disp} = 200\\,pW$ a $f = 10\\,MHz$.\n",
    "\n",
    "\n",
    "\n",
    "Calcule para adaptar máxima transferencia de energía a $r_l$ con $Q_c = 20$ y el generador a $f = 10MHz$ (recuerde que para esta condición $r_l = r_g$ .\n",
    "\n",
    "1. $L_1$ \n",
    "2. $C_1$ \n",
    "3. $r_p$ a $f =10 MHz$ del inductor. \n"
   ]
  },
  {
   "cell_type": "markdown",
   "id": "371de6c9",
   "metadata": {},
   "source": []
  },
  {
   "cell_type": "code",
   "execution_count": 9,
   "id": "657f57a6",
   "metadata": {},
   "outputs": [],
   "source": [
    "import numpy as np\n"
   ]
  },
  {
   "cell_type": "code",
   "execution_count": 10,
   "id": "28fb699d",
   "metadata": {},
   "outputs": [],
   "source": [
    "f   = 10e6 #Hz\n",
    "QoL = 100  \n",
    "Qc  = 20  \n",
    "rg  = 50   #ohms\n"
   ]
  },
  {
   "cell_type": "code",
   "execution_count": 11,
   "id": "f68a4a58",
   "metadata": {},
   "outputs": [
    {
     "name": "stdout",
     "output_type": "stream",
     "text": [
      ".param rg  =  50.0 \n",
      ".param rp  =  100.0 \n",
      ".param L1  =  1.592e-08 \n",
      ".param C1  =  1.592e-08 \n",
      ".param rl  =  50.0 \n"
     ]
    }
   ],
   "source": [
    "wo   = 2*np.pi*f\n",
    "rl   = rg\n",
    "rext = rl*rg/(rl+rg)\n",
    "L1   = ((1/Qc)-(1/QoL))*rext/wo\n",
    "C1   = 1/(wo**2*L1)\n",
    "rp   = QoL*wo*L1\n",
    "\n",
    "print('.param rg  =  {:1.1f} '.format(rg) )\n",
    "print('.param rp  =  {:1.1f} '.format(rp) )\n",
    "print('.param L1  =  {:1.3e} '.format(L1) )\n",
    "print('.param C1  =  {:1.3e} '.format(C1) )\n",
    "print('.param rl  =  {:1.1f} '.format(rl) )\n"
   ]
  },
  {
   "cell_type": "code",
   "execution_count": null,
   "id": "83c03319",
   "metadata": {},
   "outputs": [],
   "source": []
  }
 ],
 "metadata": {
  "kernelspec": {
   "display_name": "Python 3",
   "language": "python",
   "name": "python3"
  },
  "language_info": {
   "codemirror_mode": {
    "name": "ipython",
    "version": 3
   },
   "file_extension": ".py",
   "mimetype": "text/x-python",
   "name": "python",
   "nbconvert_exporter": "python",
   "pygments_lexer": "ipython3",
   "version": "3.8.8"
  }
 },
 "nbformat": 4,
 "nbformat_minor": 5
}

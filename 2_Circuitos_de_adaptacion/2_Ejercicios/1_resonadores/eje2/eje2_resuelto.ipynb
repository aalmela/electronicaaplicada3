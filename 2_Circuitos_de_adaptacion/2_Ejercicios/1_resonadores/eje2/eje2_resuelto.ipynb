{
 "cells": [
  {
   "cell_type": "markdown",
   "id": "19e32245",
   "metadata": {},
   "source": [
    "# Ejercicio 2\n",
    "\n",
    "Dado un capacitor de $C = 100 pF$ con un $Q_o = 400$ a $F = 100 MHz$\n",
    "\n",
    "![11-cuatrocientos](capacitor.png)\n",
    "\n",
    "Calcular para la frecuencia de $F = 100MHz$\n",
    "\n",
    "1. $C_s$ del modelo serie \n",
    "2. $rp_s$ del modelo serie \n",
    "3. $C_p$ del modelo paralelo \n",
    "4. $rp_p$ del modelo paralelo "
   ]
  },
  {
   "cell_type": "code",
   "execution_count": 16,
   "id": "07519d26",
   "metadata": {},
   "outputs": [],
   "source": [
    "import numpy as np\n",
    "\n"
   ]
  },
  {
   "cell_type": "code",
   "execution_count": 22,
   "id": "def5899c",
   "metadata": {},
   "outputs": [],
   "source": [
    "#Datos\n",
    "C   = 100e-12 # F\n",
    "QoC = 400   \n",
    "f   = 100e6   # Hz\n",
    "\n",
    "w   = 2*np.pi*f"
   ]
  },
  {
   "cell_type": "code",
   "execution_count": 23,
   "id": "b13675d7",
   "metadata": {},
   "outputs": [
    {
     "name": "stdout",
     "output_type": "stream",
     "text": [
      ".param rs  =  1.6e-04 \n",
      ".param Cs  =  1.000e-10 \n"
     ]
    }
   ],
   "source": [
    "# circuito serie \n",
    "rs = 1/QoC*(w*C) \n",
    "Cs = C\n",
    "\n",
    "print('.param rs  =  {:1.1e} '.format(rs) )\n",
    "print('.param Cs  =  {:1.3e} '.format(Cs) )\n"
   ]
  },
  {
   "cell_type": "code",
   "execution_count": 24,
   "id": "08caf54f",
   "metadata": {},
   "outputs": [
    {
     "name": "stdout",
     "output_type": "stream",
     "text": [
      ".param rp  =  6366.2 \n",
      ".param Cp  =  1.000e-10 \n"
     ]
    }
   ],
   "source": [
    "# circuitos paralelo\n",
    "rp = QoC/(w*C)\n",
    "Cp = C\n",
    "\n",
    "print('.param rp  =  {:1.1f} '.format(rp) )\n",
    "print('.param Cp  =  {:1.3e} '.format(Cp) )\n"
   ]
  },
  {
   "cell_type": "code",
   "execution_count": null,
   "id": "9e14a351",
   "metadata": {},
   "outputs": [],
   "source": []
  }
 ],
 "metadata": {
  "kernelspec": {
   "display_name": "Python 3",
   "language": "python",
   "name": "python3"
  },
  "language_info": {
   "codemirror_mode": {
    "name": "ipython",
    "version": 3
   },
   "file_extension": ".py",
   "mimetype": "text/x-python",
   "name": "python",
   "nbconvert_exporter": "python",
   "pygments_lexer": "ipython3",
   "version": "3.8.8"
  }
 },
 "nbformat": 4,
 "nbformat_minor": 5
}

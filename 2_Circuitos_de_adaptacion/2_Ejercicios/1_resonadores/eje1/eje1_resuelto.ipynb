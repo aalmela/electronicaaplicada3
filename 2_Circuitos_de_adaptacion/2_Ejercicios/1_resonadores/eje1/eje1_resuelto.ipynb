{
 "cells": [
  {
   "cell_type": "markdown",
   "id": "a88bcfce",
   "metadata": {},
   "source": [
    "# Ejercicio 1\n",
    "\n",
    "Dado un inductor de $L = 1\\mu Hy$ con un $Q_o = 40$ a $F = 10 MHz$\n",
    "\n",
    "![11-cuatrocientos](inductor.png)\n",
    "\n",
    "Calcular para la frecuencia de $F = 10MHz$\n",
    "\n",
    "1. $L_s$ del modelo serie \n",
    "2. $rp_s$ del modelo serie \n",
    "3. $L_p$ del modelo paralelo \n",
    "4. $rp_p$ del modelo paralelo "
   ]
  },
  {
   "cell_type": "code",
   "execution_count": 19,
   "id": "4c16016f",
   "metadata": {},
   "outputs": [],
   "source": [
    "import numpy as np\n"
   ]
  },
  {
   "cell_type": "code",
   "execution_count": 20,
   "id": "f1e39256",
   "metadata": {},
   "outputs": [],
   "source": [
    "#Datos\n",
    "L   = 1e-6 #Hy\n",
    "QoL = 40\n",
    "f   = 10e6  #Hz\n",
    "\n",
    "w   = 2*np.pi*f"
   ]
  },
  {
   "cell_type": "code",
   "execution_count": 23,
   "id": "f683a9a4",
   "metadata": {},
   "outputs": [
    {
     "name": "stdout",
     "output_type": "stream",
     "text": [
      ".param rs  =  1.6 \n",
      ".param Ls  =  1.000e-06 \n"
     ]
    }
   ],
   "source": [
    "# circuito serie \n",
    "rs = (w*L)/QoL \n",
    "Ls = L\n",
    "\n",
    "print('.param rs  =  {:1.1f} '.format(rs) )\n",
    "print('.param Ls  =  {:1.3e} '.format(Ls) )\n"
   ]
  },
  {
   "cell_type": "code",
   "execution_count": 24,
   "id": "ca9e161a",
   "metadata": {},
   "outputs": [
    {
     "name": "stdout",
     "output_type": "stream",
     "text": [
      ".param rp  =  2513.3 \n",
      ".param Lp  =  1.000e-06 \n"
     ]
    }
   ],
   "source": [
    "# circuitos paralelo\n",
    "rp = QoL*w*L\n",
    "Lp = L\n",
    "\n",
    "print('.param rp  =  {:1.1f} '.format(rp) )\n",
    "print('.param Lp  =  {:1.3e} '.format(Lp) )\n"
   ]
  },
  {
   "cell_type": "code",
   "execution_count": null,
   "id": "4b484ac2",
   "metadata": {},
   "outputs": [],
   "source": []
  }
 ],
 "metadata": {
  "kernelspec": {
   "display_name": "Python 3",
   "language": "python",
   "name": "python3"
  },
  "language_info": {
   "codemirror_mode": {
    "name": "ipython",
    "version": 3
   },
   "file_extension": ".py",
   "mimetype": "text/x-python",
   "name": "python",
   "nbconvert_exporter": "python",
   "pygments_lexer": "ipython3",
   "version": "3.8.8"
  }
 },
 "nbformat": 4,
 "nbformat_minor": 5
}

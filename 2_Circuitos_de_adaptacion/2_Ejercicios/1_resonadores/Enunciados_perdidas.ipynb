{
 "cells": [
  {
   "cell_type": "markdown",
   "id": "10d994ca",
   "metadata": {},
   "source": [
    "# Ejercicio 1\n",
    "\n",
    "Dado un inductor de $L = 1\\mu Hy$ con un $Q_o = 40$ a $F = 10 MHz$\n",
    "\n",
    "![11-cuatrocientos](eje1/inductor.png)\n",
    "\n",
    "Calcular para la frecuencia de $F = 10MHz$\n",
    "\n",
    "1. $L_s$ del modelo serie \n",
    "2. $rp_s$ del modelo serie \n",
    "3. $L_p$ del modelo paralelo \n",
    "4. $rp_p$ del modelo paralelo \n"
   ]
  },
  {
   "cell_type": "markdown",
   "id": "e430ca4d",
   "metadata": {},
   "source": [
    "# Ejercicio 2\n",
    "\n",
    "Dado un capacitor de $C = 100 pF$ con un $Q_o = 400$ a $F = 100 MHz$\n",
    "\n",
    "![11-cuatrocientos](eje2/capacitor.png)\n",
    "\n",
    "Calcular para la frecuencia de $F = 100MHz$\n",
    "\n",
    "1. $C_s$ del modelo serie \n",
    "2. $rp_s$ del modelo serie \n",
    "3. $C_p$ del modelo paralelo \n",
    "4. $rp_p$ del modelo paralelo "
   ]
  },
  {
   "cell_type": "markdown",
   "id": "a93e9f12",
   "metadata": {},
   "source": [
    "# Ejercicio 3\n",
    "\n",
    "![](eje3/resonador.png)\n",
    "\n",
    "En la figura se muestra un filtro sintonizado realizado con un inductor y un capacitor que esta sintonizado a $f = 10\\,MHz$.\n",
    "\n",
    "El inductor tiene un $Q_{oL}(10MHz) = 100$ y suponga que el capacitor tiene $ESR\\sim 0\\Omega$. \n",
    "\n",
    "La fuente tiene una $P_{disp} = 200\\,pW$ a $f = 10\\,MHz$.\n",
    "\n",
    "\n",
    "\n",
    "Calcule para adaptar máxima transferencia de energía a $r_l$ con $Q_c = 20$ y el generador a $f = 10MHz$ (recuerde que para esta condición $r_l = r_g$ .\n",
    "\n",
    "1. $L_1$ \n",
    "2. $C_1$ \n",
    "3. $r_p$ a $f =10 MHz$ del inductor. \n"
   ]
  }
 ],
 "metadata": {
  "kernelspec": {
   "display_name": "Python 3",
   "language": "python",
   "name": "python3"
  },
  "language_info": {
   "codemirror_mode": {
    "name": "ipython",
    "version": 3
   },
   "file_extension": ".py",
   "mimetype": "text/x-python",
   "name": "python",
   "nbconvert_exporter": "python",
   "pygments_lexer": "ipython3",
   "version": "3.8.8"
  }
 },
 "nbformat": 4,
 "nbformat_minor": 5
}

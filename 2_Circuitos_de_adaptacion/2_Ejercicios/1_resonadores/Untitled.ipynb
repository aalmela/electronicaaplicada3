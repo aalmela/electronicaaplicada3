{
 "cells": [
  {
   "cell_type": "markdown",
   "id": "6fcec6c6",
   "metadata": {},
   "source": [
    "# Ejercicio 1\n",
    "\n",
    "Dado un inductor de $L = 1\\mu Hy$ con un $Q_o = 40$ a $F = 10 MHz$\n",
    "\n",
    "![11-cuatrocientos](inductor.png)\n",
    "\n",
    "Calcular para la frecuencia de $F = 10MHz$\n",
    "\n",
    "1. $L_s$ del modelo serie \n",
    "2. $rp_s$ del modelo serie \n",
    "3. $L_p$ del modelo paralelo \n",
    "4. $rp_p$ del modelo paralelo "
   ]
  },
  {
   "cell_type": "code",
   "execution_count": null,
   "id": "c07ac45d",
   "metadata": {},
   "outputs": [],
   "source": []
  }
 ],
 "metadata": {
  "kernelspec": {
   "display_name": "Python 3",
   "language": "python",
   "name": "python3"
  },
  "language_info": {
   "codemirror_mode": {
    "name": "ipython",
    "version": 3
   },
   "file_extension": ".py",
   "mimetype": "text/x-python",
   "name": "python",
   "nbconvert_exporter": "python",
   "pygments_lexer": "ipython3",
   "version": "3.8.8"
  }
 },
 "nbformat": 4,
 "nbformat_minor": 5
}

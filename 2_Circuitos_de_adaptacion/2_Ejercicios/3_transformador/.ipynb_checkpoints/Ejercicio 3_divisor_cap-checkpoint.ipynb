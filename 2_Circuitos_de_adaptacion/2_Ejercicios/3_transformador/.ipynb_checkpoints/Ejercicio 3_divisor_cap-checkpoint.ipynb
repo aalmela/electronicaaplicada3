{
 "cells": [
  {
   "cell_type": "code",
   "execution_count": 13,
   "metadata": {},
   "outputs": [
    {
     "data": {
      "image/png": "[encoded data removed]",
      "text/plain": [
       "<IPython.core.display.Image object>"
      ]
     },
     "execution_count": 13,
     "metadata": {
      "image/png": {
       "width": 450
      }
     },
     "output_type": "execute_result"
    }
   ],
   "source": [
    "import numpy as np\n",
    "import matplotlib.pyplot as plt\n",
    "import scipy                  # http://scipy.org/\n",
    "from scipy import signal\n",
    "\n",
    "from IPython.display import Image  \n",
    "%matplotlib inline\n",
    "params = {'legend.fontsize': 12,\n",
    "          'figure.figsize': (12, 8),\n",
    "         'axes.labelsize': 12,\n",
    "         'axes.titlesize': 12,\n",
    "         'xtick.labelsize':12,\n",
    "         'ytick.labelsize':12}\n",
    "plt.rcParams.update(params) \n",
    "\n",
    "\n",
    "plt.rcParams.update(params)\n",
    "from IPython.display import Image\n",
    "\n",
    "Image(filename= \"fig/eje2.png\",width=450)"
   ]
  },
  {
   "cell_type": "markdown",
   "metadata": {},
   "source": [
    "El circuito corresponde a una antena conectada a un equipo transmisor de $100W$.\n",
    "Se desea que el equipo transmisor, la fuente de corriente, tenga una carga de $Z_{in} = 50\\Omega+j0\\Omega$ @ $2 MHz$. \n",
    "\n",
    "La antena presenta una impedancia de $Z_{ant} = (2 - j wo \\cdot 30pF) \\Omega$ @ $2 MHz$\n",
    "\n",
    "\n",
    "Para que esté adaptada, se recurre así al circuito de adaptación mostrado en la figura compuesto por L y C. Suponga que la resistencia de perdida de L es $r_s = 1\\Omega$ y y el capacitor tiene $ESR= 0.2\\Omega$. . \n",
    "\n",
    "\n",
    "\n",
    "    1.  $Q_c$, L y C  para máxima transferencia de energía a Qcte a $F_o = 2MHz$.(10ptos)\n",
    "    2.  Verifique usando la carta de Smith.(10ptos)\n",
    "    3.  Potencia disipada por el adaptador, potencia sobre la carga  y verifique empleando simuladores. (10ptos)\n",
    "\n"
   ]
  },
  {
   "cell_type": "code",
   "execution_count": 14,
   "metadata": {},
   "outputs": [
    {
     "name": "stdout",
     "output_type": "stream",
     "text": [
      "rg =  50.0 ohms\n",
      "ig =  4.00 Ap\n"
     ]
    }
   ],
   "source": [
    "# Datos\n",
    "RL = 2\n",
    "CL = 30e-12\n",
    "rpls = 1\n",
    "ESR  = 0.2\n",
    "rpcs = ESR\n",
    "zg = 50.\n",
    "\n",
    "Pdisp  = 100 # W RMS\n",
    "\n",
    " \n",
    "fo  =  2e6\n",
    "wo = 2*np.pi*fo\n",
    "\n",
    "\n",
    "# Calculo la impedancia de la fuente para el modelo paralelo\n",
    "rg = zg.real \n",
    "\n",
    "\n",
    "\n",
    "Ptot   = 2 * Pdisp\n",
    "ig     = (Ptot* 2 / (rg/2) )**(1/2) # \n",
    "print('rg =  {:1.1f} ohms'.format(rg) )\n",
    "print('ig =  {:2.2f} Ap'.format(ig) )\n",
    "\n"
   ]
  },
  {
   "cell_type": "code",
   "execution_count": 15,
   "metadata": {},
   "outputs": [
    {
     "name": "stdout",
     "output_type": "stream",
     "text": [
      "7.796968012336761e-07\n",
      "Qm =  4.9 \n",
      "C  =  7.797e-09 F\n",
      "QoC =  5.1e+01 \n",
      "L  =  2.1187e-04 Hy\n",
      "QoL =  2662.4 \n"
     ]
    }
   ],
   "source": [
    "# L = L1 + L2\n",
    "\n",
    "# La reactancia del capacitor de la antena:\n",
    "Xcl = -1/(wo*CL)\n",
    "\n",
    "# Parte de la bobina que cancela la reactancia del capacitor de la antena:\n",
    "Xl1  = -Xcl\n",
    "L1  = Xl1/wo\n",
    "# Ahora el circuito resultante es L2 serie RL, que esta en paralelo con C\n",
    "# Buscamos que RLp sea igual a rg\n",
    "RLs  = RL\n",
    "RLp  = rg\n",
    "\n",
    "# Calculamos el Qm \n",
    "# RLp = RLs * (1 + Qm**2)\n",
    "Qm = ((RLp/RLs)-1)**(1/2)\n",
    "\n",
    "# Circuito LR serie\n",
    "# Qm = (wo*L2)/RLs\n",
    "L2 = Qm*RLs/wo\n",
    "print(L2)\n",
    "L2p = L2 *(1+ (1/Qm)**2)\n",
    "\n",
    "\n",
    "L = L1 + L2\n",
    "QoL  = (wo*L)/(rpls)\n",
    "\n",
    "\n",
    "\n",
    "\n",
    "# C sintoniza a Lp\n",
    "Cp = 1/(wo**2 * L2p)\n",
    "# Suponiendo QoC > 10 \n",
    "Cs = Cp # hay que verificar!\n",
    "QoC  = 1/(rpcs*wo*Cs)\n",
    "if QoC > 10: C = Cp \n",
    "\n",
    "\n",
    "print('Qm =  {:1.1f} '.format(Qm) )\n",
    "print('C  =  {:1.3e} F'.format(C) )\n",
    "print('QoC =  {:1.1e} '.format(QoC) )\n",
    "print('L  =  {:1.4e} Hy'.format(L) )\n",
    "print('QoL =  {:1.1f} '.format(QoL) )\n",
    "      "
   ]
  },
  {
   "cell_type": "code",
   "execution_count": 16,
   "metadata": {},
   "outputs": [],
   "source": [
    "# defino la función que se emplea para el cálculo de dBm  \n",
    "def dBm(x):\n",
    "    return 10*np.log10(x/1e-3)\n",
    "\n",
    "# defino la función para mostrar los resultados\n",
    "def imprimePRL(f, Prl):\n",
    "    # Máximo de potencia en RL\n",
    "    xmax = np.where(max(Prl) == Prl  ) \n",
    "    # Buscamos el ancho de banda (OJO que en potencia es 3dB) \n",
    "    x3db = (Prl >= max(Prl)/2 ) # el max(Prl)/2 es el limite de 3dB\n",
    "    # ancho de banda\n",
    "    BW = max(f[x3db]) - min(f[x3db])\n",
    "    Qc = f[xmax][0] / BW\n",
    "    print('frecuencia central')\n",
    "    print('fo =  {:1.3f} Hz'.format(f[xmax][0]))\n",
    "    print('Ancho de banda:')\n",
    "    print('Qc  =  {:1.3f} '.format(Qc) )\n",
    "    print('BW  =  {:1.3f} Hz'.format(BW) )\n",
    "    print('')\n",
    "    print('Potenicia:')\n",
    "    print('Pdisp  =  {:1.2f} W (eff)'.format(Pdisp) )\n",
    "    print('Pdisp  =  {:1.2f} dBm (eff)'.format(dBm(Pdisp)) )\n",
    "    print('PRL  =  {:1.2f} W (eff)'.format( (Prl)[xmax][0]) )\n",
    "    print('PRL  =  {:1.2f} dBm (eff)'.format(dBm(Prl)[xmax][0]) )\n",
    "\n",
    "\n",
    "\n",
    "    # plot\n",
    "    plt.plot(f,dBm(Prl))\n",
    "    plt.plot(f[x3db] , dBm(Prl)[x3db], 'g.' )\n",
    "    plt.plot(f[xmax] , dBm(Prl)[xmax], 'ro' )\n",
    "    plt.grid()\n",
    "    plt.ylabel('PRL/dBm')\n",
    "    plt.xlabel('Frecuencia/Hz')\n",
    "    \n",
    "    # agrego la flecha de ancho de bandaa\n",
    "    xymin = (min(f[x3db]), dBm(Prl)[xmax][0]-3)\n",
    "    xymax = (max(f[x3db]), dBm(Prl)[xmax][0]-3)\n",
    "    xytext= (f[xmax] , dBm(Prl)[xmax][0]-4 )\n",
    "    plt.annotate(s=' ',xy=xymin, xycoords='data',xytext=xymax,textcoords='data',arrowprops=dict(arrowstyle=\"<->\"))\n",
    "\n",
    "    plt.annotate(s='BW',xy=xytext, xycoords='data',fontsize=12.0,textcoords='data',ha='center')\n",
    "\n",
    "    plt.show()\n",
    "    return"
   ]
  },
  {
   "cell_type": "code",
   "execution_count": 17,
   "metadata": {},
   "outputs": [
    {
     "name": "stdout",
     "output_type": "stream",
     "text": [
      "Los datos empleados para los calculos:\n",
      "RL  =  2.0 ohm\n",
      "C =  7.797e-09 F\n",
      "rpcs  =  0.200 ohm\n",
      "L  =  2.1187e-04 Hy\n",
      "rpls  =  1.000 ohm\n",
      "rg  =  50.00 ohm\n",
      "ig  =  4.00 Ap\n",
      "\n",
      "frecuencia central\n",
      "fo =  1999971.000 Hz\n",
      "Ancho de banda:\n",
      "Qc  =  514.396 \n",
      "BW  =  3888.000 Hz\n",
      "\n",
      "Potenicia:\n",
      "Pdisp  =  100.00 W (eff)\n",
      "Pdisp  =  50.00 dBm (eff)\n",
      "PRL  =  59.29 W (eff)\n",
      "PRL  =  47.73 dBm (eff)\n"
     ]
    },
    {
     "data": {
      "image/png": "[encoded data removed]",
      "text/plain": [
       "<matplotlib.figure.Figure at 0x7f02aba3f9b0>"
      ]
     },
     "metadata": {
      "needs_background": "light"
     },
     "output_type": "display_data"
    }
   ],
   "source": [
    "# Ahora calculando en la hoja de calculo \n",
    "# Defino el array de frecuencia\n",
    "f =  np.arange(1.99e6,2.01e6,1)\n",
    "# armo el array de w\n",
    "w = 2*np.pi*f\n",
    "\n",
    "# Ahora comparamos con el circuito usando el capacitor sin perdidas\n",
    "## DATOS\n",
    "print('Los datos empleados para los calculos:')\n",
    "print('RL  =  {:1.1f} ohm'.format(RL) )\n",
    "print('C =  {:1.3e} F'.format(C) )\n",
    "print('rpcs  =  {:1.3f} ohm'.format(rpcs) )\n",
    "\n",
    "print('L  =  {:1.4e} Hy'.format(L) )\n",
    "print('rpls  =  {:1.3f} ohm'.format(rpls) )\n",
    "\n",
    "print('rg  =  {:1.2f} ohm'.format(rg) )\n",
    "print('ig  =  {:1.2f} Ap'.format(ig) )\n",
    "print('')\n",
    "\n",
    "# Impedancia de carga \n",
    "Xcl  = -1/(w*CL)\n",
    "ZL   = RL + 1j*Xcl\n",
    "\n",
    "# inductor serie con perdidas\n",
    "Xls   = w*L\n",
    "Zls   = rpls + 1j*Xls\n",
    "\n",
    "\n",
    "# Impedancia total incluida la impedancia del generador\n",
    "Zs   =  Zls + ZL\n",
    "\n",
    "# Impedancia de capacitor C \n",
    "Xcl  = -1/(w*C)\n",
    "Zc   = rpcs + 1j*Xcl\n",
    "Qoc  = 1/(rpcs*w*C)\n",
    "\n",
    "# impedancia de entrada\n",
    "Zin = Zc * Zs / (Zc + Zs)\n",
    "\n",
    "# incluyendo la impedancia de la fuente\n",
    "Z = rg * Zin / (rg + Zin )\n",
    "\n",
    "# Calculo de la potenicia de RL\n",
    "v   = ig * Z\n",
    "irl = v / Zs\n",
    "vrl = irl*RL\n",
    "Prl = np.abs(irl*vrl)/2 # potenica eficaz\n",
    "\n",
    "imprimePRL(f, Prl)"
   ]
  },
  {
   "cell_type": "code",
   "execution_count": null,
   "metadata": {},
   "outputs": [],
   "source": []
  },
  {
   "cell_type": "code",
   "execution_count": null,
   "metadata": {},
   "outputs": [],
   "source": []
  }
 ],
 "metadata": {
  "kernelspec": {
   "display_name": "Python 3",
   "language": "python",
   "name": "python3"
  },
  "language_info": {
   "codemirror_mode": {
    "name": "ipython",
    "version": 3
   },
   "file_extension": ".py",
   "mimetype": "text/x-python",
   "name": "python",
   "nbconvert_exporter": "python",
   "pygments_lexer": "ipython3",
   "version": "3.5.4"
  }
 },
 "nbformat": 4,
 "nbformat_minor": 2
}

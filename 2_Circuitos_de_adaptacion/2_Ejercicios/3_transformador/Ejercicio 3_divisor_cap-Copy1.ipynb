{
 "cells": [
  {
   "cell_type": "code",
   "execution_count": null,
   "metadata": {},
   "outputs": [],
   "source": []
  },
  {
   "cell_type": "code",
   "execution_count": 2,
   "metadata": {},
   "outputs": [],
   "source": [
    "import numpy as np\n",
    "import matplotlib.pyplot as plt\n",
    "import scipy                  # http://scipy.org/\n",
    "from scipy import signal\n",
    "\n",
    "from IPython.display import Image  \n",
    "%matplotlib inline\n",
    "params = {'legend.fontsize': 12,\n",
    "          'figure.figsize': (10, 10),\n",
    "         'axes.labelsize': 12,\n",
    "         'axes.titlesize': 12,\n",
    "         'xtick.labelsize':12,\n",
    "         'ytick.labelsize':12}\n",
    "plt.rcParams.update(params) \n",
    "\n",
    "\n",
    "plt.rcParams.update(params)\n",
    "from IPython.display import Image\n",
    "\n"
   ]
  },
  {
   "cell_type": "code",
   "execution_count": 3,
   "metadata": {},
   "outputs": [],
   "source": [
    "def calC1C2(wo, rg,RL,C):\n",
    "    # divisor capacitivo\n",
    "    N   = (rg/RL)**(1/2)\n",
    "\n",
    "    # Qm2\n",
    "    Qm2  = rg*wo*C\n",
    "\n",
    "    #Qm1\n",
    "    Qm1  = (((1+ Qm2**2)/N**2)- 1 )**(1/2)\n",
    "\n",
    "    C2  = Qm1/(RL*wo)\n",
    "    C2p = C2*(1 + (1/Qm1**2) )\n",
    "\n",
    "    Ct  = C /(1 + (1/Qm2**2) )\n",
    "\n",
    "    C1  =  (Ct * C2p)/(C2p - Ct)\n",
    "    \n",
    "    # Aproximado\n",
    "    C2a = C * N\n",
    "    C1a = C * N/(N-1)\n",
    "    return C1, C2, C1a, C2a, Qm1 , Qm2, N\n",
    "\n",
    "\n"
   ]
  },
  {
   "cell_type": "markdown",
   "metadata": {},
   "source": [
    "Se desea conectar una carga de $R=50\\Omega$ a un transistor, empleando un divisor capacitivo, como se muestra en la figura.\n",
    "\n",
    "\n",
    "![](fig/eje3.png)\n",
    "\n",
    "La resistencia de salida del transistor es $r_o = 200\\Omega$ a $f_o = 10MHz$. \n",
    "\n",
    "Suponga que la fuente de corriente es de $i_o = 10uA$.\n",
    "\n",
    "Se desea un ancho de banda de $BW = 2MHz$ a $f_o = 10 MHz$.\n",
    "\n",
    "Asumir que todas las perdías corresponden a el inductor con un $Q_o = 100$.  \n",
    "\n",
    "\n",
    "1. $C$ (capacitor de sintonia) y $L$ para máxima transferencia de energía a Qcte a $F_o =10\\,MHz$. \n",
    "2. $C_1$ y $C_2$ para máxima transferencia de energía a Qcte a $F_o = 10\\,MHz$ realizando el calculo sin emplear simplificaciones.\n",
    "3. Verificar si es posible emplear simplificaciones y comparar resultados.\n",
    "\n",
    "\n"
   ]
  },
  {
   "cell_type": "code",
   "execution_count": 4,
   "metadata": {},
   "outputs": [
    {
     "name": "stdout",
     "output_type": "stream",
     "text": [
      "rg  =  200.0 ohms\n",
      "RL  =  50.0 ohms\n",
      "L  =  2.7852e-07 Hy\n",
      "C  =  9.0946e-10 F\n",
      "Qm1 =  5.648\n",
      "Qm2 =  11.429\n",
      "N =  2.000\n",
      "C1 =  1.758e-09 F\n",
      "C2 =  1.798e-09 F\n",
      "C1a =  1.819e-09 F\n",
      "C2a =  1.819e-09 F\n"
     ]
    }
   ],
   "source": [
    "# Datos\n",
    "RL = 50\n",
    "rg = 200\n",
    "Qc  = 5\n",
    "\n",
    "Qo  = 40\n",
    "fo  =  10e6\n",
    "wo  = 2*np.pi*fo\n",
    "\n",
    "\n",
    "\n",
    "print('rg  =  {:1.1f} ohms'.format(rg) )\n",
    "print('RL  =  {:1.1f} ohms'.format(RL) )\n",
    "\n",
    "\n",
    "\n",
    "# 1/Qc = 1/Qo + (wo*L)/Rext\n",
    "Rext = rg/2\n",
    "\n",
    "L  = ((1/Qc) - (1/Qo)) * Rext/wo\n",
    "\n",
    "# Capacitor de sintonia \n",
    "C =  1/(wo**2 * L)\n",
    "\n",
    "\n",
    "print('L  =  {:1.4e} Hy'.format(L) )\n",
    "print('C  =  {:1.4e} F'.format(C) )\n",
    "\n",
    "\n",
    "\n",
    "C1, C2, C1a, C2a, Qm1, Qm2, N =  calC1C2(wo, rg,RL,C)\n",
    "\n",
    "print('Qm1 =  {:1.3f}'.format(Qm1) )\n",
    "print('Qm2 =  {:1.3f}'.format(Qm2) )\n",
    "\n",
    "print('N =  {:1.3f}'.format(N) )\n",
    "\n",
    "print('C1 =  {:1.3e} F'.format(C1) )\n",
    "print('C2 =  {:1.3e} F'.format(C2) )\n",
    "\n",
    "print('C1a =  {:1.3e} F'.format(C1a) )\n",
    "print('C2a =  {:1.3e} F'.format(C2a) )"
   ]
  },
  {
   "cell_type": "code",
   "execution_count": null,
   "metadata": {},
   "outputs": [],
   "source": []
  }
 ],
 "metadata": {
  "kernelspec": {
   "display_name": "Python 3",
   "language": "python",
   "name": "python3"
  },
  "language_info": {
   "codemirror_mode": {
    "name": "ipython",
    "version": 3
   },
   "file_extension": ".py",
   "mimetype": "text/x-python",
   "name": "python",
   "nbconvert_exporter": "python",
   "pygments_lexer": "ipython3",
   "version": "3.8.8"
  },
  "latex_envs": {
   "LaTeX_envs_menu_present": true,
   "autoclose": false,
   "autocomplete": true,
   "bibliofile": "biblio.bib",
   "cite_by": "apalike",
   "current_citInitial": 1,
   "eqLabelWithNumbers": true,
   "eqNumInitial": 1,
   "hotkeys": {
    "equation": "Ctrl-E",
    "itemize": "Ctrl-I"
   },
   "labels_anchors": false,
   "latex_user_defs": false,
   "report_style_numbering": false,
   "user_envs_cfg": false
  }
 },
 "nbformat": 4,
 "nbformat_minor": 2
}

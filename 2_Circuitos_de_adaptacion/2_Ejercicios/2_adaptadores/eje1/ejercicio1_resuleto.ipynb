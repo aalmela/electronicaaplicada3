{
 "cells": [
  {
   "cell_type": "markdown",
   "id": "171605ff",
   "metadata": {},
   "source": [
    "# Ejercicio 1\n",
    "\n",
    "En la figura se muestra un circuito de adaptación realizado con un inductor y un capacitor. El inductor tiene un $Q_{oL} = 100$ y el capacitor tiene $ESR= 1\\Omega$. La fuente tiene una $P_{disp} = 10nW$ a $100MHz$.\n",
    "\n",
    "\n",
    "![11-cuatrocientos](eje1_sch.png)\n",
    "\n",
    "Calcule para adaptar a MTE la carga y el generador a $100MHz$ mediante conversiones serie-paralelo. \n",
    "\n",
    "1. $L_1$\n",
    "2. $C_1$ \n",
    "3. $Q_c$ \n"
   ]
  },
  {
   "cell_type": "markdown",
   "id": "d2860705",
   "metadata": {},
   "source": [
    "# Comentarios\n",
    "\n",
    "Este ejercicio plantea resolver un adaptador muy simple, un LC donde ambos componentes presentan perdidas. \n",
    "\n",
    "Las conversiones serie/paralelo facilitan encontrar los valores de los componentes del adaptador, donde llevamos el adaptador a un circuito RLC serie o paralelo según convenga. \n",
    "\n",
    "Para conocer la respuesta del circuito necesitamos estudiar su respuesta en frecuencia, ya que el modelo final RLC serie o paralelo no tiene la misma respuesta que el circuto practico dado diferencia en la topología. "
   ]
  },
  {
   "cell_type": "code",
   "execution_count": 4,
   "id": "a3daf0e5",
   "metadata": {},
   "outputs": [
    {
     "name": "stdout",
     "output_type": "stream",
     "text": [
      "rg =  10.0 ohms\n",
      "vg =  8.94e-04 V\n"
     ]
    }
   ],
   "source": [
    "import numpy as np\n",
    "# Datos\n",
    "QoL    = 100\n",
    "ESR    = 1\n",
    "rg     = 10  \n",
    "Pdisp  = 10e-9 # W RMS\n",
    "RL     = 100\n",
    " \n",
    "fo     =  100e6\n",
    "wo     = 2*np.pi*fo\n",
    "\n",
    "\n",
    "# Calculo de la tensión de fuente\n",
    "Ptot   = 2 * Pdisp\n",
    "vg     = (Ptot* (2*rg) *2)**(1/2) # \n",
    "print('rg =  {:1.1f} ohms'.format(rg) )\n",
    "print('vg =  {:1.2e} V'.format(vg) )\n"
   ]
  },
  {
   "cell_type": "code",
   "execution_count": 20,
   "id": "e204aa1d",
   "metadata": {},
   "outputs": [
    {
     "name": "stdout",
     "output_type": "stream",
     "text": [
      "Qm  =  3.0 \n",
      "C1  =  4.7746e-11 F\n",
      "C1s =  5.305e-11 F\n",
      "L1  =  4.7746e-08 Hy\n"
     ]
    }
   ],
   "source": [
    "# conversión RL a RLs, para máxima transferencia de energía a Q constante \n",
    "# RL = rg (no se tiene en cuenta las perdidas de adaptador) \n",
    "RLp = 100.\n",
    "RLs = 10. \n",
    "\n",
    "# Calculo del Qm (Q matching)\n",
    "# RLp =  RLs *(1 + Qm**2)\n",
    "Qm = (RLp/RLs - 1)**(1/2)\n",
    "\n",
    "# con el Qm es posible calcular C1\n",
    "#Qm = RLp * wo * C1\n",
    "C1 = Qm / (RLp * wo)\n",
    "\n",
    "# Calculo del capacitor resultante serie\n",
    "C1p  = C1\n",
    "\n",
    "# Xcs =  Xcp /(1 + 1/Qm**2)\n",
    "#  1/(wo*C1s) =  (1/(wo*C1p)) /(1 + 1/Qm**2)\n",
    "#  C1p =  C1s /(1 + 1/Qm**2)\n",
    "C1s =  C1p *(1 + 1/Qm**2)\n",
    "\n",
    "# En el modelo serie L sintoniza a C1s\n",
    "L1 = 1/(wo**2 * C1s)\n",
    "\n",
    "print('Qm  =  {:1.1f} '.format(Qm) )\n",
    "print('C1  =  {:1.4e} F'.format(C1p) )\n",
    "print('C1s =  {:1.3e} F'.format(C1s) )\n",
    "print('L1  =  {:1.4e} Hy'.format(L1) )"
   ]
  },
  {
   "cell_type": "code",
   "execution_count": 23,
   "id": "06d64de0",
   "metadata": {},
   "outputs": [
    {
     "name": "stdout",
     "output_type": "stream",
     "text": [
      "rpCp=  1111.1 ohms\n",
      "rpls  =  0.300 ohm\n",
      "Qc  =  1.48 \n",
      "BW  =  67.667 MHz\n"
     ]
    }
   ],
   "source": [
    "#  calculo la resistencia de perdida serie del inductor\n",
    "rpls = (wo*L1)/QoL\n",
    "\n",
    "#  Calculo QoC\n",
    "QoC  = 1/(ESR*wo*C1)\n",
    "rpcp = QoC/(wo*C1)\n",
    "\n",
    "\n",
    "\n",
    "# 1/Qc = 1/QoL  + Rext/(wo*L) # Rext = 10 + 10 = 20\n",
    "Rext = rg + RLs\n",
    "Qc = 1/((1/QoL)  + (Rext/(wo*L1)) )\n",
    "\n",
    "BW = fo/Qc\n",
    "\n",
    "print('rpCp=  {:1.1f} ohms'.format(rpcp) )\n",
    "print('rpls  =  {:1.3f} ohm'.format(rpls) )\n",
    "print('Qc  =  {:1.2f} '.format(Qc) )\n",
    "print('BW  =  {:1.3f} MHz'.format(BW/1e6) )\n"
   ]
  },
  {
   "cell_type": "code",
   "execution_count": 24,
   "id": "0b039616",
   "metadata": {},
   "outputs": [
    {
     "name": "stdout",
     "output_type": "stream",
     "text": [
      ".param vg  =  8.9e-04 \n",
      ".param rg  =  10 \n",
      ".param L1  =  4.775e-08 \n",
      ".param rp  =  0.3 \n",
      ".param C1  =  4.775e-11 \n",
      ".param esr =  1.0 \n",
      ".param RL  =  100 \n"
     ]
    }
   ],
   "source": [
    "## Para LTspice\n",
    "\n",
    "print('.param vg  =  {:1.1e} '.format(vg) )\n",
    "print('.param rg  =  {:1.0f} '.format(rg) )\n",
    "\n",
    "print('.param L1  =  {:1.3e} '.format(L1) )\n",
    "print('.param rp  =  {:1.1f} '.format(rpls) )\n",
    "\n",
    "print('.param C1  =  {:1.3e} '.format(C1) )\n",
    "print('.param esr =  {:1.1f} '.format(ESR) )\n",
    "\n",
    "print('.param RL  =  {:1.0f} '.format(RL) )\n",
    "\n"
   ]
  },
  {
   "cell_type": "code",
   "execution_count": null,
   "id": "d51c77e6",
   "metadata": {},
   "outputs": [],
   "source": []
  }
 ],
 "metadata": {
  "kernelspec": {
   "display_name": "Python 3",
   "language": "python",
   "name": "python3"
  },
  "language_info": {
   "codemirror_mode": {
    "name": "ipython",
    "version": 3
   },
   "file_extension": ".py",
   "mimetype": "text/x-python",
   "name": "python",
   "nbconvert_exporter": "python",
   "pygments_lexer": "ipython3",
   "version": "3.8.8"
  }
 },
 "nbformat": 4,
 "nbformat_minor": 5
}

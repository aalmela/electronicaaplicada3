{
 "cells": [
  {
   "cell_type": "markdown",
   "metadata": {},
   "source": [
    "# Ejercicio 1, linea coaxial $Z_o = 50 \\Omega$\n",
    "\n",
    "Se desea acoplar un driver a un amplificador de Potencia para transmitir una señal de $f_o = 450 MHz$. Dicho amplificador presenta a la frecuencia de transmisión una impedancia de $Z_{PA} = 120 \\Omega + j 10 \\Omega$\n",
    "\n",
    "![ejercicio1](eje4_sch.png)\n",
    "\n",
    "Se quiere realizar el circuito de adaptación empleando dos componentes rectivos. Uno en serie y otro en derivación. \n",
    "\n",
    "\n",
    "Se dispone para ello algunos los inductores que se muestran el siguiente figura:\n",
    "\n",
    "![ejercicio1](eje4_L.png)\n",
    "\n",
    "\n",
    "| codigo Inductor  |  valor  | \n",
    "|------------------|---------|\n",
    "| L-15W2N7SV4E     |  2.7nHy |  \n",
    "| L-15W3N9SV4E     |  3.9nHy |  \n",
    "| L-15W10NJV4E     | 10.0nHy | \n",
    "| L-15W12NJV4E     | 12.0nHy |\n",
    "| L-15W15NJV4E     | 15.0nHy |\n",
    "| L-15W27NJV4E     | 27.0nHy |\n",
    "| L-15W39NJV4E     | 39.0nHy |\n",
    "| L-15WR10JV4E     | 100nHy  |\n",
    "| L-15WR27JV4E     | 270nHy  |\n",
    "\n",
    "El valor del factor de merito $Q_o$ se obtiene del gráfico, extrapolando para los valores que no esten disponibles. \n",
    "\n",
    "La corriente máxima para estos inductores es de $I_{Lmax} = 300 mA$\n",
    "\n",
    "El driver tiene una impedancia de salida de $Z_o = 50 \\Omega$ y se busca que el adaptador minimice las reflexiones en la linea. \n",
    "\n",
    "En base a los valores de inductores diponibles, calcular:\n",
    "\n",
    "1. Defina que topologias cumplen con los requisitos.\n",
    "\n",
    "2. Seleccionar $L1$ de los componentes disponibles, para la topoligia de capacitor en serie, inductor derivación. \n",
    "\n",
    "3. Calcular $C1$ para ese mismo circuito. \n",
    "\n",
    "4. Ancho de banda del adaptador.\n",
    "\n",
    "5. Impedancia de entrada del adaptador incluyendo las perdidas de los componentes. Para el capacitor suponga  $Q_{oc} = \\infity$.\n",
    "\n",
    "6. Máxima potencia que podra entregar el adaptador para no sobrepasar el limite de corriente del inductor. \n",
    "\n",
    "7. $i_g$ pico para lograr la máxima potencia calculada en el punto anterior. \n",
    "\n",
    "8. $P_{disp}$ del generador para la corriente calculada. \n",
    "\n",
    "9. Perdidas de inserción del adaptador, calculada como $P_{in} - P_{RL}$. \n",
    "\n",
    "10. Tension sobre el capacitor. \n",
    "\n"
   ]
  },
  {
   "cell_type": "code",
   "execution_count": null,
   "metadata": {},
   "outputs": [],
   "source": []
  }
 ],
 "metadata": {
  "celltoolbar": "Edit Metadata",
  "kernelspec": {
   "display_name": "Python 3",
   "language": "python",
   "name": "python3"
  },
  "language_info": {
   "codemirror_mode": {
    "name": "ipython",
    "version": 3
   },
   "file_extension": ".py",
   "mimetype": "text/x-python",
   "name": "python",
   "nbconvert_exporter": "python",
   "pygments_lexer": "ipython3",
   "version": "3.8.8"
  },
  "latex_envs": {
   "LaTeX_envs_menu_present": true,
   "autoclose": false,
   "autocomplete": true,
   "bibliofile": "biblio.bib",
   "cite_by": "apalike",
   "current_citInitial": 1,
   "eqLabelWithNumbers": true,
   "eqNumInitial": 1,
   "hotkeys": {
    "equation": "Ctrl-E",
    "itemize": "Ctrl-I"
   },
   "labels_anchors": false,
   "latex_user_defs": false,
   "report_style_numbering": false,
   "user_envs_cfg": false
  }
 },
 "nbformat": 4,
 "nbformat_minor": 2
}

{
 "cells": [
  {
   "cell_type": "markdown",
   "id": "cf5b1482",
   "metadata": {},
   "source": [
    "# Ejercicio 2\n",
    "\n",
    "\n",
    "\n",
    "![ejercicio2](eje2_sch.png)\n",
    "\n",
    "\n",
    "El circuito amplificador transistorizado sintonizado, el cual corresponde a la etapa de salida.\n",
    "\n",
    "A la frecuencia $f_o = 1 MHz$, el transistor presenta una impedancia de salida $Y_{22} = 35.58 \\mu S + j 113.87 \\mu S$ y un tiene una corriente de salida de $i_o = 200 \\mu A$  \n",
    "\n",
    "\n",
    "La resistencia de carga es de $R_L = 100 \\Omega$. \n",
    "\n",
    "Suponiendo que el capacitor de $C_1$ y el inductor $L_1$ tiene pérdidas despreciables.\n",
    "\n",
    "Calcular para máxima transferencia de energía hacia la carga:\n",
    "\n",
    "1. $L_1$\n",
    "\n",
    "2. $C_1$ \n",
    "\n",
    "3. $P_{R_L}$. \n",
    "\n",
    "El inductor $L_1$ disponible para el valor necesario presenta un factor de merito de $Q_o = 50$ a la frecuencia de trabajo.\n",
    "\n",
    "4. El nuevo valor de $L_1$.\n",
    "\n",
    "5. $C_1$ que sintoniza a $L_1$, tenga en cuenta la capacidad de salida del transistor. \n"
   ]
  },
  {
   "cell_type": "code",
   "execution_count": 1,
   "id": "c8cd9733",
   "metadata": {},
   "outputs": [],
   "source": [
    "import numpy as np\n",
    "# Datos\n",
    "Y22    = 35.58e-6 + 1j* 113.87e-6\n",
    "\n",
    "\n",
    "io     = 200e-6\n",
    "rg     = 10  \n",
    "\n",
    "RL     = 100\n",
    " \n",
    "fo     =  1e6\n",
    "wo     = 2*np.pi*fo\n"
   ]
  },
  {
   "cell_type": "code",
   "execution_count": 25,
   "id": "9ec89760",
   "metadata": {},
   "outputs": [
    {
     "name": "stdout",
     "output_type": "stream",
     "text": [
      "rg =  28105.7 ohms\n",
      "cg =  18.12 pF\n"
     ]
    }
   ],
   "source": [
    "# Calculos\n",
    "\n",
    "rg = 1/Y22.real\n",
    "print('rg =  {:1.1f} ohms'.format(rg) )\n",
    "\n",
    "cg = Y22.imag/wo\n",
    "print('cg =  {:1.2f} pF'.format(cg/1e-12) )\n"
   ]
  },
  {
   "cell_type": "code",
   "execution_count": 19,
   "id": "97d7cb64",
   "metadata": {},
   "outputs": [],
   "source": [
    "# conversión RL a RLs, para máxima transferencia de energía a Q constante \n",
    "# RL = rg (no se tiene en cuenta las perdidas de adaptador) \n",
    "RLp = rg\n",
    "RLs = RL \n",
    "\n",
    "# Calculo del Qm (Q matching)\n",
    "# RLp =  RLs *(1 + Qm**2)\n",
    "Qm = (RLp/RLs - 1)**(1/2)\n",
    "\n",
    "# con el Qm es posible calcular C1p\n",
    "#Qm = RLp * wo * C1p\n",
    "C1 =  1/ (Qm *RLs * wo)\n",
    "\n",
    "\n",
    "# Xcs =  Xcp /(1 + 1/Qm**2)\n",
    "#  1/(wo*C1s) =  (1/(wo*C1p)) /(1 + 1/Qm**2)\n",
    "#  C1p =  C1s /(1 + 1/Qm**2)\n",
    "C1p =  C1 /(1 + 1/Qm**2)\n",
    "\n",
    "# En el modelo serie L sintoniza a C1p + c22\n",
    "L1 = 1/(wo**2 * (C1p+cg))"
   ]
  },
  {
   "cell_type": "code",
   "execution_count": 28,
   "id": "056405db",
   "metadata": {},
   "outputs": [
    {
     "name": "stdout",
     "output_type": "stream",
     "text": [
      "C1  =  95.10 pF\n",
      "C1p =  94.77 pF\n",
      "L1  =  224.38 uHy\n"
     ]
    }
   ],
   "source": [
    "print('C1  =  {:1.2f} pF'.format(C1/1e-12) )\n",
    "print('C1p =  {:1.2f} pF'.format(C1p/1e-12) )\n",
    "print('L1  =  {:1.2f} uHy'.format(L1/1e-6) )\n"
   ]
  },
  {
   "cell_type": "code",
   "execution_count": 29,
   "id": "0b537bd2",
   "metadata": {},
   "outputs": [
    {
     "name": "stdout",
     "output_type": "stream",
     "text": [
      ".param io  =  2.0e-04 \n",
      ".param r22  =  28106 \n",
      ".param c22  =  2e-11 \n",
      ".param L1  =  2.244e-04\n",
      ".param C1  =  9.510e-11\n",
      ".param RL  =  100 \n"
     ]
    }
   ],
   "source": [
    "## Para LTspice\n",
    "\n",
    "print('.param io  =  {:1.1e} '.format(io) )\n",
    "print('.param r22  =  {:1.0f} '.format(rg) )\n",
    "print('.param c22  =  {:1.0e} '.format(cg) )\n",
    "\n",
    "\n",
    "print('.param L1  =  {:1.3e}'.format(L1) )\n",
    "\n",
    "print('.param C1  =  {:1.3e}'.format(C1) )\n",
    "\n",
    "print('.param RL  =  {:1.0f} '.format(RL) )\n"
   ]
  },
  {
   "cell_type": "code",
   "execution_count": null,
   "id": "26f7794b",
   "metadata": {},
   "outputs": [],
   "source": []
  }
 ],
 "metadata": {
  "kernelspec": {
   "display_name": "Python 3",
   "language": "python",
   "name": "python3"
  },
  "language_info": {
   "codemirror_mode": {
    "name": "ipython",
    "version": 3
   },
   "file_extension": ".py",
   "mimetype": "text/x-python",
   "name": "python",
   "nbconvert_exporter": "python",
   "pygments_lexer": "ipython3",
   "version": "3.8.8"
  }
 },
 "nbformat": 4,
 "nbformat_minor": 5
}

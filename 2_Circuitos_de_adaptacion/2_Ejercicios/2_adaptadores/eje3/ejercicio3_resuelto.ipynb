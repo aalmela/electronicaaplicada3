{
 "cells": [
  {
   "cell_type": "markdown",
   "id": "de20d3a6",
   "metadata": {},
   "source": [
    "###  Ejercicio 3\n",
    "\n",
    "Supóngase querer adaptar una antena látigo de cuarto de onda diseñada para operar a $144 MHz$, cuya impedacia es de $Z_{ant} = 20 \\Omega - j2.25 \\Omega$.\n",
    "\n",
    "\n",
    "![30-cuatrocientos](eje3_sch.png)\n",
    "\n",
    "Se desea que el equipo transmisor, la fuente de tensión junto con $r_g$, tenga una carga de $Z_{l} = 50\\Omega+j0\\Omega$  a la frecuencia de $f = 144 MHz$. \n",
    "\n",
    "Para que esté adaptador, se recurre así al circuito de adaptación mostrado en la figura compuesto por L y C. \n",
    "\n",
    "La potencia disponible del transmisor es $P_{disp} = 10 W$. \n",
    "\n",
    "Calcular suponiendo elementos reactivos sin pérdidas.\n",
    "\n",
    "1. $L$\n",
    "\n",
    "2. $C$ \n",
    "\n",
    "3. $P_{RL}$\n",
    "\n",
    "\n",
    "Se desea emplear la misma antena a la frecuencia de $f_{RF} = 110 MHz$, donde presenta una impedancia de  $Z_{ant}= 10 \\Omega -  j500 \\Omega$.\n",
    "\n",
    "\n",
    "4. $L$\n",
    "\n",
    "5. $C$ \n",
    "\n",
    "6. $P_{RL}$\n"
   ]
  },
  {
   "cell_type": "code",
   "execution_count": 12,
   "id": "d1a75c9e",
   "metadata": {},
   "outputs": [
    {
     "name": "stdout",
     "output_type": "stream",
     "text": [
      ".param ra =  20.00 \n",
      ".param rg =  50.00 \n",
      ".param Ca  =  4.9122e-10 \n",
      ".param L  =  2.9560e-08 \n",
      ".param C  =  2.7073e-11 \n",
      ".param vg  =  63.25 \n"
     ]
    }
   ],
   "source": [
    "#import myplot as myp\n",
    "import numpy as np\n",
    "import matplotlib.pyplot as plt\n",
    "import csv\n",
    "\n",
    "#f = np.linspace(2e6,4e6,100)\n",
    "\n",
    "#w    = 2*np.pi*f\n",
    "\n",
    "\n",
    "Pdisp = 10\n",
    "\n",
    "# Datos para los calculos \n",
    "fo    = 144e6\n",
    "wo    = 2*np.pi*fo\n",
    "Za    = 20- 2.25j\n",
    "rg    = 50\n",
    "\n",
    "\n",
    "print('.param ra =  {:1.2f} '.format(Za.real) )\n",
    "print('.param rg =  {:1.2f} '.format(rg) )\n",
    "if (Za.imag > 0) : print('.param La  =  {:1.4e} '.format(Za.imag/(wo)) )\n",
    "else             : print('.param Ca  =  {:1.4e} '.format(1/(-Za.imag*wo)) )\n",
    "\n",
    "## Etapa A\n",
    "\n",
    "# Conversion serie-paralelo\n",
    "ra  = Za.real\n",
    "rap = rg\n",
    "\n",
    "Qm = ((rap/ra) -1)**0.5    # Calculo Qm necesario\n",
    "#print(Qm)\n",
    "XL  = Qm*ra           \n",
    "L   = (XL-Za.imag)/wo\n",
    "print('.param L  =  {:1.4e} '.format(L) )\n",
    "\n",
    "\n",
    "\n",
    "XLp = XL*(1+1/Qm**2)\n",
    "\n",
    "C   = 1/(XLp*wo)        # Capacitor sintonia \n",
    "print('.param C  =  {:1.4e} '.format(C) )\n",
    "\n",
    "# Calculo de la tensión de fuente\n",
    "Ptot   = 2 * Pdisp\n",
    "vg     = (Ptot* (2*rg) *2)**(1/2) # \n",
    "print('.param vg  =  {:1.2f} '.format(vg) )\n"
   ]
  },
  {
   "cell_type": "code",
   "execution_count": null,
   "id": "13b4b1e6",
   "metadata": {},
   "outputs": [],
   "source": []
  }
 ],
 "metadata": {
  "kernelspec": {
   "display_name": "Python 3",
   "language": "python",
   "name": "python3"
  },
  "language_info": {
   "codemirror_mode": {
    "name": "ipython",
    "version": 3
   },
   "file_extension": ".py",
   "mimetype": "text/x-python",
   "name": "python",
   "nbconvert_exporter": "python",
   "pygments_lexer": "ipython3",
   "version": "3.8.8"
  }
 },
 "nbformat": 4,
 "nbformat_minor": 5
}

{
 "cells": [
  {
   "cell_type": "markdown",
   "metadata": {},
   "source": [
    "# Ejercicio 1\n",
    "\n",
    "<img src=\"fig/eje1.png\" width=\"300\">\n",
    "\n",
    "En la figura se muestra un filtro sintonizado realizado con un inductor y un capacitor que esta sintonizado a $f = 10\\,MHz$.\n",
    "\n",
    "El inductor tiene un $Q_{oL}(10MHz) = 100$ y suponga que el capacitor tiene $ESR\\sim 0\\Omega$. \n",
    "\n",
    "La fuente tiene una $P_{disp} = 200\\,pW$ a $f = 10\\,MHz$.\n",
    "\n",
    "\n",
    "\n",
    "\n",
    "1. Calcule $L_1$ y $C_1$ para adaptar máxima transferencia de energía a $R_L$ con $Q_c = 20$ y el generador a $10MHz$ (recuerde que para esta condición $R_L = r_g$ .\n",
    "2. Calcule la impedancia de entrada del adaptador cargado a $10 MHz$. \n",
    "3. La potencia sobre la carga.\n",
    "4. La potencia de entrada al adaptador (la potencia entregada por la fuente al adaptador y carga).\n",
    "5. Verificar utilizando simuladores.  \n"
   ]
  },
  {
   "cell_type": "markdown",
   "metadata": {},
   "source": [
    "En la figura se muestra un circuitos de adaptación realizado con un inductor y un capacitor. El inductor tiene un $Q_{oL} = 100$ y el capacitor tiene $ESR= 1\\Omega$. La fuente tiene una $P_{disp} = 10nW$ a $100MHz$.\n",
    "\n",
    "\n",
    "![11-cuatrocientos](./fig/eje1.png)\n",
    "\n",
    "1. Calcule $L_1$, $C_1$ y $Q_c$ del circuito resultante para adaptar MTEcte la carga y el generador a $100MHz$ mediante conversiones serie-paralelo. (10ptos)\n",
    "2. Verificar usando la carta de Smith.(10ptos)\n",
    "3. Calcule la potencia entregada por la fuente, la potencia en la carga y verificar usando simuladores. (10ptos)"
   ]
  },
  {
   "cell_type": "code",
   "execution_count": null,
   "metadata": {},
   "outputs": [],
   "source": []
  }
 ],
 "metadata": {
  "kernelspec": {
   "display_name": "Python 3",
   "language": "python",
   "name": "python3"
  },
  "language_info": {
   "codemirror_mode": {
    "name": "ipython",
    "version": 3
   },
   "file_extension": ".py",
   "mimetype": "text/x-python",
   "name": "python",
   "nbconvert_exporter": "python",
   "pygments_lexer": "ipython3",
   "version": "3.7.0"
  },
  "latex_envs": {
   "LaTeX_envs_menu_present": true,
   "autoclose": false,
   "autocomplete": true,
   "bibliofile": "biblio.bib",
   "cite_by": "apalike",
   "current_citInitial": 1,
   "eqLabelWithNumbers": true,
   "eqNumInitial": 1,
   "hotkeys": {
    "equation": "Ctrl-E",
    "itemize": "Ctrl-I"
   },
   "labels_anchors": false,
   "latex_user_defs": false,
   "report_style_numbering": false,
   "user_envs_cfg": false
  }
 },
 "nbformat": 4,
 "nbformat_minor": 2
}

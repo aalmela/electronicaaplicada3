{
 "cells": [
  {
   "cell_type": "markdown",
   "metadata": {},
   "source": [
    "# Ejercicio 1\n",
    "Se desea conectar una carga de $R=100\\Omega$ a un transistor, empleando un divisor capacitivo, como se muestra en la figura.\n",
    "\n",
    "\n",
    "![](fig/eje3.png)\n",
    "\n",
    "La resistencia de salida del transistor es $r_o = 6000\\Omega$ a $f_o = 10MHz$. \n",
    "\n",
    "Suponga que la fuente de corriente es de $i_o = 10uA$.\n",
    "\n",
    "Se desea un ancho de banda de $BW = 2MHz$ a $f_o = 10 MHz$.\n",
    "\n",
    "Asumir que todas las perdías corresponden a el inductor con un $Q_o = 100$.  \n",
    "\n",
    "\n",
    "1. $C$ (capacitor de sintonia) y $L$ para máxima transferencia de energía a Qcte a $F_o =10\\,MHz$. \n",
    "2. $C_1$ y $C_2$ para máxima transferencia de energía a Qcte a $F_o = 10\\,MHz$ realizando el calculo sin emplear simplificaciones.\n",
    "3. Verificar si es posible emplear simplificaciones y comparar resultados.\n",
    "\n",
    "\n"
   ]
  },
  {
   "cell_type": "markdown",
   "metadata": {},
   "source": [
    "# Ejercicio 2\n",
    "\n",
    "Se desea conectar una carga de $R=100\\Omega$ a un transistor, empleando un divisor capacitivo, como se muestra en la figura.\n",
    "\n",
    "\n",
    "![](fig/eje3.png)\n",
    "\n",
    "La resistencia de salida del transistor es $r_o = 6000\\Omega$ a $f_o = 10MHz$. \n",
    "\n",
    "Suponga que la fuente de corriente es de $i_o = 10uA$.\n",
    "\n",
    "Se desea un ancho de banda de $BW = 300 KHz$ a $f_o = 10 MHz$.\n",
    "\n",
    "Asumir que todas las perdías corresponden a el inductor con un $Q_o = 100$.  \n",
    "\n",
    "\n",
    "1. $C$ (capacitor de sintonia) y $L$ para máxima transferencia de energía a Qcte a $F_o =10\\,MHz$. \n",
    "2. $C_1$ y $C_2$ para máxima transferencia de energía a Qcte a $F_o = 10\\,MHz$ realizando el calculo sin emplear simplificaciones.\n",
    "3. Verificar si es posible emplear simplificaciones y comparar resultados.\n"
   ]
  }
 ],
 "metadata": {
  "kernelspec": {
   "display_name": "Python 3",
   "language": "python",
   "name": "python3"
  },
  "language_info": {
   "codemirror_mode": {
    "name": "ipython",
    "version": 3
   },
   "file_extension": ".py",
   "mimetype": "text/x-python",
   "name": "python",
   "nbconvert_exporter": "python",
   "pygments_lexer": "ipython3",
   "version": "3.7.0"
  },
  "latex_envs": {
   "LaTeX_envs_menu_present": true,
   "autoclose": false,
   "autocomplete": true,
   "bibliofile": "biblio.bib",
   "cite_by": "apalike",
   "current_citInitial": 1,
   "eqLabelWithNumbers": true,
   "eqNumInitial": 1,
   "hotkeys": {
    "equation": "Ctrl-E",
    "itemize": "Ctrl-I"
   },
   "labels_anchors": false,
   "latex_user_defs": false,
   "report_style_numbering": false,
   "user_envs_cfg": false
  }
 },
 "nbformat": 4,
 "nbformat_minor": 2
}

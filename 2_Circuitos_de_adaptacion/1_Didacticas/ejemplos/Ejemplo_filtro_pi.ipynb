{
 "cells": [
  {
   "cell_type": "code",
   "execution_count": 1,
   "metadata": {},
   "outputs": [
    {
     "name": "stdout",
     "output_type": "stream",
     "text": [
      "$$L= 5.97e-09 Hy$$\n",
      "$$C= 4.24e-10 F$$\n",
      "$$Q_m2 = 26.67$$\n",
      "$$L_1a = 5.96e-09 Hy$$\n",
      "$$R_os = 0.14 \\Omega$$\n",
      "$$Q_m1 = 18.84$$\n",
      "$$C2= 6.00e-10 F$$\n",
      "$$L_1b = 4.21e-09 Hy$$\n",
      "$$L_1 = 1.02e-08 Hy$$\n"
     ]
    },
    {
     "data": {
      "text/plain": [
       "<Figure size 640x480 with 2 Axes>"
      ]
     },
     "metadata": {},
     "output_type": "display_data"
    },
    {
     "name": "stdout",
     "output_type": "stream",
     "text": [
      ".param Rl =  1.00e+02 \n",
      ".param rg =  1.00e+02 \n",
      ".param C1  =  4.2441e-10 \n",
      ".param C2  =  5.9979e-10 \n",
      ".param L1  =  1.0171e-08 \n",
      ".param rp  =  2.56e+02 \n"
     ]
    }
   ],
   "source": [
    "import myplot as myp\n",
    "import matplotlib.pyplot as plt\n",
    "import numpy as np\n",
    "\n",
    "fo = 100e6\n",
    "Qc = 10\n",
    "R  = 100\n",
    "Ro = 50\n",
    "rg = 100\n",
    "Qo = 40\n",
    "wo = 2*np.pi*fo\n",
    "\n",
    "\n",
    "\n",
    "rext = rg*R/(rg+R)\n",
    "XL = rext*(1/Qc-1/Qo)\n",
    "L  = XL/wo\n",
    "print('$$L= {:1.2e} Hy$$'.format(L))\n",
    "\n",
    "XC1 = XL\n",
    "C1  = 1/(wo*XC1)\n",
    "print('$$C= {:1.2e} F$$'.format(C1))\n",
    "\n",
    "Qm2 = R/(wo * L)\n",
    "print('$$Q_m2 = {:1.2f}$$'.format(Qm2))\n",
    "\n",
    "L1a = L/(1+1/Qm2**2)\n",
    "print('$$L_1a = {:1.2e} Hy$$'.format(L1a))\n",
    "\n",
    "Ros = R/(1+  Qm2**2)\n",
    "print('$$R_os = {:1.2f} \\Omega$$'.format(Ros))\n",
    "\n",
    "Qm1 = ((Ro/Ros)-1)**0.5\n",
    "print('$$Q_m1 = {:1.2f}$$'.format(Qm1))\n",
    "\n",
    "C2 = Qm1/(Ro*wo)\n",
    "print('$$C2= {:1.2e} F$$'.format(C2))\n",
    "\n",
    "\n",
    "C2s = C2*(1+1/Qm1**2)\n",
    "L1b = 1/(C2s*wo**2)\n",
    "print('$$L_1b = {:1.2e} Hy$$'.format(L1b))\n",
    "\n",
    "L1 = L1a + L1b\n",
    "print('$$L_1 = {:1.2e} Hy$$'.format(L1))\n",
    "\n",
    "#### Plot!\n",
    "\n",
    "f  =  np.arange(90e6,110e6,100e3)                   # Defino el array de frecuencia\n",
    "\n",
    "w  = 2*np.pi*f\n",
    "\n",
    "ZC1 = 1/(1j*w*C1) \n",
    "ZC2 = 1/(1j*w*C2)\n",
    "\n",
    "rp  = Qo*w*L1\n",
    "ZL1  = rp*(1j*w*L1)/(rp+(1j*w*L1))\n",
    "\n",
    "# Salida\n",
    "Z2 = ZC2*Ro/(ZC2+Ro)\n",
    "\n",
    "# Inductor en serie\n",
    "Zs = ZL1 + Z2\n",
    "\n",
    "# Entrada\n",
    "Zi = Zs*ZC1/(Zs+ZC1)\n",
    "        \n",
    "    \n",
    "\n",
    "# Plot Za\n",
    "myp.PlotCpx(f,Zi , labelx = 'Frecuencia/Hz', labely = '$Z_{in}$')\n",
    "\n",
    "plt.savefig('figures/ejemploPI.png')\n",
    "\n",
    "plt.show() \n",
    "\n",
    "print('.param Rl =  {:1.2e} '.format(R) )\n",
    "print('.param rg =  {:1.2e} '.format(rg) )\n",
    "\n",
    "\n",
    "print('.param C1  =  {:1.4e} '.format(C1) )\n",
    "print('.param C2  =  {:1.4e} '.format(C2) )\n",
    "print('.param L1  =  {:1.4e} '.format(L1) )\n",
    "print('.param rp  =  {:1.2e} '.format(Qo*wo*L1) )"
   ]
  },
  {
   "cell_type": "code",
   "execution_count": 2,
   "metadata": {},
   "outputs": [
    {
     "name": "stdout",
     "output_type": "stream",
     "text": [
      "10.0 9.40882602558251\n",
      ".param L = 5.91507213176122e-06\n",
      ".param C = 7.957747154594768e-11\n",
      ".param co = 1e-10\n",
      ".param ro = 50\n"
     ]
    }
   ],
   "source": [
    "# Filtro PI amplificador Clase C\n",
    "import numpy as np\n",
    "\n",
    "VDD   =  50 # V\n",
    "IDmax =   5 # A \n",
    "gsm   =   1 # A/V\n",
    "co    =  0.1e-9\n",
    "fo    =  10e6 # Hz\n",
    "wo    =  2*np.pi*fo\n",
    "Zo    =  50   # ohms\n",
    "\n",
    "r     =  VDD/IDmax\n",
    "rl    = 1/(1/r+(wo*co))\n",
    "print(r, rl)\n",
    "\n",
    "\n",
    "Qm = ((Zo.real/r)-1)\n",
    "xC  = -(Qm*Zo.real)\n",
    "C   = -1/(xC*wo)\n",
    "xCs =  xC*(1+1/Qm**2)\n",
    "xL  = -(xCs-1/(co*wo))\n",
    "L   = xL/wo\n",
    "\n",
    "\n",
    "print('.param L = {}'.format(L))\n",
    "print('.param C = {}'.format(C))\n",
    "print('.param co = {}'.format(co))\n",
    "print('.param ro = {}'.format(Zo.real))"
   ]
  },
  {
   "cell_type": "code",
   "execution_count": null,
   "metadata": {},
   "outputs": [],
   "source": []
  }
 ],
 "metadata": {
  "kernelspec": {
   "display_name": "Python 3",
   "language": "python",
   "name": "python3"
  },
  "language_info": {
   "codemirror_mode": {
    "name": "ipython",
    "version": 3
   },
   "file_extension": ".py",
   "mimetype": "text/x-python",
   "name": "python",
   "nbconvert_exporter": "python",
   "pygments_lexer": "ipython3",
   "version": "3.7.0"
  }
 },
 "nbformat": 4,
 "nbformat_minor": 2
}

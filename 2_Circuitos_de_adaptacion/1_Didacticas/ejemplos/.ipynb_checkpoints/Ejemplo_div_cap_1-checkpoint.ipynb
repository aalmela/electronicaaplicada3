{
 "cells": [
  {
   "cell_type": "code",
   "execution_count": 1,
   "metadata": {},
   "outputs": [
    {
     "name": "stdout",
     "output_type": "stream",
     "text": [
      "$$Q_c= 15.00$$\n",
      "$$L= 1.79e-05 Hy$$\n",
      "$$C= 6.29e-10 C$$\n",
      "$$N = 9.00$$\n",
      "$$Q_m2 = 48.00$$\n",
      "$$Q_m1 = 5.33$$\n",
      "$$Q_m1 = 5.24$$\n",
      "$$C_2= 5.5597e-09 F$$\n",
      "$$C_2s= 5.76e-09 F$$\n",
      "$$C_s= 6.29e-10 F$$\n",
      "$$C1= 7.0612e-10 F$$\n",
      "1500000.0 6749.999999999999\n",
      "(3681.818181818183+1.831702041820512e-11j)\n"
     ]
    },
    {
     "data": {
      "text/plain": [
       "<Figure size 640x480 with 2 Axes>"
      ]
     },
     "metadata": {},
     "output_type": "display_data"
    }
   ],
   "source": [
    "import myplot as myp\n",
    "import matplotlib.pyplot as plt\n",
    "import numpy as np\n",
    "\n",
    "fo = 1.5e6\n",
    "B  = 100e3\n",
    "R  = 8100\n",
    "Ro = 100\n",
    "rg = 8100\n",
    "Qo = 40\n",
    "wo = 2*np.pi*fo\n",
    "\n",
    "Qc = fo/B\n",
    "print('$$Q_c= {:1.2f}$$'.format(Qc))\n",
    "\n",
    "rext = rg*R/(rg+R)\n",
    "XL = rext*(1/Qc-1/Qo)\n",
    "L  = XL/wo\n",
    "print('$$L= {:1.2e} Hy$$'.format(L))\n",
    "\n",
    "XC = XL\n",
    "C  = 1/(wo*XC)\n",
    "print('$$C= {:1.2e} C$$'.format(C))\n",
    "\n",
    "\n",
    "N = (R/Ro)**0.5\n",
    "print('$$N = {:1.2f}$$'.format(N))\n",
    "\n",
    "Qm2 = wo * C * R\n",
    "print('$$Q_m2 = {:1.2f}$$'.format(Qm2))\n",
    "\n",
    "Qm1 = Qm2/N\n",
    "print('$$Q_m1 = {:1.2f}$$'.format(Qm1))\n",
    "\n",
    "\n",
    "Qm1 = (((Qm2**2+1)/N**2) -1)**0.5\n",
    "print('$$Q_m1 = {:1.2f}$$'.format(Qm1))\n",
    "\n",
    "C2  = Qm1/(wo*Ro)\n",
    "print('$$C_2= {:1.4e} F$$'.format(C2))\n",
    "\n",
    "C2s = C2*(1+1/Qm1**2)\n",
    "print('$$C_2s= {:1.2e} F$$'.format(C2s))\n",
    "\n",
    "Cs  = C*(1+1/Qm2**2)\n",
    "print('$$C_s= {:1.2e} F$$'.format(Cs))\n",
    "\n",
    "C1  = 1/(1/Cs - 1/C2s)\n",
    "print('$$C1= {:1.4e} F$$'.format(C1))\n",
    "\n",
    "\n",
    "\n",
    "#### Plot!\n",
    "\n",
    "f  =  np.arange(1e6,2e6,100)                   # Defino el array de frecuencia\n",
    "\n",
    "w  = 2*np.pi*f\n",
    "\n",
    "ZC1 = 1/(1j*w*C1) \n",
    "ZC2 = 1/(1j*w*C2)\n",
    "\n",
    "rp  = Qo*w*L\n",
    "print(f[5000],rp[5000])\n",
    "ZL  = rp*(1j*w*L)/(rp+(1j*w*L))\n",
    "\n",
    "Z2 = ZC2*Ro/(ZC2+Ro)\n",
    "\n",
    "Zs = ZC1 + Z2\n",
    "Zi = Zs*ZL/(Zs+ZL)\n",
    "        \n",
    "print(Zi[5000])    \n",
    "\n",
    "# Plot Za\n",
    "myp.PlotCpx(f,Zi , labelx = 'Frecuencia/Hz', labely = '$Z_{in}$')\n",
    "plt.xlim([1.45e6, 1.55e6])\n",
    "#plt.savefig('figures/ejemplodivCa.png')\n",
    "\n",
    "plt.show() \n",
    "\n"
   ]
  },
  {
   "cell_type": "code",
   "execution_count": null,
   "metadata": {},
   "outputs": [],
   "source": []
  }
 ],
 "metadata": {
  "kernelspec": {
   "display_name": "Python 3",
   "language": "python",
   "name": "python3"
  },
  "language_info": {
   "codemirror_mode": {
    "name": "ipython",
    "version": 3
   },
   "file_extension": ".py",
   "mimetype": "text/x-python",
   "name": "python",
   "nbconvert_exporter": "python",
   "pygments_lexer": "ipython3",
   "version": "3.8.8"
  }
 },
 "nbformat": 4,
 "nbformat_minor": 2
}

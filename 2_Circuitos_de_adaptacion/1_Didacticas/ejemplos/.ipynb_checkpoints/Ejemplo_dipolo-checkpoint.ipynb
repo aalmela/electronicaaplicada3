{
 "cells": [
  {
   "cell_type": "code",
   "execution_count": 2,
   "metadata": {},
   "outputs": [
    {
     "name": "stdout",
     "output_type": "stream",
     "text": [
      ".param Rl =  3.00e-01 \n",
      ".param rg =  5.00e+01 \n",
      ".param Ca  =  1.7684e+00 \n",
      ".param La  =  1.5915e-15 \n",
      ".param Lb  =  4.2212e-07 \n",
      ".param L  =  4.2212e-07 \n",
      ".param rp =  1.00e+00 \n",
      ".param Cb  =  6.4941e-09 \n",
      ".param ig =  4.00e+00 \n"
     ]
    }
   ],
   "source": [
    "import myplot as myp\n",
    "import numpy as np\n",
    "import matplotlib.pyplot as plt\n",
    "import csv\n",
    "\n",
    "f = np.linspace(2e6,4e6,100)\n",
    "\n",
    "w    = 2*np.pi*f\n",
    "\n",
    "# Datos para los calculos \n",
    "fo    = 3e6\n",
    "wo    = 2*np.pi*fo\n",
    "Rl    = 0.3\n",
    "Ca    = 1/(30e-9*wo)\n",
    "rp    = 1\n",
    "rg    = 50\n",
    "Pdisp = 100\n",
    "\n",
    "print('.param Rl =  {:1.2e} '.format(Rl) )\n",
    "print('.param rg =  {:1.2e} '.format(rg) )\n",
    "print('.param Ca  =  {:1.4e} '.format(Ca) )\n",
    "\n",
    "\n",
    "## Etapa A\n",
    "\n",
    "# Q de la antena \n",
    "Qa = 1/(wo*Ca*Rl)\n",
    "# print(Qa)\n",
    "\n",
    "# Neutralizo el capacitor\n",
    "Xl = 1/(wo * Ca)         # reactancia de la antena \n",
    "La = Xl/wo               # neutraliza la reactancia de la antena \n",
    "\n",
    "# Etapa B\n",
    "# Conversion serie-paralelo\n",
    "Qm = ((rg/(Rl+rp)) -1)**0.5    # Calculo Qm necesario\n",
    "#print(Qm)\n",
    "XL  = Qm*(Rl+rp)            # L para lograr el Qm\n",
    "Lb   = XL/wo\n",
    "print('.param La  =  {:1.4e} '.format(La) )\n",
    "print('.param Lb  =  {:1.4e} '.format(Lb) )\n",
    "L = La + Lb\n",
    "print('.param L  =  {:1.4e} '.format(L) )\n",
    "\n",
    "#mean diameter of the coil    D = 200.0 mm\n",
    "#number of turns              N = 26.0\n",
    "#length of the coil           ℓ = 180.0 mm\n",
    "#wire or tubing diameter      d = 3.0 mm\n",
    "#design frequency             f = 3.0 MHz\n",
    "#effective series inductance @ design frequency          L_eff_s = 9.433e-05 H\n",
    "#effective series AC resistance @ design frequency       R_eff_s = 1.095e+00 Ω\n",
    "\n",
    "print('.param rp =  {:1.2e} '.format(rp) )\n",
    "\n",
    "XLp = XL*(1+1/Qm**2)\n",
    "\n",
    "Cb   = 1/(XLp*wo)        # Capacitor sintonia \n",
    "print('.param Cb  =  {:1.4e} '.format(Cb) )\n",
    "#https://www.knowlescapacitors.com/getattachment/ac79327c-78b2-4790-b841-4541dcd9a291/High-Power-RF\n",
    "#http://datasheets.avx.com/HQ-Series.pdf\n",
    "#effective series AC resistance @ design frequency       R_eff_s = 0.001 Ω\n",
    "\n",
    "ig = ((Pdisp*8)/rg)**0.5\n",
    "\n",
    "### Para simular con LTspice\n",
    "print('.param ig =  {:1.2e} '.format(ig) )\n",
    "\n",
    "# Impedacias!\n",
    "ZaC   =       1/(1j*w*Ca)\n",
    "ZaL   =          1j*w*La  \n",
    "ZbL   = rp  +    1j*w*Lb   \n",
    "ZbC   = 1e-3+ 1/(1j*w*Cb)\n",
    "\n"
   ]
  },
  {
   "cell_type": "code",
   "execution_count": null,
   "metadata": {},
   "outputs": [],
   "source": []
  }
 ],
 "metadata": {
  "kernelspec": {
   "display_name": "Python 3",
   "language": "python",
   "name": "python3"
  },
  "language_info": {
   "codemirror_mode": {
    "name": "ipython",
    "version": 3
   },
   "file_extension": ".py",
   "mimetype": "text/x-python",
   "name": "python",
   "nbconvert_exporter": "python",
   "pygments_lexer": "ipython3",
   "version": "3.8.8"
  },
  "latex_envs": {
   "LaTeX_envs_menu_present": true,
   "autoclose": false,
   "autocomplete": true,
   "bibliofile": "biblio.bib",
   "cite_by": "apalike",
   "current_citInitial": 1,
   "eqLabelWithNumbers": true,
   "eqNumInitial": 1,
   "hotkeys": {
    "equation": "Ctrl-E",
    "itemize": "Ctrl-I"
   },
   "labels_anchors": false,
   "latex_user_defs": false,
   "report_style_numbering": false,
   "user_envs_cfg": false
  }
 },
 "nbformat": 4,
 "nbformat_minor": 2
}

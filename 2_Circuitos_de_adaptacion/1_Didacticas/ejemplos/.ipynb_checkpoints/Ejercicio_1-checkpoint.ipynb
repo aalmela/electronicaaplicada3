{
 "cells": [
  {
   "cell_type": "markdown",
   "metadata": {},
   "source": [
    "## Ejemplo 1: conversión serie a paralelo\n",
    "\n",
    "\n",
    "\n",
    "Se desea diseñar una red de adaptación para transformar una carga de $R_L = 50 \\Omega$ para que presente a el colector de un transistor una resistencia de $R_L' = 1000 \\Omega$ a la frecuencia de $f_o = 2 MHz$. Por simplicidad, suponemos que todos los componentes no tienen perdidas (son ideales) y que la salida del transistor presenta una admitancia resistiva pura.\n",
    "\n",
    "![11-cuatrocientos](fig/ejercicio1.png)\n",
    "\n",
    "Para resolver este diseño, debemos primero realizar la conversión de serie a paralelo del inductor y la resistencia.\n",
    "Esta conversión tiene que darnos como resultado una resistencia paralelo de $R_L' = 1000 \\Omega$.\n",
    "La conversión de serie a paralelo depende del valor de $Q_m$ ($Q$ de matching).\n",
    "\n",
    "$$R_p = R_s (1 + Q_m^2)$$\n",
    "\n",
    "$$Q_m =  \\sqrt{\\frac{R_p}{R_s} -1}$$\n",
    "\n",
    "$$Q_m =  \\sqrt{\\frac{1000}{50} -1}= 4.36$$\n",
    "\n",
    "\n",
    "Entonces con un $Q_m = 4.36$ la resistencia del circuito paralelo se comporta como una resistencia de $R_p = 1000 \\Omega$.\n",
    "\n",
    "Debemos conocer el valor del inductor que permite tener un $Q_m = 4.36$. Dado que el valor que queremos conocer corresponde al inductor $L$ serie, empleamos el calculo del $Q_m$ del circuito serie (recordando que la corriente es el parametro común para el calculo de la potencia en ambos componentes).\n",
    "\n",
    "$$Q_m =  \\frac{i^2 X_L}{i^2 r_s}$$\n",
    "\n",
    "$$Q_m =  \\frac{X_L}{r_s}$$\n",
    "\n",
    "$$X_L = Qm r_s = 4.36 \\cdot 50 \\Omega = 217.94 \\Omega$$\n",
    "\n",
    "siento $X_L = w_o \\cdot L$, donde $w_o = 2 \\pi f_o$. Entonces,\n",
    "\n",
    "$$L = \\frac{X_L}{2 \\pi f_o}$$\n",
    "\n",
    "\n",
    "$$L = \\frac{217.94 \\Omega}{2 \\pi 2\\times 10^6 Hz} = 17.3 \\mu Hz$$\n",
    "\n",
    "Para obtener el valor de $C$, necesitamos conocer el valor del inductor correspondiente al circuito paralelo. Debemos calcular su valor para el circuito paralelo.\n",
    "\n",
    "$$X_p = X_s (1 +  \\frac{1}{Q_m^2})$$\n",
    "\n",
    "$$X_L' = X_L (1 +  \\frac{1}{Q_m^2})$$\n",
    "\n",
    "$$X_L' = 217.94 \\Omega (1 +  \\frac{1}{4.36^2})= 229.41 \\Omega$$\n",
    "\n",
    "El valor que resuena con el capacitor entonces es $X_C = X_L'$, siendo $X_C = \\frac{1}{w_o \\cdot C}$. Hacemos entonces el calculo del valor del capacitor $C$.\n",
    "\n",
    "$$C = \\frac{1}{w_o \\cdot X_C}$$\n",
    "\n",
    "$$C = \\frac{1}{2 \\pi 2\\times 10^6 Hz \\cdot 229.41 \\Omega} = 346.8 pF$$\n",
    "\n",
    "\n",
    "\n",
    "Como vemos en este ejemplo, se logra la adaptación de la resistencia mediante la conversión de serie a paralelo. Dado que se emplean solo dos componentes reactivos, el $Q_c$ queda impuesto por el circuito y no puede ser modificado sin afectar la adaptación.  \n",
    "\n"
   ]
  },
  {
   "cell_type": "code",
   "execution_count": 1,
   "metadata": {},
   "outputs": [
    {
     "name": "stdout",
     "output_type": "stream",
     "text": [
      ".param rg =  3.0000e+02 \n",
      ".param C  =  1.1863e-09 \n",
      ".param L  =  1.7794e-05 \n",
      ".param Rl =  5.0000e+01 \n"
     ]
    },
    {
     "name": "stderr",
     "output_type": "stream",
     "text": [
      "/home/aalmela/scm/git/utn/electronicaaplicada3/2_Circuitos_de_adaptacion/1_Didacticas/ejemplos/myplot.py:79: MatplotlibDeprecationWarning: Adding an axes using the same arguments as a previous axes currently reuses the earlier instance.  In a future version, a new instance will always be created and returned.  Meanwhile, this warning can be suppressed, and the future behavior ensured, by passing a unique label to each axes instance.\n",
      "  ax = plt.subplot(111)\n"
     ]
    },
    {
     "data": {
      "image/png": "[encoded data removed]",
      "text/plain": [
       "<Figure size 432x288 with 2 Axes>"
      ]
     },
     "metadata": {
      "needs_background": "light"
     },
     "output_type": "display_data"
    }
   ],
   "source": [
    "import myplot as myp\n",
    "import numpy as np\n",
    "import matplotlib.pyplot as plt\n",
    "import csv\n",
    "\n",
    "\n",
    "\n",
    "# Datos \n",
    "Rg = 300\n",
    "Rl = 50\n",
    "fo = 1e6\n",
    "wo = 2*np.pi*fo\n",
    "\n",
    "Qm  = ((Rg/Rl)-1)**0.5      # Caclulo del Qm\n",
    "\n",
    "XL  = Qm * Rl               # Caclulo de XL\n",
    "\n",
    "L   = XL/wo                 # Calculo de LÇ\n",
    "\n",
    "XLp = XL *(1+1/Qm**2)       # Conversion de L paralelo\n",
    "XC  = XLp\n",
    "C   = 1/(2*np.pi*fo*XC)    # Conversion de C de sintonia\n",
    "\n",
    "print('.param rg =  {:1.4e} '.format(Rg) )\n",
    "print('.param C  =  {:1.4e} '.format(C) )\n",
    "print('.param L  =  {:1.4e} '.format(L) )\n",
    "print('.param Rl =  {:1.4e} '.format(Rl) )\n",
    "\n",
    "# Ahora calculando en la hoja de calculo \n",
    "f =  np.arange(1.95e6,2.2e6,10e3)                   # Defino el array de frecuencia\n",
    "w = 2*np.pi*f\n",
    "Qc = Rg/XLp\n",
    "\n",
    "Zsimp = Rg/(1+1j*Qc*(f/fo-fo/f))   \n",
    "\n",
    "Zfull = (1/(1j*w*C))*(Rl+1j*w*L)/((1/(1j*w*C))+(Rl+1j*w*L))\n",
    "\n",
    "\n",
    "myp.PlotCpx(f,Zsimp , labelx = 'Frecuencia/Hz', labely = '$Z_{in}$')\n",
    "\n",
    "myp.PlotCpx(f,Zfull , labelx = 'Frecuencia/Hz', labely = '$Z_{in}$')\n",
    "\n",
    "#plt.savefig('figures/converSerPAr.png')\n",
    "\n",
    "plt.show()\n",
    "\n",
    "\n",
    "\n"
   ]
  },
  {
   "cell_type": "code",
   "execution_count": null,
   "metadata": {},
   "outputs": [],
   "source": []
  }
 ],
 "metadata": {
  "kernelspec": {
   "display_name": "Python 3",
   "language": "python",
   "name": "python3"
  },
  "language_info": {
   "codemirror_mode": {
    "name": "ipython",
    "version": 3
   },
   "file_extension": ".py",
   "mimetype": "text/x-python",
   "name": "python",
   "nbconvert_exporter": "python",
   "pygments_lexer": "ipython3",
   "version": "3.8.8"
  },
  "latex_envs": {
   "LaTeX_envs_menu_present": true,
   "autoclose": false,
   "autocomplete": true,
   "bibliofile": "biblio.bib",
   "cite_by": "apalike",
   "current_citInitial": 1,
   "eqLabelWithNumbers": true,
   "eqNumInitial": 1,
   "hotkeys": {
    "equation": "Ctrl-E",
    "itemize": "Ctrl-I"
   },
   "labels_anchors": false,
   "latex_user_defs": false,
   "report_style_numbering": false,
   "user_envs_cfg": false
  }
 },
 "nbformat": 4,
 "nbformat_minor": 2
}

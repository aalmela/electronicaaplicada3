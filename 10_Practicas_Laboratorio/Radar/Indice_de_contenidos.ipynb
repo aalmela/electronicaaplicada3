{
 "cells": [
  {
   "cell_type": "markdown",
   "id": "60531674",
   "metadata": {},
   "source": [
    "# Contenido\n",
    "\n",
    "## [1. Introducción](./Introducción.ipynb)\n",
    "\n",
    "## [2. Amplificador Bajo Ruido](./Amplificador_Bajo_Ruido.ipynb)\n",
    "\n",
    "## [3. Amplificador de Potencia](./Amplificador_Potencia.ipynb)\n",
    "\n",
    "## [4. Oscilador controlado por Tensión](./Oscilador_Controlado_Tension.ipynb)\n",
    "\n"
   ]
  },
  {
   "cell_type": "code",
   "execution_count": null,
   "id": "3d8ec6c2",
   "metadata": {},
   "outputs": [],
   "source": []
  }
 ],
 "metadata": {
  "kernelspec": {
   "display_name": "Python 3",
   "language": "python",
   "name": "python3"
  },
  "language_info": {
   "codemirror_mode": {
    "name": "ipython",
    "version": 3
   },
   "file_extension": ".py",
   "mimetype": "text/x-python",
   "name": "python",
   "nbconvert_exporter": "python",
   "pygments_lexer": "ipython3",
   "version": "3.8.8"
  }
 },
 "nbformat": 4,
 "nbformat_minor": 5
}

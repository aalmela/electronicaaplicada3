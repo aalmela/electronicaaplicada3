{
 "cells": [
  {
   "cell_type": "code",
   "execution_count": 19,
   "id": "9aef6544",
   "metadata": {},
   "outputs": [],
   "source": [
    "T =100e-9/4.5"
   ]
  },
  {
   "cell_type": "code",
   "execution_count": 20,
   "id": "4212251d",
   "metadata": {},
   "outputs": [
    {
     "name": "stdout",
     "output_type": "stream",
     "text": [
      "45.0\n"
     ]
    }
   ],
   "source": [
    "print(1/T/1e6)"
   ]
  },
  {
   "cell_type": "code",
   "execution_count": 42,
   "id": "23cad572",
   "metadata": {},
   "outputs": [],
   "source": [
    "import numpy as np\n",
    "\n",
    "C1 = 6e-12\n",
    "C2 = 8e-12\n",
    "C3 = 47e-12\n",
    "L  = 2.4e-9\n",
    "\n",
    "C   = 1/(1/C1+1/C2+1/C3)\n",
    "\n",
    "f = 1/(2*np.pi*(L*C)**0.5)"
   ]
  },
  {
   "cell_type": "code",
   "execution_count": 43,
   "id": "2e9d7f99",
   "metadata": {},
   "outputs": [
    {
     "name": "stdout",
     "output_type": "stream",
     "text": [
      "1.8173865668526044\n"
     ]
    }
   ],
   "source": [
    "print(f/1e9)"
   ]
  },
  {
   "cell_type": "code",
   "execution_count": 63,
   "id": "d6dfe529",
   "metadata": {},
   "outputs": [
    {
     "name": "stdout",
     "output_type": "stream",
     "text": [
      "L_e = 11.2919 nHy\n",
      "C_d = 9.2089 pF\n"
     ]
    }
   ],
   "source": [
    "## Calculos OL\n",
    "\n",
    "fo = 950e6\n",
    "wo = 2*np.pi*fo\n",
    "\n",
    "Zi = 28.4 - 2.38j \n",
    "Zo = 74.7 -37.10j\n",
    "\n",
    "L  = 2.4e-9\n",
    "C1 = 6e-12\n",
    "C2 = 8-12\n",
    "\n",
    "Za = Zi + 1/(1j*wo*C1)\n",
    "Zb = Zo + 1/(1j*wo*C2)\n",
    "\n",
    "Ca = -1/(Za.imag*wo)\n",
    "Cb = -1/(Zb.imag*wo)\n",
    "\n",
    "Cs = Ca*Cb/(Ca+Cb)\n",
    "\n",
    "\n",
    "Le = 1/(Cs*wo**2) \n",
    "\n",
    "print('L_e = {:1.4f} nHy'.format(Le/1e-9))\n",
    "\n",
    "Cd = -(1/(wo*Le) - 1/(wo*L))/(wo)   \n",
    "\n",
    "print('C_d = {:1.4f} pF'.format(Cd/1e-12))"
   ]
  },
  {
   "cell_type": "code",
   "execution_count": null,
   "id": "97bd6de1",
   "metadata": {},
   "outputs": [],
   "source": []
  }
 ],
 "metadata": {
  "kernelspec": {
   "display_name": "Python 3",
   "language": "python",
   "name": "python3"
  },
  "language_info": {
   "codemirror_mode": {
    "name": "ipython",
    "version": 3
   },
   "file_extension": ".py",
   "mimetype": "text/x-python",
   "name": "python",
   "nbconvert_exporter": "python",
   "pygments_lexer": "ipython3",
   "version": "3.8.8"
  }
 },
 "nbformat": 4,
 "nbformat_minor": 5
}

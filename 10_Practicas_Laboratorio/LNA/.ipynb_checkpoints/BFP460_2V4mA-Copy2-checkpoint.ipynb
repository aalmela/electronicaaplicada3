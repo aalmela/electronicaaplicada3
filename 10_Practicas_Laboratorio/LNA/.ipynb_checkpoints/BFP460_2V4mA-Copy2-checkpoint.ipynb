{
 "cells": [
  {
   "cell_type": "code",
   "execution_count": 59,
   "metadata": {},
   "outputs": [],
   "source": [
    "import math\n",
    "import cmath \n",
    "import numpy as np\n",
    "import matplotlib.pyplot as plt\n",
    "from skrf import Network, Frequency\n",
    "from skrf.media import DistributedCircuit\n",
    "from skrf import Frequency\n",
    "from skrf import network\n",
    "from skrf.network import *\n",
    "\n",
    "from skrf import plotting \n",
    "\n",
    "\n",
    "from IPython.display import Image  \n",
    "%matplotlib inline\n",
    "params = {'legend.fontsize': 14,\n",
    "          'figure.figsize': (10, 10),\n",
    "         'axes.labelsize': 14,\n",
    "         'axes.titlesize': 14,\n",
    "         'xtick.labelsize':14,\n",
    "         'ytick.labelsize':14}\n",
    "plt.rcParams.update(params)\n",
    "\n",
    "\n"
   ]
  },
  {
   "cell_type": "code",
   "execution_count": 64,
   "metadata": {},
   "outputs": [],
   "source": [
    "\n",
    "def Nparallel(freq, ya, yb, z0=50):\n",
    "    y = np.empty(shape=(len(freq.f),2,2), dtype=complex)\n",
    "    for i,f in enumerate(freq.f):\n",
    "        y[i,0,0] =  ya[i,0,0] +  yb[i,0,0]\n",
    "        y[i,0,1] =  ya[i,0,1] +  yb[i,0,1]\n",
    "        y[i,1,0] =  ya[i,1,0] +  yb[i,1,0]\n",
    "        y[i,1,1] =  ya[i,1,1] +  yb[i,1,1]\n",
    "    a = network.y2s(y,z0=z0)\n",
    "    ntwk = Network(frequency=freq, s= a, z0=z0)\n",
    "    return ntwk\n",
    "\n",
    "\n",
    "\n",
    "## Convierte a network de skrf una admitancia.\n",
    "def Nadmi(freq, yb, z0=50):\n",
    "    y = np.empty(shape=(len(freq.f),2,2), dtype=complex)\n",
    "    for i,f in enumerate(freq.f):\n",
    "        y[i,0,0] =   yb\n",
    "        y[i,0,1] =  -yb\n",
    "        y[i,1,0] =  -yb\n",
    "        y[i,1,1] =   yb\n",
    "    a = network.y2s(y,z0=z0)\n",
    "    ntwk = Network(frequency=freq, s= a, z0=z0)\n",
    "    return ntwk\n"
   ]
  },
  {
   "cell_type": "code",
   "execution_count": 65,
   "metadata": {},
   "outputs": [],
   "source": [
    "def Linvill(yt, showme = False):\n",
    "    y11 = yt[0,0]\n",
    "    y12 = yt[0,1]\n",
    "    y21 = yt[1,0]\n",
    "    y22 = yt[1,1]\n",
    "    C = (abs(y12*y21))/(2*y11.real*y22.real-(y12*y21).real)\n",
    "    if showme:\n",
    "        print('###############  LINVILL   #####################')\n",
    "        print( 'coeficiente de linvill C= {:4.2F}' .format(C))\n",
    "        if C < 1:\n",
    "            print( 'Es incondicionalmente estable')\n",
    "        else :\n",
    "            print( 'Es potencialmente inestable')\n",
    "    return C\n",
    "\n",
    "def cosas():\n",
    "    yin  = y11 - (y21*y12)/(y22+yl)\n",
    "    yout = y22 - (y21*y12)/(y11+yg)\n",
    "    print( 'yin  = {0.real:4.3F} {0.imag:4.2E}' .format(yin) )\n",
    "    print( 'rin  = {0.real:4.3F} ' .format(1/yin.real) )\n",
    "    \n",
    "    print( 'yout = {0.real:4.3F} {0.imag:4.2E}' .format(yout) )\n",
    "    print( 'rout = {0.real:4.3F} ' .format(1/yout.real) )\n",
    "    \n",
    "    \n",
    "    Gg = yin.real/(yg+yin).real\n",
    "    G  = abs(y21)**2 *yl.real /(yin).real  /(y22+yl).real**2\n",
    "    Gt = 4* abs(y21)**2 *yl.real *yg.real /abs((y11+yg)*(y22+yl)-y21*y12)**2\n",
    "    \n",
    "    print( 'Gg= {0.real:4.2F} ' .format((Gg)))\n",
    "    print( 'G = {0.real:4.2F} ' .format((G )))\n",
    "    print( 'Gt= {0.real:4.2F} dB' .format((10*np.log10(Gt) )))\n",
    "\n",
    "def Stern(yg, yl, yt, showme = False):\n",
    "    y11 = yt[0,0]\n",
    "    y12 = yt[0,1]\n",
    "    y21 = yt[1,0]\n",
    "    y22 = yt[1,1]\n",
    "    K = (2*(y11.real+yg.real)*(y22.real+yl.real)) / (abs(y12*y21)+(y12*y21).real)\n",
    "    if showme:\n",
    "        print('###############  STERN   #####################')\n",
    "        print( 'coeficiente de stern K= {:4.2F}' .format(K))\n",
    "        if K > 1:\n",
    "            print( 'Estable')\n",
    "        else :\n",
    "            print( 'Inestable')\n",
    "    return K        \n",
    "      \n",
    "    \n",
    "\n",
    "\n",
    "\n",
    "\n",
    "\n",
    "def neutraliza(yt,wo,n = 1):\n",
    "    Cn = -yt[0,1].imag/wo*n\n",
    "    y11 =  wo*Cn*1j\n",
    "    y12 =  wo*Cn*1j/n\n",
    "    y21 =  wo*Cn*1j/n\n",
    "    y22 =  wo*Cn*1j/n**2\n",
    "    yn  = np.matrix([[y11, y12],[ y21, y22]])\n",
    "    # cuadripolo resultante\n",
    "    ytn  = yt + yn\n",
    "    print('cap=',Cn, 'n=', n)\n",
    "    return (ytn,Cn)\n",
    "\n",
    "\n",
    "def realimenta(yt,yf):\n",
    "    y11 =   yf\n",
    "    y12 =  -yf\n",
    "    y21 =  -yf\n",
    "    y22 =   yf  \n",
    "    yn  = np.matrix([[y11, y12],[ y21, y22]])\n",
    "    # cuadripolo resultante\n",
    "    ytn  = yt + yn\n",
    "    return (ytn)\n",
    "\n",
    "def printS(S1):\n",
    "    s11 =   S1[0,0]\n",
    "    s12 =   S1[0,1]\n",
    "    s21 =   S1[1,0]\n",
    "    s22 =   S1[1,1]\n",
    "    print( 's11= {:4.3f}  {:4.2f}' .format(abs(s11),np.angle(s11)*180/np.pi ))\n",
    "    print( 's12= {:4.3f}  {:4.2f}' .format(abs(s12),np.angle(s12)*180/np.pi ))\n",
    "    print( 's21= {:4.3f}  {:4.2f}' .format(abs(s21),np.angle(s21)*180/np.pi ))\n",
    "    print( 's22= {:4.3f}  {:4.2f}' .format(abs(s22),np.angle(s22)*180/np.pi ))\n",
    "\n",
    "def printY(Y1):\n",
    "    y11 =   Y1[0,0]\n",
    "    y12 =   Y1[0,1]\n",
    "    y21 =   Y1[1,0]\n",
    "    y22 =   Y1[1,1]\n",
    "    print( 'y11= {0.real:4.2E}  {0.imag:4.2E}j' .format(y11) )\n",
    "    print( 'y12= {0.real:4.2E}  {0.imag:4.2E}j' .format(y12) )\n",
    "    print( 'y21= {0.real:4.2E}  {0.imag:4.2E}j' .format(y21) )\n",
    "    print( 'y22= {0.real:4.2E}  {0.imag:4.2E}j' .format(y22) )\n",
    "    print(' ')\n",
    "\n",
    "    print( 'r11= {0.real:4.2F}' .format(1/y11.real) )\n",
    "    print( 'c11= {0.real:4.2E}' .format(y11.imag/wo) )\n",
    "\n",
    "\n",
    "    print( 'gm = {0.real:4.2F}' .format(abs(y21)) )\n",
    "    print( 'gr = {0.real:4.4F}' .format(abs(y12)) )\n",
    "\n",
    "    print( 'r22= {0.real:4.2F}' .format(1/y22.real) )\n",
    "    print( 'c22= {0.real:4.2E}' .format(y22.imag/wo) )\n",
    "\n",
    "  \n",
    "    return\n",
    "\n",
    "def Linvill2(net):\n",
    "    c = list()\n",
    "    for n in net:\n",
    "        c.append(Linvill(n))\n",
    "    return c\n",
    "\n",
    "\n",
    "def Stern2(net, yg, yl):\n",
    "    c = list()\n",
    "    for n in net:\n",
    "        c.append(Stern(yg,yl,n))\n",
    "    return c\n",
    "\n",
    "def realimenta(net, yf):\n",
    "    netf = list()\n",
    "    for yn in net:\n",
    "        netf.append(realimenta(yn,yf) )\n",
    "    return netf  \n",
    "        "
   ]
  },
  {
   "cell_type": "code",
   "execution_count": 66,
   "metadata": {},
   "outputs": [
    {
     "data": {
      "image/png": "[encoded data removed]",
      "text/plain": [
       "<Figure size 720x720 with 1 Axes>"
      ]
     },
     "metadata": {
      "needs_background": "light"
     },
     "output_type": "display_data"
    }
   ],
   "source": [
    "BFP720 = Network('SPICE/BFP720_w_noise_VCE_3.0V_IC_10mA.s2p')\n",
    "\n",
    "freq = Frequency(BFP720.f[0],BFP720.f[10],len(BFP720.f[0:10])+1,'hz')\n",
    "\n",
    "BFP720.plot_z_mag(m=1,n=1)"
   ]
  },
  {
   "cell_type": "code",
   "execution_count": 67,
   "metadata": {},
   "outputs": [],
   "source": [
    "yb = Nadmi(freq, 0.001)\n",
    "\n"
   ]
  },
  {
   "cell_type": "code",
   "execution_count": 68,
   "metadata": {},
   "outputs": [
    {
     "data": {
      "text/plain": [
       "[<matplotlib.lines.Line2D at 0x7efc056df470>]"
      ]
     },
     "execution_count": 68,
     "metadata": {},
     "output_type": "execute_result"
    },
    {
     "data": {
      "image/png": "[encoded data removed]",
      "text/plain": [
       "<Figure size 720x720 with 1 Axes>"
      ]
     },
     "metadata": {
      "needs_background": "light"
     },
     "output_type": "display_data"
    }
   ],
   "source": [
    "\n",
    "\n",
    "plt.plot(BFP720[0:20].f,BFP720[0:20].stability, 'o')"
   ]
  },
  {
   "cell_type": "code",
   "execution_count": 6,
   "metadata": {},
   "outputs": [
    {
     "data": {
      "text/plain": [
       "[<matplotlib.lines.Line2D at 0x7efc056009b0>]"
      ]
     },
     "execution_count": 6,
     "metadata": {},
     "output_type": "execute_result"
    },
    {
     "data": {
      "image/png": "[encoded data removed]",
      "text/plain": [
       "<Figure size 432x288 with 1 Axes>"
      ]
     },
     "metadata": {
      "needs_background": "light"
     },
     "output_type": "display_data"
    }
   ],
   "source": [
    "Cbpf = Linvill2(BFP720[:].y)\n",
    "plt.plot(Cbpf)"
   ]
  },
  {
   "cell_type": "code",
   "execution_count": 7,
   "metadata": {},
   "outputs": [
    {
     "data": {
      "text/plain": [
       "[<matplotlib.lines.Line2D at 0x7efc0519cc88>]"
      ]
     },
     "execution_count": 7,
     "metadata": {},
     "output_type": "execute_result"
    },
    {
     "data": {
      "image/png": "[encoded data removed]",
      "text/plain": [
       "<Figure size 432x288 with 1 Axes>"
      ]
     },
     "metadata": {
      "needs_background": "light"
     },
     "output_type": "display_data"
    }
   ],
   "source": [
    "Cbpf = Stern2(BFP720[:].y, 1/50, 1/50)\n",
    "plt.semilogy(Cbpf)"
   ]
  },
  {
   "cell_type": "code",
   "execution_count": 8,
   "metadata": {},
   "outputs": [
    {
     "name": "stdout",
     "output_type": "stream",
     "text": [
      "Parametros S 50MHz (3V10mA):\n",
      "s11= 0.872  -3.10\n",
      "s12= 0.002  84.60\n",
      "s21= 25.105  176.60\n",
      "s22= 0.995  -1.90\n",
      " \n",
      "Parametros Y 50MHz (3V10mA):\n",
      "y11= 1.34E-03  2.96E-04j\n",
      "y12= -1.16E-06  -1.82E-05j\n",
      "y21= 2.69E-01  -7.78E-03j\n",
      "y22= 2.78E-05  1.04E-04j\n",
      " \n",
      "r11= 744.33\n",
      "c11= 9.41E-13\n",
      "gm = 0.27\n",
      "gr = 0.0000\n",
      "r22= 36008.22\n",
      "c22= 3.31E-13\n"
     ]
    }
   ],
   "source": [
    "fo = 50e6\n",
    "wo = 2*np.pi*fo\n",
    "\n",
    "print('Parametros S 50MHz (3V10mA):')\n",
    "\n",
    "printS(BFP720['50mhz'].s[0])\n",
    "print(' ')\n",
    "\n",
    "print('Parametros Y 50MHz (3V10mA):')\n",
    "Y100 = BFP720['50mhz'].y[0]\n",
    "\n",
    "printY(Y100)"
   ]
  },
  {
   "cell_type": "code",
   "execution_count": 21,
   "metadata": {},
   "outputs": [
    {
     "name": "stdout",
     "output_type": "stream",
     "text": [
      "[30000000. 40000000. 50000000. 60000000. 70000000. 80000000.] [[[ 1.34440726e-03+1.70303935e-04j -2.69797117e-07-1.07005906e-05j]\n",
      "  [ 2.67108143e-01-6.73467564e-03j  5.03532640e-05+4.07740888e-05j]]\n",
      "\n",
      " [[ 1.34503653e-03+2.48964717e-04j -7.12143385e-07-1.38962823e-05j]\n",
      "  [ 2.67833415e-01-7.17098169e-03j  3.95266510e-05+7.04101078e-05j]]\n",
      "\n",
      " [[ 1.34349779e-03+2.95761904e-04j -1.16093974e-06-1.81564343e-05j]\n",
      "  [ 2.68562807e-01-7.77637867e-03j  2.77714378e-05+1.03941145e-04j]]\n",
      "\n",
      " [[ 1.34298361e-03+3.60667848e-04j -1.40546652e-06-2.24334294e-05j]\n",
      "  [ 2.68125185e-01-7.88716771e-03j  2.24707593e-05+1.20690722e-04j]]\n",
      "\n",
      " [[ 1.34128972e-03+4.22679218e-04j -1.53204937e-06-2.56440359e-05j]\n",
      "  [ 2.67680796e-01-8.50084253e-03j  1.73949326e-05+1.50992073e-04j]]\n",
      "\n",
      " [[ 1.33970041e-03+4.87817911e-04j -1.61822543e-06-2.99307601e-05j]\n",
      "  [ 2.67268919e-01-8.84156381e-03j  1.19812989e-05+1.85391365e-04j]]]\n"
     ]
    }
   ],
   "source": [
    "print( BFP720['30-80mhz'].f, BFP720['30-80mhz'].y[:])"
   ]
  },
  {
   "cell_type": "code",
   "execution_count": 23,
   "metadata": {},
   "outputs": [
    {
     "name": "stdout",
     "output_type": "stream",
     "text": [
      "###############  LINVILL   #####################\n",
      "coeficiente de linvill C= 9.26\n",
      "Es potencialmente inestable\n"
     ]
    },
    {
     "data": {
      "text/plain": [
       "9.264906367134268"
      ]
     },
     "execution_count": 23,
     "metadata": {},
     "output_type": "execute_result"
    }
   ],
   "source": [
    "Linvill(Y100)\n"
   ]
  },
  {
   "cell_type": "code",
   "execution_count": 31,
   "metadata": {},
   "outputs": [
    {
     "name": "stdout",
     "output_type": "stream",
     "text": [
      "y11= 1.78E-03  2.96E-04j\n",
      "y12= -4.36E-04  -1.82E-05j\n",
      "y21= 2.68E-01  -7.78E-03j\n",
      "y22= 4.63E-04  1.04E-04j\n",
      " \n",
      "r11= 562.34\n",
      "c11= 9.41E-13\n",
      "gm = 0.27\n",
      "gr = 0.0004\n",
      "r22= 2161.91\n",
      "c22= 3.31E-13\n",
      "###############  LINVILL   #####################\n",
      "coeficiente de linvill C= 0.99\n",
      "Es incondicionalmente estable\n"
     ]
    },
    {
     "data": {
      "text/plain": [
       "0.9862164152624462"
      ]
     },
     "execution_count": 31,
     "metadata": {},
     "output_type": "execute_result"
    }
   ],
   "source": [
    "ytn  =  realimenta(Y100,wo,1/2.3e3 )\n",
    "\n",
    "printY(ytn)\n",
    "\n",
    "Linvill(ytn)\n"
   ]
  },
  {
   "cell_type": "code",
   "execution_count": 58,
   "metadata": {},
   "outputs": [
    {
     "name": "stdout",
     "output_type": "stream",
     "text": [
      "2.3141128725561585e-12\n",
      "8.849014835909381e-13\n",
      "###############  STERN   #####################\n",
      "coeficiente de stern K= 41041.07\n",
      "Estable\n",
      "yin  = 0.015 7.27E-04\n",
      "rin  = 66.336 \n",
      "yout = 0.006 2.78E-04\n",
      "rout = 171.444 \n",
      "Gg= 0.43 \n",
      "G = 514.11 \n",
      "Gt= 27.02 dB\n"
     ]
    }
   ],
   "source": [
    "yg = (1/50 ) - 7.27E-04j\n",
    "print((-yg.imag/wo) )\n",
    "\n",
    "yl= (1/120 ) - 2.78E-04j\n",
    "print(-yl.imag/wo) \n",
    "\n",
    "\n",
    "Stern(yg, yl, ytn)"
   ]
  },
  {
   "cell_type": "code",
   "execution_count": null,
   "metadata": {},
   "outputs": [],
   "source": []
  },
  {
   "cell_type": "code",
   "execution_count": null,
   "metadata": {},
   "outputs": [],
   "source": []
  }
 ],
 "metadata": {
  "kernelspec": {
   "display_name": "Python 3",
   "language": "python",
   "name": "python3"
  },
  "language_info": {
   "codemirror_mode": {
    "name": "ipython",
    "version": 3
   },
   "file_extension": ".py",
   "mimetype": "text/x-python",
   "name": "python",
   "nbconvert_exporter": "python",
   "pygments_lexer": "ipython3",
   "version": "3.7.4"
  }
 },
 "nbformat": 4,
 "nbformat_minor": 2
}

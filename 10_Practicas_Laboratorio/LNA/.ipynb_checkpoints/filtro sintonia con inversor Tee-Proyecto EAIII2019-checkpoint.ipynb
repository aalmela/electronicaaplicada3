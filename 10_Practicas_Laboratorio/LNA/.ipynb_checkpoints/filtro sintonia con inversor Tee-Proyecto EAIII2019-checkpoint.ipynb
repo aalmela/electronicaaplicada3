{
 "cells": [
  {
   "cell_type": "code",
   "execution_count": 1,
   "metadata": {},
   "outputs": [],
   "source": [
    "import numpy as np\n",
    "import math as mt\n",
    "import matplotlib.pyplot as plt\n",
    "import scipy                  # http://scipy.org/\n",
    "from scipy import signal\n",
    "\n",
    "from IPython.display import Image  \n",
    "%matplotlib inline\n",
    "params = {'legend.fontsize': 12,\n",
    "          'figure.figsize': (10, 10),\n",
    "         'axes.labelsize': 12,\n",
    "         'axes.titlesize': 12,\n",
    "         'xtick.labelsize':12,\n",
    "         'ytick.labelsize':12}\n",
    "plt.rcParams.update(params) \n",
    "\n",
    "from sympy.solvers import solve\n",
    "\n",
    "from sympy import Symbol, Function, nsolve "
   ]
  },
  {
   "cell_type": "markdown",
   "metadata": {},
   "source": [
    "Se desea un filtro de paso de banda centrado en $250 MHz$ que tenga un ancho de banda de $3dB$ de $40 MHz$. \n",
    "\n",
    "-\n",
    "Además, suponga que el nivel de impedancia del filtro $R_s =200$.\n",
    "\n",
    "La capacitancia de sintonización requerida es\n",
    "$$C_t  =   \\frac{1}{ \\pi  \\sqrt{2} R B}$$\n",
    "\n",
    "\n",
    "\n",
    "Los inductores de resonancia de derivación $_{eff}$ \n",
    "$$L_{eff}  =  [\\omega C_t  -  \\frac{1}{2 R^2 C_t}]^{-1}$$\n",
    "\n",
    "\n",
    "El inductor de acoplamiento \n",
    "$$L_{c}  = \\frac{R}{ \\omega_c} =127,3 nH.$$\n",
    " \n",
    "\n",
    "El valor para $L_r$ \n",
    "$$L_{r}  =  \\frac{L_{eff} L_c}{L_c + L_{eff}} = 16.36 nH$$\n",
    " \n",
    "\n"
   ]
  },
  {
   "cell_type": "code",
   "execution_count": 16,
   "metadata": {},
   "outputs": [],
   "source": [
    "def calcC(w,ro,rg,ct  ):\n",
    "    \n",
    "    a   = -w**2*ro*rg\n",
    "    b   = 1/ct\n",
    "    d   = rg/ro\n",
    "    \n",
    "    aa  = (d-b**2/a)/(1+b**2/a-d)\n",
    "    bb  = (b/a)/(1+b**2/a-d)\n",
    "    \n",
    "    \n",
    "    c1  = Symbol('c1')\n",
    "\n",
    "    f   = a*aa*c1**2+(a*bb+b+b*aa)*c1 +(b*bb-1)  \n",
    "    c1s = solve( f  , c1)\n",
    "\n",
    "    c1p   = [c  for c in c1s if c>0 ][0] \n",
    "    c2    = aa*c1p+bb\n",
    "    return c1p,c2\n",
    "\n",
    "\n",
    "def AvTeR(w,rs,C1,C2,Lc,Lr,rl):\n",
    "    zl =   rl + 1/(w*C1*1j)\n",
    "    y1 = 1/zl +   (w*C2*1j)\n",
    "    z2 = 1/y1 +   (w*Lr*1j)\n",
    "    y3 = 1/z2 + 1/(w*Lc*1j)\n",
    "    z4 = 1/y3 +   (w*Lr*1j)\n",
    "    y5 = 1/z4 +   (w*C2*1j)\n",
    "    zi = 1/y5 + 1/(w*C1*1j)\n",
    "    \n",
    "    return (np.abs(1/(rs+zi)/y5/z4/y3/z2/y1/zl*rl ))    \n",
    "\n",
    "\n",
    "\n",
    "def calcVr(Cj, Cjo, Vj, M, Cp, Rs, Ls):\n",
    "    return (((Cjo)/(Cj-Cp))**(1/M)-1)*Vj\n",
    "\n",
    "\n",
    "smv = dict()\n",
    "# CJO(F) VJ(V) M CP(F) RS(Ω) Ls(Hy)\n",
    "smv['SMV1234'] = ( 8.36e-12,   7.95,  3.96,  1.15e-12,  0.80, 1.4e-9)\n",
    "smv['SMV2022'] = ( 7.30e-12,   4.00,  1.40,         0,   2.2, 1.5e-9)\n",
    "smv['SMV1253'] = ( 51.8e-12,  73.60,  48.7,  2.70e-12,   1.1, 1.4e-9)\n",
    "smv['SMV1213'] = ( 28.9e-12, 190.00, 105.0,  2.20e-12,   1.4, 1.5e-9)  \n",
    "smv['SMV1470'] = (110.0e-12,  80.00,  39.7,  3.94e-12,   0.5, 1.4e-9)  \n",
    "        "
   ]
  },
  {
   "cell_type": "code",
   "execution_count": 17,
   "metadata": {},
   "outputs": [],
   "source": [
    "finf = 80e6\n",
    "fsup = 160e6\n",
    "\n",
    "\n",
    "fg = (finf*fsup)**(1/2)\n",
    "wg = 2*np.pi*fg\n",
    "B =  15e6\n",
    "rg = 5\n",
    "ro = 50\n",
    "rl = 50\n",
    "rs = 50\n",
    "gamma = 1"
   ]
  },
  {
   "cell_type": "code",
   "execution_count": 18,
   "metadata": {},
   "outputs": [
    {
     "name": "stdout",
     "output_type": "stream",
     "text": [
      ".param rs =  50.0 \n",
      ".param rl =  50.0 \n",
      ".param Lc =  7.03n\n",
      ".param Lr =  67.99n\n",
      ".param C1 =  18.212p\n",
      ".param C2 =  8.692p\n"
     ]
    }
   ],
   "source": [
    "Lc   = rg/wg\n",
    "Leff = rg/(np.pi*2**(1/2)*B)\n",
    "Ctg  =  1/(wg**2*Leff)\n",
    "Lr   = Leff - Lc \n",
    "\n",
    "\n",
    "print('.param rs =  {:2.1f} '.format(ro) )\n",
    "print('.param rl =  {:2.1f} '.format(ro) )\n",
    "\n",
    "print('.param Lc =  {:3.2f}n'.format(Lc/1e-9) )\n",
    "print('.param Lr =  {:3.2f}n'.format(Lr/1e-9) )\n",
    "\n",
    "\n",
    "\n",
    "f = fg\n",
    "# finf , fsup \n",
    "Cti     = Ctg*(fg/f)**2\n",
    "rgi     = rg*(f/fg)**gamma\n",
    "C1,C2 = calcC(2*np.pi*f,ro,rgi,Cti )\n",
    "print('.param C1 =  {:3.3f}p'.format(C1/1e-12) )\n",
    "print('.param C2 =  {:3.3f}p'.format(C2/1e-12) )\n"
   ]
  },
  {
   "cell_type": "code",
   "execution_count": 19,
   "metadata": {},
   "outputs": [
    {
     "data": {
      "image/png": "[encoded data removed]",
      "text/plain": [
       "<Figure size 432x288 with 1 Axes>"
      ]
     },
     "metadata": {
      "needs_background": "light"
     },
     "output_type": "display_data"
    }
   ],
   "source": [
    "step = 5e6\n",
    "freq = np.arange(80e6,120e6+step,step)\n",
    "\n",
    "\n",
    "\n",
    "for f in freq:\n",
    "    Cts   = Ctg*(fg/f)**2\n",
    "\n",
    "    C1,C2 = calcC(2*np.pi*f,ro,rg,Cts )\n",
    "     \n",
    "    \n",
    "    plt.plot(f,C1*2,'r.')\n",
    "    plt.plot(f,C2*2,'b*')\n",
    "plt.show()    "
   ]
  },
  {
   "cell_type": "code",
   "execution_count": 21,
   "metadata": {},
   "outputs": [
    {
     "name": "stdout",
     "output_type": "stream",
     "text": [
      "80000000.0\n",
      "0.925904667095345 0.654194953919184\n",
      "100000000.0\n",
      "1.92423647109173 1.46603661919051\n",
      "120000000.0\n",
      "2.77562480467125 2.15810602916539\n"
     ]
    },
    {
     "data": {
      "image/png": "[encoded data removed]",
      "text/plain": [
       "<Figure size 432x288 with 1 Axes>"
      ]
     },
     "metadata": {
      "needs_background": "light"
     },
     "output_type": "display_data"
    }
   ],
   "source": [
    "step = 20e6\n",
    "freq = np.arange(80e6,120e6+step,step)\n",
    "\n",
    "cjo1, vj1, m1, cp1, rs1, ls1 = smv['SMV1470']\n",
    "cjo2, vj2, m2, cp2, rs2, ls2 = smv['SMV1253']\n",
    "\n",
    "\n",
    "\n",
    "for f in freq:\n",
    "    Cts   = Ctg*(fg/f)**2\n",
    "\n",
    "    C1,C2 = calcC(2*np.pi*f,ro,rg,Cts )\n",
    "    print(f)\n",
    "    Vr1   = calcVr(C1*2,cjo1, vj1, m1, cp1, rs1, ls1) \n",
    "    Vr2   = calcVr(C2*2,cjo2, vj2, m2, cp2, rs2, ls2) \n",
    "    print(Vr1, Vr2)\n",
    "    plt.plot(f,Vr1,'r.')\n",
    "    plt.plot(f,Vr2,'b*')\n",
    "plt.show()    \n"
   ]
  },
  {
   "cell_type": "code",
   "execution_count": 26,
   "metadata": {},
   "outputs": [
    {
     "name": "stdout",
     "output_type": "stream",
     "text": [
      ".param Vs =  2.776\n",
      ".param Vd =  2.158\n"
     ]
    }
   ],
   "source": [
    "f = 120e6\n",
    "Cts   = Ctg*(fg/f)**2\n",
    "\n",
    "C1,C2 = calcC(2*np.pi*f,ro,rg,Cts )\n",
    "Vr1   = calcVr(C1*2,cjo1, vj1, m1, cp1, rs1, ls1) \n",
    "Vr2   = calcVr(C2*2,cjo2, vj2, m2, cp2, rs2, ls2)\n",
    "\n",
    " \n",
    "\n",
    "print('.param Vs =  {:3.3f}'.format(Vr1) )\n",
    "print('.param Vd =  {:3.3f}'.format(Vr2) )"
   ]
  },
  {
   "cell_type": "code",
   "execution_count": null,
   "metadata": {},
   "outputs": [],
   "source": [
    "step = 10e6\n",
    "freq = np.arange(80e6,120e6+step,step)\n",
    "df = np.arange(-40e6,40e6,1e6)\n",
    "\n",
    "\n",
    "for f in freq:\n",
    "    Cts   = Ctg*(fg/f)**2\n",
    "    C1,C2 = calcC(2*np.pi*f,rs,rg,Cts )    \n",
    "    print(C1,C2)\n",
    "    plt.plot(f+df      ,([20*mt.log10(AvTeR(2*np.pi*(f+fi),rs,C1,C2,Lc,Lr,rl)) for fi in df]))\n",
    "    plt.plot(f+2*10.7e6,20*mt.log10(AvTeR(2*np.pi*(f+2*10.7e6),rs,C1,C2,Lc,Lr,rl)),'x')\n",
    "    plt.plot(f-2*10.7e6,20*mt.log10(AvTeR(2*np.pi*(f-2*10.7e6),rs,C1,C2,Lc,Lr,rl)),'x')\n",
    "    \n",
    "plt.show() "
   ]
  },
  {
   "cell_type": "code",
   "execution_count": null,
   "metadata": {},
   "outputs": [],
   "source": []
  },
  {
   "cell_type": "code",
   "execution_count": null,
   "metadata": {},
   "outputs": [],
   "source": []
  }
 ],
 "metadata": {
  "kernelspec": {
   "display_name": "Python 3",
   "language": "python",
   "name": "python3"
  },
  "language_info": {
   "codemirror_mode": {
    "name": "ipython",
    "version": 3
   },
   "file_extension": ".py",
   "mimetype": "text/x-python",
   "name": "python",
   "nbconvert_exporter": "python",
   "pygments_lexer": "ipython3",
   "version": "3.7.4"
  }
 },
 "nbformat": 4,
 "nbformat_minor": 2
}

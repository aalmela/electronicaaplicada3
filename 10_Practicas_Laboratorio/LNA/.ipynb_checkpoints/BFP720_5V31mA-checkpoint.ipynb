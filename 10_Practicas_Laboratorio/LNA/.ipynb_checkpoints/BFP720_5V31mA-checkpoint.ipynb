{
 "cells": [
  {
   "cell_type": "code",
   "execution_count": 2,
   "metadata": {},
   "outputs": [],
   "source": [
    "import math\n",
    "import cmath \n",
    "import numpy as np\n",
    "import matplotlib.pyplot as plt\n",
    "from skrf import Network, Frequency\n",
    "\n",
    "\n",
    "from IPython.display import Image  \n",
    "%matplotlib inline\n",
    "params = {'legend.fontsize': 24,\n",
    "          'figure.figsize': (10, 10),\n",
    "         'axes.labelsize': 24,\n",
    "         'axes.titlesize': 24,\n",
    "         'xtick.labelsize':24,\n",
    "         'ytick.labelsize':24}\n",
    "plt.rcParams.update(params)\n",
    "\n",
    "\n"
   ]
  },
  {
   "cell_type": "code",
   "execution_count": 3,
   "metadata": {},
   "outputs": [],
   "source": [
    "def Linvill(yt):\n",
    "    y11 = yt[0,0]\n",
    "    y12 = yt[0,1]\n",
    "    y21 = yt[1,0]\n",
    "    y22 = yt[1,1]\n",
    "    C = (abs(y12*y21))/(2*y11.real*y22.real-(y12*y21).real)\n",
    "    print('###############  LINVILL   #####################')\n",
    "    print( 'coeficiente de linvill C= {:4.2F}' .format(C))\n",
    "    if C < 1:\n",
    "        print( 'Es incondicionalmente estable')\n",
    "    else :\n",
    "        print( 'Es potencialmente inestable')\n",
    "    return C\n",
    "\n",
    "def Stern(yg, yl, yt):\n",
    "    y11 = yt[0,0]\n",
    "    y12 = yt[0,1]\n",
    "    y21 = yt[1,0]\n",
    "    y22 = yt[1,1]\n",
    "    K = (2*(y11.real+yg.real)*(y22.real+yl.real)) / (abs(y12*y21)+(y12*y21).real)\n",
    "    print('###############  STERN   #####################')\n",
    "    print( 'coeficiente de stern K= {:4.2F}' .format(K))\n",
    "    if K > 1:\n",
    "        print( 'Estable')\n",
    "    else :\n",
    "        print( 'Inestable')\n",
    "      \n",
    "    yin  = y11 - (y21*y12)/(y22+yl)\n",
    "    yout = y22 - (y21*y12)/(y11+yg)\n",
    "    print( 'yin  = {0.real:4.3F} {0.imag:4.2E}' .format(yin) )\n",
    "    print( 'rin  = {0.real:4.3F} ' .format(1/yin.real) )\n",
    "    \n",
    "    print( 'yout = {0.real:4.3F} {0.imag:4.2E}' .format(yout) )\n",
    "    print( 'rout = {0.real:4.3F} ' .format(1/yout.real) )\n",
    "    \n",
    "    \n",
    "    Gg = yin.real/(yg+yin).real\n",
    "    G  = abs(y21)**2 *yl.real /(yin).real  /(y22+yl).real**2\n",
    "    Gt = 4* abs(y21)**2 *yl.real *yg.real /abs((y11+yg)*(y22+yl)-y21*y12)**2\n",
    "    \n",
    "    print( 'Gg= {0.real:4.2F} ' .format((Gg)))\n",
    "    print( 'G = {0.real:4.2F} ' .format((G )))\n",
    "    print( 'Gt= {0.real:4.2F} ' .format((Gt)))\n",
    "\n",
    "\n",
    "\n",
    "\n",
    "\n",
    "def neutraliza(yt,wo,n = 1):\n",
    "    Cn = -yt[0,1].imag/wo*n\n",
    "    y11 =  wo*Cn*1j\n",
    "    y12 =  wo*Cn*1j/n\n",
    "    y21 =  wo*Cn*1j/n\n",
    "    y22 =  wo*Cn*1j/n**2\n",
    "    yn  = np.matrix([[y11, y12],[ y21, y22]])\n",
    "    # cuadripolo resultante\n",
    "    ytn  = yt + yn\n",
    "    print('cap=',Cn, 'n=', n)\n",
    "    return (ytn,Cn)\n",
    "\n",
    "\n",
    "def realimenta(yt,wo,yf):\n",
    "    y11 =   yf\n",
    "    y12 =  -yf\n",
    "    y21 =  -yf\n",
    "    y22 =   yf  \n",
    "    yn  = np.matrix([[y11, y12],[ y21, y22]])\n",
    "    # cuadripolo resultante\n",
    "    ytn  = yt + yn\n",
    "    return (ytn)\n",
    "\n",
    "def printS(S1):\n",
    "    s11 =   S1[0,0]\n",
    "    s12 =   S1[0,1]\n",
    "    s21 =   S1[1,0]\n",
    "    s22 =   S1[1,1]\n",
    "    print( 's11= {:4.3f}  {:4.2f}' .format(abs(s11),np.angle(s11)*180/np.pi ))\n",
    "    print( 's12= {:4.3f}  {:4.2f}' .format(abs(s12),np.angle(s12)*180/np.pi ))\n",
    "    print( 's21= {:4.3f}  {:4.2f}' .format(abs(s21),np.angle(s21)*180/np.pi ))\n",
    "    print( 's22= {:4.3f}  {:4.2f}' .format(abs(s22),np.angle(s22)*180/np.pi ))\n",
    "\n",
    "def printY(Y1):\n",
    "    y11 =   Y1[0,0]\n",
    "    y12 =   Y1[0,1]\n",
    "    y21 =   Y1[1,0]\n",
    "    y22 =   Y1[1,1]\n",
    "    print( 'y11= {0.real:4.2E}  {0.imag:4.2E}j' .format(y11) )\n",
    "    print( 'y12= {0.real:4.2E}  {0.imag:4.2E}j' .format(y12) )\n",
    "    print( 'y21= {0.real:4.2E}  {0.imag:4.2E}j' .format(y21) )\n",
    "    print( 'y22= {0.real:4.2E}  {0.imag:4.2E}j' .format(y22) )\n",
    "    print(' ')\n",
    "\n",
    "    print( 'r11= {0.real:4.2F}' .format(1/y11.real) )\n",
    "    print( 'c11= {0.real:4.2E}' .format(y11.imag/wo) )\n",
    "\n",
    "\n",
    "    print( 'gm = {0.real:4.2F}' .format(abs(y21)) )\n",
    "    print( 'gr = {0.real:4.4F}' .format(abs(y12)) )\n",
    "\n",
    "    print( 'r22= {0.real:4.2F}' .format(1/y22.real) )\n",
    "    print( 'c22= {0.real:4.2E}' .format(y22.imag/wo) )\n",
    "\n",
    "   "
   ]
  },
  {
   "cell_type": "code",
   "execution_count": 4,
   "metadata": {},
   "outputs": [
    {
     "ename": "NotImplementedError",
     "evalue": "only s-parameters supported for now.",
     "output_type": "error",
     "traceback": [
      "\u001b[0;31m---------------------------------------------------------------------------\u001b[0m",
      "\u001b[0;31mUnpicklingError\u001b[0m                           Traceback (most recent call last)",
      "\u001b[0;32m~/anaconda3/lib/python3.5/site-packages/skrf/network.py\u001b[0m in \u001b[0;36m__init__\u001b[0;34m(self, file, name, comments, f_unit, **kwargs)\u001b[0m\n\u001b[1;32m    380\u001b[0m             \u001b[0;32mtry\u001b[0m\u001b[0;34m:\u001b[0m\u001b[0;34m\u001b[0m\u001b[0m\n\u001b[0;32m--> 381\u001b[0;31m                 \u001b[0mself\u001b[0m\u001b[0;34m.\u001b[0m\u001b[0mread\u001b[0m\u001b[0;34m(\u001b[0m\u001b[0mfid\u001b[0m\u001b[0;34m)\u001b[0m\u001b[0;34m\u001b[0m\u001b[0m\n\u001b[0m\u001b[1;32m    382\u001b[0m             \u001b[0;32mexcept\u001b[0m \u001b[0mUnicodeDecodeError\u001b[0m\u001b[0;34m:\u001b[0m  \u001b[0;31m# Support for pickles created in Python2 and loaded in Python3\u001b[0m\u001b[0;34m\u001b[0m\u001b[0m\n",
      "\u001b[0;32m~/anaconda3/lib/python3.5/site-packages/skrf/network.py\u001b[0m in \u001b[0;36mread\u001b[0;34m(self, *args, **kwargs)\u001b[0m\n\u001b[1;32m   1729\u001b[0m         \u001b[0;32mfrom\u001b[0m \u001b[0;34m.\u001b[0m\u001b[0mio\u001b[0m\u001b[0;34m.\u001b[0m\u001b[0mgeneral\u001b[0m \u001b[0;32mimport\u001b[0m \u001b[0mread\u001b[0m\u001b[0;34m\u001b[0m\u001b[0m\n\u001b[0;32m-> 1730\u001b[0;31m         \u001b[0mself\u001b[0m\u001b[0;34m.\u001b[0m\u001b[0mcopy_from\u001b[0m\u001b[0;34m(\u001b[0m\u001b[0mread\u001b[0m\u001b[0;34m(\u001b[0m\u001b[0;34m*\u001b[0m\u001b[0margs\u001b[0m\u001b[0;34m,\u001b[0m \u001b[0;34m**\u001b[0m\u001b[0mkwargs\u001b[0m\u001b[0;34m)\u001b[0m\u001b[0;34m)\u001b[0m\u001b[0;34m\u001b[0m\u001b[0m\n\u001b[0m\u001b[1;32m   1731\u001b[0m \u001b[0;34m\u001b[0m\u001b[0m\n",
      "\u001b[0;32m~/anaconda3/lib/python3.5/site-packages/skrf/io/general.py\u001b[0m in \u001b[0;36mread\u001b[0;34m(file, *args, **kwargs)\u001b[0m\n\u001b[1;32m    102\u001b[0m     \u001b[0;32mtry\u001b[0m\u001b[0;34m:\u001b[0m\u001b[0;34m\u001b[0m\u001b[0m\n\u001b[0;32m--> 103\u001b[0;31m         \u001b[0mobj\u001b[0m \u001b[0;34m=\u001b[0m \u001b[0mpickle\u001b[0m\u001b[0;34m.\u001b[0m\u001b[0mload\u001b[0m\u001b[0;34m(\u001b[0m\u001b[0mfid\u001b[0m\u001b[0;34m,\u001b[0m \u001b[0;34m*\u001b[0m\u001b[0margs\u001b[0m\u001b[0;34m,\u001b[0m \u001b[0;34m**\u001b[0m\u001b[0mkwargs\u001b[0m\u001b[0;34m)\u001b[0m\u001b[0;34m\u001b[0m\u001b[0m\n\u001b[0m\u001b[1;32m    104\u001b[0m     \u001b[0;32mexcept\u001b[0m \u001b[0;34m(\u001b[0m\u001b[0mUnpicklingError\u001b[0m\u001b[0;34m,\u001b[0m \u001b[0mUnicodeDecodeError\u001b[0m\u001b[0;34m)\u001b[0m \u001b[0;32mas\u001b[0m \u001b[0me\u001b[0m\u001b[0;34m:\u001b[0m\u001b[0;34m\u001b[0m\u001b[0m\n",
      "\u001b[0;31mUnpicklingError\u001b[0m: invalid load key, '!'.",
      "\nDuring handling of the above exception, another exception occurred:\n",
      "\u001b[0;31mNotImplementedError\u001b[0m                       Traceback (most recent call last)",
      "\u001b[0;32m<ipython-input-4-aeefc0a325cd>\u001b[0m in \u001b[0;36m<module>\u001b[0;34m()\u001b[0m\n\u001b[0;32m----> 1\u001b[0;31m \u001b[0mBFP720\u001b[0m \u001b[0;34m=\u001b[0m \u001b[0mNetwork\u001b[0m\u001b[0;34m(\u001b[0m\u001b[0;34m'SPICE/BFP720.s2p'\u001b[0m\u001b[0;34m)\u001b[0m\u001b[0;34m\u001b[0m\u001b[0m\n\u001b[0m\u001b[1;32m      2\u001b[0m \u001b[0;34m\u001b[0m\u001b[0m\n\u001b[1;32m      3\u001b[0m \u001b[0mfreq\u001b[0m \u001b[0;34m=\u001b[0m \u001b[0mFrequency\u001b[0m\u001b[0;34m(\u001b[0m\u001b[0;36m10\u001b[0m\u001b[0;34m,\u001b[0m\u001b[0;36m200\u001b[0m\u001b[0;34m,\u001b[0m\u001b[0;36m11\u001b[0m\u001b[0;34m,\u001b[0m\u001b[0;34m'mhz'\u001b[0m\u001b[0;34m)\u001b[0m\u001b[0;34m\u001b[0m\u001b[0m\n",
      "\u001b[0;32m~/anaconda3/lib/python3.5/site-packages/skrf/network.py\u001b[0m in \u001b[0;36m__init__\u001b[0;34m(self, file, name, comments, f_unit, **kwargs)\u001b[0m\n\u001b[1;32m    387\u001b[0m                 \u001b[0mfilename\u001b[0m \u001b[0;34m=\u001b[0m \u001b[0mfid\u001b[0m\u001b[0;34m.\u001b[0m\u001b[0mname\u001b[0m\u001b[0;34m\u001b[0m\u001b[0m\n\u001b[1;32m    388\u001b[0m                 \u001b[0mfid\u001b[0m\u001b[0;34m.\u001b[0m\u001b[0mclose\u001b[0m\u001b[0;34m(\u001b[0m\u001b[0;34m)\u001b[0m\u001b[0;34m\u001b[0m\u001b[0m\n\u001b[0;32m--> 389\u001b[0;31m                 \u001b[0mself\u001b[0m\u001b[0;34m.\u001b[0m\u001b[0mread_touchstone\u001b[0m\u001b[0;34m(\u001b[0m\u001b[0mfilename\u001b[0m\u001b[0;34m)\u001b[0m\u001b[0;34m\u001b[0m\u001b[0m\n\u001b[0m\u001b[1;32m    390\u001b[0m \u001b[0;34m\u001b[0m\u001b[0m\n\u001b[1;32m    391\u001b[0m             \u001b[0;32mif\u001b[0m \u001b[0mname\u001b[0m \u001b[0;32mis\u001b[0m \u001b[0;32mNone\u001b[0m \u001b[0;32mand\u001b[0m \u001b[0misinstance\u001b[0m\u001b[0;34m(\u001b[0m\u001b[0mfile\u001b[0m\u001b[0;34m,\u001b[0m \u001b[0mstr\u001b[0m\u001b[0;34m)\u001b[0m\u001b[0;34m:\u001b[0m\u001b[0;34m\u001b[0m\u001b[0m\n",
      "\u001b[0;32m~/anaconda3/lib/python3.5/site-packages/skrf/network.py\u001b[0m in \u001b[0;36mread_touchstone\u001b[0;34m(self, filename)\u001b[0m\n\u001b[1;32m   1395\u001b[0m \u001b[0;34m\u001b[0m\u001b[0m\n\u001b[1;32m   1396\u001b[0m         \u001b[0;32mif\u001b[0m \u001b[0mtouchstoneFile\u001b[0m\u001b[0;34m.\u001b[0m\u001b[0mget_format\u001b[0m\u001b[0;34m(\u001b[0m\u001b[0;34m)\u001b[0m\u001b[0;34m.\u001b[0m\u001b[0msplit\u001b[0m\u001b[0;34m(\u001b[0m\u001b[0;34m)\u001b[0m\u001b[0;34m[\u001b[0m\u001b[0;36m1\u001b[0m\u001b[0;34m]\u001b[0m \u001b[0;34m!=\u001b[0m \u001b[0;34m's'\u001b[0m\u001b[0;34m:\u001b[0m\u001b[0;34m\u001b[0m\u001b[0m\n\u001b[0;32m-> 1397\u001b[0;31m             \u001b[0;32mraise\u001b[0m \u001b[0mNotImplementedError\u001b[0m\u001b[0;34m(\u001b[0m\u001b[0;34m'only s-parameters supported for now.'\u001b[0m\u001b[0;34m)\u001b[0m\u001b[0;34m\u001b[0m\u001b[0m\n\u001b[0m\u001b[1;32m   1398\u001b[0m \u001b[0;34m\u001b[0m\u001b[0m\n\u001b[1;32m   1399\u001b[0m         \u001b[0mself\u001b[0m\u001b[0;34m.\u001b[0m\u001b[0mcomments\u001b[0m \u001b[0;34m=\u001b[0m \u001b[0mtouchstoneFile\u001b[0m\u001b[0;34m.\u001b[0m\u001b[0mget_comments\u001b[0m\u001b[0;34m(\u001b[0m\u001b[0;34m)\u001b[0m\u001b[0;34m\u001b[0m\u001b[0m\n",
      "\u001b[0;31mNotImplementedError\u001b[0m: only s-parameters supported for now."
     ]
    }
   ],
   "source": [
    "BFP720 = Network('SPICE/BFP720.s2p')\n",
    "\n",
    "freq = Frequency(10,200,11,'mhz')\n"
   ]
  },
  {
   "cell_type": "code",
   "execution_count": 351,
   "metadata": {},
   "outputs": [
    {
     "name": "stdout",
     "output_type": "stream",
     "text": [
      "Parametros S 100MHz (5V10mA):\n",
      "s11= 0.763  -38.00\n",
      "s12= 0.018  71.50\n",
      "s21= 22.980  155.30\n",
      "s22= 0.923  -22.70\n",
      " \n",
      "Parametros Y 100MHz (5V10mA):\n",
      "y11= 2.66E-03  3.75E-03j\n",
      "y12= 6.83E-06  -2.19E-04j\n",
      "y21= 2.79E-01  -2.15E-02j\n",
      "y22= 2.76E-04  1.39E-03j\n",
      " \n",
      "r11= 376.55\n",
      "c11= 5.97E-12\n",
      "gm = 0.28\n",
      "gr = 0.0002\n",
      "r22= 3619.16\n",
      "c22= 2.22E-12\n"
     ]
    }
   ],
   "source": [
    "fo = 100e6\n",
    "wo = 2*np.pi*fo\n",
    "\n",
    "print('Parametros S 100MHz (5V10mA):')\n",
    "\n",
    "printS(MCH4015['100mhz'].s[0])\n",
    "print(' ')\n",
    "\n",
    "print('Parametros Y 100MHz (5V10mA):')\n",
    "Y100 = MCH4015['100mhz'].y[0]\n",
    "\n",
    "printY(Y100)"
   ]
  },
  {
   "cell_type": "code",
   "execution_count": 352,
   "metadata": {},
   "outputs": [
    {
     "name": "stdout",
     "output_type": "stream",
     "text": [
      "###############  LINVILL   #####################\n",
      "coeficiente de linvill C= 14.32\n",
      "Es potencialmente inestable\n"
     ]
    },
    {
     "data": {
      "text/plain": [
       "14.319699226866131"
      ]
     },
     "execution_count": 352,
     "metadata": {},
     "output_type": "execute_result"
    }
   ],
   "source": [
    "Linvill(Y100)\n"
   ]
  },
  {
   "cell_type": "code",
   "execution_count": 353,
   "metadata": {},
   "outputs": [
    {
     "name": "stdout",
     "output_type": "stream",
     "text": [
      "y11= 3.49E-03  3.75E-03j\n",
      "y12= -8.27E-04  -2.19E-04j\n",
      "y21= 2.78E-01  -2.15E-02j\n",
      "y22= 1.11E-03  1.39E-03j\n",
      " \n",
      "r11= 286.61\n",
      "c11= 5.97E-12\n",
      "gm = 0.28\n",
      "gr = 0.0009\n",
      "r22= 901.19\n",
      "c22= 2.22E-12\n",
      "###############  LINVILL   #####################\n",
      "coeficiente de linvill C= 0.98\n",
      "Es incondicionalmente estable\n"
     ]
    },
    {
     "data": {
      "text/plain": [
       "0.9842894290156371"
      ]
     },
     "execution_count": 353,
     "metadata": {},
     "output_type": "execute_result"
    }
   ],
   "source": [
    "ytn  =  realimenta(Y100,wo,1/1.2e3 )\n",
    "\n",
    "printY(ytn)\n",
    "\n",
    "Linvill(ytn)\n"
   ]
  },
  {
   "cell_type": "code",
   "execution_count": 379,
   "metadata": {},
   "outputs": [
    {
     "name": "stdout",
     "output_type": "stream",
     "text": [
      "1.17892550438441e-07\n",
      "2.494591584512466e-07\n",
      "###############  STERN   #####################\n",
      "coeficiente de stern K= 134.95\n",
      "Estable\n",
      "yin  = 0.020 1.49E-02\n",
      "rin  = 50.967 \n",
      "yout = 0.009 6.38E-03\n",
      "rout = 112.407 \n",
      "Gg= 0.49 \n",
      "G = 321.56 \n",
      "Gt= 267.24 \n"
     ]
    }
   ],
   "source": [
    "\n",
    "\n",
    "yg = (1/49 ) - 1.35E-02j\n",
    "\n",
    "print(1/(1.35E-02*wo) )\n",
    "\n",
    "yl= (1/100 ) - 6.38E-03j\n",
    "print(1/(6.38E-03*wo) )\n",
    "\n",
    "\n",
    "Stern(yg, yl, ytn)"
   ]
  },
  {
   "cell_type": "code",
   "execution_count": null,
   "metadata": {},
   "outputs": [],
   "source": []
  },
  {
   "cell_type": "code",
   "execution_count": null,
   "metadata": {},
   "outputs": [],
   "source": []
  }
 ],
 "metadata": {
  "kernelspec": {
   "display_name": "Python 3",
   "language": "python",
   "name": "python3"
  },
  "language_info": {
   "codemirror_mode": {
    "name": "ipython",
    "version": 3
   },
   "file_extension": ".py",
   "mimetype": "text/x-python",
   "name": "python",
   "nbconvert_exporter": "python",
   "pygments_lexer": "ipython3",
   "version": "3.5.4"
  }
 },
 "nbformat": 4,
 "nbformat_minor": 2
}

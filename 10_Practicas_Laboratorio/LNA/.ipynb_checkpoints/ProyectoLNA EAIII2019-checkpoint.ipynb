{
 "cells": [
  {
   "cell_type": "code",
   "execution_count": 2,
   "metadata": {},
   "outputs": [],
   "source": [
    "import math\n",
    "import numpy as np\n",
    "import matplotlib.pyplot as plt\n",
    "from skrf import Network, Frequency\n",
    "\n",
    "\n",
    "from IPython.display import Image  \n",
    "%matplotlib inline\n",
    "params = {'legend.fontsize': 24,\n",
    "          'figure.figsize': (14, 4),\n",
    "         'axes.labelsize': 24,\n",
    "         'axes.titlesize': 24,\n",
    "         'xtick.labelsize':24,\n",
    "         'ytick.labelsize':24}\n",
    "plt.rcParams.update(params)\n",
    "\n",
    "\n"
   ]
  },
  {
   "cell_type": "code",
   "execution_count": 3,
   "metadata": {},
   "outputs": [],
   "source": [
    "\n",
    "ring_slot = Network('data/ring slot.s2p')\n"
   ]
  },
  {
   "cell_type": "code",
   "execution_count": 16,
   "metadata": {},
   "outputs": [
    {
     "name": "stdout",
     "output_type": "stream",
     "text": [
      "###  CUADRIPOLO ##\n",
      "2N3819, Common gate, fo=100MHz\n",
      "y11= 5.00E-03+1.50E-03j\n",
      "y12= -1.20E-05+-2.00E-05j\n",
      "y21= -5.50E-03+-3.80E-04j\n",
      "y22= 4.00E-05+7.00E-04j\n",
      "###############  LINVILL   #####################\n",
      "coeficiente de linvill C= 0.38\n",
      "si C es menor a uno es incondicionalmente estable\n",
      "si C es mayor o igula a 1 es potencialmente inestable\n",
      "yg= 3.96E-03 -6.80E-05j\n",
      "rg= 252.79\n",
      "Lg= 2.34E-05\n",
      "yl= 3.16E-05 -6.89E-04j\n",
      "Rl= 31598.14\n",
      "Ll= 2.31E-06\n",
      "###############  STERN   #####################\n",
      "coeficiente de stern K= 6.86\n",
      "si K es mayor a uno es estable\n",
      "si K es menor a uno es inestable\n",
      "Power Gain = 46.19\n",
      "Power Gain = 16.65\n"
     ]
    }
   ],
   "source": [
    "fo = 100e6\n",
    "wo = 2*np.pi*fo\n",
    "\n",
    "y11 =   1.00e-3 + 9.735e-4*1j\n",
    "y12 = - 0.012e-3 - 0.02e-3*1j\n",
    "y21 = - 5.50e-3 - 0.38e-3*1j \n",
    "y22 =   1.0e-3 + 0.70e-3*1j\n",
    "\n",
    "yg = y11.real\n",
    "yl = y22.real\n",
    "\n",
    "print( '###  CUADRIPOLO ##')\n",
    "print( '2N3819, Common gate, fo=100MHz')\n",
    "print( 'y11= {0.real:4.2E}+{0.imag:4.2E}j' .format(y11) )\n",
    "print( 'y12= {0.real:4.2E}+{0.imag:4.2E}j' .format(y12) )\n",
    "print( 'y21= {0.real:4.2E}+{0.imag:4.2E}j' .format(y21) )\n",
    "print( 'y22= {0.real:4.2E}+{0.imag:4.2E}j' .format(y22) )\n",
    "\n",
    "ya = y12*y21\n",
    "\n",
    "linvill = abs(ya)/ (2*y11.real*y22.real-ya.real)\n",
    "\n",
    "print('###############  LINVILL   #####################')\n",
    "print( 'coeficiente de linvill C= {:4.2F}' .format(linvill))\n",
    "print( 'si C es menor a uno es incondicionalmente estable')\n",
    "print( 'si C es mayor o igula a 1 es potencialmente inestable')\n",
    "\n",
    "yl= (y22.real-y22.imag*1j)\n",
    "#print 'siendo yl=', yl,\n",
    "\n",
    "for i in range(6):\n",
    "    yin = y11 - (y21*y12)/(y22+yl)\n",
    "    yg = (yin.real-yin.imag*1j)\n",
    "\n",
    "    yout = y22 - (y21*y12)/(y11+yg)\n",
    "    yl= (yout.real-yout.imag*1j)\n",
    "\n",
    "print( 'yg= {0.real:4.2E} {0.imag:4.2E}j' .format(yg) )\n",
    "print( 'rg= {0.real:4.2F}' .format(1/yg.real) )\n",
    "print( 'Lg= {0.real:4.2E}' .format(-1/(yg.imag*2*np.pi*100e6) ) )\n",
    "\n",
    "\n",
    "print( 'yl= {0.real:4.2E} {0.imag:4.2E}j' .format(yl) )    \n",
    "print( 'Rl= {0.real:4.2F}' .format(1/yl.real) )\n",
    "print( 'Ll= {0.real:4.2E}' .format(-1/(yl.imag*2*np.pi*100e6)) )\n",
    "\n",
    "\n",
    "stern   =  (2*(y11.real+yg.real)*(y22.real+yl.real)) / (abs(ya)+ya.real)\n",
    "\n",
    "print('###############  STERN   #####################')\n",
    "print( 'coeficiente de stern K= {:4.2F}' .format(stern))\n",
    "print( 'si K es mayor a uno es estable')\n",
    "print( 'si K es menor a uno es inestable')\n",
    "\n",
    "pgain = abs(y21)**2*yl.real/ (abs(yl+y22)**2*(y11-ya/(y22+yl)).real)\n",
    "print( 'Power Gain = {:4.2F}' .format(pgain))\n",
    "print( 'Power Gain = {:4.2F}' .format(10*np.log10(pgain)))\n",
    "\n"
   ]
  },
  {
   "cell_type": "code",
   "execution_count": 6,
   "metadata": {},
   "outputs": [
    {
     "name": "stdout",
     "output_type": "stream",
     "text": [
      "-0.00872653549837\n",
      "###  CUADRIPOLO ##\n",
      "2N3819, Common gate, fo=100MHz\n",
      "y11= 5.04E-03+1.94E-03j\n",
      "y12= -9.99E-06+-3.47E-04j\n",
      "y21= -5.03E-03+-1.76E-04j\n",
      "y22= 3.65E-05+6.96E-04j\n"
     ]
    }
   ],
   "source": [
    "yi = 5.4e-3 *(np.cos(21.1*np.pi/180) + 1j *np.sin(21.1*np.pi/180))\n",
    "yr = 347e-6  *(np.cos(-91.65*np.pi/180) + 1j *np.sin(-91.6*np.pi/180))\n",
    "yf = 5.03e-3 *(np.cos(-178*np.pi/180) + 1j *np.sin(-178*np.pi/180))\n",
    "yo = 697e-6  *(np.cos(87*np.pi/180) + 1j *np.sin(87*np.pi/180))\n",
    "print(np.cos(90.5*np.pi/180))\n",
    "print( '###  CUADRIPOLO ##')\n",
    "print( '2N3819, Common gate, fo=100MHz')\n",
    "print( 'y11= {0.real:4.2E}+{0.imag:4.2E}j' .format(yi) )\n",
    "print( 'y12= {0.real:4.2E}+{0.imag:4.2E}j' .format(yr) )\n",
    "print( 'y21= {0.real:4.2E}+{0.imag:4.2E}j' .format(yf) )\n",
    "print( 'y22= {0.real:4.2E}+{0.imag:4.2E}j' .format(yo) )"
   ]
  },
  {
   "cell_type": "code",
   "execution_count": 7,
   "metadata": {},
   "outputs": [],
   "source": [
    "y11= 5.00E-03+1.50E-03j\n",
    "y12= -1.00E-05+-2.00E-05j\n",
    "y21= -4.00E-04+-5.00E-03j\n",
    "y22= 3.00E-05+7.00E-04j"
   ]
  },
  {
   "cell_type": "code",
   "execution_count": null,
   "metadata": {},
   "outputs": [],
   "source": []
  }
 ],
 "metadata": {
  "kernelspec": {
   "display_name": "Python 3",
   "language": "python",
   "name": "python3"
  },
  "language_info": {
   "codemirror_mode": {
    "name": "ipython",
    "version": 3
   },
   "file_extension": ".py",
   "mimetype": "text/x-python",
   "name": "python",
   "nbconvert_exporter": "python",
   "pygments_lexer": "ipython3",
   "version": "3.5.4"
  }
 },
 "nbformat": 4,
 "nbformat_minor": 2
}

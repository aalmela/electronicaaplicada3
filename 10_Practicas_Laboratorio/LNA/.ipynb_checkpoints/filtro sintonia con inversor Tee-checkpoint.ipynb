{
 "cells": [
  {
   "cell_type": "code",
   "execution_count": 1,
   "metadata": {},
   "outputs": [],
   "source": [
    "import numpy as np\n",
    "import matplotlib.pyplot as plt\n",
    "import scipy                  # http://scipy.org/\n",
    "from scipy import signal\n",
    "\n",
    "from IPython.display import Image  \n",
    "%matplotlib inline\n",
    "params = {'legend.fontsize': 12,\n",
    "          'figure.figsize': (10, 10),\n",
    "         'axes.labelsize': 12,\n",
    "         'axes.titlesize': 12,\n",
    "         'xtick.labelsize':12,\n",
    "         'ytick.labelsize':12}\n",
    "plt.rcParams.update(params) \n",
    "\n",
    "from sympy.solvers import solve\n",
    "\n",
    "from sympy import Symbol, Function, nsolve "
   ]
  },
  {
   "cell_type": "markdown",
   "metadata": {},
   "source": [
    "Se desea un filtro de paso de banda centrado en $250 MHz$ que tenga un ancho de banda de $3dB$ de $40 MHz$. \n",
    "\n",
    "-\n",
    "Además, suponga que el nivel de impedancia del filtro $R_s =200$.\n",
    "\n",
    "La capacitancia de sintonización requerida es\n",
    "$$C_t  =   \\frac{1}{ \\pi  \\sqrt{2} R B}$$\n",
    "\n",
    "\n",
    "\n",
    "Los inductores de resonancia de derivación $_{eff}$ \n",
    "$$L_{eff}  =  [\\omega C_t  -  \\frac{1}{2 R^2 C_t}]^{-1}$$\n",
    "\n",
    "\n",
    "El inductor de acoplamiento \n",
    "$$L_{c}  = \\frac{R}{ \\omega_c} =127,3 nH.$$\n",
    " \n",
    "\n",
    "El valor para $L_r$ \n",
    "$$L_{r}  =  \\frac{L_{eff} L_c}{L_c + L_{eff}} = 16.36 nH$$\n",
    " \n",
    "\n"
   ]
  },
  {
   "cell_type": "code",
   "execution_count": 11,
   "metadata": {},
   "outputs": [],
   "source": [
    "def calcC(w,ro,rg,ct  ):\n",
    "    \n",
    "    a   = -w**2*ro*rg\n",
    "    b   = 1/ct\n",
    "    d   = rg/ro\n",
    "    \n",
    "    aa  = (d-b**2/a)/(1+b**2/a-d)\n",
    "    bb  = (b/a)/(1+b**2/a-d)\n",
    "    \n",
    "    \n",
    "    c1  = Symbol('c1')\n",
    "\n",
    "    f   = a*aa*c1**2+(a*bb+b+b*aa)*c1 +(b*bb-1)  \n",
    "    c1s = solve( f  , c1)\n",
    "\n",
    "    c1p   = [c  for c in c1s if c>0 ][0] \n",
    "    c2    = aa*c1p+bb\n",
    "    return c1p,c2\n",
    "\n",
    "\n",
    "def AvTeR(w,rs,C1,C2,Lc,Lr,rl):\n",
    "    zl =   rl + 1/(w*C1*1j)\n",
    "    y1 = 1/zl + (w*C2*1j)\n",
    "    z2 = 1/y1 + 1/(w*Lr*1j)\n",
    "    y3 = 1/z2 + (w*Lc*1j)\n",
    "    z4 = 1/y3 + 1/(w*Lr*1j)\n",
    "    y5 = 1/z4 + (w*C2*1j)\n",
    "    zi = 1/y5 + 1/(w*C1*1j)\n",
    "    \n",
    "    return (abs((zi/(rs+zi))/zi/y5/z4/y3/z2/y1/zl*rl ))    "
   ]
  },
  {
   "cell_type": "code",
   "execution_count": 16,
   "metadata": {},
   "outputs": [],
   "source": [
    "finf = 80e6\n",
    "fsup = 120e6\n",
    "\n",
    "\n",
    "fg = (finf*fsup)**(1/2)\n",
    "wg = 2*np.pi*fg\n",
    "B =  5e6\n",
    "rg = 10\n",
    "ro = 50\n",
    "rl = 50\n",
    "rs = 50\n",
    "gamma = 2"
   ]
  },
  {
   "cell_type": "code",
   "execution_count": 17,
   "metadata": {},
   "outputs": [
    {
     "name": "stdout",
     "output_type": "stream",
     "text": [
      ".param rs =  50.0 \n",
      ".param rl =  50.0 \n",
      ".param Lc =  16.24n\n",
      ".param Lr =  433.91n\n",
      ".param C1 =  1.769p\n",
      ".param C2 =  2.145p\n"
     ]
    }
   ],
   "source": [
    "Lc   = rg/wg\n",
    "Leff = rg/(np.pi*2**(1/2)*B)\n",
    "Ctg  =  1/(wg**2*Leff)\n",
    "Lr   = Leff - Lc \n",
    "\n",
    "\n",
    "Cti   = Ctg*(fg/finf)**2\n",
    "rgi   = rg*(finf/fg)**gamma\n",
    "C1i,C2i = calcC(2*np.pi*finf,ro,rgi,Cti )\n",
    "\n",
    "\n",
    "Cts   = Ctg*(fg/fsup)**2\n",
    "rgs   = rg*(fsup/fg)**gamma\n",
    "C1s,C2s = calcC(2*np.pi*fsup,ro,rgs,Cts )\n",
    "\n",
    "\n",
    "print('.param rs =  {:2.1f} '.format(ro) )\n",
    "print('.param rl =  {:2.1f} '.format(ro) )\n",
    "\n",
    "print('.param Lc =  {:3.2f}n'.format(Lc/1e-9) )\n",
    "print('.param Lr =  {:3.2f}n'.format(Lr/1e-9) )\n",
    "\n",
    "print('.param C1 =  {:3.3f}p'.format(C1s/1e-12) )\n",
    "print('.param C2 =  {:3.3f}p'.format(C2s/1e-12) )\n",
    "\n"
   ]
  },
  {
   "cell_type": "code",
   "execution_count": 18,
   "metadata": {},
   "outputs": [
    {
     "data": {
      "image/png": "[encoded data removed]",
      "text/plain": [
       "<Figure size 432x288 with 1 Axes>"
      ]
     },
     "metadata": {
      "needs_background": "light"
     },
     "output_type": "display_data"
    }
   ],
   "source": [
    "freq = np.arange(80e6,120e6,5e6)\n",
    "\n",
    "\n",
    "for f in freq:\n",
    "    Cts   = Ctg*(fg/f)**2\n",
    "\n",
    "    C1,C2 = calcC(2*np.pi*fsup,ro,rg,Cts )\n",
    "\n",
    "    \n",
    "    plt.plot(f,C1,'r.')\n",
    "    plt.plot(f,C2,'b*')\n",
    "plt.show()    "
   ]
  },
  {
   "cell_type": "code",
   "execution_count": 22,
   "metadata": {},
   "outputs": [
    {
     "ename": "TypeError",
     "evalue": "calcC() missing 2 required positional arguments: 'rl' and 'Qr'",
     "output_type": "error",
     "traceback": [
      "\u001b[0;31m---------------------------------------------------------------------------\u001b[0m",
      "\u001b[0;31mTypeError\u001b[0m                                 Traceback (most recent call last)",
      "\u001b[0;32m<ipython-input-22-9162aa71a1ca>\u001b[0m in \u001b[0;36m<module>\u001b[0;34m\u001b[0m\n\u001b[1;32m      5\u001b[0m \u001b[0;32mfor\u001b[0m \u001b[0mf\u001b[0m \u001b[0;32min\u001b[0m \u001b[0mfreq\u001b[0m\u001b[0;34m:\u001b[0m\u001b[0;34m\u001b[0m\u001b[0;34m\u001b[0m\u001b[0m\n\u001b[1;32m      6\u001b[0m     \u001b[0mCts\u001b[0m   \u001b[0;34m=\u001b[0m \u001b[0mCtg\u001b[0m\u001b[0;34m*\u001b[0m\u001b[0;34m(\u001b[0m\u001b[0mfg\u001b[0m\u001b[0;34m/\u001b[0m\u001b[0mf\u001b[0m\u001b[0;34m)\u001b[0m\u001b[0;34m**\u001b[0m\u001b[0;36m2\u001b[0m\u001b[0;34m\u001b[0m\u001b[0;34m\u001b[0m\u001b[0m\n\u001b[0;32m----> 7\u001b[0;31m     \u001b[0mC1\u001b[0m\u001b[0;34m,\u001b[0m\u001b[0mC2\u001b[0m \u001b[0;34m=\u001b[0m \u001b[0mcalcC\u001b[0m\u001b[0;34m(\u001b[0m\u001b[0;36m2\u001b[0m\u001b[0;34m*\u001b[0m\u001b[0mnp\u001b[0m\u001b[0;34m.\u001b[0m\u001b[0mpi\u001b[0m\u001b[0;34m*\u001b[0m\u001b[0mf\u001b[0m\u001b[0;34m,\u001b[0m\u001b[0mro\u001b[0m\u001b[0;34m,\u001b[0m\u001b[0mrg\u001b[0m\u001b[0;34m,\u001b[0m\u001b[0mCts\u001b[0m \u001b[0;34m)\u001b[0m\u001b[0;34m\u001b[0m\u001b[0;34m\u001b[0m\u001b[0m\n\u001b[0m\u001b[1;32m      8\u001b[0m     \u001b[0mplt\u001b[0m\u001b[0;34m.\u001b[0m\u001b[0mplot\u001b[0m\u001b[0;34m(\u001b[0m\u001b[0mf\u001b[0m\u001b[0;34m+\u001b[0m\u001b[0mdf\u001b[0m\u001b[0;34m,\u001b[0m\u001b[0;36m20\u001b[0m\u001b[0;34m*\u001b[0m\u001b[0mnp\u001b[0m\u001b[0;34m.\u001b[0m\u001b[0mlog10\u001b[0m\u001b[0;34m(\u001b[0m\u001b[0;34m[\u001b[0m\u001b[0mAvTeR\u001b[0m\u001b[0;34m(\u001b[0m\u001b[0;36m2\u001b[0m\u001b[0;34m*\u001b[0m\u001b[0mnp\u001b[0m\u001b[0;34m.\u001b[0m\u001b[0mpi\u001b[0m\u001b[0;34m*\u001b[0m\u001b[0;34m(\u001b[0m\u001b[0mf\u001b[0m\u001b[0;34m+\u001b[0m\u001b[0mfi\u001b[0m\u001b[0;34m)\u001b[0m\u001b[0;34m,\u001b[0m\u001b[0mrs\u001b[0m\u001b[0;34m,\u001b[0m\u001b[0mC1\u001b[0m\u001b[0;34m,\u001b[0m\u001b[0mC2\u001b[0m\u001b[0;34m,\u001b[0m\u001b[0mLc\u001b[0m\u001b[0;34m,\u001b[0m\u001b[0;34m-\u001b[0m\u001b[0mLr\u001b[0m\u001b[0;34m,\u001b[0m\u001b[0mrl\u001b[0m\u001b[0;34m)\u001b[0m \u001b[0;32mfor\u001b[0m \u001b[0mfi\u001b[0m \u001b[0;32min\u001b[0m \u001b[0mdf\u001b[0m\u001b[0;34m]\u001b[0m\u001b[0;34m)\u001b[0m\u001b[0;34m)\u001b[0m\u001b[0;34m\u001b[0m\u001b[0;34m\u001b[0m\u001b[0m\n\u001b[1;32m      9\u001b[0m     \u001b[0mplt\u001b[0m\u001b[0;34m.\u001b[0m\u001b[0mplot\u001b[0m\u001b[0;34m(\u001b[0m\u001b[0mf\u001b[0m\u001b[0;34m+\u001b[0m\u001b[0;36m2\u001b[0m\u001b[0;34m*\u001b[0m\u001b[0;36m10.7e6\u001b[0m\u001b[0;34m,\u001b[0m\u001b[0;36m20\u001b[0m\u001b[0;34m*\u001b[0m\u001b[0mnp\u001b[0m\u001b[0;34m.\u001b[0m\u001b[0mlog10\u001b[0m\u001b[0;34m(\u001b[0m\u001b[0mAvPiE\u001b[0m\u001b[0;34m(\u001b[0m\u001b[0;36m2\u001b[0m\u001b[0;34m*\u001b[0m\u001b[0mnp\u001b[0m\u001b[0;34m.\u001b[0m\u001b[0mpi\u001b[0m\u001b[0;34m*\u001b[0m\u001b[0;34m(\u001b[0m\u001b[0mf\u001b[0m\u001b[0;34m+\u001b[0m\u001b[0;36m2\u001b[0m\u001b[0;34m*\u001b[0m\u001b[0;36m10.7e6\u001b[0m\u001b[0;34m)\u001b[0m\u001b[0;34m,\u001b[0m\u001b[0mrs\u001b[0m\u001b[0;34m,\u001b[0m\u001b[0mC1\u001b[0m\u001b[0;34m,\u001b[0m\u001b[0mC2\u001b[0m\u001b[0;34m,\u001b[0m\u001b[0mLc\u001b[0m\u001b[0;34m,\u001b[0m\u001b[0;34m-\u001b[0m\u001b[0mLr\u001b[0m\u001b[0;34m,\u001b[0m\u001b[0mrl\u001b[0m\u001b[0;34m)\u001b[0m\u001b[0;34m)\u001b[0m\u001b[0;34m,\u001b[0m\u001b[0;34m'x'\u001b[0m\u001b[0;34m)\u001b[0m\u001b[0;34m\u001b[0m\u001b[0;34m\u001b[0m\u001b[0m\n",
      "\u001b[0;31mTypeError\u001b[0m: calcC() missing 2 required positional arguments: 'rl' and 'Qr'"
     ]
    }
   ],
   "source": [
    "df = np.arange(-20e6,80e6,0.1e6)\n",
    "\n",
    "\n",
    "\n",
    "for f in freq:\n",
    "    Cts   = Ctg*(fg/f)**2\n",
    "    C1,C2 = calcC(2*np.pi*f,ro,rg,Cts )    \n",
    "    plt.plot(f+df,20*np.log10([AvTeR(2*np.pi*(f+fi),rs,C1,C2,Lc,-Lr,rl) for fi in df]))\n",
    "    plt.plot(f+2*10.7e6,20*np.log10(AvPiE(2*np.pi*(f+2*10.7e6),rs,C1,C2,Lc,-Lr,rl)),'x')\n",
    "plt.show() "
   ]
  },
  {
   "cell_type": "code",
   "execution_count": 20,
   "metadata": {},
   "outputs": [],
   "source": [
    "def calcRi(wo,Ls,rs,rl,Qr,Qo= 1000):\n",
    "    ri  = Symbol('ri')\n",
    "\n",
    "    fri = ri/wo*(rs/ri-1)**(1/2) + ri/2/wo/(1/Qr-1/Qo) + ri/wo * (rl/ri-1)**(1/2) - Ls  \n",
    "    ris = solve( fri  , ri)\n",
    "    r   = [r  for r in ris if r>0 ][0] \n",
    "    return r\n",
    "\n",
    "def calcC(ri, wo,Ls,rs,rl,Qr):\n",
    "    Qm1 = (rs/ri-1)**(1/2)\n",
    "    C1  = Qm1/wo/rs\n",
    "\n",
    "    Qm3 = (rl/ri-1)**(1/2)\n",
    "    C3  = Qm3/wo/rl\n",
    "\n",
    "    C1s = C1*(1+1/Qm1**2)\n",
    "    C3s = C3*(1+1/Qm3**2)\n",
    "    \n",
    "    Cs  = 1/(Ls*wo**2)\n",
    "    C2  = 1/(1/Cs - 1/C1s -1/C3s) \n",
    "    return C1,C2,C3\n",
    "\n",
    "\n",
    "def Av(w,rs,C1,C2,C3,Ls,rl,Qo):\n",
    "    yl = (1/rl)+(w*C3)*1j\n",
    "    zl = 1/yl\n",
    "    z1 = ((w*Ls)/Qo)+(w*Ls*1j)+1/(w*C2*1j)+zl\n",
    "    yi = 1/z1+(w*C1*1j)\n",
    "    zi = 1/yi    \n",
    "    return (abs((zi/(rs+zi))*(zl/z1)))\n"
   ]
  },
  {
   "cell_type": "code",
   "execution_count": null,
   "metadata": {},
   "outputs": [],
   "source": [
    "fo = 20e6 \n",
    "wo = 2*np.pi*fo\n",
    "Ls = 300e-9\n",
    "rs = 50\n",
    "rl = 50\n",
    "Qr = 14\n",
    "Qo= 40  "
   ]
  },
  {
   "cell_type": "code",
   "execution_count": null,
   "metadata": {},
   "outputs": [],
   "source": [
    "  \n",
    "    \n",
    "\n",
    "\n",
    "freq = np.arange(80e6,120e6,5e6)\n",
    "\n",
    "\n",
    "for f in freq:\n",
    "    r = calcRi(2*np.pi*f,Ls,rs,rl,Qr,Qo)\n",
    "    plt.plot(f,r,'r.')\n",
    "plt.show()\n",
    "\n",
    "for f in freq:\n",
    "    r = calcRi(2*np.pi*f,Ls,rs,rl,Qr,Qo)  \n",
    "    C1,C2,C3  = calcC(r,2*np.pi*f,Ls,rs,rl,Qr)\n",
    "    print(f, r, C1, C2)\n",
    "    \n",
    "    plt.plot(f,C1,'r.')\n",
    "    plt.plot(f,C2,'b*')\n",
    "plt.show()    "
   ]
  },
  {
   "cell_type": "code",
   "execution_count": null,
   "metadata": {},
   "outputs": [],
   "source": [
    "df = np.arange(-29e6,80e6,0.1e6)\n",
    "\n",
    "rif = 4  \n",
    "\n",
    "for f in freq:\n",
    "\n",
    "    C1,C2,C3  = calcC(rif,2*np.pi*f,Ls,rs,rl,Qr)\n",
    "    print(C1,C2)\n",
    "    plt.plot(f+df,20*np.log10([Av((fi+f)*2*np.pi,rs,C1,C2,C3,Ls,rl,Qo) for fi in df]))\n",
    "    plt.plot(f+2*10.7e6,20*np.log10(Av((2*10.7e6+f)*2*np.pi,rs,C1,C2,C3,Ls,rl,Qo)),'x')\n",
    "plt.xlim([60e6,140e6])\n",
    "plt.ylim([-30,-4])\n",
    "plt.show()    "
   ]
  },
  {
   "cell_type": "code",
   "execution_count": null,
   "metadata": {},
   "outputs": [],
   "source": [
    "df = np.arange(-29e6,80e6,0.1e6)\n",
    "\n",
    "rif = 7  \n",
    "\n",
    "f = \n",
    "\n",
    "    C1,C2,C3  = calcC(rif,2*np.pi*f,Ls,rs,rl,Qr)\n",
    "    print(C1,C2)\n",
    "    plt.plot(f+df,20*np.log10([Av((fi+f)*2*np.pi,rs,C1,C2,C3,Ls,rl,Qo) for fi in df]))\n",
    "    plt.plot(f+2*10.7e6,20*np.log10(Av((2*10.7e6+f)*2*np.pi,rs,C1,C2,C3,Ls,rl,Qo)),'x')\n",
    "plt.xlim([60e6,140e6])\n",
    "plt.ylim([-30,-4])\n",
    "plt.show()\n",
    "\n",
    "print('.param Cs =  {:1.3e} '.format(C1) )\n",
    "print('.param Cd =  {:1.3e} '.format(C2) )\n",
    "print('.param Ls  =  {:1.4e} '.format(L) )"
   ]
  },
  {
   "cell_type": "code",
   "execution_count": null,
   "metadata": {},
   "outputs": [],
   "source": []
  },
  {
   "cell_type": "code",
   "execution_count": null,
   "metadata": {},
   "outputs": [],
   "source": []
  }
 ],
 "metadata": {
  "kernelspec": {
   "display_name": "Python 3",
   "language": "python",
   "name": "python3"
  },
  "language_info": {
   "codemirror_mode": {
    "name": "ipython",
    "version": 3
   },
   "file_extension": ".py",
   "mimetype": "text/x-python",
   "name": "python",
   "nbconvert_exporter": "python",
   "pygments_lexer": "ipython3",
   "version": "3.7.3"
  }
 },
 "nbformat": 4,
 "nbformat_minor": 2
}

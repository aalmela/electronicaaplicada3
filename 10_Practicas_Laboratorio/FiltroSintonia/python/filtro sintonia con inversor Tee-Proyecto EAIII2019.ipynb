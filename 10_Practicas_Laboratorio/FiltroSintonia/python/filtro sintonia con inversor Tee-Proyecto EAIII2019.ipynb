{
 "cells": [
  {
   "cell_type": "code",
   "execution_count": 2,
   "metadata": {},
   "outputs": [],
   "source": [
    "import numpy as np\n",
    "import math as mt\n",
    "import matplotlib.pyplot as plt\n",
    "import scipy                  # http://scipy.org/\n",
    "from scipy import signal\n",
    "\n",
    "from IPython.display import Image  \n",
    "%matplotlib inline\n",
    "params = {'legend.fontsize': 12,\n",
    "          'figure.figsize': (10, 10),\n",
    "         'axes.labelsize': 12,\n",
    "         'axes.titlesize': 12,\n",
    "         'xtick.labelsize':12,\n",
    "         'ytick.labelsize':12}\n",
    "plt.rcParams.update(params) \n",
    "\n",
    "from sympy.solvers import solve\n",
    "\n",
    "from sympy import Symbol, Function, nsolve "
   ]
  },
  {
   "cell_type": "markdown",
   "metadata": {},
   "source": [
    "Se desea un filtro de paso de banda centrado en $100 MHz$ .\n",
    "\n",
    "-\n",
    "Además, suponga que el nivel de impedancia del filtro $R_s =200$.\n",
    "\n",
    "La capacitancia de sintonización requerida es\n",
    "$$C_t  =   \\frac{1}{ \\pi  \\sqrt{2} R B}$$\n",
    "\n",
    "\n",
    "\n",
    "Los inductores de resonancia de derivación $_{eff}$ \n",
    "$$L_{eff}  =  [\\omega C_t  -  \\frac{1}{2 R^2 C_t}]^{-1}$$\n",
    "\n",
    "\n",
    "El inductor de acoplamiento \n",
    "$$L_{c}  = \\frac{R}{ \\omega_c} =127,3 nH.$$\n",
    " \n",
    "\n",
    "El valor para $L_r$ \n",
    "$$L_{r}  =  \\frac{L_{eff} L_c}{L_c + L_{eff}} = 16.36 nH$$\n",
    " \n",
    "\n"
   ]
  },
  {
   "cell_type": "code",
   "execution_count": 3,
   "metadata": {},
   "outputs": [],
   "source": [
    "def calcC(w,ro,rg,ct  ):\n",
    "    a   = -w**2*ro*rg\n",
    "    b   = 1/ct\n",
    "    d   = rg/ro\n",
    "    \n",
    "    aa  = (d-b**2/a)/(1+b**2/a-d)\n",
    "    bb  = (b/a)/(1+b**2/a-d)    \n",
    "    \n",
    "    c1  = Symbol('c1')\n",
    "\n",
    "    f   = a*aa*c1**2+(a*bb+b+b*aa)*c1 +(b*bb-1)  \n",
    "    c1s = solve( f  , c1)\n",
    "\n",
    "    c1p   = [c  for c in c1s if c>0 ][0] \n",
    "    c2    = aa*c1p+bb\n",
    "    return c1p,c2\n",
    "\n",
    "\n",
    "def AvTeR(w,rs,C1,C2,Lc,Lr,rl):\n",
    "    zl =   rl + 1/(w*C1*1j)\n",
    "    y1 = 1/zl +   (w*C2*1j)\n",
    "    z2 = 1/y1 +   (w*Lr*1j)\n",
    "    y3 = 1/z2 + 1/(w*Lc*1j)\n",
    "    z4 = 1/y3 +   (w*Lr*1j)\n",
    "    y5 = 1/z4 +   (w*C2*1j)\n",
    "    zi = 1/y5 + 1/(w*C1*1j)\n",
    "    return (np.abs(1/(rs+zi)/y5/z4/y3/z2/y1/zl*rl ))    \n",
    "\n",
    "\n",
    "\n",
    "def calcVr(Cj, Cjo, Vj, M, Cp, Rs, Ls):\n",
    "    return (((Cjo)/(Cj-Cp))**(1/M)-1)*Vj\n",
    "\n",
    "\n",
    "smv = dict()\n",
    "# CJO(F) VJ(V) M CP(F) RS(Ω) Ls(Hy)\n",
    "smv['SMV1234'] = ( 8.36e-12,   7.95,  3.96,  1.15e-12,  0.80, 1.4e-9)\n",
    "smv['SMV2022'] = ( 7.30e-12,   4.00,  1.40,         0,   2.2, 1.5e-9)\n",
    "smv['SMV1253'] = ( 51.8e-12,  73.60,  48.7,  2.70e-12,   1.1, 1.4e-9)\n",
    "smv['SMV1213'] = ( 28.9e-12, 190.00, 105.0,  2.20e-12,   1.4, 1.5e-9)  \n",
    "smv['SMV1470'] = (110.0e-12,  80.00,  39.7,  3.94e-12,   0.5, 1.4e-9)  \n",
    "        "
   ]
  },
  {
   "cell_type": "code",
   "execution_count": 4,
   "metadata": {},
   "outputs": [],
   "source": [
    "#Frecuencia \n",
    "finf = 80e6\n",
    "fsup = 120e6\n",
    "\n",
    "# Parametros para el inversor\n",
    "fg = (finf*fsup)**(1/2)\n",
    "wg = 2*np.pi*fg\n",
    "B =  4e6\n",
    "rg = 5\n",
    "\n",
    "# Inductores\n",
    "Qo = 40\n",
    "\n",
    "# para los calculos de los convensores de impedancia de entrada y de salida\n",
    "ro = 50\n",
    "rl = 50\n",
    "rs = 50\n",
    "gamma = 2"
   ]
  },
  {
   "cell_type": "code",
   "execution_count": 5,
   "metadata": {},
   "outputs": [
    {
     "name": "stdout",
     "output_type": "stream",
     "text": [
      ".param rs =  50.0 \n",
      ".param rl =  50.0 \n",
      ".param Lc  =  8.12n\n",
      ".param rpc =  0.1 \n",
      ".param Lr =  273.23n\n",
      ".param rpr =  6728.2 \n",
      ".param C1 =  3.835p\n",
      ".param C2 =  2.430p\n"
     ]
    }
   ],
   "source": [
    "Lc   = rg/wg\n",
    "Leff = rg/(np.pi*2**(1/2)*B)\n",
    "Ctg  =  1/(wg**2*Leff)\n",
    "Lr   = Leff - Lc \n",
    "\n",
    "\n",
    "print('.param rs =  {:2.1f} '.format(ro) )\n",
    "print('.param rl =  {:2.1f} '.format(ro) )\n",
    "\n",
    "rpc  = wg*Lc/Qo\n",
    "print('.param Lc  =  {:3.2f}n'.format(Lc/1e-9) )\n",
    "print('.param rpc =  {:2.1f} '.format(rpc) )\n",
    "\n",
    "rpr  = wg*Lr*Qo\n",
    "print('.param Lr =  {:3.2f}n'.format(Lr/1e-9) )\n",
    "print('.param rpr =  {:2.1f} '.format(rpr) )\n",
    "\n",
    "\n",
    "\n",
    "f = fsup\n",
    "# finf , fsup \n",
    "Cti     = Ctg*(fg/f)**2\n",
    "rgi     = rg*(f/fg)**gamma\n",
    "C1,C2 = calcC(2*np.pi*f,ro,rgi,Cti )\n",
    "print('.param C1 =  {:3.3f}p'.format(C1/1e-12) )\n",
    "print('.param C2 =  {:3.3f}p'.format(C2/1e-12) )\n"
   ]
  },
  {
   "cell_type": "code",
   "execution_count": 6,
   "metadata": {},
   "outputs": [
    {
     "data": {
      "image/png": "[encoded data removed]",
      "text/plain": [
       "<Figure size 432x288 with 1 Axes>"
      ]
     },
     "metadata": {
      "needs_background": "light"
     },
     "output_type": "display_data"
    }
   ],
   "source": [
    "step = 5e6\n",
    "freq = np.arange(finf,fsup+step,step)\n",
    "\n",
    "\n",
    "\n",
    "for f in freq:\n",
    "    Cts   = Ctg*(fg/f)**2\n",
    "\n",
    "    C1,C2 = calcC(2*np.pi*f,ro,rg,Cts )\n",
    "     \n",
    "    \n",
    "    plt.plot(f,C1*2,'r.')\n",
    "    plt.plot(f,C2*2,'b*')\n",
    "plt.show()    "
   ]
  },
  {
   "cell_type": "code",
   "execution_count": 7,
   "metadata": {},
   "outputs": [
    {
     "name": "stdout",
     "output_type": "stream",
     "text": [
      "80000000.0\n",
      "1.74344695627704 2.65057624819989\n",
      "100000000.0\n",
      "2.58834970231844 3.85096424476794\n",
      "120000000.0\n",
      "3.36954009780205 5.12770428154643\n"
     ]
    },
    {
     "data": {
      "image/png": "[encoded data removed]",
      "text/plain": [
       "<Figure size 432x288 with 1 Axes>"
      ]
     },
     "metadata": {
      "needs_background": "light"
     },
     "output_type": "display_data"
    }
   ],
   "source": [
    "step = 20e6\n",
    "freq = np.arange(finf,fsup+step,step)\n",
    "\n",
    "\n",
    "cjo1, vj1, m1, cp1, rs1, ls1 = smv['SMV1253']\n",
    "cjo2, vj2, m2, cp2, rs2, ls2 = smv['SMV1213']\n",
    "\n",
    "\n",
    "for f in freq:\n",
    "    Cts   = Ctg*(fg/f)**2\n",
    "\n",
    "    C1,C2 = calcC(2*np.pi*f,ro,rg,Cts )\n",
    "    print(f)\n",
    "    Vr1   = calcVr(C1*2,cjo1, vj1, m1, cp1, rs1, ls1) \n",
    "    Vr2   = calcVr(C2*2,cjo2, vj2, m2, cp2, rs2, ls2) \n",
    "    print(Vr1, Vr2)\n",
    "    plt.plot(f,Vr1,'r.')\n",
    "    plt.plot(f,Vr2,'b*')\n",
    "plt.show()    \n"
   ]
  },
  {
   "cell_type": "code",
   "execution_count": 8,
   "metadata": {},
   "outputs": [
    {
     "name": "stdout",
     "output_type": "stream",
     "text": [
      ".param Lc   =  8.12e-09\n",
      ".param rpc =  0.1 \n",
      ".param Lr   =  2.73e-07\n",
      ".param rpr =  6728.2 \n",
      ".param rs    =  50.000\n",
      ".param rl    =  50.000\n",
      ".param Cjo1  =  5.18e-11\n",
      ".param M1    =  48.70\n",
      ".param Vj1   =  73.60\n",
      ".param Ls1   =  1.40e-09\n",
      ".param Rs1    =  1.100\n",
      ".param Cp1   =  2.70e-12\n",
      ".param Cjo2  =  2.89e-11\n",
      ".param M2    =  105.00\n",
      ".param Vj2   =  190.00\n",
      ".param Ls2   =  1.50e-09\n",
      ".param Rs2    =  1.400\n",
      ".param Cp2   =  2.20e-12\n"
     ]
    }
   ],
   "source": [
    " \n",
    "print('.param Lc   =  {:3.2e}'.format(Lc) )\n",
    "print('.param rpc =  {:2.1f} '.format(rpc) )\n",
    "\n",
    "print('.param Lr   =  {:3.2e}'.format(Lr) )\n",
    "print('.param rpr =  {:2.1f} '.format(rpr) )\n",
    "\n",
    "print('.param rs    =  {:3.3f}'.format(rs) )\n",
    "print('.param rl    =  {:3.3f}'.format(ro) )\n",
    "\n",
    "\n",
    "\n",
    "print('.param Cjo1  =  {:3.2e}'.format(cjo1) )\n",
    "print('.param M1    =  {:3.2f}'.format(m1) )\n",
    "print('.param Vj1   =  {:3.2f}'.format(vj1) )\n",
    "print('.param Ls1   =  {:3.2e}'.format(ls1) )\n",
    "print('.param Rs1    =  {:3.3f}'.format(rs1) )\n",
    "print('.param Cp1   =  {:3.2e}'.format(cp1) )\n",
    "      \n",
    "print('.param Cjo2  =  {:3.2e}'.format(cjo2) )\n",
    "print('.param M2    =  {:3.2f}'.format(m2) )\n",
    "print('.param Vj2   =  {:3.2f}'.format(vj2) )\n",
    "print('.param Ls2   =  {:3.2e}'.format(ls2) )\n",
    "print('.param Rs2    =  {:3.3f}'.format(rs2) )\n",
    "print('.param Cp2   =  {:3.2e}'.format(cp2) )\n",
    "      "
   ]
  },
  {
   "cell_type": "code",
   "execution_count": 9,
   "metadata": {},
   "outputs": [
    {
     "name": "stdout",
     "output_type": "stream",
     "text": [
      "0.672130286806755\n",
      ".param V1 =  2.588\n",
      ".param V2 =  3.851\n"
     ]
    }
   ],
   "source": [
    "f = 100e6\n",
    "Cts   = Ctg*(fg/f)**2\n",
    "\n",
    "C1,C2 = calcC(2*np.pi*f,ro,rg,Cts )\n",
    "Vr1   = calcVr(C1*2,cjo1, vj1, m1, cp1, rs1, ls1) \n",
    "Vr2   = calcVr(C2*2,cjo2, vj2, m2, cp2, rs2, ls2)      \n",
    "print(Vr1/Vr2)      \n",
    "print('.param V1 =  {:3.3f}'.format(Vr1) )\n",
    "print('.param V2 =  {:3.3f}'.format(Vr2) )"
   ]
  },
  {
   "cell_type": "code",
   "execution_count": 10,
   "metadata": {},
   "outputs": [
    {
     "name": "stdout",
     "output_type": "stream",
     "text": [
      "9.63198024579500e-12 4.47375192804302e-12\n",
      "7.60828168341863e-12 3.53060335407976e-12\n",
      "6.16145172275061e-12 2.85735523513522e-12\n",
      "5.09134141796321e-12 2.35996589017393e-12\n",
      "4.27765098048354e-12 1.98207958465269e-12\n"
     ]
    },
    {
     "data": {
      "image/png": "[encoded data removed]",
      "text/plain": [
       "<Figure size 432x288 with 1 Axes>"
      ]
     },
     "metadata": {
      "needs_background": "light"
     },
     "output_type": "display_data"
    }
   ],
   "source": [
    "step = 10e6\n",
    "freq = np.arange(finf,fsup+step,step)\n",
    "df = np.arange(-20e6,20e6,1e6)\n",
    "\n",
    "\n",
    "for f in freq:\n",
    "    Cts   = Ctg*(fg/f)**2\n",
    "    C1,C2 = calcC(2*np.pi*f,rs,rg,Cts )    \n",
    "    print(C1,C2)\n",
    "    plt.plot(f+df      ,([20*mt.log10(AvTeR(2*np.pi*(f+fi),rs,C1,C2,Lc,Lr,rl)) for fi in df]))\n",
    "    plt.plot(f+2*10.7e6,20*mt.log10(AvTeR(2*np.pi*(f+2*10.7e6),rs,C1,C2,Lc,Lr,rl)),'x')\n",
    "    plt.plot(f-2*10.7e6,20*mt.log10(AvTeR(2*np.pi*(f-2*10.7e6),rs,C1,C2,Lc,Lr,rl)),'x')\n",
    "    \n",
    "plt.show() "
   ]
  },
  {
   "cell_type": "code",
   "execution_count": null,
   "metadata": {},
   "outputs": [],
   "source": []
  },
  {
   "cell_type": "code",
   "execution_count": null,
   "metadata": {},
   "outputs": [],
   "source": []
  }
 ],
 "metadata": {
  "kernelspec": {
   "display_name": "Python 3",
   "language": "python",
   "name": "python3"
  },
  "language_info": {
   "codemirror_mode": {
    "name": "ipython",
    "version": 3
   },
   "file_extension": ".py",
   "mimetype": "text/x-python",
   "name": "python",
   "nbconvert_exporter": "python",
   "pygments_lexer": "ipython3",
   "version": "3.8.8"
  }
 },
 "nbformat": 4,
 "nbformat_minor": 2
}

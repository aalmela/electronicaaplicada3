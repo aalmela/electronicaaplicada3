{
 "cells": [
  {
   "cell_type": "markdown",
   "metadata": {},
   "source": [
    "\n",
    "### HOMODINO\n",
    "\n",
    "\n",
    "\n",
    "Receptor homodino, es un tipo de receptor donde el demodulador opera a la frecuencia de RF. \n",
    "\"Homodinas\" significa una única frecuencia, en contraste con la doble frecuencias empleadas en la detección heterodina. La siguiente figura ilustra un receptor super-homodino, ya que se le llama super al agregar amplificadores en la etapa de RF. \n",
    "\n",
    "<img  src=\"fig/homodino.png\" style=\"height:150px\">\n",
    "\n",
    "En general, la sintonia se logra con la resonancia de un circuito LC. El ancho de banda de un circuito LC cargado depende de lala resistencia del circuito, dado por la fuente, la carga y las perdidas, y del valor de la admitancia en resonancia. Si varia la admitancia de resonancia para lograr la sintonia, y suponiendo que la resistencia del circuito no se modifica, tambien se modifica el Q del sintonizado (junto con el ancho de banda del circuito). \n",
    "Por lo tanto, la selectividad obtenida varía en función de la frecuencia de recepción. \n",
    "\n",
    "<img src=\"fig/homodino2.png\" style=\"height:150px\">\n",
    "\n",
    "Al operar todas las etapas de RF a la misma frecuencia. existe la posibilidad de oscilaciones por acoplamientos parásitos entre entrada y salida, \n",
    "\n",
    "No es aconsejable si el margen de frecuencias a recibir es ancho, ya que hacen falta varios filtros de banda agudos y variables. \n",
    "\n",
    "#### Ejemplo: Receptor de banda lateral unica  (SSB, Single Side Band) \n",
    "\n",
    "En el ejemplo se muestra un detector coherente para SSB. \n",
    "\n",
    "<img src=\"fig/DetCoherente.png\" style=\"height:500px\">\n",
    "\n",
    "La solución para evitar que las frecuencias imagenes no sean detectadas es el uso de un detector coherente con mezclador I/Q\n",
    "\n",
    "#### Receptor Regenerativo 433MHz\n",
    "\n",
    "\n",
    "<img src=\"fig/FS1000A-and-XY-MK-5V-1024x682.jpg\" style=\"height:250px\">\n",
    "<img src=\"fig/FS1000_circuit.jpg\" style=\"height:250px\">\n",
    "<img src=\"fig/xy-mk-5V_circuit.jpg\" style=\"height:250px\">\n",
    "\n",
    "\n",
    "#### Ejemplo: Homodinodo SDR Red Pitaya \n",
    "\n",
    "<img src=\"fig/HomodinoSDR.png\" style=\"height:250px\">"
   ]
  },
  {
   "cell_type": "code",
   "execution_count": null,
   "metadata": {},
   "outputs": [],
   "source": []
  },
  {
   "cell_type": "code",
   "execution_count": null,
   "metadata": {},
   "outputs": [],
   "source": []
  }
 ],
 "metadata": {
  "kernelspec": {
   "display_name": "Python 3",
   "language": "python",
   "name": "python3"
  },
  "language_info": {
   "codemirror_mode": {
    "name": "ipython",
    "version": 3
   },
   "file_extension": ".py",
   "mimetype": "text/x-python",
   "name": "python",
   "nbconvert_exporter": "python",
   "pygments_lexer": "ipython3",
   "version": "3.7.0"
  }
 },
 "nbformat": 4,
 "nbformat_minor": 2
}

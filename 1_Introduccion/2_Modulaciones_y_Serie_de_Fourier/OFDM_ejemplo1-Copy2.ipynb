{
 "cells": [
  {
   "cell_type": "code",
   "execution_count": 1,
   "metadata": {
    "collapsed": true
   },
   "outputs": [],
   "source": [
    "import math\n",
    "import numpy as np\n",
    "import matplotlib.pyplot as plt\n",
    "from functools import partial\n",
    "from datetime import datetime\n",
    "import glob as gb\n",
    "import re\n",
    "import json\n",
    "import gzip  \n",
    "import scipy                  # http://scipy.org/\n",
    "import scipy.odr, scipy.special, scipy.stats , scipy.interpolate\n",
    "import sys\n",
    "\n",
    "from IPython.display import Image  \n",
    "%matplotlib inline\n",
    "params = {'legend.fontsize': 24,\n",
    "          'figure.figsize': (15, 5),\n",
    "         'axes.labelsize': 24,\n",
    "         'axes.titlesize': 24,\n",
    "         'xtick.labelsize':24,\n",
    "         'ytick.labelsize':24}\n",
    "plt.rcParams.update(params)"
   ]
  },
  {
   "cell_type": "code",
   "execution_count": 2,
   "metadata": {},
   "outputs": [
    {
     "name": "stdout",
     "output_type": "stream",
     "text": [
      "[0 1 2]\n",
      "[0 1 2 1]\n"
     ]
    }
   ],
   "source": [
    "a = np.arange(3)\n",
    "print(a)\n",
    "a = np.append(a,1)\n",
    "print(a)"
   ]
  },
  {
   "cell_type": "code",
   "execution_count": 3,
   "metadata": {},
   "outputs": [],
   "source": [
    "# 16QAM \n",
    "mapping_table = {\n",
    "    (0,0,0,0) : -3-3j,\n",
    "    (0,0,0,1) : -3-1j,\n",
    "    (0,0,1,0) : -3+3j,\n",
    "    (0,0,1,1) : -3+1j,\n",
    "    (0,1,0,0) : -1-3j,\n",
    "    (0,1,0,1) : -1-1j,\n",
    "    (0,1,1,0) : -1+3j,\n",
    "    (0,1,1,1) : -1+1j,\n",
    "    (1,0,0,0) :  3-3j,\n",
    "    (1,0,0,1) :  3-1j,\n",
    "    (1,0,1,0) :  3+3j,\n",
    "    (1,0,1,1) :  3+1j,\n",
    "    (1,1,0,0) :  1-3j,\n",
    "    (1,1,0,1) :  1-1j,\n",
    "    (1,1,1,0) :  1+3j,\n",
    "    (1,1,1,1) :  1+1j\n",
    "}\n",
    "\n",
    "demapping_table = {v : k for k, v in mapping_table.items()}\n",
    "\n",
    "# OFDM modulator\n",
    "\n",
    "def Mapping(bits):\n",
    "    return np.array([mapping_table[tuple(b)] for b in bits])\n",
    "\n",
    "def pilotCarrier(K, P):\n",
    "    allCarriers   = np.arange(K)  # indices of all subcarriers ([0, 1, ... K-1])\n",
    "    # Pilots is every (K/P)th carrier.\n",
    "    # For convenience of channel estimation, let's make the last carriers also be a pilot\n",
    "    pilotCarriers = np.append(allCarriers[::K//P],allCarriers[-1]) \n",
    "    # data carriers are all remaining carriers\n",
    "    dataCarriers = np.delete(allCarriers, pilotCarriers)\n",
    "    #P = P+1\n",
    "    return pilotCarriers\n",
    "\n",
    "\n",
    "def dataCarrier(K, P):\n",
    "    allCarriers   = np.arange(K)  # indices of all subcarriers ([0, 1, ... K-1])\n",
    "    # Pilots is every (K/P)th carrier.\n",
    "    # For convenience of channel estimation, let's make the last carriers also be a pilot\n",
    "    pilotCarriers = np.append(allCarriers[::K//P],allCarriers[-1]) \n",
    "    # data carriers are all remaining carriers\n",
    "    dataCarriers = np.delete(allCarriers, pilotCarriers)\n",
    "    #P = P+1\n",
    "    return dataCarriers\n",
    "\n",
    "\n",
    "def SP(bits, lenDataCarriers, mu): #serie a paralelo\n",
    "    return bits.reshape(lenDataCarriers, mu)\n",
    "\n",
    "def OFDM_symbol(QAM_payload,K,pilotCarriers,dataCarriers):\n",
    "    symbol = np.zeros(K, dtype=complex) # the overall K subcarriers\n",
    "    symbol[pilotCarriers] = pilotValue  # allocate the pilot subcarriers \n",
    "    symbol[dataCarriers]  = QAM_payload  # allocate the pilot subcarriers\n",
    "    return symbol\n",
    "\n",
    "def IDFT(OFDM_data):\n",
    "    return np.fft.ifft(OFDM_data)\n",
    "\n",
    "def addCP(OFDM_time,CP):\n",
    "    cp = OFDM_time[-CP:]               # take the last CP samples ...\n",
    "    return np.hstack([cp, OFDM_time])  # ... and add them to the beginning\n",
    "\n",
    "\n",
    "def OFDM_mod(bits,pilotValue,K,P,mu,PF):\n",
    "    allCarriers   = np.arange(K)\n",
    "    pilotCarriers = pilotCarrier(K,P)\n",
    "    dataCarriers  = dataCarrier(K,P)\n",
    "    bits_SP       = SP(bits,len(dataCarriers), mu)\n",
    "    QAM           = Mapping(bits_SP)\n",
    "    OFDM_data     = OFDM_symbol(QAM,K,pilotCarriers,dataCarriers)\n",
    "    OFDM_time     = IDFT(OFDM_data)\n",
    "    OFDM_withCP   = addCP(OFDM_time,K//PF)\n",
    "    OFDM_TX       = OFDM_withCP\n",
    "    return OFDM_TX\n",
    "\n",
    "# Channel\n",
    "def channel(signal):\n",
    "    convolved = np.convolve(signal, channelResponse)\n",
    "    signal_power = np.mean(abs(convolved**2))\n",
    "    sigma2 = signal_power * 10**(-SNRdb/10)  # calculate noise power based on signal power and SNR\n",
    "    \n",
    "    print (\"RX Signal power: %.4f. Noise power: %.4f\" % (signal_power, sigma2))\n",
    "    \n",
    "    # Generate complex noise with given variance\n",
    "    noise = np.sqrt(sigma2/2) * (np.random.randn(*convolved.shape)+1j*np.random.randn(*convolved.shape))\n",
    "    return convolved #+ noise\n",
    "\n",
    "# demodulator\n",
    "def DFT(OFDM_RX):\n",
    "    return np.fft.fft(OFDM_RX)\n",
    "\n",
    "def channelEstimate(OFDM_demod):\n",
    "    pilots = OFDM_demod[pilotCarriers]  # extract the pilot values from the RX signal\n",
    "    Hest_at_pilots = pilots / pilotValue # divide by the transmitted pilot values\n",
    "    \n",
    "    # Perform interpolation between the pilot carriers to get an estimate\n",
    "    # of the channel in the data carriers. Here, we interpolate absolute value and phase \n",
    "    # separately\n",
    "    Hest_abs = scipy.interpolate.interp1d(pilotCarriers, abs(Hest_at_pilots), kind='linear')(allCarriers)\n",
    "    Hest_phase = scipy.interpolate.interp1d(pilotCarriers, np.angle(Hest_at_pilots), kind='linear')(allCarriers)\n",
    "    Hest = Hest_abs * np.exp(1j*Hest_phase)\n",
    "    \n",
    "    plt.plot(allCarriers, abs(H_exact), label='Correct Channel')\n",
    "    plt.stem(pilotCarriers, abs(Hest_at_pilots), label='Pilot estimates')\n",
    "    plt.plot(allCarriers, abs(Hest), label='Estimated channel via interpolation')\n",
    "    plt.grid(True); plt.xlabel('Carrier index'); plt.ylabel('$|H(f)|$'); plt.legend(fontsize=10)\n",
    "    plt.ylim(0,2)\n",
    "    \n",
    "    return Hest"
   ]
  },
  {
   "cell_type": "code",
   "execution_count": 4,
   "metadata": {},
   "outputs": [
    {
     "name": "stdout",
     "output_type": "stream",
     "text": [
      "16\n"
     ]
    }
   ],
   "source": [
    "mu = 4     # number of bits for SP\n",
    "\n",
    "K = 64     # number of OFDM subcarriers\n",
    "\n",
    "PF = 4     # length of the cyclic prefix: 25% of the block\n",
    "\n",
    "P = 8      # number of pilot carriers per OFDM block\n",
    "pilotValue = 3+3j # The known value each pilot transmits\n"
   ]
  },
  {
   "cell_type": "code",
   "execution_count": 5,
   "metadata": {},
   "outputs": [
    {
     "name": "stdout",
     "output_type": "stream",
     "text": [
      "allCarriers:   [ 0  1  2  3  4  5  6  7  8  9 10 11 12 13 14 15 16 17 18 19 20 21 22 23 24\n",
      " 25 26 27 28 29 30 31 32 33 34 35 36 37 38 39 40 41 42 43 44 45 46 47 48 49\n",
      " 50 51 52 53 54 55 56 57 58 59 60 61 62 63]\n",
      "pilotCarriers: [ 0  8 16 24 32 40 48 56 63]\n",
      "dataCarriers:  [ 1  2  3  4  5  6  7  9 10 11 12 13 14 15 17 18 19 20 21 22 23 25 26 27 28\n",
      " 29 30 31 33 34 35 36 37 38 39 41 42 43 44 45 46 47 49 50 51 52 53 54 55 57\n",
      " 58 59 60 61 62]\n"
     ]
    },
    {
     "data": {
      "image/png": "[encoded data removed]",
      "text/plain": [
       "<matplotlib.figure.Figure at 0x7f4c482a3668>"
      ]
     },
     "metadata": {},
     "output_type": "display_data"
    }
   ],
   "source": [
    " \n",
    "\n",
    "print (\"allCarriers:   %s\" % allCarriers)\n",
    "print (\"pilotCarriers: %s\" % pilotCarriers)\n",
    "print (\"dataCarriers:  %s\" % dataCarriers)\n",
    "plt.plot(pilotCarriers, np.zeros_like(pilotCarriers), 'bo', label='pilot')\n",
    "plt.plot(dataCarriers, np.zeros_like(dataCarriers), 'ro', label='data')\n",
    "plt.show()"
   ]
  },
  {
   "cell_type": "code",
   "execution_count": 6,
   "metadata": {},
   "outputs": [
    {
     "data": {
      "image/png": "[encoded data removed]",
      "text/plain": [
       "<matplotlib.figure.Figure at 0x7f4c45ef60f0>"
      ]
     },
     "metadata": {},
     "output_type": "display_data"
    }
   ],
   "source": [
    " # bits per symbol (i.e. 16QAM)\n",
    "payloadBits_per_OFDM = len(dataCarriers)*mu  # number of payload bits per OFDM symbol\n",
    "\n",
    "for b3 in [0, 1]:\n",
    "    for b2 in [0, 1]:\n",
    "        for b1 in [0, 1]:\n",
    "            for b0 in [0, 1]:\n",
    "                B = (b3, b2, b1, b0)\n",
    "                Q = mapping_table[B]\n",
    "                plt.plot(Q.real, Q.imag, 'bo')\n",
    "                plt.text(Q.real, Q.imag+0.2, \"\".join(str(x) for x in B), ha='center')\n"
   ]
  },
  {
   "cell_type": "code",
   "execution_count": 7,
   "metadata": {},
   "outputs": [
    {
     "name": "stdout",
     "output_type": "stream",
     "text": [
      "{(-3+1j): (0, 0, 1, 1), (-1+1j): (0, 1, 1, 1), (1+1j): (1, 1, 1, 1), (3+1j): (1, 0, 1, 1), (-3+3j): (0, 0, 1, 0), (-1+3j): (0, 1, 1, 0), (1+3j): (1, 1, 1, 0), (3+3j): (1, 0, 1, 0), (1-3j): (1, 1, 0, 0), (-3-3j): (0, 0, 0, 0), (-1-3j): (0, 1, 0, 0), (-3-1j): (0, 0, 0, 1), (-1-1j): (0, 1, 0, 1), (3-3j): (1, 0, 0, 0), (1-1j): (1, 1, 0, 1), (3-1j): (1, 0, 0, 1)}\n"
     ]
    }
   ],
   "source": [
    "print(demapping_table)"
   ]
  },
  {
   "cell_type": "code",
   "execution_count": 8,
   "metadata": {},
   "outputs": [
    {
     "name": "stdout",
     "output_type": "stream",
     "text": [
      "[ 1.0+0.j   0.0+0.j   0.3+0.3j] 64\n",
      "[ 1.30000000 +3.00000000e-01j  1.35276268 +2.35708488e-01j\n",
      "  1.39196889 +1.62358830e-01j  1.41611195 +8.27698138e-02j\n",
      "  1.42426407 -1.66533454e-16j  1.41611195 -8.27698138e-02j\n",
      "  1.39196889 -1.62358830e-01j  1.35276268 -2.35708488e-01j\n",
      "  1.30000000 -3.00000000e-01j  1.23570849 -3.52762681e-01j\n",
      "  1.16235883 -3.91968889e-01j  1.08276981 -4.16111954e-01j\n",
      "  1.00000000 -4.24264069e-01j  0.91723019 -4.16111954e-01j\n",
      "  0.83764117 -3.91968889e-01j  0.76429151 -3.52762681e-01j\n",
      "  0.70000000 -3.00000000e-01j  0.64723732 -2.35708488e-01j\n",
      "  0.60803111 -1.62358830e-01j  0.58388805 -8.27698138e-02j\n",
      "  0.57573593 +1.66533454e-16j  0.58388805 +8.27698138e-02j\n",
      "  0.60803111 +1.62358830e-01j  0.64723732 +2.35708488e-01j\n",
      "  0.70000000 +3.00000000e-01j  0.76429151 +3.52762681e-01j\n",
      "  0.83764117 +3.91968889e-01j  0.91723019 +4.16111954e-01j\n",
      "  1.00000000 +4.24264069e-01j  1.08276981 +4.16111954e-01j\n",
      "  1.16235883 +3.91968889e-01j  1.23570849 +3.52762681e-01j\n",
      "  1.30000000 +3.00000000e-01j  1.35276268 +2.35708488e-01j\n",
      "  1.39196889 +1.62358830e-01j  1.41611195 +8.27698138e-02j\n",
      "  1.42426407 -1.66533454e-16j  1.41611195 -8.27698138e-02j\n",
      "  1.39196889 -1.62358830e-01j  1.35276268 -2.35708488e-01j\n",
      "  1.30000000 -3.00000000e-01j  1.23570849 -3.52762681e-01j\n",
      "  1.16235883 -3.91968889e-01j  1.08276981 -4.16111954e-01j\n",
      "  1.00000000 -4.24264069e-01j  0.91723019 -4.16111954e-01j\n",
      "  0.83764117 -3.91968889e-01j  0.76429151 -3.52762681e-01j\n",
      "  0.70000000 -3.00000000e-01j  0.64723732 -2.35708488e-01j\n",
      "  0.60803111 -1.62358830e-01j  0.58388805 -8.27698138e-02j\n",
      "  0.57573593 +1.66533454e-16j  0.58388805 +8.27698138e-02j\n",
      "  0.60803111 +1.62358830e-01j  0.64723732 +2.35708488e-01j\n",
      "  0.70000000 +3.00000000e-01j  0.76429151 +3.52762681e-01j\n",
      "  0.83764117 +3.91968889e-01j  0.91723019 +4.16111954e-01j\n",
      "  1.00000000 +4.24264069e-01j  1.08276981 +4.16111954e-01j\n",
      "  1.16235883 +3.91968889e-01j  1.23570849 +3.52762681e-01j]\n"
     ]
    }
   ],
   "source": [
    "channelResponse = np.array([1, 0, 0.3+0.3j])  # the impulse response of the wireless channel\n",
    "print(channelResponse, K)\n",
    "\n",
    "\n",
    "H_exact = np.fft.fft(channelResponse,K)\n",
    "print(H_exact)\n",
    "#plt.plot(allCarriers, abs(H_exact))\n",
    "\n",
    "SNRdb = 25  # signal to noise-ratio in dB at the receiver "
   ]
  },
  {
   "cell_type": "code",
   "execution_count": 9,
   "metadata": {},
   "outputs": [
    {
     "name": "stdout",
     "output_type": "stream",
     "text": [
      "Bits count:  220\n",
      "First 20 bits:  [1 1 1 0 1 0 1 0 1 0 1 1 1 1 0 0 1 0 1 0]\n",
      "Mean of bits (should be around 0.5):  0.554545454545\n"
     ]
    },
    {
     "data": {
      "image/png": "[encoded data removed]",
      "text/plain": [
       "<matplotlib.figure.Figure at 0x7f4c45d400f0>"
      ]
     },
     "metadata": {},
     "output_type": "display_data"
    }
   ],
   "source": [
    "bits = np.random.binomial(n=1, p=0.5, size=(payloadBits_per_OFDM, ))\n",
    "print (\"Bits count: \", len(bits))\n",
    "print (\"First 20 bits: \", bits[:20])\n",
    "print (\"Mean of bits (should be around 0.5): \", np.mean(bits))\n",
    "plt.stem(bits)\n",
    "plt.show()"
   ]
  },
  {
   "cell_type": "code",
   "execution_count": 18,
   "metadata": {},
   "outputs": [],
   "source": [
    "\n",
    "\n",
    "\n",
    "OFDM_RX = OFDM_TX #channel(OFDM_TX)"
   ]
  },
  {
   "cell_type": "code",
   "execution_count": 19,
   "metadata": {},
   "outputs": [
    {
     "name": "stdout",
     "output_type": "stream",
     "text": [
      "First 5 bit groups\n",
      "[[1 1 1 0]\n",
      " [1 0 1 0]\n",
      " [1 0 1 1]\n",
      " [1 1 0 0]\n",
      " [1 0 1 0]]\n"
     ]
    }
   ],
   "source": [
    "print (\"First 5 bit groups\")\n",
    "print (bits_SP[:5,:])\n"
   ]
  },
  {
   "cell_type": "code",
   "execution_count": 20,
   "metadata": {},
   "outputs": [
    {
     "name": "stdout",
     "output_type": "stream",
     "text": [
      "First 5 QAM symbols and bits:\n",
      "[[1 1 1 0]\n",
      " [1 0 1 0]\n",
      " [1 0 1 1]\n",
      " [1 1 0 0]\n",
      " [1 0 1 0]]\n",
      "[ 1.+3.j  3.+3.j  3.+1.j  1.-3.j  3.+3.j]\n"
     ]
    }
   ],
   "source": [
    "\n",
    "print (\"First 5 QAM symbols and bits:\")\n",
    "print (bits_SP[:5,:])\n",
    "print (QAM[:5])\n",
    "\n"
   ]
  },
  {
   "cell_type": "code",
   "execution_count": 21,
   "metadata": {},
   "outputs": [
    {
     "name": "stdout",
     "output_type": "stream",
     "text": [
      "Number of OFDM carriers in frequency domain:  64\n",
      "[ 3.+3.j  1.+3.j  3.+3.j  3.+1.j  1.-3.j  3.+3.j -1.+3.j  1.+3.j  3.+3.j\n",
      "  3.-3.j  1.+3.j  3.+1.j  1.-1.j  1.-1.j  3.-1.j  1.+1.j  3.+3.j  3.-1.j\n",
      " -1.+3.j  3.+1.j  1.+1.j  3.+1.j  3.-3.j  3.+1.j  3.+3.j  1.+3.j -3.+3.j\n",
      " -3.-3.j  1.-3.j -3.-1.j  3.+1.j -1.-3.j  3.+3.j  3.-3.j  1.-1.j -1.-1.j\n",
      "  1.+3.j -3.+3.j -1.+1.j  1.+1.j  3.+3.j -1.+1.j -1.+3.j -1.-1.j  3.-3.j\n",
      "  1.-1.j -1.-1.j  3.-3.j  3.+3.j  1.-3.j -3.+1.j -1.+3.j  1.+3.j  3.-3.j\n",
      " -3.-3.j -3.-1.j  3.+3.j -1.+3.j -1.-1.j  3.+1.j  3.+3.j -1.+1.j  3.+1.j\n",
      "  3.+3.j]\n"
     ]
    }
   ],
   "source": [
    "\n",
    "print (\"Number of OFDM carriers in frequency domain: \", len(OFDM_data))\n",
    "print(OFDM_data)"
   ]
  },
  {
   "cell_type": "code",
   "execution_count": 14,
   "metadata": {},
   "outputs": [
    {
     "name": "stdout",
     "output_type": "stream",
     "text": [
      "Number of OFDM samples in time-domain before CP:  64\n"
     ]
    }
   ],
   "source": [
    "\n",
    "print (\"Number of OFDM samples in time-domain before CP: \", len(OFDM_time))"
   ]
  },
  {
   "cell_type": "code",
   "execution_count": 15,
   "metadata": {},
   "outputs": [
    {
     "name": "stdout",
     "output_type": "stream",
     "text": [
      "Number of OFDM samples in time domain with CP:  80\n"
     ]
    }
   ],
   "source": [
    "\n",
    "\n",
    "print (\"Number of OFDM samples in time domain with CP: \", len(OFDM_withCP))"
   ]
  },
  {
   "cell_type": "code",
   "execution_count": 24,
   "metadata": {},
   "outputs": [
    {
     "name": "stdout",
     "output_type": "stream",
     "text": [
      "[ 0.50000000+0.1875j      0.00120527-0.2074256j   0.26691483-0.09361541j\n",
      "  0.55375050+0.13907056j -0.27809017-0.04899769j  0.33055622+0.24668212j\n",
      " -0.37038058+0.14550039j -0.07146359-0.0994081j   0.50379126+0.46495874j\n",
      " -0.33338938-0.13263829j  0.02241991-0.27765985j -0.25883259+0.52503387j\n",
      "  0.50523359-0.22962242j  0.05797281+0.34008683j  0.05976838+0.09907469j\n",
      "  0.42775823-0.08245777j  1.03125000+0.65625j     0.15684929+0.71595432j\n",
      " -0.14115889+0.33967961j  0.45994622+0.27732319j  0.02108483-0.17457487j\n",
      " -0.06427556-0.03779274j  0.52412269-0.09579223j -0.12962472+0.02316464j\n",
      "  0.04798543+0.24084709j -0.34040721+0.24069738j  0.15404840+0.51765834j\n",
      " -0.09617808+0.02196111j  0.26154694-0.11842631j -0.35574989-0.3982508j\n",
      " -0.65750764-0.17647155j -0.00904502+0.12435907j  0.56250000+0.1875j\n",
      "  0.30996777-0.25407197j -0.03239566-0.1414581j  -0.05190755-0.30552634j\n",
      " -0.36965740+0.05658021j  0.10847008-0.14254724j -0.11022784-0.08775792j\n",
      "  0.32341236-0.36607507j  0.37120874+0.59754126j -0.07719997+0.07129251j\n",
      " -0.22311432+0.03678292j  0.00695847-0.19569246j -0.03426273+0.48720494j\n",
      "  0.00625795-0.13719311j  0.37060075-0.07515697j -0.29157217-0.0988431j\n",
      "  0.15625000+0.46875j    -0.11336024-0.32210626j  0.26019312-0.10460609j\n",
      " -0.10555915-0.40948681j  0.12666273-0.08300765j  0.15483855+0.09697824j\n",
      "  0.31003912+0.03804976j  0.09703902+0.1833273j  -0.17298543+0.19665291j\n",
      "  0.39633448-0.11170208j -0.30690738-0.27678142j -0.50817783-0.05268311j\n",
      " -0.23251781+0.11084379j -0.23807014+0.03203672j -0.12641489+0.15255384j\n",
      " -0.34650410+0.31593303j  0.50000000+0.1875j      0.00120527-0.2074256j\n",
      "  0.26691483-0.09361541j  0.55375050+0.13907056j -0.27809017-0.04899769j\n",
      "  0.33055622+0.24668212j -0.37038058+0.14550039j -0.07146359-0.0994081j\n",
      "  0.50379126+0.46495874j -0.33338938-0.13263829j  0.02241991-0.27765985j\n",
      " -0.25883259+0.52503387j  0.50523359-0.22962242j  0.05797281+0.34008683j\n",
      "  0.05976838+0.09907469j  0.42775823-0.08245777j]\n",
      "80\n"
     ]
    },
    {
     "data": {
      "image/png": "[encoded data removed]",
      "text/plain": [
       "<matplotlib.figure.Figure at 0x7f4c455b6a20>"
      ]
     },
     "metadata": {},
     "output_type": "display_data"
    }
   ],
   "source": [
    "print(OFDM_TX)\n",
    "print(len(OFDM_TX))\n",
    "\n",
    "plt.figure(figsize=(8,2))\n",
    "plt.plot(abs(OFDM_TX), label='TX signal')\n",
    "plt.plot(abs(OFDM_RX), label='RX signal')\n",
    "plt.legend(fontsize=10)\n",
    "plt.xlabel('Time'); plt.ylabel('$|x(t)|$');\n",
    "plt.grid(True);"
   ]
  },
  {
   "cell_type": "code",
   "execution_count": 17,
   "metadata": {},
   "outputs": [
    {
     "ename": "NameError",
     "evalue": "name 'removeCP' is not defined",
     "output_type": "error",
     "traceback": [
      "\u001b[1;31m---------------------------------------------------------------------------\u001b[0m",
      "\u001b[1;31mNameError\u001b[0m                                 Traceback (most recent call last)",
      "\u001b[1;32m<ipython-input-17-f8430c8bf47e>\u001b[0m in \u001b[0;36m<module>\u001b[1;34m()\u001b[0m\n\u001b[0;32m      1\u001b[0m \u001b[1;33m\u001b[0m\u001b[0m\n\u001b[1;32m----> 2\u001b[1;33m \u001b[0mOFDM_RX_noCP\u001b[0m \u001b[1;33m=\u001b[0m \u001b[0mremoveCP\u001b[0m\u001b[1;33m(\u001b[0m\u001b[0mOFDM_RX\u001b[0m\u001b[1;33m)\u001b[0m\u001b[1;33m\u001b[0m\u001b[0m\n\u001b[0m",
      "\u001b[1;31mNameError\u001b[0m: name 'removeCP' is not defined"
     ]
    }
   ],
   "source": [
    "\n",
    "OFDM_RX_noCP = removeCP(OFDM_RX)"
   ]
  },
  {
   "cell_type": "code",
   "execution_count": null,
   "metadata": {
    "collapsed": true
   },
   "outputs": [],
   "source": [
    "\n",
    "OFDM_demod = DFT(OFDM_RX_noCP)"
   ]
  },
  {
   "cell_type": "code",
   "execution_count": null,
   "metadata": {},
   "outputs": [],
   "source": [
    "\n",
    "Hest = channelEstimate(OFDM_demod)"
   ]
  },
  {
   "cell_type": "code",
   "execution_count": null,
   "metadata": {
    "collapsed": true
   },
   "outputs": [],
   "source": []
  }
 ],
 "metadata": {
  "kernelspec": {
   "display_name": "Python 3",
   "language": "python",
   "name": "python3"
  },
  "language_info": {
   "codemirror_mode": {
    "name": "ipython",
    "version": 3
   },
   "file_extension": ".py",
   "mimetype": "text/x-python",
   "name": "python",
   "nbconvert_exporter": "python",
   "pygments_lexer": "ipython3",
   "version": "3.7.0"
  }
 },
 "nbformat": 4,
 "nbformat_minor": 1
}

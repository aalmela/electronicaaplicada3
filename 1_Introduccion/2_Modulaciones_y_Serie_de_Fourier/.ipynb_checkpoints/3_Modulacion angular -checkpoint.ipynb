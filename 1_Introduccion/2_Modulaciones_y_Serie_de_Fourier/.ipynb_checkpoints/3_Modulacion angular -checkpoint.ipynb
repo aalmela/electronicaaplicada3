{
 "cells": [
  {
   "cell_type": "markdown",
   "metadata": {},
   "source": [
    "# Modulacion angular.\n",
    "\n",
    "\n",
    "En las modulaciones angulares, es la fase  o la frecuencia de la portadora la que es modulada.\n",
    "\n",
    "$c(t)=A_{c}\\cos \\left( \\omega _{c}t \\right)$\n",
    "\n",
    "\n",
    "Los tipos de modulaciones angulares son:\n",
    "\n",
    "FM (Frequency Modulation)\n",
    "y PM (Phase Modulation)\n",
    "\n",
    "Podemos representar ambas modulaciones como:\n",
    "\n",
    "$ x(t)=A_{c}\\cos \\left( \\theta _{i}\\left( t \\right) \\right)$\n",
    "\n",
    "$\\theta _{i}\\left( t \\right)$ : Fase instantánea total de la señal\n",
    "\n",
    "$ \\theta _{i}\\left( t \\right)=\\omega _{c}t+\\varphi _{i}(t) $ \n",
    "\n",
    "$\\varphi _{i}(t)$ : Fase instantánea de la señal\n",
    "\n",
    "Como se relacionan la frecuencia y la fase de una señal?\n",
    "La frecuencia es la derivada de la fase!\n",
    "\n",
    "$ \\omega _{i}\\left( t \\right)=\\frac{\\partial \\theta _{i}\\left( t \\right)}{\\partial t} $\n",
    "\n",
    "$ f_{i}\\left( t \\right)=\\frac{1}{2\\pi }\\frac{\\partial \\theta _{i}\\left( t \\right)}{\\partial t}\\to $ \n",
    "\n",
    "$ \\left\\{ \\theta _{i}\\left( t \\right)=\\omega _{c}t+\\varphi _{i}(t) \\right\\}\\to f_{i}\\left( t \\right)=\\frac{1}{2\\pi }\\frac{\\partial \\left\\{ \\omega _{c}t+\\varphi _{i}(t) \\right\\}}{\\partial t}=f_{c}+\\frac{1}{2\\pi }\\frac{\\partial \\varphi _{i}\\left( t \\right)}{\\partial t} $\n",
    "\n",
    "$\\omega _{i}\\left( t \\right)$ : Frecuencia instantánea de la señal (medida en rad/s)\n",
    "\n",
    "$f_{i}\\left( t \\right)$ : Frecuencia instantánea de  la señal (medida en Hz)\n",
    "\n",
    "Igualmente, podemos decir que la fase, es la integral de la frecuencia\n",
    "\n",
    "$\\begin{align}\n",
    "  & \\omega _{i}\\left( t \\right)=\\frac{\\partial \\theta _{i}\\left( t \\right)}{\\partial t}\\Leftrightarrow \\theta _{i}\\left( t \\right)=\\int_{-\\infty }^{t}{\\omega _{i}\\left( \\lambda  \\right)\\partial \\lambda } \\\\ \n",
    " & f_{i}\\left( t \\right)=\\frac{1}{2\\pi }\\frac{\\partial \\theta _{i}\\left( t \\right)}{\\partial t}\\Leftrightarrow \\theta _{i}\\left( t \\right)=2\\pi \\int_{-\\infty }^{t}{f_{i}\\left( \\lambda  \\right)\\partial \\lambda } \\\\ \n",
    "\\end{align}$\n",
    "\n"
   ]
  },
  {
   "cell_type": "code",
   "execution_count": 30,
   "metadata": {},
   "outputs": [],
   "source": [
    "\n",
    "# \n",
    "from __future__ import print_function\n",
    "from ipywidgets import interact, interactive, fixed, interact_manual\n",
    "import ipywidgets as widgets\n",
    "\n",
    "import math\n",
    "import numpy as np\n",
    "import matplotlib.pyplot as plt\n",
    "import scipy                  # http://scipy.org/\n",
    "import scipy.odr, scipy.special, scipy.stats \n",
    "import sys\n",
    "import pandas as pd\n",
    "from scipy import stats\n",
    "from scipy import integrate\n",
    "\n",
    "from IPython.display import Image  \n",
    "%matplotlib inline\n",
    "params = {'legend.fontsize': 24,\n",
    "          'figure.figsize': (15, 5),\n",
    "         'axes.labelsize': 24,\n",
    "         'axes.titlesize': 24,\n",
    "         'xtick.labelsize':24,\n",
    "         'ytick.labelsize':24}\n",
    "plt.rcParams.update(params)\n"
   ]
  },
  {
   "cell_type": "code",
   "execution_count": 31,
   "metadata": {},
   "outputs": [],
   "source": [
    "# estas funciones calculas las componentes de la serie de Fourier para una senal dada\n",
    "\n",
    "# Serie trigonometrica\n",
    "def DFTT(signal, k):\n",
    "    N = len(signal)\n",
    "    a = 2/N*sum([s*np.cos(2*np.pi*i/N*k) for i,s in enumerate(signal)])\n",
    "    b = 2/N*sum([s*np.sin(2*np.pi*i/N*k) for i,s in enumerate(signal)])\n",
    "    return a,b\n",
    "   \n",
    "# Serie exponencial    \n",
    "def DFT(signal, k):\n",
    "    N = len(signal)\n",
    "    c = 1/N*sum([s*np.exp(-2j*np.pi*i/N*k) for i,s in enumerate(signal)])\n",
    "    return c  "
   ]
  },
  {
   "cell_type": "code",
   "execution_count": 32,
   "metadata": {},
   "outputs": [],
   "source": [
    "# Ejemplo FM en el tiempo\n",
    "# modulante\n",
    "fm   = 10 #Hz\n",
    "Am   = 1   \n",
    "# carrier\n",
    "fc   = 100\n",
    "kf   = 4 # Hz/volt\n",
    "Ac   = 1\n",
    "\n",
    "# defino el sampleo\n",
    "Fs = 10*fc #Sps \n",
    "# tiempo maximo del analisis \n",
    "# Periodo de la frecuencia minima\n",
    "fmmin = 10 \n",
    "fmmax = 20\n",
    "T = 2/fmmin\n",
    "\n",
    "# vector de tiempo \n",
    "t  = np.arange(0, T, 1/Fs)\n",
    "\n",
    "def modulante(Am, fm, t):\n",
    "    # modulante\n",
    "    Sm   = Am*np.cos(2*np.pi*fm*t) \n",
    "    return Sm\n",
    "\n",
    "\n",
    "\n",
    "def modFM(Am,fm):\n",
    "    Sm  = modulante(Am,fm,t)\n",
    "    # modulada\n",
    "    ISm  = np.poly1d(Sm)\n",
    "    wi   = kf*ISm\n",
    "    Sfm  = Ac*np.cos(2*np.pi*fc*t + wi)  \n",
    "\n",
    "    plt.plot(t, Sfm)\n",
    "    plt.ylabel('Sm [V]')\n",
    "    plt.xlabel('freq[Hz]')\n",
    "    plt.show()"
   ]
  },
  {
   "cell_type": "code",
   "execution_count": 33,
   "metadata": {},
   "outputs": [
    {
     "data": {
      "application/vnd.jupyter.widget-view+json": {
       "model_id": "d353f3f298e049c99987037bcbf542c7",
       "version_major": 2,
       "version_minor": 0
      },
      "text/plain": [
       "interactive(children=(FloatSlider(value=1.0, description='Am', max=2.0), FloatSlider(value=15.0, description='…"
      ]
     },
     "metadata": {},
     "output_type": "display_data"
    },
    {
     "data": {
      "text/plain": [
       "<function __main__.modFM(Am, fm)>"
      ]
     },
     "execution_count": 33,
     "metadata": {},
     "output_type": "execute_result"
    }
   ],
   "source": [
    "interact(modFM, Am=(0,2,0.1), fm=(fmmin,fmmax,0.1) )\n",
    "\n"
   ]
  },
  {
   "cell_type": "code",
   "execution_count": 6,
   "metadata": {},
   "outputs": [
    {
     "ename": "NameError",
     "evalue": "name 'Sc' is not defined",
     "output_type": "error",
     "traceback": [
      "\u001b[1;31m---------------------------------------------------------------------------\u001b[0m",
      "\u001b[1;31mNameError\u001b[0m                                 Traceback (most recent call last)",
      "\u001b[1;32m<ipython-input-6-b6cae2663518>\u001b[0m in \u001b[0;36m<module>\u001b[1;34m()\u001b[0m\n\u001b[1;32m----> 1\u001b[1;33m \u001b[0mplt\u001b[0m\u001b[1;33m.\u001b[0m\u001b[0mplot\u001b[0m\u001b[1;33m(\u001b[0m\u001b[0mtime\u001b[0m\u001b[1;33m,\u001b[0m \u001b[0mSc\u001b[0m\u001b[1;33m)\u001b[0m\u001b[1;33m\u001b[0m\u001b[0m\n\u001b[0m\u001b[0;32m      2\u001b[0m \u001b[0mplt\u001b[0m\u001b[1;33m.\u001b[0m\u001b[0mylabel\u001b[0m\u001b[1;33m(\u001b[0m\u001b[1;34m'Sc [V]'\u001b[0m\u001b[1;33m)\u001b[0m\u001b[1;33m\u001b[0m\u001b[0m\n\u001b[0;32m      3\u001b[0m \u001b[0mplt\u001b[0m\u001b[1;33m.\u001b[0m\u001b[0mxlabel\u001b[0m\u001b[1;33m(\u001b[0m\u001b[1;34m'freq[Hz]'\u001b[0m\u001b[1;33m)\u001b[0m\u001b[1;33m\u001b[0m\u001b[0m\n\u001b[0;32m      4\u001b[0m \u001b[0mplt\u001b[0m\u001b[1;33m.\u001b[0m\u001b[0mshow\u001b[0m\u001b[1;33m(\u001b[0m\u001b[1;33m)\u001b[0m\u001b[1;33m\u001b[0m\u001b[0m\n",
      "\u001b[1;31mNameError\u001b[0m: name 'Sc' is not defined"
     ]
    }
   ],
   "source": [
    "plt.plot(time, Sc)\n",
    "plt.ylabel('Sc [V]')\n",
    "plt.xlabel('freq[Hz]')\n",
    "plt.show()"
   ]
  },
  {
   "cell_type": "code",
   "execution_count": null,
   "metadata": {},
   "outputs": [],
   "source": [
    "# Serie de Fourier Trigonometrica\n",
    "# la separacion de las deltas = 1/T \n",
    "fmax = int(Fs/2)\n",
    "freq = np.arange(0,fmax,1/T)\n",
    "print(0,Fs,1/T)\n",
    "a = [DFTT(Sc,n)[0] for n in range(len(freq))]\n",
    "b = [DFTT(Sc,n)[1] for n in range(len(freq))]\n",
    "\n",
    "\n",
    "ab = [(a[i]**2+b[i]**2)**0.5 for i in range(len(a))]\n",
    "plt.stem( freq, np.abs(ab))\n",
    "plt.xlim([-10, fmax])\n",
    "plt.ylim([-0.1, 1.1])\n",
    "plt.ylabel('abs [V]')\n",
    "plt.xlabel('freq[Hz]')\n",
    "plt.grid()\n",
    "plt.show()\n",
    "\n"
   ]
  },
  {
   "cell_type": "code",
   "execution_count": null,
   "metadata": {},
   "outputs": [],
   "source": [
    "# Ejemplo FM en el tiempo\n",
    "# modulante\n",
    "fm   = 10 #Hz\n",
    "Am   = 1   \n",
    "# carrier\n",
    "fc   = 100\n",
    "kf   = 200 # Hz/volt\n",
    "Ac   = 1\n",
    "\n",
    "# defino el sampleo\n",
    "Fs = 10*fc #Sps \n",
    "# tiempo maximo del analisis \n",
    "T = 2/fm \n",
    "# vector de tiempo \n",
    "time  = np.arange(0, T, 1/Fs)\n",
    "#numero de elementos de time\n",
    "nt    = len(time)\n",
    "\n",
    "# modulante\n",
    "Sm   = [Am*np.cos(2*np.pi*fm*time[i]) for i in range(nt)] \n",
    "# modulada\n",
    "ISm  = integral(Sm,time)\n",
    "wi   = [kf*ISm[i] for i in range(nt)]\n",
    "Sfm   = [Ac*np.cos(2*np.pi*fc*time[i] + wi[i]) for i in range(nt)] \n"
   ]
  },
  {
   "cell_type": "code",
   "execution_count": null,
   "metadata": {},
   "outputs": [],
   "source": [
    "plt.plot(time, ISm)\n",
    "plt.ylabel('Sc [V]')\n",
    "plt.xlabel('freq[Hz]')\n",
    "plt.show()"
   ]
  },
  {
   "cell_type": "code",
   "execution_count": null,
   "metadata": {},
   "outputs": [],
   "source": [
    "plt.plot(time, Sfm)\n",
    "plt.ylabel('Sc [V]')\n",
    "plt.xlabel('freq[Hz]')\n",
    "plt.show()"
   ]
  },
  {
   "cell_type": "code",
   "execution_count": null,
   "metadata": {},
   "outputs": [],
   "source": [
    "# Serie de Fourier Trigonometrica\n",
    "# la separacion de las deltas = 1/T \n",
    "fmax = int(Fs/2)\n",
    "freq = np.arange(0,fmax,1/T)\n",
    "print(0,Fs,1/T)\n",
    "a = [DFTT(Sfm,n)[0] for n in range(len(freq))]\n",
    "b = [DFTT(Sfm,n)[1] for n in range(len(freq))]\n",
    "\n",
    "\n",
    "ab = [(a[i]**2+b[i]**2)**0.5 for i in range(len(a))]\n",
    "plt.stem( freq, np.abs(ab))\n",
    "plt.xlim([-10, fmax])\n",
    "plt.ylim([-0.1, 1.1])\n",
    "plt.ylabel('abs [V]')\n",
    "plt.xlabel('freq[Hz]')\n",
    "plt.grid()\n",
    "plt.show()\n",
    "\n"
   ]
  },
  {
   "cell_type": "markdown",
   "metadata": {},
   "source": [
    "### Potencia\n",
    "Debido a que  solo estamos modulando la fase, sin cambiar la amplitud de la señal, la potencia de cualquier modulación angular será:\n",
    "\n",
    "$P_{\\begin{smallmatrix} \n",
    " FM \\\\ \n",
    " PM \n",
    "\\end{smallmatrix}}=\\frac{A_{c}^{2}}{2}$\n"
   ]
  },
  {
   "cell_type": "code",
   "execution_count": null,
   "metadata": {
    "collapsed": true
   },
   "outputs": [],
   "source": []
  }
 ],
 "metadata": {
  "kernelspec": {
   "display_name": "Python 3",
   "language": "python",
   "name": "python3"
  },
  "language_info": {
   "codemirror_mode": {
    "name": "ipython",
    "version": 3
   },
   "file_extension": ".py",
   "mimetype": "text/x-python",
   "name": "python",
   "nbconvert_exporter": "python",
   "pygments_lexer": "ipython3",
   "version": "3.7.4"
  }
 },
 "nbformat": 4,
 "nbformat_minor": 1
}

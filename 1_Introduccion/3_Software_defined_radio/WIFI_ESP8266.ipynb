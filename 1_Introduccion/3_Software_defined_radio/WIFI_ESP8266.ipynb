{
 "cells": [
  {
   "cell_type": "markdown",
   "metadata": {},
   "source": [
    "# ESP8266\n",
    "\n",
    "\n",
    "<img src=\"fig/ESP8266_foto_comentario.png\">\n",
    "\n",
    "El ESP8266 es un módulo WiFi de bajo costo que se puede integrar fácilmente en dispositivos IoT. \n",
    "\n",
    "Este tutorial es una guia para la configuración del módulo ESP8266 Wifi. \n",
    "\n",
    "El ESP8266 es un pequeño módulo WiFi construido alrededor del chip ESP8266 que puede conectar su microcontrolador a Internet de forma inalámbrica por un costo muy pequeño. \n",
    "Puede ser una gran opción para proyectos de Internet de las cosas (IoT). \n",
    "\n",
    "<img src=\"fig/ESP8266_diagrama_interno.png\">\n",
    "\n",
    "ESP-01 Features – Sparkfun:\n",
    "\n",
    "Especificaciones:    \n",
    "\n",
    "        802.11 b/g/n\n",
    "        Wi-Fi Direct (P2P), soft-AP\n",
    "        Integrated TCP/IP protocol stack\n",
    "        Integrated TR switch, balun, LNA, power amplifier and matching network\n",
    "        Integrated PLLs, regulators, DCXO and power management units\n",
    "        +19.5dBm output power in 802.11b mode\n",
    "        Power down leakage current of <10uA\n",
    "        1MB Flash Memory\n",
    "        Integrated low power 32-bit CPU could be used as application processor\n",
    "        SDIO 1.1 / 2.0, SPI, UART\n",
    "        STBC, 1×1 MIMO, 2×1 MIMO\n",
    "        A-MPDU & A-MSDU aggregation & 0.4ms guard interval\n",
    "        Wake up and transmit packets in < 2ms\n",
    "        Standby power consumption of < 1.0mW (DTIM3)\n",
    "        \n",
    "<img src=\"fig/ESP8266_dibujo.jpg\">\n",
    "\n",
    "Los pines para los pines del ESP8266 están de acuerdo con el siguiente diagrama:\n",
    "\n",
    "    RX: UART serial communication receive pin\n",
    "    GPIO 0: GPIO pin\n",
    "    GPIO 1: GPIO pin \n",
    "    GND: Connection to Ground\n",
    "    VCC: Connection to 3.3V Vcc (Vcc cannot exceed 3.3V!)\n",
    "    RESET: Reset pin (pull down to reset)\n",
    "    CH_PD: Chip enable and power down pin\n",
    "    TX: UART serial communication transmit pin\n",
    "    \n",
    "Tenga en cuenta que la entrada de voltaje máximo para el ESP8266 es 3.3V. ¡Cualquier voltaje de entrada mayor a 3.3V dañará el módulo! \n",
    "\n",
    "<img src=\"fig/ESP8266_diagram_conexion.png\">\n",
    "\n",
    "Para programar la configuración en el ESP8266, primero tendremos que conectarlo a un terminal en serie en una computadora a través del cual podemos enviarle comandos especiales. \n",
    "\n",
    "Las configuraciones que tendremos que programar incluyen, por ejemplo, el SSID y la contraseña para la red wifi a la que se conectará el módulo. Para conectar el ESP8266 a una computadora y configurar sus ajustes, necesitaremos un adaptador USB a serie con una lógica de 3.3V, junto con un programa de terminal en serie. \n",
    "\n"
   ]
  },
  {
   "cell_type": "markdown",
   "metadata": {},
   "source": [
    "# Impedance Matching\n",
    "\n",
    "La impedancia del extremo de salida ESP8266EX PA es (39 + j6) Ω, por lo que la impedancia coincidente es (39-j6) Ω (desde la antena hasta el chip). Para lograr el mejor rendimiento de RF, el circuito de adaptación de impedancia de tipo π de la antena externa debe ser como se muestra en la Figura\n",
    "\n",
    "<img src=\"fig/ESP8266_antena.png\">\n",
    "\n",
    "Notas: \n",
    "    \n",
    "    C1 debe ser un condensador para filtrar armónicos dos veces, y se recomienda que sea 2.4 pF. \n",
    "    L1, C2, junto con C1, realizan una adaptación de impedancia (39-j6) Ω para la antena. \n",
    "    L1 y C2 pueden ser inductores o condensadores, dependiendo de los diferentes requisitos."
   ]
  },
  {
   "cell_type": "markdown",
   "metadata": {},
   "source": [
    "# Cómo programar el ESP-01\n",
    "\n",
    "Una vez que tenemos alimentado el ESP-01 vamos a empezar con la programación. En este apartado también hay diferentes opciones: las veremos y así podrás elegir la que más te guste :)\n",
    "\n",
    "Para cargar el programa lo haremos a través del puerto serie, lo que supone que utilizaremos los pines RX y TX para transmitir los datos a la memoria Flash, donde se almacenará el sketch.\n",
    "\n",
    "Normalmente, cuando trabajamos con Arduino, no debemos decir si vamos a cargar un programa o si debe ejecutarlo: todo esto lo hace de forma interna y automática.\n",
    "\n",
    "Sin embargo, con el ESP-01 esto no sucede así y debemos ser nosotros, de forma manual, quienes activemos los diferentes modos. Existen dos modos de operación y se configuran a través de los puertos GPIO0 y GPIO2: el modo Flash y el modo UART.\n",
    "Modo UART, carga de programa en la memoria del ESP-01\n",
    "\n",
    "Cuando queremos cargar un programa en el ESP-01 debemos encenderlo o resetearlo teniendo el pin GPIO0 a nivel bajo (LOW = 0 V = GND) y el GPIO2 a nivel alto (HIGH = 3,3 V = Vcc). Te recuerdo que el ESP8266 trabaja con niveles lógicos de 3,3 V. El pin GPIO2 está por defecto a HIGH, ya que tiene un pull-up interno, por lo que podemos dejarlo simplemente desconectado.\n",
    "Modo Flash: ejecución de programa en el ESP-01\n",
    "\n",
    "Una vez cargado el programa hay que ejecutarlo: esto lo conseguimos teniendo el GPIO0 y el GPIO2 a nivel alto (3,3 V). Tanto el GPIO0 como el GPIO2 están por defecto a HIGH, ya que ambos tienen un pull-up interno, por lo que podemos dejarlos simplemente desconectados.\n",
    "\n",
    "En la siguiente tabla puedes ver un resumen de los dos modos y los valores de los pines.\n",
    "\n",
    "|     | GPIO0 \t| GPIO2  |\n",
    "|-----|-------|--------|\n",
    "|Modo UART (carga programa)    |\tLOW \t| HIGH (desconectado) |\n",
    "|Modo Flash (ejecuta programa) |\tHIGH (desconectado) |\tHIGH (desconectado) |\n",
    "\n"
   ]
  },
  {
   "cell_type": "code",
   "execution_count": null,
   "metadata": {},
   "outputs": [],
   "source": []
  }
 ],
 "metadata": {
  "kernelspec": {
   "display_name": "Python 3",
   "language": "python",
   "name": "python3"
  },
  "language_info": {
   "codemirror_mode": {
    "name": "ipython",
    "version": 3
   },
   "file_extension": ".py",
   "mimetype": "text/x-python",
   "name": "python",
   "nbconvert_exporter": "python",
   "pygments_lexer": "ipython3",
   "version": "3.7.0"
  }
 },
 "nbformat": 4,
 "nbformat_minor": 2
}

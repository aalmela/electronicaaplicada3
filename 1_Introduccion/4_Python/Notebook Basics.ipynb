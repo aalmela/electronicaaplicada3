{
 "cells": [
  {
   "cell_type": "markdown",
   "metadata": {},
   "source": [
    "# Notebook Basics"
   ]
  },
  {
   "cell_type": "markdown",
   "metadata": {},
   "source": [
    "## The Notebook dashboard"
   ]
  },
  {
   "cell_type": "markdown",
   "metadata": {},
   "source": [
    "Cuando inicia por primera vez el servidor de la notebook, su navegador se abrirá en el navegador de archivos del notebook. Este sirve como página de inicio. Su objetivo principal es mostrar las notebook y archivos en el directorio actual. Por ejemplo, aquí hay una captura de pantalla de la página del tablero para el directorio `examples` en el repositorio de Jupyter:\n",
    "\n",
    "![Jupyter dashboard showing files tab](images/dashboard_files_tab.png)"
   ]
  },
  {
   "cell_type": "markdown",
   "metadata": {},
   "source": [
    "La parte superior de la lista del notebook muestra el acceso al directorio superior del directorio actual. Al hacer clic en estas rutas de exploración o en subdirectorios en la lista del cuaderno, puede navegar por su sistema de archivos.\n",
    "\n",
    "Para crear un nuevo notebook, haga clic en el botón \"Nuevo\" en la parte superior de la lista y seleccione un kernel del menú desplegable (como se ve a continuación). Los kernel que se enumeran dependen de lo que esté instalado en el servidor. Es posible que algunos de los kernel en la captura de pantalla a continuación no existan como una opción para usted.\n",
    "\n",
    "![Jupyter \"New\" menu](images/dashboard_files_tab_new.png)"
   ]
  },
  {
   "cell_type": "markdown",
   "metadata": {},
   "source": [
    "Las notebooks y los archivos se pueden cargar en el directorio actual arrastrando un archivo de computadora portátil a la lista de computadoras portátiles o con el texto \"haga clic aquí\" sobre la lista.\n",
    "\n",
    "La lista de notebooks muestra el texto verde \"En ejecución\" y un ícono verde junto a los cuadernos en ejecución (como se ve a continuación). Los cuadernos siguen funcionando hasta que los apaga explícitamente; cerrar la página del notebook no es suficiente.\n",
    "\n",
    "\n",
    "![Jupyter dashboard showing one notebook with a running kernel](images/dashboard_files_tab_run.png)"
   ]
  },
  {
   "cell_type": "markdown",
   "metadata": {},
   "source": [
    "Para apagar, eliminar, duplicar o cambiar el nombre de un notebook, marque la casilla de verificación junto a él y aparecerá una serie de controles en la parte superior de la lista de blocs de notas (como se ve a continuación). También puede usar las mismas operaciones en directorios y archivos cuando corresponda.\n",
    "\n",
    "![Buttons: Duplicate, rename, shutdown, delete, new, refresh](images/dashboard_files_tab_btns.png)"
   ]
  },
  {
   "cell_type": "markdown",
   "metadata": {},
   "source": [
    "Para ver todos sus notebook en ejecución junto con sus directorios, haga clic en la pestaña \"En ejecución\":\n",
    "\n",
    "![Jupyter dashboard running tab](images/dashboard_running_tab.png)\n",
    "\n",
    "This view provides a convenient way to track notebooks that you start as you navigate the file system in a long running notebook server."
   ]
  },
  {
   "cell_type": "markdown",
   "metadata": {},
   "source": [
    "## Overview del Notebook "
   ]
  },
  {
   "cell_type": "markdown",
   "metadata": {},
   "source": [
    "Si crea una nueva notebook o abre una existente, se lo dirigirá a la interfaz de usuario (IU) del lnotebook. Esta interfaz de usuario le permite ejecutar código y crear documentos de cuaderno de forma interactiva. La interfaz de usuario del portátil tiene las siguientes áreas principales:\n",
    "\n",
    "* Menu\n",
    "* Toolbar\n",
    "* Notebook area and cells\n",
    "\n",
    "The notebook has an interactive tour of these elements that can be started in the \"Help:User Interface Tour\" menu item.\n",
    "\n",
    "El notebook tiene un recorrido interactivo de estos elementos que puede iniciarse en el elemento de menú \"Ayuda: Recorrido de interfaz de usuario\"."
   ]
  },
  {
   "cell_type": "markdown",
   "metadata": {},
   "source": [
    "## Modal editor"
   ]
  },
  {
   "cell_type": "markdown",
   "metadata": {},
   "source": [
    "Comenzando con IPython 2.0, el Jupyter Notebook tiene una interfaz de usuario modal. Esto significa que el teclado hace cosas diferentes según el modo en que se encuentre la computadora portátil. Hay dos modos: modo de edición y modo de comando."
   ]
  },
  {
   "cell_type": "markdown",
   "metadata": {},
   "source": [
    "### Edit mode"
   ]
  },
  {
   "cell_type": "markdown",
   "metadata": {},
   "source": [
    "El modo de edición se indica mediante un borde de celda verde y un mensaje que se muestra en el área del editor:\n",
    "\n",
    "![Jupyter cell with green border](images/edit_mode.png)\n",
    "\n",
    "Cuando una celda está en modo de edición, puede escribir en la celda, como un editor de texto normal."
   ]
  },
  {
   "cell_type": "markdown",
   "metadata": {},
   "source": [
    "<div class=\"alert alert-success\">\n",
    "Enter edit mode by pressing `Enter` or using the mouse to click on a cell's editor area.\n",
    "</div>"
   ]
  },
  {
   "cell_type": "markdown",
   "metadata": {},
   "source": [
    "### Command mode"
   ]
  },
  {
   "cell_type": "markdown",
   "metadata": {},
   "source": [
    "El modo de comando se indica mediante un borde de celda gris con un margen izquierdo azul:\n",
    "![Jupyter cell with blue & grey border](images/command_mode.png)\n",
    "\n",
    "Cuando está en modo comando, puede editar el cuaderno como un todo, pero no escribir en celdas individuales. Lo que es más importante, en el modo de comando, el teclado se asigna a un conjunto de accesos directos que le permiten realizar acciones de cuaderno y celda de manera eficiente. Por ejemplo, si está en modo comando y presiona `c`, copiará la celda actual; no se necesita ningún modificador."
   ]
  },
  {
   "cell_type": "markdown",
   "metadata": {},
   "source": [
    "<div class=\"alert alert-error\">\n",
    "No intente escribir en una celda en modo comando.\n",
    "</div>"
   ]
  },
  {
   "cell_type": "markdown",
   "metadata": {},
   "source": [
    "<div class=\"alert alert-success\">\n",
    "Enter command mode by pressing `Esc` or using the mouse to click *outside* a cell's editor area.\n",
    "</div>"
   ]
  },
  {
   "cell_type": "markdown",
   "metadata": {},
   "source": [
    "## Mouse navigation"
   ]
  },
  {
   "cell_type": "markdown",
   "metadata": {},
   "source": [
    "Todas las acciones y la navegación en el notebook están disponibles con el mouse a través de la barra de menú y la barra de herramientas, ambas situadas sobre el área principal del Cuaderno.:\n",
    "\n",
    "![Jupyter notebook menus and toolbar](images/menubar_toolbar.png)"
   ]
  },
  {
   "cell_type": "markdown",
   "metadata": {},
   "source": [
    "La primera idea de la navegación basada en el mouse es que ** las celdas se pueden seleccionar haciendo clic en ellas. ** La celda actualmente seleccionada obtiene un borde gris o verde, dependiendo de si el cuaderno está en modo edición o comando. Si hace clic dentro del área del editor de una celda, ingresará al modo de edición. Si hace clic en el área de solicitud o de salida de una celda, ingresará al modo de comando.\n",
    "\n",
    "Si está ejecutando este cuaderno en una sesión en vivo (no en http://nbviewer.jupyter.org) intente seleccionar diferentes celdas y pasar del modo de edición al comando. Intenta escribir en una celda."
   ]
  },
  {
   "cell_type": "markdown",
   "metadata": {},
   "source": [
    "The second idea of mouse based navigation is that **cell actions usually apply to the currently selected cell**. Thus if you want to run the code in a cell, you would select it and click the <button class='btn btn-default btn-xs'><i class=\"fa fa-step-forward icon-step-forward\"></i></button> button in the toolbar or the \"Cell:Run\" menu item. Similarly, to copy a cell you would select it and click the <button class='btn btn-default btn-xs'><i class=\"fa fa-copy icon-copy\"></i></button> button in the toolbar or the \"Edit:Copy\" menu item. With this simple pattern, you should be able to do most everything you need with the mouse.\n",
    "\n",
    "Markdown cells have one other state that can be modified with the mouse. These cells can either be rendered or unrendered. When they are rendered, you will see a nice formatted representation of the cell's contents. When they are unrendered, you will see the raw text source of the cell. To render the selected cell with the mouse, click the <button class='btn btn-default btn-xs'><i class=\"fa fa-step-forward icon-step-forward\"></i></button> button in the toolbar or the \"Cell:Run\" menu item. To unrender the selected cell, double click on the cell."
   ]
  },
  {
   "cell_type": "markdown",
   "metadata": {},
   "source": [
    "## Keyboard Navigation"
   ]
  },
  {
   "cell_type": "markdown",
   "metadata": {},
   "source": [
    "The modal user interface of the Jupyter Notebook has been optimized for efficient keyboard usage. This is made possible by having two different sets of keyboard shortcuts: one set that is active in edit mode and another in command mode.\n",
    "\n",
    "The most important keyboard shortcuts are `Enter`, which enters edit mode, and `Esc`, which enters command mode.\n",
    "\n",
    "In edit mode, most of the keyboard is dedicated to typing into the cell's editor. Thus, in edit mode there are relatively few shortcuts.  In command mode, the entire keyboard is available for shortcuts, so there are many more.  The `Help`->`Keyboard Shortcuts` dialog lists the available shortcuts."
   ]
  },
  {
   "cell_type": "markdown",
   "metadata": {},
   "source": [
    "We recommend learning the command mode shortcuts in the following rough order:\n",
    "\n",
    "1. Basic navigation: `enter`, `shift-enter`, `up/k`, `down/j`\n",
    "2. Saving the notebook: `s`\n",
    "2. Change Cell types: `y`, `m`, `1-6`, `t`\n",
    "3. Cell creation: `a`, `b`\n",
    "4. Cell editing: `x`, `c`, `v`, `d`, `z`\n",
    "5. Kernel operations: `i`, `0` (press twice)"
   ]
  }
 ],
 "metadata": {
  "kernelspec": {
   "display_name": "Python 3",
   "language": "python",
   "name": "python3"
  },
  "language_info": {
   "codemirror_mode": {
    "name": "ipython",
    "version": 3
   },
   "file_extension": ".py",
   "mimetype": "text/x-python",
   "name": "python",
   "nbconvert_exporter": "python",
   "pygments_lexer": "ipython3",
   "version": "3.7.4"
  }
 },
 "nbformat": 4,
 "nbformat_minor": 1
}

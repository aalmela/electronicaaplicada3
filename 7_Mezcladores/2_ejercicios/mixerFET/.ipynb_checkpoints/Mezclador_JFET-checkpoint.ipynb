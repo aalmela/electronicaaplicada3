{
 "cells": [
  {
   "cell_type": "code",
   "execution_count": 1,
   "metadata": {},
   "outputs": [],
   "source": [
    "import numpy as np\n",
    "import matplotlib.pyplot as plt\n",
    "import scipy                  # http://scipy.org/\n",
    "from scipy import signal\n",
    "\n",
    "from scipy.fftpack import fft, fftfreq\n",
    "from time import time\n",
    "\n",
    "from IPython.display import Image  \n",
    "%matplotlib inline\n",
    "params = {'legend.fontsize': 24,\n",
    "          'figure.figsize': (8, 8),\n",
    "         'axes.labelsize': 24,\n",
    "         'axes.titlesize': 24,\n",
    "         'xtick.labelsize':24,\n",
    "         'ytick.labelsize':24}\n",
    "\n",
    "plt.rcParams.update(params) "
   ]
  },
  {
   "cell_type": "markdown",
   "metadata": {},
   "source": [
    "La figura muestra el circuito de un mezclador  a FET y el circuito equivalente del elemento activo. \n",
    "\n",
    "![ex 2.13](mezclador_FET.PNG)\n",
    "\n",
    "\n",
    "\n",
    "Datos de los mismos son:\n",
    "\n",
    "$V_{gen}$ : sinusoide pura con $V_{pico}= 10 microvolts y frecuencia 10 MHz . \n",
    "\n",
    "Vol: sinusoide pura con Vpico= 1 Volt y frecuencia 11 MHz.\n",
    "\n",
    "Los capacitores de acople CA son cortocircuitos a todas las frecuencias de interés. \n",
    "\n",
    "Los elementos reactivos no tienen pérdidas. Todos los tanques operan con Q= 100. \n",
    "\n",
    "L1/C1 resuenan a 10 MHz.\n",
    "\n",
    "L2/C2 resuenan a 11 MHz .\n",
    "\n",
    "L3/C3 resuenan a 1 MHz.\n",
    "\n",
    "RL= 10 Kohms y Rgen = 1 Kohm.\n",
    "\n",
    "El FET puede considerarse cuadrático con Idss= 10 mA y  Vc=-5V .\n",
    "\n",
    "Y22= (50+j0) microSiemens.\\\\\n",
    "\n",
    "\n",
    "Determinar:\\\\\n",
    "\\begin{my_enumerate}\n",
    "\\item RS para Idq= 5 mA\n",
    "\\item Valor pico de la componente de VRL en 1 Mhz\n",
    "\\item Valor pico de la componente de VRL en 10 Mhz\n",
    "\\item Valor pico de la componente de VRL en 11 Mhz\n",
    "\\item Valor pico de la componente de VRL en 2 Mhz\n",
    "\\item Valor pico de la componente de VRL en 22 Mhz\n",
    "\\item Potencia entregada por el oscilador local\n",
    "\n",
    "\\end{my_enumerate}\n"
   ]
  },
  {
   "cell_type": "code",
   "execution_count": null,
   "metadata": {},
   "outputs": [],
   "source": []
  }
 ],
 "metadata": {
  "kernelspec": {
   "display_name": "Python 3",
   "language": "python",
   "name": "python3"
  },
  "language_info": {
   "codemirror_mode": {
    "name": "ipython",
    "version": 3
   },
   "file_extension": ".py",
   "mimetype": "text/x-python",
   "name": "python",
   "nbconvert_exporter": "python",
   "pygments_lexer": "ipython3",
   "version": "3.7.4"
  }
 },
 "nbformat": 4,
 "nbformat_minor": 2
}

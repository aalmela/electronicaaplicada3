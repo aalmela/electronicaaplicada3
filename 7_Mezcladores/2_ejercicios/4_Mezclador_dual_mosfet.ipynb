{
 "cells": [
  {
   "cell_type": "markdown",
   "metadata": {},
   "source": [
    "El circuito de la figura es el mezclador de un receptor  superheterodino  de simple conversión que opera en la banda  de BC AM con frecuencia de $FI= 455 KHz$.\n",
    "\n",
    "\n",
    "![5-cuatrocientos](fig/mezclador_dual.PNG)\n",
    "\n",
    "\n",
    "El generador $V_g$ representa la salida del amplificador de RF.\n",
    "\n",
    "La carga $R_L$ representa la entrada del canal de $FI$ y está adaptada a MTEQcte.\n",
    "\n",
    "$V_g$ es una portadora pura (sin modulación) de $f_c= 1MHz$ y $V_{pico}= 10 \\mu V$\n",
    "\n",
    "El oscilador $V_{OL}$ entrega una señal diente de sierra (Ver dibujo) con $V_{pp}=2V$ y  $T=0,6872852 \\mu s$.\n",
    "\n",
    "$V_{R_s} = 1Vdc$\n",
    "\n",
    "$V_{pol} = 3,5Vdc$\n",
    "\n",
    "Ca: es un cortocircuito para todas las frecuencias de interés.\n",
    "\n",
    "Con la polarización planteada  \n",
    "\n",
    "$I_d= 3,5mA V_{g2} + 2,5 mA$  \n",
    "\n",
    "Id en mA y Vg2: Tensión de g2 a tierra en Volts. \n",
    "\n",
    "Válida desde DC hasta 100 MHz.\n",
    "\n",
    "\n",
    "Determinar:\n",
    "\n",
    "\n",
    "1.  L , C y N1/N2\n",
    "\n",
    "2.  Potencia disipada sobre RL en $455 KHz$\n",
    "\n",
    "3.  Potencia disipada sobre RL en la frecuencia fundamental del oscilador  local\n",
    "\n",
    "4.  Valor en MHz de la frecuencia imagen a la entrada (Sobre g1)\n",
    "\n",
    "5.  Atenuación de frecuencia imagen en dB (Valor que el conversor suma o resta a la atenuación de los filtros de RF)\n",
    "\n",
    "6.  La señal de entrada $V_g$ (manteniendo frecuencia y nivel de portadora) pasa a estar modulada por dos tonos puros de igual nivel y frecuencias $1,3 KHz$ y $1,7 KHz$ con m = 80  (Total). \n",
    "\n",
    "7.  Indicar frecuencia y nivel de cada una de las componentes que muestra un analizador de espectro (SA) conectado sobre RL y barriendo entre $440 KHz$ y $470 KHz$ con una resolución de $FI =1 Hz$.\n",
    "\n",
    "8.  Si la señal aumenta de nivel hasta entrar en la zona  alineal  del elemento  activo haciendo  que el SA conectado sobre RL muestre (además  de la portadora y sus bandas laterales) los productos de intermodulación de 3 y 5 órden. Indicar la frecuencia de todas las componentes que aparecen en pantalla (no es necesario determinar su nivel)\n",
    "\n",
    "9.  Si $V_{OL}$ aumenta su amplitud a $V_{pp}=5V$ manteniendo forma de onda, frecuencia fundamental y $V_{pol}$. \n",
    "    Indicar frecuencia y nivel de cada una de las componentes que muestra un SA conectado sobre RL y barriendo entre $440 KHz$ y $470 KHz$ con una resolución de $FI= 1 Hz$.\n"
   ]
  },
  {
   "cell_type": "code",
   "execution_count": null,
   "metadata": {},
   "outputs": [],
   "source": []
  }
 ],
 "metadata": {
  "kernelspec": {
   "display_name": "Python 3",
   "language": "python",
   "name": "python3"
  },
  "language_info": {
   "codemirror_mode": {
    "name": "ipython",
    "version": 3
   },
   "file_extension": ".py",
   "mimetype": "text/x-python",
   "name": "python",
   "nbconvert_exporter": "python",
   "pygments_lexer": "ipython3",
   "version": "3.8.8"
  }
 },
 "nbformat": 4,
 "nbformat_minor": 2
}

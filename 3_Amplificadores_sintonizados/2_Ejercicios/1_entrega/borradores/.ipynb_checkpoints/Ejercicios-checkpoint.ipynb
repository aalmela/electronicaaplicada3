{
 "cells": [
  {
   "cell_type": "markdown",
   "metadata": {},
   "source": [
    "# Ejercicio 1\n",
    "\n",
    "Una topología general para el receptor de una radio FM es la que se muestra en la Figura 1.\n",
    "\n",
    "\n",
    "![1-cuatrocientos](fig/LNA_RF.png)\n",
    "\n",
    "Las variaciones del esquema de aplicación dado pueden incluir sistemas con una antena externa, una antena interna integrada o ambas antenas coexistentes. En todos los casos, se necesita un circuito de protección ESD en la antena para proteger el sistema receptor de los golpes ESD. \n",
    "Puede encontrar más detalles y soluciones Infineon para la protección contra ESD aquí.\n",
    "\n",
    "\n",
    "Los módulos receptores de radio FM son empleados en muchos celulares y dispositivos actuales, y el cable de auriculares del teléfono móvil se utiliza como antena FM.\n",
    "Usar el cable de los auriculares como antena para el receptor de FM no es una solución ideal, ya que la recepción puede ser marginal. Por otro lado, los auriculares Bluetooth no se pueden usar, debido a la presencia del cable. \n",
    "\n",
    "En lugar de usar los auriculares con cable como antena, se puede integrar una antena pasiva en el dispositivo, pero la longitud de onda para la banda de transmisión FM es del orden de 1 metro, y los pequeños factores de forma requeridos para dispositivos móviles restringen severamente el tamaño eléctrico de tales antenas integradas, lo que lleva a una degradación severa en la ganancia de la antena, lo que resulta en una pérdida dramática de la sensibilidad del receptor FM.\n",
    "\n",
    "Sin embargo, al emplear técnicas de \"antena activa\", donde un amplificador de bajo ruido (LNA) adecuado se conecta directamente a la antena FM integrada eléctricamente pequeña, se puede recuperar gran parte de la sensibilidad del receptor FM. Los denominados módulos de antena activa que contienen una estructura pasiva única adaptada para la radio FM e interconectada directamente con los circuitos de amplificador apropiados están ganando rápidamente aceptación en el mercado en aplicaciones emergentes de dispositivos móviles. Los amplificadores de alta ganancia y bajo ruido con pequeñas huellas y alta robustez frente a la descarga electrostática (ESD) son componentes clave para estos diseños de antenas activas.\n",
    "El nuevo BGB719N7ESD de Infineon cumple con todos los criterios necesarios para tales antenas activas.\n",
    "\n",
    "Desafíos de diseño para antenas integradas\n",
    "\n",
    "Si bien ofrece varios beneficios, el diseño de antena activa tiene sus desafíos. Surgen dos problemas al integrar la antena dentro del dispositivo. Primero, las antenas eléctricamente pequeñas y de bajo perfil tienen una alta reactancia de entrada, baja resistencia de entrada y baja eficiencia de radiación, lo que hace que sea difícil que la impedancia coincida con otros elementos del circuito. El segundo problema se relaciona con el aislamiento de las antenas de transmisión ubicadas con la antena de FM dentro del teléfono. En efecto, las corrientes de RF en el chasis son las responsables de la mayor parte de la radiación. Por lo tanto, cualquier otra antena conectada al chasis, o que se base de manera similar en el chasis como el radiador principal, experimentará niveles muy altos de pérdida de señal.\n",
    "\n",
    "Una antena embebida de tamaño reducido y eléctricamente pequeña da como resultado una ganancia de antena significativamente reducida y, en consecuencia, una baja sensibilidad del receptor en comparación con la antena del cable del auricular externo.\n",
    "Para compensar esta sensibilidad degradada, se debe utilizar una topología de antena activa. Además del LNA como componente clave de un sistema de antena activo, en la mayoría de los casos también se requiere protección ESD externa, junto con un interruptor SPDT para el cambio de diversidad de antena, que permite que el dispositivo móvil cambie entre un auricular externo con cable y un dispositivo interno incorporado antena.\n",
    "\n",
    "\n",
    "\n",
    "## Amplificadores de bajo ruido (LNA)\n",
    "\n",
    "Infineon Technologies proporciona transistores de radiofrecuencia (RF) de alto rendimiento dirigidos a aplicaciones de radio FM. los cuales ofrecen una cifra de ruido (NF) excepcionalmente baja, alta ganancia y alta linealidad a bajos niveles de consumo de energía para aplicaciones de RF.\n",
    "Los transistores se basan en tecnologías bipolares de Si, y la séptima generación se basa en tecnologías robustas de SiGe:C de ruido ultra bajo. Su estructura optimizada de celdas de transistores internos conduce a las mejores ganancias de potencia y NF en su banda FM mundial (76 a 108 MHz). \n",
    "\n",
    "\n",
    "En sistemas con antenas internas, debido reducido tamaño disponible, la impedancia de la antena es muy alta, y por lo tanto, el LNA debe adaptarse a esta alta impedancia. \n",
    "La longitud óptima de la antena para la radio FM es de 75 centímetros. Esta longitud no puede integrarse en dispositivos móviles, pero las antenas más cortas causan pérdida de señal y un bajo rendimiento del receptor.\n",
    "La salida de los LNA está diseñada para coincidir con un sistema de $50 \\Omega$.\n",
    "\n"
   ]
  },
  {
   "cell_type": "code",
   "execution_count": null,
   "metadata": {},
   "outputs": [],
   "source": []
  }
 ],
 "metadata": {
  "kernelspec": {
   "display_name": "Python 3",
   "language": "python",
   "name": "python3"
  },
  "language_info": {
   "codemirror_mode": {
    "name": "ipython",
    "version": 3
   },
   "file_extension": ".py",
   "mimetype": "text/x-python",
   "name": "python",
   "nbconvert_exporter": "python",
   "pygments_lexer": "ipython3",
   "version": "3.8.8"
  }
 },
 "nbformat": 4,
 "nbformat_minor": 2
}

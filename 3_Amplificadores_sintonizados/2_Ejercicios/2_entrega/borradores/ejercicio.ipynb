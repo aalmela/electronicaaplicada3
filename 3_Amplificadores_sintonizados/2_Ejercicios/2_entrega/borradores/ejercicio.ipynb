{
 "cells": [
  {
   "cell_type": "code",
   "execution_count": 55,
   "metadata": {},
   "outputs": [],
   "source": [
    "import numpy as np\n",
    "import matplotlib.pyplot as plt\n",
    "import scipy                  # http://scipy.org/\n",
    "from scipy import signal\n",
    "import cmath\n",
    "\n",
    "from IPython.display import Image  \n",
    "%matplotlib inline\n",
    "params = {'legend.fontsize': 24,\n",
    "          'figure.figsize': (12, 8),\n",
    "         'axes.labelsize': 24,\n",
    "         'axes.titlesize': 24,\n",
    "         'xtick.labelsize':24,\n",
    "         'ytick.labelsize':24}\n",
    "plt.rcParams.update(params) \n",
    "\n",
    "\n",
    "\n",
    "from IPython.display import Image\n",
    "import sys \n",
    "sys.path.insert(0,'/home/aalmela/scm/git/utn/eaiii/2019/lib/')\n",
    "import myplot as myp"
   ]
  },
  {
   "cell_type": "code",
   "execution_count": 56,
   "metadata": {},
   "outputs": [
    {
     "data": {
      "image/png": "[encoded data removed]",
      "text/plain": [
       "<IPython.core.display.Image object>"
      ]
     },
     "execution_count": 56,
     "metadata": {
      "image/png": {
       "width": 450
      }
     },
     "output_type": "execute_result"
    }
   ],
   "source": [
    "Image(filename= \"fig/RF.png\",width=450)"
   ]
  },
  {
   "cell_type": "markdown",
   "metadata": {},
   "source": [
    "El circuito de la figura está adaptado a máxima transferencia de energía a la entrada y a la salida. \n",
    "Corresponde a un receptor sintonizado a $F_o=100MHz$ y se busca un ancho de banda de $BW=1 MHz$. \n",
    "\n",
    "El $Q_o$ de cada sintonizado es $Q_o=150$. Emplear el mismo inductor para el sintonizado de la entrada y de la salida. Considere que tiene $20 espiras$ .\n",
    "\n",
    "Por condición de diseño se busca que $Q_1= 1.5 \\cdot Q_2$.\n",
    "\n",
    "\n",
    "Considerando:\n",
    "\n",
    "$ Z_{ant} = 100 \\Omega$\n",
    "\n",
    "$ R_{L} = 1 K\\Omega$\n",
    "\n",
    "\n",
    "$C_p = 4.7 pF$\n",
    "\n",
    "Y11=(0,001S//5pF) \n",
    "\n",
    "Y12=(-10 -j628)uS \n",
    "\n",
    "Y21= (50-j50)mS  \n",
    "\n",
    "Y22=(0,0001S//5pF) \n",
    "\n",
    "\n",
    "## Determinar:\n",
    "\n",
    "1. Con el transistor unilateral (Y12=0) y sin el capacitor $C_p$\n",
    "\n",
    "    1.1. $Q_1$, $Q_2$, $L_1$.\n",
    "\n",
    "    1.2. $N_1$, $N_2$, $C_1$, $C_2$, $C_3$.\n",
    "\n",
    "    1.3. $|A_v|$\n",
    "\n",
    "2. Con el transistor real, todos los componentes de los circuitos mantienen los valores calculados del CASO A (Unilateral). Asumir que los tanques siguen resonando a fo con el mismo Q respecto al Ítem A\n",
    "\n",
    "    2.1. Sin el capacitor $C_p$, determinar el valor del coeficiente de Stern (K) y decidir si el amplificar es estable.\n",
    "\n",
    "    2.2. Cerrando la llave, determinar la cantidad de espiras $N_3$ para neutralizar la etapa. Indicar también la polaridad relativa del link $N_3$ con respecto a la bobina de colector. \n",
    "\n",
    "    2.3. Con el capacitor $C_p$ y $N_3$, determinado en B2 (cantidad de espiras y polaridad), hallar el nuevo valor de Kn (coeficiente de Stern de la etapa neutralizada) y decidir si el amplificar es estable o no. Asumir que los tanques siguen resonando a fo con el mismo Q respecto al ítem A.\n",
    "\n"
   ]
  },
  {
   "cell_type": "code",
   "execution_count": 48,
   "metadata": {},
   "outputs": [],
   "source": [
    "## Parametros del transistor\n",
    "\n",
    "g11 = 0.001\n",
    "c11 = 5e-12\n",
    "\n",
    "g12 = -10e-6 \n",
    "b12 = -628e-6\n",
    "\n",
    "g21 =  50e-3\n",
    "b21 = -50e-3\n",
    "\n",
    "\n",
    "g22 = 0.0001\n",
    "c22 = 5e-12\n",
    " "
   ]
  },
  {
   "cell_type": "markdown",
   "metadata": {},
   "source": [
    "## Solución\n",
    "\n",
    "1. Con el transistor unilateral (Y12=0) y sin el capacitor $C_p$\n",
    "\n",
    "    1.1. $Q_1$, $Q_2$, $L_1$.\n",
    "    \n",
    "\n",
    "Se emplea aproximación de banda angosta para el calculo del Q.\n",
    "\n",
    "$\\frac{1}{\\sqrt{1+\\chi_1^2}} \\cdot \\frac{1}{\\sqrt{1+\\chi_2^2}} = \\frac{1}{\\sqrt{2}}$\n",
    "\n",
    "$\\frac{1}{\\sqrt{1+\\chi_2^2}} \\cdot \\frac{1}{\\sqrt{1+(1.5 \\cdot \\chi_2)^2}} = \\frac{1}{\\sqrt{2}}$\n",
    "\n",
    "$(1+\\chi_2^2) \\cdot (1+(1.5 \\cdot \\chi_2)^2) = 2$\n",
    "\n",
    "$ 1 + 3.25 \\cdot \\chi_2^2 + 2.25 \\cdot \\chi_2^2 = 2$\n",
    "\n",
    "$ -1 + 3.25 \\cdot \\chi_2^2 + 2.25 \\cdot \\chi_2^4 = 0$\n",
    "\n"
   ]
  },
  {
   "cell_type": "code",
   "execution_count": 50,
   "metadata": {},
   "outputs": [
    {
     "name": "stdout",
     "output_type": "stream",
     "text": [
      "Q1 = 76.58, Q2 = 51.05\n"
     ]
    }
   ],
   "source": [
    "# Buscando solución de X\n",
    "\n",
    "c = -1\n",
    "b = 3.25\n",
    "a = 2.25\n",
    "\n",
    "d = b**2-4*a*c\n",
    "if d > 0: x = (-b+ (b**2-4*a*c)**0.5 )/(2*a)\n",
    "else    : x = (-b+ (b**2+4*a*c)**0.5 )/(2*a)\n",
    "\n",
    "X2 = x**0.5\n",
    "\n",
    "# Parametros de frecuencia\n",
    "fo = 100e6\n",
    "# Delta de frecuencia para 3dB\n",
    "df = 1e6/2\n",
    "# Calculo del Q2\n",
    "Q2 = X2/2*fo/df\n",
    "\n",
    "X1 = X2 * 1.5\n",
    "\n",
    "# Calculo del Q1\n",
    "Q1 = X1/2*fo/fc\n",
    "\n",
    "print('Q1 = {:1.2f}, Q2 = {:1.2f}'.format(Q1 ,  Q2) )"
   ]
  },
  {
   "cell_type": "code",
   "execution_count": 52,
   "metadata": {},
   "outputs": [
    {
     "name": "stdout",
     "output_type": "stream",
     "text": [
      "L1 = 1.03e-07\n"
     ]
    }
   ],
   "source": [
    "# Para el calculo del inductor se comienza con el de salida ya que a tope de bobina \n",
    "# tiene la carga de la resistencia de salida del transistor\n",
    "\n",
    "# Resistencia de salida del transistor\n",
    "r22 = 1/g22\n",
    "Qo = 150\n",
    "\n",
    "L = (1/Q2-1/Qo)*(r22/2)/(fo*2*np.pi)\n",
    "\n",
    "print('L1 = {:1.2e}'.format(L) )"
   ]
  },
  {
   "cell_type": "markdown",
   "metadata": {},
   "source": [
    "1. Con el transistor unilateral (Y12=0) y sin el capacitor $C_p$\n",
    "\n",
    "    1.2. $N_1$, $N_2$, $C_1$, $C_2$, $C_3$.\n",
    "    \n",
    "Para el calculo de la adaptación del sintonizado de entrada, debemos conocer la Rext a tope de bobina ya que el Q1 es distinto del Q2.      "
   ]
  },
  {
   "cell_type": "code",
   "execution_count": 54,
   "metadata": {},
   "outputs": [
    {
     "name": "stdout",
     "output_type": "stream",
     "text": [
      "N1 = 1.41, N2 = 3.04\n"
     ]
    }
   ],
   "source": [
    "# Resistencia externa a tope de bobina\n",
    "rext = 1 / ((1/Q1-1/Qo)/(L*fo*2*np.pi))\n",
    "\n",
    "# Entonces r11 y rant tiene que verse a tope de bobina como:\n",
    "rgt = 2*rext \n",
    "\n",
    "\n",
    "# Numero de espiras del inductor en la entrada para adaptar \n",
    "rg = 100\n",
    "\n",
    "N1  = 20/(rgt/rg)**0.5\n",
    "\n",
    "# Numero de espiras del adaptador de r11\n",
    "r11 = 1/g11\n",
    "\n",
    "N2  = 20/(rgt/r11)**0.5 - N1\n",
    "\n",
    "\n",
    "print('N1 = {:1.2f}, N2 = {:1.2f}'.format(N1 ,  N2) )"
   ]
  },
  {
   "cell_type": "code",
   "execution_count": 6,
   "metadata": {},
   "outputs": [],
   "source": [
    "# Capacitor de sintonia\n",
    "\n",
    "Cs = 1/((2*np.pi*fo)**2*L)\n",
    "\n"
   ]
  },
  {
   "cell_type": "markdown",
   "metadata": {},
   "source": [
    "En la salida se emplea un divisor capacitivo para adaptar $RL$.\n",
    "\n",
    "Este divisor debe presentar $C_s-C_{22}$\n",
    "\n",
    "Para el calculo del divisor capacitivo se recuerdan las ecuaciones de calculo. \n",
    "\n",
    "\n",
    "# Divisor capacitivo:\n",
    "\n",
    "$$ Q_{m2} = R_L'' \\omega C'  $$\n",
    "\n",
    "# si $Q_{m2} > 10$ \n",
    "\n",
    "$$ N =\\sqrt[]{\\frac{R_L''}{R_L}} $$\n",
    "\n",
    "$$ Q_{m1} \\sim \\frac{Q_{m2}}{N}$$\n",
    "\n",
    "\n",
    "## Si $Q_{m1} < 10$ entonces: \n",
    "\n",
    "Volvemos a calcular $Q_{m1}$: \n",
    "\n",
    "$$ Q_{m1} = \\sqrt[]{\\frac{(1+Q_{m2}^2)}{N^2}-1}$$\n",
    "\n",
    "$$ C_2 = \\frac{Q_{m1}}{R_L \\omega} $$ \n",
    "\n",
    "$$ C_2' = C_2(1+\\frac{1}{Q_{m1}^2})$$\n",
    "\n",
    "$$ C     = \\frac{C'}{ (1+\\frac{1}{Q_{m2}^2})}$$\n",
    "\n",
    "$$ C_1 = \\frac{C_2' C}{C_2' - C}$$\n",
    "\n",
    "\n",
    "## Si $Q_{m1} > 10$ entonces: \n",
    "\n",
    "\n",
    "$$ C_2 = N C' $$ \n",
    "\n",
    "$$ C_1 = \\frac{N C' }{N  - 1}$$\n"
   ]
  },
  {
   "cell_type": "code",
   "execution_count": 60,
   "metadata": {},
   "outputs": [
    {
     "name": "stdout",
     "output_type": "stream",
     "text": [
      "154.7956835591482 48.950693200958796\n",
      "C1 = 2.44e-11, C2 = 6.21e-11, C3 = 2.87e-11\n"
     ]
    }
   ],
   "source": [
    "r22 = 1/g22\n",
    "RL  = 1e3\n",
    "\n",
    "N = (r22/RL)**0.5\n",
    "\n",
    "Qm2 = r22*2*np.pi*fo*Cs\n",
    "Qm1 = Qm2/N \n",
    "\n",
    "\n",
    "print(Qm2, Qm1)\n",
    "# por lo tanto se puede utilizar siguientes ecuaciones\n",
    "\n",
    "Cd = (Cs- 5e-12)\n",
    "C2 = (Cd)*N \n",
    "C3 = (Cd)*N/(N-1) \n",
    "\n",
    "# En la entrada el capacitor C1 es el sintonia afectado por el c11\n",
    "\n",
    "C1 = Cs - c11 * ((N1+N2)/20)**2\n",
    "\n",
    "print('C1 = {:1.2e}, C2 = {:1.2e}, C3 = {:1.2e}'.format(C1 ,  C2, C3) )"
   ]
  },
  {
   "cell_type": "markdown",
   "metadata": {},
   "source": [
    "1. Con el transistor unilateral (Y12=0) y sin el capacitor $C_p$\n",
    "\n",
    "    1.3. $|A_v|$\n",
    "    \n",
    "$|A_v| = |\\frac{v_o}{v_g}| = |\\frac{v_o}{v_c}| \\cdot |\\frac{v_c}{v_b}| \\cdot |\\frac{v_b}{v_i}|\\cdot |\\frac{v_i}{v_g}|$\n",
    "\n",
    "$|\\frac{v_o}{v_c}| = \\frac{1}{N}$\n",
    "\n",
    "$|\\frac{v_c}{v_b}| = g_m \\cdot \\omega \\cdot L \\cdot Q_2$\n",
    "\n",
    "$|\\frac{v_b}{v_i}| = \\frac{(N_2+N_1)}{(N_1)}$\n",
    "\n",
    "$ R_{in} = \\frac{r_p' \\cdot r_{11}''}{rp + r_{11}''} $ \n",
    "\n",
    "$ r_p  = (Q_o \\cdot \\omega L) $\n",
    "\n",
    "$ r_p' = r_p \\cdot (\\frac{20}{N1})^2$\n",
    "\n",
    "$ r_{11}' = r_g $\n",
    "\n",
    "$|\\frac{v_i}{v_g}| =   \\frac{R_{in}}{r_g + R_{in}} $\n"
   ]
  },
  {
   "cell_type": "code",
   "execution_count": 61,
   "metadata": {},
   "outputs": [
    {
     "name": "stdout",
     "output_type": "stream",
     "text": [
      "Avoc = 0.32, Avcb = 233.22, Avbi= 3.16, Avig= 0.24\n",
      "Avog = 57.07\n"
     ]
    }
   ],
   "source": [
    "Avoc = 1/N\n",
    "\n",
    "gm =  (50e-3**2+50e-3**2)**0.5\n",
    "\n",
    "Avcb = gm  * 2*np.pi*fo * L * Q2 \n",
    "\n",
    "Avbi = (N2+N1)/N1\n",
    "\n",
    "rpi =  Qo *   2*np.pi*fo * L * (N1/20)**2\n",
    "\n",
    "rin = rg*rpi/(rg+rpi)\n",
    "\n",
    "Avig = rin/(rin+rg)\n",
    "\n",
    "print('Avoc = {:2.2f}, Avcb = {:2.2f}, Avbi= {:2.2f}, Avig= {:2.2f}'.format(Avoc, Avcb, Avbi, Avig))\n",
    "\n",
    "Avog = Avoc * Avcb * Avbi * Avig\n",
    "\n",
    "print('Avog = {:2.2f}'.format(Avog))"
   ]
  },
  {
   "cell_type": "markdown",
   "metadata": {},
   "source": [
    "2. Con el transistor real, todos los componentes de los circuitos mantienen los valores calculados del CASO A (Unilateral). Asumir que los tanques siguen resonando a fo con el mismo Q respecto al Ítem A\n",
    "\n",
    "    2.1. Sin el capacitor $C_p$, determinar el valor del coeficiente de Stern (K) y decidir si el amplificar es estable."
   ]
  },
  {
   "cell_type": "code",
   "execution_count": 10,
   "metadata": {},
   "outputs": [],
   "source": [
    "def Linvill(yt):\n",
    "    y11 = yt[0,0]\n",
    "    y12 = yt[0,1]\n",
    "    y21 = yt[1,0]\n",
    "    y22 = yt[1,1]\n",
    "    C = (abs(y12*y21)+(y12*y21).real)/(2*y11.real*y22.real)\n",
    "    print('###############  LINVILL   #####################')\n",
    "    print( 'coeficiente de linvill C= {:4.2F}' .format(C))\n",
    "    if C < 1:\n",
    "        print( 'Es incondicionalmente estable')\n",
    "    else :\n",
    "        print( 'Es potencialmente inestable')\n",
    "    return C\n",
    "\n",
    "def Stern(yg, yl, yt):\n",
    "    y11 = yt[0,0]\n",
    "    y12 = yt[0,1]\n",
    "    y21 = yt[1,0]\n",
    "    y22 = yt[1,1]\n",
    "    K = (2*(y11.real+yg.real)*(y22.real+yl.real)) / (abs(y12*y21)+(y12*y21).real)\n",
    "    print('###############  STERN   #####################')\n",
    "    print( 'coeficiente de stern K= {:4.2F}' .format(K))\n",
    "    if K > 1:\n",
    "        print( 'Estable')\n",
    "    else :\n",
    "        print( 'Inestable')\n",
    "    return K\n",
    "\n",
    "\n",
    "def neutraliza(yt,wo,Cn, N):\n",
    "    Nn = (-yt[0,1].imag)/(wo*Cn)*N\n",
    "    y11 =  wo*Cn*1j\n",
    "    y12 =  wo*Cn*1j*(Nn/N)\n",
    "    y21 =  wo*Cn*1j*(Nn/N)\n",
    "    y22 =  wo*Cn*1j*(Nn/N)**2\n",
    "    yn  = np.matrix([[y11, y12],[ y21, y22]])\n",
    "    # cuadripolo resultante\n",
    "    ytn  = yt + yn\n",
    "    print('n=', Nn/N)\n",
    "    return (ytn,Nn)"
   ]
  },
  {
   "cell_type": "code",
   "execution_count": 66,
   "metadata": {},
   "outputs": [
    {
     "name": "stdout",
     "output_type": "stream",
     "text": [
      "###############  STERN   #####################\n",
      "coeficiente de stern K= 0.20\n",
      "Inestable\n"
     ]
    },
    {
     "data": {
      "text/plain": [
       "0.19803754724943928"
      ]
     },
     "execution_count": 66,
     "metadata": {},
     "output_type": "execute_result"
    }
   ],
   "source": [
    "fo = 100e6\n",
    "wo = 2*np.pi*fo\n",
    "\n",
    "# Transistor\n",
    "y11 =    1e-3 + (wo*5e-12)*1j\n",
    "y12 = - 10e-6 -  628e-6*1j\n",
    "y21 =  50.0e-3 - 50.0e-3*1j \n",
    "y22 =   0.1e-3 +  (wo*5e-12)*1j\n",
    "\n",
    "\n",
    "yt  = np.matrix([[y11, y12],[ y21, y22]])\n",
    "\n",
    "# Conductacia de entrada al transistor\n",
    "gl= (y22.real) + 1/(Qo * wo * L)\n",
    "\n",
    "# Conductancia de salida al transistor\n",
    "gg = (y11.real) + 1/(  (Qo * wo * L) *( (N1 + N2)/20 )**2 )\n",
    "\n",
    "\n",
    "# Calculo del factor de Stern\n",
    "Stern(gg, gl, yt)\n",
    "\n",
    "\n",
    "\n"
   ]
  },
  {
   "cell_type": "markdown",
   "metadata": {},
   "source": [
    "### 2. Con el transistor real, todos los componentes de los circuitos mantienen los valores calculados del CASO A (Unilateral). Asumir que los tanques siguen resonando a fo con el mismo Q respecto al Ítem A\n",
    "\n",
    " \n",
    "    2.2. Cerrando la llave, determinar la cantidad de espiras N4 para neutralizar la etapa. Indicar también la polaridad relativa del link N3 con respecto a la bobina de colector. \n"
   ]
  },
  {
   "cell_type": "code",
   "execution_count": 20,
   "metadata": {},
   "outputs": [
    {
     "name": "stdout",
     "output_type": "stream",
     "text": [
      "n= 0.212658094174\n",
      "4.25316188348\n"
     ]
    }
   ],
   "source": [
    "ytn, N3 =  neutraliza(yt,wo,4.7e-12,20)\n",
    "\n",
    "print(N3)"
   ]
  },
  {
   "cell_type": "markdown",
   "metadata": {},
   "source": [
    " 2.3. Con el capacitor $C_p$ y $N_3$, determinado en B2 (cantidad de espiras y polaridad), hallar el nuevo valor de Kn (coeficiente de Stern de la etapa neutralizada) y decidir si el amplificar es estable o no. Asumir que los tanques siguen resonando a fo con el mismo Q respecto al ítem A.\n"
   ]
  },
  {
   "cell_type": "code",
   "execution_count": 13,
   "metadata": {},
   "outputs": [
    {
     "name": "stdout",
     "output_type": "stream",
     "text": [
      "###############  STERN   #####################\n",
      "coeficiente de stern K= 3.95\n",
      "Estable\n"
     ]
    }
   ],
   "source": [
    "yl= (ytn[1,1].real-ytn[1,1].imag*1j)\n",
    "\n",
    "yg = (ytn[0,0].real-ytn[0,0].imag*1j)\n",
    "\n",
    "K = Stern(yg, yl, ytn)"
   ]
  },
  {
   "cell_type": "code",
   "execution_count": 44,
   "metadata": {},
   "outputs": [
    {
     "name": "stdout",
     "output_type": "stream",
     "text": [
      "20 1.4066576878715842 3.041584493988832 4.25316188348\n",
      "Los datos empleados para los calculos:\n",
      ".param rg  =  100.00 \n",
      ".param g11  =  1.000e-03 \n",
      ".param c11  =  5.000e-12 \n",
      ".param g12  =  -1.000e-05 \n",
      ".param c12  =  -9.995e-13 \n",
      ".param g21  =  5.000e-02 \n",
      ".param c21  =  -7.958e-11 \n",
      ".param g22  =  1.000e-04 \n",
      ".param c22  =  5.000e-12 \n",
      ".param RL  =  1000.0 \n",
      ".param C1 =  2.464e-11 \n",
      ".param C2 =  6.210e-11 \n",
      ".param C3 =  2.872e-11 \n",
      ".param Ln1  =  5.0860e-10 \n",
      ".param Ln2  =  2.3779e-09 \n",
      ".param Ln   =  6.2167e-08 \n",
      ".param L1   =  1.0282e-07 \n",
      ".param Ln3  =  4.6497e-09 \n",
      ".param rp  =  9690.19 \n"
     ]
    }
   ],
   "source": [
    "## Componentes para LTspice\n",
    "N   = 20\n",
    "rp   = Qo *   2*np.pi*fo * L\n",
    "\n",
    "print(N, N1,N2,N3)\n",
    "\n",
    "Ln1 = L *(N1/N)**2\n",
    "Ln2 = L *(N2/N)**2\n",
    "Ln  = L *((N-N2-N1)/N)**2\n",
    "\n",
    "Ln3 = L *(N3/N)**2\n",
    "\n",
    "\n",
    "print('Los datos empleados para los calculos:')\n",
    "\n",
    "print('.param rg  =  {:1.2f} '.format(rg) )\n",
    "\n",
    "\n",
    "print('.param g11  =  {:1.3e} '.format(g11) )\n",
    "print('.param c11  =  {:1.3e} '.format(c11) )\n",
    "\n",
    "print('.param g12  =  {:1.3e} '.format( (g12)   )  )\n",
    "print('.param c12  =  {:1.3e} '.format( (b12/wo))  )\n",
    "\n",
    "print('.param g21  =  {:1.3e} '.format( (g21)   )  )  \n",
    "print('.param c21  =  {:1.3e} '.format( (b21/wo))  )\n",
    "\n",
    "\n",
    "print('.param g22  =  {:1.3e} '.format(g22) )\n",
    "print('.param c22  =  {:1.3e} '.format(c22) )\n",
    "\n",
    "\n",
    "print('.param RL  =  {:1.1f} '.format(RL) )\n",
    "print('.param C1 =  {:1.3e} '.format(C1) )\n",
    "print('.param C2 =  {:1.3e} '.format(C2) )\n",
    "print('.param C3 =  {:1.3e} '.format(C3) )\n",
    "\n",
    "\n",
    "print('.param Ln1  =  {:1.4e} '.format(Ln1) )\n",
    "print('.param Ln2  =  {:1.4e} '.format(Ln2) )\n",
    "print('.param Ln   =  {:1.4e} '.format(Ln ) )\n",
    "\n",
    "print('.param L1   =  {:1.4e} '.format(L) )\n",
    "\n",
    "print('.param Ln3  =  {:1.4e} '.format(Ln3) )\n",
    "\n",
    "\n",
    "print('.param rp  =  {:1.2f} '.format(rp) )\n",
    "\n",
    "\n"
   ]
  },
  {
   "cell_type": "code",
   "execution_count": null,
   "metadata": {},
   "outputs": [],
   "source": []
  }
 ],
 "metadata": {
  "jupytext": {
   "main_language": "python"
  },
  "kernelspec": {
   "display_name": "Python 3",
   "language": "python",
   "name": "python3"
  },
  "language_info": {
   "codemirror_mode": {
    "name": "ipython",
    "version": 3
   },
   "file_extension": ".py",
   "mimetype": "text/x-python",
   "name": "python",
   "nbconvert_exporter": "python",
   "pygments_lexer": "ipython3",
   "version": "3.7.0"
  }
 },
 "nbformat": 4,
 "nbformat_minor": 2
}

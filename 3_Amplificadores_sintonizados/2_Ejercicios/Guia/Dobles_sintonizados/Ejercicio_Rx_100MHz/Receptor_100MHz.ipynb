{
 "cells": [
  {
   "cell_type": "markdown",
   "metadata": {},
   "source": [
    "El diagrama de la figura corresponde a un receptor super-heterodino de simple conversión con $F_I = 10,7 MHz$ y sintonizado para recibir una señal de $F_{RF} = 100 MHz$\n",
    "\n",
    "![Parcial](fig/parcial20200824aa.png) \n",
    "\n",
    "Mezclador:  $NF_{mix}= 10dB$ y $G_{mix} = 0 dB$\n",
    "\n",
    "Amplificador Frecuencia intermedia:  $NF_{IF}  = 6 dB$  y  $G_{IF}= 40 dB$\n",
    "\n",
    "![Parcial](fig/parcial20200824a.png) \n",
    "\n",
    "El circuito de la figura corresponde a la etapa de RF (filtro y  amplificador), tiene configuración Butterworth con un ancho de banda $BW=1MHz$. \n",
    "\n",
    "Todas las interfaces están adaptadas a MTE Qcte y los elementos reactivos no tienen pérdidas.\n",
    "\n",
    "El amplificador tiene configuración Butterworth y ancho de banda $BW=1MHz$\n",
    "\n",
    "Todas las interfaces están adaptadas a MTE y los elementos reactivos no tienen pérdidas\n",
    "\n",
    "\n",
    "$Z_{antena}= (50+j0)  \\Omega$\n",
    "\n",
    "$T_{antena}= 400\\,K$\n",
    "\n",
    "$R_L = 1 K\\Omega$\t\t\n",
    "\n",
    "![Parcial](fig/parcial20200824c.png) \n",
    "\n",
    "$Y_{11g1}= (10 + j0) \\mu S$\n",
    "\n",
    "$Y_{22}  = (50 + j0) \\mu S$\n",
    "\n",
    "$Y_{11g2}= Y_{12g1} =Y_{12g2} = 0$\t\t\n",
    "\n",
    "$mod(Y_{21g1})= g_m$     \n",
    "\n",
    "$ang(Y_{21g1})=-30 grados$\n",
    "\n",
    "Determinar:\n",
    "Siendo el DS subacoplado el de la entrada y $V_{g2}= 5Vdc$\n",
    "1. (1 punto) Q1, h1 correspondientes al DS de entrada                             \n",
    "2. (1 punto) Q2, h2 correspondientes al DS de salida                               \n",
    "3. (1 punto) Rechazo de frecuencia imagen del receptor                \n",
    "4. (1 punto) Valor de los componentes del circuito de RF \n",
    "5. (1 punto) $V_o(100\\,MHz)$ considerando que $V_{ant}= 10 \\mu V$            \n",
    "6. (1 punto) Considerando que el ancho de banda equivalente de ruido de la etapa de IF es de $BEN=100\\,KHz$, determinar el valor de tensión de la señal en antena cuando a la salida del IF hay una $SNR_o = 20\\,dB$\n",
    "\n",
    "Se elimina el DS subacoplado y se lo reemplaza por un acoplador aperiódico que mantiene la adaptación de impedancias en banda ancha ($V_{g2}= 5Vdc$)\n",
    "7. (1 punto) Determinar el nuevo ancho de banda               \n",
    "8. (1 punto) Determinar el riple en banda de paso.   \n",
    "\n",
    "Se reemplazan los DS de entrada y salida por SS de igual Q que el DS reemplazado manteniéndose las condiciones de adaptación a MTE.\n",
    "9. (2 puntos) Considerando que $Y_{12g1}$ está dada por una capacidad de $C=0.01\\,pf$, determinar el máximo valor de $V_{g2}$ que permite que el circuito sea estable.                                        \n"
   ]
  },
  {
   "cell_type": "code",
   "execution_count": 2,
   "metadata": {},
   "outputs": [],
   "source": [
    "import numpy as np\n",
    "\n",
    "# Parametros del transistor \n",
    "r11   =   1/10e-6 \n",
    "r22   =   1/50e-6 \n",
    "gm    = 10e-3 \n",
    "rg    =   50\n",
    "rgate = 10e3\n",
    "rl    =   1e3\n",
    "Qo = np.inf\n",
    "\n",
    "# Calculos auxiliares\n",
    "####### 1\n",
    "BW = 1e6\n",
    "fo = 100e6\n",
    "wo = (2*np.pi*fo)\n",
    "\n",
    "\n",
    "\n",
    "fo = 100e6\n",
    "BW = 1e6\n",
    "n  = 4"
   ]
  },
  {
   "cell_type": "markdown",
   "metadata": {},
   "source": [
    "##  1. (1 punto) Q1, h1 correspondientes al DS de entrada      \n",
    "\n",
    "La figura ilustra la ubicación de los polos de los dobles sintonizados. \n",
    "\n",
    "![Polos](fig/butterdosdobles_20200824.png)\n",
    "\n",
    "De la figura, los polos correspondientes al primer doble sintonizado permiten calcular $Q$,$k$ y $h$ en base a su ubicación. \n",
    "\n",
    "$f_o = 100 MHz$\n",
    "\n",
    "$BW = 1 MHz$\n",
    "\n",
    "$Q_1  = \\frac{f_o}{2 \\cdot \\frac{BW}{2} \\cdot sin(45 + \\frac{45}{2})} = 108.23$\n",
    "\n",
    "$K_1  = \\frac{BW \\cdot cos(45+\\frac{45}{2})}{fo}  = 0.0038$\n",
    "\n",
    "$h_1  = Q_2 \\cdot  K_2  = 0.41$"
   ]
  },
  {
   "cell_type": "code",
   "execution_count": 3,
   "metadata": {},
   "outputs": [
    {
     "name": "stdout",
     "output_type": "stream",
     "text": [
      "$$Q1 =  108.24$$\n",
      "$$K1 =  0.0038$$\n",
      "$$h1 =  0.41$$\n"
     ]
    }
   ],
   "source": [
    "\n",
    "Q1 = fo/(BW*np.sin((np.pi/n+np.pi/(2*n))))\n",
    "K1 = (BW*np.cos((np.pi/n+np.pi/(2*n))))/fo\n",
    "h1 = K1*Q1\n",
    "print('$$Q1 =  {:1.2f}$$'.format(Q1))\n",
    "print('$$K1 =  {:1.4f}$$'.format(K1))\n",
    "print('$$h1 =  {:1.2f}$$'.format(h1))"
   ]
  },
  {
   "cell_type": "markdown",
   "metadata": {},
   "source": [
    "## 2. (1 punto) Q2, h2 correspondientes al DS de salida   \n",
    "\n",
    "De igual manera para el segundo doble sintonizado:\n",
    "\n",
    "$Q_2  = \\frac{f_o}{2 \\cdot \\frac{BW}{2} \\cdot sin(\\frac{45}{2})} = 261.31$\n",
    "\n",
    "$K_2  = \\frac{BW \\cdot cos(\\frac{45}{2})}{fo}  = 0.0092$\n",
    "\n",
    "$h_1  = Q_2 \\cdot  K_2  = 0.41$"
   ]
  },
  {
   "cell_type": "code",
   "execution_count": 4,
   "metadata": {},
   "outputs": [
    {
     "name": "stdout",
     "output_type": "stream",
     "text": [
      "$$Q2 =  261.31$$\n",
      "$$K2 =  0.0092$$\n",
      "$$h2 =  2.4142$$\n"
     ]
    }
   ],
   "source": [
    "Q2 = fo/(BW*np.sin(np.pi/(n*2)) )\n",
    "K2 = BW*np.cos(np.pi/(n*2))/fo\n",
    "h2 = K2*Q2\n",
    "\n",
    "print('$$Q2 =  {:1.2f}$$'.format(Q2))\n",
    "print('$$K2 =  {:1.4f}$$'.format(K2))\n",
    "print('$$h2 =  {:1.4f}$$'.format(h2))"
   ]
  },
  {
   "cell_type": "markdown",
   "metadata": {},
   "source": [
    "## 3. (1 punto) Rechazo de frecuencia imagen del receptor                \n",
    "\n",
    "Usando la transferencia del filtro Butterworth:\n",
    "\n",
    "$|A| = \\frac{1}{\\sqrt{1 +  (\\frac{f_{imag} - f_o}{f_c - f_o}})^{2\\cdot4} }$\n",
    "\n",
    "$|A| = \\frac{1}{\\sqrt{1 +  (\\frac{2 \\cdot 10.7MHz}{\\frac{1MHz}{2}}})^{8} } = $\n",
    "\n",
    "\n"
   ]
  },
  {
   "cell_type": "code",
   "execution_count": 5,
   "metadata": {},
   "outputs": [
    {
     "name": "stdout",
     "output_type": "stream",
     "text": [
      "$$|  A_v(img) | = 2.98e-07$$\n",
      "$$|  A_v(img) | = -130.52dB$$\n"
     ]
    }
   ],
   "source": [
    "fcs  = 100e6\n",
    "BW   =   1e6\n",
    "fif  =   10.7e6\n",
    "fimg = fcs + 2* fif \n",
    "n    = 4 \n",
    "\n",
    "\n",
    "Avimg = 1/(1+( (2*fif)/(BW/2))**(2*n) )**0.5\n",
    "\n",
    "print('$$|  A_v(img) | = {:1.2e}$$'.format(Avimg) )\n",
    "\n",
    "print('$$|  A_v(img) | = {:1.2f}dB$$'.format(20*np.log10(Avimg)) )"
   ]
  },
  {
   "cell_type": "markdown",
   "metadata": {},
   "source": [
    "## 4. (1 punto) Valor de los componentes del circuito de RF \n",
    "\n",
    "Primero doble sintonizado:\n",
    "\n",
    "\n",
    "$$L_1 = \\frac{r_g}{\\omega_o Q_1}$$\n",
    "\n",
    "\n",
    "$$C_1 = \\frac{1}{\\omega_o^2 L_1}$$\n",
    "\n",
    "$$r_i = \\frac{r_{11} r_{g}}{r_{11} + r_{g}}$$ \n",
    "\n",
    "$$L_2 = \\frac{r_{i}}{\\omega_o Q_1}$$\n",
    "\n",
    "$$C_2 = \\frac{1}{\\omega_o^2 L_2}$$\n",
    "\n",
    "Segundo Doble sintonizado\n",
    "\n",
    "$$L_3 = \\frac{r_22}{\\omega_o Q_2}$$\n",
    "\n",
    "$$C_3 = \\frac{1}{\\omega_o^2 L_3}$$\n",
    "\n",
    "\n",
    "$$L_4 = \\frac{r_{l}}{\\omega_o Q_2}$$\n",
    "\n",
    "$$C_4 = \\frac{1}{\\omega_o^2 L_4}$$\n",
    "\n",
    "\n"
   ]
  },
  {
   "cell_type": "code",
   "execution_count": 6,
   "metadata": {},
   "outputs": [
    {
     "name": "stdout",
     "output_type": "stream",
     "text": [
      "$$L1= 7.35e-10 Hy$$\n",
      "$$C1= 3.45e-09 F$$\n",
      "$$L2= 1.34e-07 Hy$$\n",
      "$$C2= 1.89e-11 F$$\n",
      "$$L3= 1.22e-07 Hy$$\n",
      "$$C3= 2.08e-11 F$$\n",
      "$$L4= 6.09e-09 Hy$$\n",
      "$$C4= 4.16e-10 F$$\n"
     ]
    }
   ],
   "source": [
    "\n",
    "\n",
    "L1 = (1/Q1-1/Qo)*rg/wo\n",
    "C1 = 1/(L1*wo**2) \n",
    "\n",
    "L2 = (1/Q1-1/Qo)*(r11*rgate/(r11+rgate))/wo\n",
    "C2 = 1/(L2*wo**2) \n",
    "\n",
    "print('$$L1= {:1.2e} Hy$$'.format(L1))\n",
    "print('$$C1= {:1.2e} F$$'.format(C1))\n",
    "\n",
    "print('$$L2= {:1.2e} Hy$$'.format(L2))\n",
    "print('$$C2= {:1.2e} F$$'.format(C2))\n",
    "\n",
    "\n",
    "L3 = (1/Q2-1/Qo)*r22/wo\n",
    "C3 = 1/(L3*wo**2) \n",
    "\n",
    "L4 = (1/Q2-1/Qo)*rl/wo\n",
    "C4 = 1/(L4*wo**2) \n",
    "\n",
    "print('$$L3= {:1.2e} Hy$$'.format(L3))\n",
    "print('$$C3= {:1.2e} F$$'.format(C3))\n",
    "\n",
    "print('$$L4= {:1.2e} Hy$$'.format(L4))\n",
    "print('$$C4= {:1.2e} F$$'.format(C4))"
   ]
  },
  {
   "cell_type": "markdown",
   "metadata": {},
   "source": [
    "## 5. (1 punto) $V_o(100\\,MHz)$ considerando que $V_{ant}= 10 \\mu V$            \n",
    "\n",
    "\n",
    "La trasferencia del primero doble sintonizado:\n",
    "\n",
    "$$\\frac{v_1}{i_g}= j \\cdot \\sqrt{L_1 L_2} \\cdot  \\omega_o \\cdot Q_1 \\frac{h_1}{ [1+j (\\chi-h_1))] [1+j (\\chi+h_1))]}$$\n",
    "\n",
    "$$v_i = i_g \\cdot r_g$$\n",
    "\n",
    "\n",
    "$$i_g = \\frac{v_i}{r_g}$$\n",
    "\n",
    "\n",
    "$$\\frac{v_1}{v_i}= j \\cdot \\frac{1}{r_g} \\sqrt{L_1 L_2} \\cdot  \\omega_o \\cdot Q_1 \\frac{h_1}{ [1+j (\\chi-h_1))] [1+j (\\chi+h_1))]}$$\n",
    "\n",
    "\n",
    "La transferencia del segundo doble sintonizado:\n",
    "\n",
    "$$\\frac{v_o}{v_1}= j \\cdot g_m \\cdot \\sqrt{L_3 L_4} \\cdot  \\omega_o \\cdot Q_2 \\frac{h_2}{ [1+j (\\chi-h_2))] [1+j (\\chi+h_2))]}$$\n",
    "\n",
    "\n",
    "\n",
    "$$|\\frac{v_o}{v_i}(\\chi_o)|= |\\frac{v_1}{v_i}(\\chi_o)| \\cdot |\\frac{v_o}{v_1}(\\chi_o)|$$ \n",
    "\n",
    "\n"
   ]
  },
  {
   "cell_type": "code",
   "execution_count": 7,
   "metadata": {},
   "outputs": [
    {
     "name": "stdout",
     "output_type": "stream",
     "text": [
      "$$Av1  = 4.767$$\n",
      "$$Av2  = 15.811$$\n",
      "$$Av  = 75.378$$\n"
     ]
    }
   ],
   "source": [
    "v1ig = (1/rg)*(L1*L2)**0.5*wo*Q1*(h1/(1+h1**2))\n",
    "print('$$Av1  = {:1.3f}$$'.format(v1ig))\n",
    "\n",
    "vov1 = gm*(L3*L4)**0.5*wo*Q2*(h2/(1+h2**2))\n",
    "print('$$Av2  = {:1.3f}$$'.format(vov1))\n",
    "\n",
    "Av = v1ig*vov1\n",
    "print('$$Av  = {:1.3f}$$'.format(Av))"
   ]
  },
  {
   "cell_type": "markdown",
   "metadata": {},
   "source": [
    "## 6. (1 punto) Considerando que el ancho de banda equivalente de ruido de la etapa de IF es de $BEN=100\\,KHz$, determinar el valor de tensión de la señal en antena cuando a la salida del IF hay una $SNR_o = 20\\,dB$\n",
    "\n",
    "$G_{rf} = |A_v|^2 \\frac{r_i}{r_o}$\n",
    "\n",
    "Amplificador RF: $NF_{rf}= 3 dB$ y $G_{rf} =  dB$\n",
    "\n",
    "Mezclador:  $NF_{mix}= 10dB$ y $G_{mix} = 0 dB$\n",
    "\n",
    "Amplificador Frecuencia intermedia:  $NF_{IF}  = 6 dB$  y  $G_{IF}= 40 dB$\n",
    "\n",
    "### Cifra de ruido\n",
    "\n",
    "$F_t = F_{RF} + \\frac{F_{mix1}-1}{G_{RF}} + \\frac{F_{IF1}-1}{G_{RF} G_{mix1}} + \\frac{F_{mix2}-1}{G_{RF}G_{mix1}G_{IF1}}$ \n",
    "\n"
   ]
  },
  {
   "cell_type": "code",
   "execution_count": 8,
   "metadata": {},
   "outputs": [
    {
     "name": "stdout",
     "output_type": "stream",
     "text": [
      "$$Grf = 284.09$$\n",
      "$$Grf = 24.53dB$$\n",
      "$$Ft  = 2.04$$\n",
      "$$NFt = 3.09dB$$\n",
      "5.52e-16\n",
      "1.1246644994295441e-13\n",
      "$$Vi = 2.37e-06$$\n"
     ]
    }
   ],
   "source": [
    "#Grf  = 25\n",
    "\n",
    "Grf = (Av**2 * rg/rl)\n",
    "\n",
    "NFrf  = 3 \n",
    "\n",
    "Gmix1d = 0\n",
    "NFmix1= 10\n",
    "\n",
    "Gif1d  = 40\n",
    "NFif1 = 6\n",
    "\n",
    "\n",
    "print('$$Grf = {:1.2f}$$'.format(Grf))\n",
    "print('$$Grf = {:1.2f}dB$$'.format(10*np.log10(Grf) ))\n",
    "Frf   = 10**(NFrf /10)\n",
    "\n",
    "Frf   = 10**(NFrf  /10)\n",
    "Fmix1 = 10**(NFmix1 /10)\n",
    "Fif1  = 10**(NFif1  /10)\n",
    "\n",
    "\n",
    "Gmix1 = 10**(Gmix1d /10)\n",
    "Gif1  = 10**(Gif1d  /10)\n",
    "\n",
    "\n",
    "Ft = Frf + (Fmix1 -1)/(Grf) + (Fif1 -1)/(Grf*Gmix1)\n",
    "\n",
    "print('$$Ft  = {:1.2f}$$'.format(Ft))\n",
    "print('$$NFt = {:1.2f}dB$$'.format(10*np.log10(Ft) ))\n",
    "\n",
    "\n",
    "Tant = 400\n",
    "BEN  = 100e3\n",
    "\n",
    "SNRod = 20\n",
    "\n",
    "SNRo = 10**(SNRod/10)\n",
    "\n",
    "SNRi = Ft * SNRo\n",
    "\n",
    "Ni    = 1.38e-23 * Tant * BEN\n",
    "print(Ni)\n",
    "Si    = SNRi * Ni\n",
    "print(Si)\n",
    "Vi    = (Si*rg)**0.5 \n",
    "print('$$Vi = {:1.2e}$$'.format(Vi))"
   ]
  },
  {
   "cell_type": "markdown",
   "metadata": {},
   "source": [
    "\n",
    "\n",
    "## 7. (1 punto) Se elimina el DS subacoplado y se lo reemplaza por un acoplador aperiódico que mantiene la adaptación de impedancias en banda ancha ($V_{g2}= 5Vdc$): determinar el nuevo ancho de banda               \n",
    "\n",
    "$A(\\chi) = \\frac{j gm M w_o Q^2  }{(1+j(\\chi+h))(1+j(\\chi-h)) }$ \n",
    "\n",
    "$A(\\chi_o) = \\frac{j gm M w_o Q^2  }{(1+j(h))(1+j(h)) } = \\frac{j gm M w_o Q^2  }{(1+h^2) }$ \n",
    "\n",
    "$\\bar{A}(\\chi) = \\frac{A(\\chi)}{A(\\chi_o)} = \\frac{1+h^2 }{ (1+j(\\chi+h))(1+j(\\chi-h)) }$ \n",
    "\n",
    "\n",
    "$| \\bar{A}(\\chi) | =  \\frac{1+h^2 }{\\sqrt{\\chi^4+2\\chi^2(1-h^2)+(1+h^2)^2} } = \\frac{1}{\\sqrt{2}}$ \n",
    "\n",
    "\n",
    "$| \\bar{A}(\\chi) | =  \\frac{(1+h^2)^2 }{\\chi^4+2\\chi^2(1-h^2)+(1+h^2)^2}  = \\frac{1}{2}$ \n",
    "\n",
    "$\\chi^4+2\\chi^2(1-h^2)+(1+h^2)^2 = 2 \\cdot (1+h^2)^2$\n",
    "\n",
    "$\\chi^4+2\\chi^2(1-h^2) =  (1+h^2)^2$\n",
    "\n",
    "$\\chi^4+2\\chi^2(1-h^2)   - (1+h^2)^2 = 0$\n",
    "\n",
    "\n",
    "$x = \\frac{-b + \\sqrt{b^2- 4 \\cdot a \\cdot c}}{2 \\cdot a}$\n",
    "\n",
    "$\\chi = \\sqrt{x}$\n",
    "\n",
    "$\\frac{BW}{2} = \\frac{\\chi \\cdot fo }{2 \\cdot Q}$\n"
   ]
  },
  {
   "cell_type": "code",
   "execution_count": 9,
   "metadata": {},
   "outputs": [
    {
     "name": "stdout",
     "output_type": "stream",
     "text": [
      "X1 =  13.19\n",
      "X2 =  nan\n",
      "3.632011594894805\n",
      "BW =  1.39 MHz\n"
     ]
    },
    {
     "name": "stderr",
     "output_type": "stream",
     "text": [
      "/home/aalmela/anaconda3/lib/python3.7/site-packages/ipykernel_launcher.py:4: RuntimeWarning: invalid value encountered in double_scalars\n",
      "  after removing the cwd from sys.path.\n"
     ]
    }
   ],
   "source": [
    "def Solve_cuad(a,b,c):\n",
    "    d = b**2-4*a*c\n",
    "    x1 = (-b+ (b**2-4*a*c)**0.5 )/(2*a)\n",
    "    x2 = (-b+ (b**2+4*a*c)**0.5 )/(2*a)\n",
    "    return x1 ,x2\n",
    "\n",
    "\n",
    "c = -1*(1+h2**2)**2\n",
    "b =  2*(1-h2**2)\n",
    "a =  1\n",
    "\n",
    "x1, x2 = Solve_cuad(a,b,c)\n",
    "\n",
    "\n",
    "print('X1 =  {:1.2f}'.format(x1))\n",
    "print('X2 =  {:1.2f}'.format(x2))\n",
    "\n",
    "X  = (  (x1))**0.5\n",
    "print(X) \n",
    "\n",
    "BW = X*fo/(Q2)\n",
    "print('BW =  {:1.2f} MHz'.format(BW/1e6))\n"
   ]
  },
  {
   "cell_type": "markdown",
   "metadata": {},
   "source": [
    "## 8. (1 punto) Determinar el riple en banda de paso.   \n",
    "\n",
    "$A(\\chi) = \\frac{j gm M w_o Q^2  }{(1+j(\\chi+h))(1+j(\\chi-h)) }$ \n",
    "\n",
    "$A(\\chi_o) = \\frac{j gm M w_o Q^2  }{(1+j(h))(1+j(h)) } = \\frac{j gm M w_o Q^2  }{(1+h^2) }$ \n",
    "\n",
    "$\\bar{A}(\\chi) = \\frac{A(\\chi)}{A(\\chi_o)} = \\frac{1+h^2 }{ (1+j(\\chi+h))(1+j(\\chi-h)) }$ \n",
    "\n",
    "\n",
    "$| \\bar{A}(\\chi) | =  \\frac{1+h^2 }{\\sqrt{\\chi^4+2\\chi^2(1-h^2)+(1+h^2)^2} } = \\frac{1}{\\sqrt{2}}$ \n",
    "\n",
    "\n",
    "$| \\bar{A}(\\chi) | =  \\frac{(1+h^2)^2 }{\\chi^4+2\\chi^2(1-h^2)+(1+h^2)^2}  = \\frac{1}{2}$ \n",
    "\n",
    "Buscamos los máximo y minimos de la transferencia:\n",
    "\n",
    "$\\frac{d}{d\\chi} (\\chi^4+2\\chi^2(1-h^2)+(1+h^2)^2)= 0$ \n",
    "\n",
    "\n",
    "$4 \\chi^3 + 4\\chi(1-h^2) = 0$ \n",
    "\n",
    "$\\chi = 0$\n",
    "\n",
    "$4 \\chi^2 = - 4 (1-h^2)$ \n",
    "\n",
    "$\\chi^2  = h^2 - 1$ \n",
    "\n",
    "$\\chi^2  = h^2 - 1 =  4.8$ \n",
    "\n",
    "$\\chi   = 2.192$ \n",
    "\n",
    "$| \\bar{A}(\\chi) | =  \\frac{(1+h^2)^2 }{\\chi^4+2\\chi^2(1-h^2)+(1+h^2)^2}$\n",
    "\n",
    "Tranferencia $\\chi = 0$:  \n",
    "\n",
    "$| \\bar{A}(\\chi= 0) | =  \\frac{1+(2.41)^2 }{\\sqrt{0^4+2\\cdot 0^2 \\cdot (1-(2.41)^2)+(1+(2.41)^2)^2} }$ \n",
    "\n",
    "$| \\bar{A}(\\chi= 0) | =  \\frac{1+(2.41)^2 }{(1+(2.41)^2)} = 1$ \n",
    "\n",
    "Tranferencia $\\chi = 2.192$:  \n",
    "\n",
    "$| \\bar{A}(\\chi= 0) | =  \\frac{1+(2.41)^2 }{\\sqrt{2.192^4+2\\cdot 2.192^2 \\cdot (1-(2.41)^2)+(1+(2.41)^2)^2} } = 1.412$ \n",
    "\n",
    "\n"
   ]
  },
  {
   "cell_type": "code",
   "execution_count": 10,
   "metadata": {},
   "outputs": [
    {
     "name": "stdout",
     "output_type": "stream",
     "text": [
      "Xmin =  0.00e+00\n",
      "Xmax =  2.20e+00\n",
      "Amin =  1.00e+00\n",
      "Amax =  1.41e+00\n"
     ]
    }
   ],
   "source": [
    "def ADS(X,h):\n",
    "    return (1+h**2)/(X**4+2*X**2*(1-h**2)+(1+h**2)**2)**0.5\n",
    "\n",
    "\n",
    "Xmin = 0 \n",
    "\n",
    "Xmax = (h2**2-1)**0.5\n",
    "\n",
    "print('Xmin =  {:1.2e}'.format(Xmin))\n",
    "\n",
    "print('Xmax =  {:1.2e}'.format(Xmax))\n",
    "\n",
    "Amin = ADS(Xmin,h2)\n",
    "\n",
    "Amax = ADS(Xmax,h2)\n",
    "\n",
    "print('Amin =  {:1.2e}'.format(Amin))\n",
    "\n",
    "print('Amax =  {:1.2e}'.format(Amax))"
   ]
  },
  {
   "cell_type": "markdown",
   "metadata": {},
   "source": [
    "## 9. (2 puntos) Considerando que $Y_{12g1}$ está dada por una capacidad de $C=0.01\\,pf$, determinar el máximo valor de $V_{g2}$ que permite que el circuito sea estable.                                        \n",
    "\n",
    "\n",
    "$$|y_{12} y_{21}|+\\Re{(y_{12} y_{21})}$$\n",
    "\n",
    "$$|y_{12} y_{21}| = |y_{12}| |y_{21}|$$ \n",
    "\n",
    "\n",
    "$$\\Re{(y_{12} y_{21})} = \\Re{((g_{21}+j b_{21}) (j b_{12})}$$\n",
    "\n",
    "$$\\Re{((g_{21}+j b_{21}) (j b_{21})} =- b_{21} b_{12}$$\n",
    "\n",
    "$$b_{21} = gm sen(\\theta)$$\n",
    "\n",
    "$$\\Re{((g_{21}+j b_{21}) (j b_{21})} = - gm sen(\\theta) b_{12}$$\n",
    "\n",
    "$$|y_{12} y_{21}|+\\Re{(y_{12} y_{21})} = gm b_{12} - gm sen(\\theta) b_{12}$$\n",
    "\n",
    "$$|y_{12} y_{21}|+\\Re{(y_{12} y_{21})} = gm (b_{12} - sen(\\theta) b_{12})$$\n"
   ]
  },
  {
   "cell_type": "code",
   "execution_count": 11,
   "metadata": {},
   "outputs": [
    {
     "name": "stdout",
     "output_type": "stream",
     "text": [
      "9.424777960769379e-06\n",
      "0.00042441318157838764\n",
      "0.42441318157838764\n"
     ]
    }
   ],
   "source": [
    "def gmTranf(gm):\n",
    "    if gm <= 1e-3: Vo = gm/1e-3\n",
    "    else         : Vo = (gm - 1e-3)*4/9e-3 + 1 \n",
    "    return Vo\n",
    "\n",
    "fo = 100e6\n",
    "wo = 2*np.pi*fo\n",
    "c = 0.01e-12\n",
    "# Parametros del transistor 100 MHz\n",
    "y11 =   10e-6 \n",
    "y12 =   1j*wo*c\n",
    "y22 =   50e-6 \n",
    "y21th = -30*np.pi/180\n",
    "\n",
    "##y21 =  ?? \n",
    "#K = (2*(y11.real)*(y22.real)) / (abs(y12*y21)+(y12*y21).real)\n",
    "\n",
    "\n",
    "gm = (2*(y11.real*2)*(y22.real*2)) / (abs(y12)* (1-np.sin(y21th)) )\n",
    "print( (abs(y12)* (1-np.sin(y21th)) ))\n",
    "\n",
    "print(gm)\n",
    "\n",
    "\n",
    "\n",
    "print(gmTranf(gm))"
   ]
  },
  {
   "cell_type": "code",
   "execution_count": null,
   "metadata": {},
   "outputs": [],
   "source": []
  },
  {
   "cell_type": "code",
   "execution_count": 12,
   "metadata": {},
   "outputs": [
    {
     "name": "stdout",
     "output_type": "stream",
     "text": [
      "$$Q_1= 108.239$$\n",
      "$$k_1 = 0.004$$\n",
      "$$h_1 = 0.414$$\n",
      "$$Q_2= 261.313$$\n",
      "$$k_2 = 0.009$$\n",
      "$$h_2 = 2.414$$\n"
     ]
    }
   ],
   "source": [
    "import numpy as np\n",
    "\n",
    "# Parametros del transistor \n",
    "r11   =   1/10e-6 \n",
    "r22   =   1/50e-6 \n",
    "gm    = 10e-3 \n",
    "rg    =   50\n",
    "rgate = 10e3\n",
    "rl    =   1e3\n",
    "Qo = np.inf\n",
    "\n",
    "# Calculos auxiliares\n",
    "####### 1\n",
    "BW = 1e6\n",
    "fo = 100e6\n",
    "wo = (2*np.pi*fo)\n",
    "\n",
    "# Doble entrada \n",
    "ang = 360/8\n",
    "\n",
    "Q2 = fo/(BW*np.sin((ang/2)*np.pi/180))\n",
    "\n",
    "k2 = (BW*np.cos((ang/2)*np.pi/180))/fo\n",
    "\n",
    "h2 = Q2 * k2\n",
    "\n",
    "\n",
    "Q1 = fo/(BW*np.sin((ang*3/2)*np.pi/180))\n",
    "\n",
    "k1 = (BW*np.cos((ang*3/2)*np.pi/180))/fo\n",
    "\n",
    "h1 = k1 * Q1\n",
    "\n",
    "print('$$Q_1= {:1.3f}$$'.format(Q1))\n",
    "\n",
    "print('$$k_1 = {:1.3f}$$'.format(k1))\n",
    "\n",
    "print('$$h_1 = {:1.3f}$$'.format(h1))\n",
    "\n",
    "\n",
    "\n",
    "print('$$Q_2= {:1.3f}$$'.format(Q2))\n",
    "\n",
    "print('$$k_2 = {:1.3f}$$'.format(k2))\n",
    "\n",
    "print('$$h_2 = {:1.3f}$$'.format(h2))\n",
    "\n"
   ]
  },
  {
   "cell_type": "code",
   "execution_count": null,
   "metadata": {},
   "outputs": [],
   "source": []
  },
  {
   "cell_type": "code",
   "execution_count": 13,
   "metadata": {},
   "outputs": [
    {
     "name": "stdout",
     "output_type": "stream",
     "text": [
      "$$Av1  = 4.767$$\n",
      "$$Av2  = 15.811$$\n",
      "$$Av  = 75.378$$\n"
     ]
    }
   ],
   "source": [
    "v1ig = (1/rg)*(L1*L2)**0.5*wo*Q1*(h1/(1+h1**2))\n",
    "print('$$Av1  = {:1.3f}$$'.format(v1ig))\n",
    "\n",
    "vov1 = gm*(L3*L4)**0.5*wo*Q2*(h2/(1+h2**2))\n",
    "print('$$Av2  = {:1.3f}$$'.format(vov1))\n",
    "\n",
    "Av = v1ig*vov1\n",
    "print('$$Av  = {:1.3f}$$'.format(Av))"
   ]
  },
  {
   "cell_type": "code",
   "execution_count": null,
   "metadata": {},
   "outputs": [],
   "source": []
  },
  {
   "cell_type": "code",
   "execution_count": null,
   "metadata": {},
   "outputs": [],
   "source": []
  },
  {
   "cell_type": "code",
   "execution_count": null,
   "metadata": {},
   "outputs": [],
   "source": []
  }
 ],
 "metadata": {
  "kernelspec": {
   "display_name": "Python 3",
   "language": "python",
   "name": "python3"
  },
  "language_info": {
   "codemirror_mode": {
    "name": "ipython",
    "version": 3
   },
   "file_extension": ".py",
   "mimetype": "text/x-python",
   "name": "python",
   "nbconvert_exporter": "python",
   "pygments_lexer": "ipython3",
   "version": "3.7.0"
  }
 },
 "nbformat": 4,
 "nbformat_minor": 2
}

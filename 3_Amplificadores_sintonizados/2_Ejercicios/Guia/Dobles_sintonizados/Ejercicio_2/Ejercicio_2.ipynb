{
 "cells": [
  {
   "cell_type": "markdown",
   "metadata": {},
   "source": [
    "El circuito de la figura es el amplificador de FI de un receptor superheterodino que opera en frecuencia central $f_o = 455 KHz$.\n",
    "\n",
    "![1-cuatrocientos](fig/ejercicio2.png)\n",
    "\n",
    "El elemento activo es lineal y sus parámetros, constantes dentro de toda la banda de interés, son:\n",
    "\n",
    "\n",
    "$Y_{11} = (1 + j0) mS$\t\n",
    "\n",
    "$Y_{22} = (0,1 + j0) mS$\n",
    "\n",
    "$|Y_{21}| = 0,1 S$\n",
    "\n",
    "$Y_{12} = 0 mS$\n",
    "\n",
    "\n",
    "La señal $V_g$ es una portadora senoidal con $f_c = 455 KHz$ modulada en amplitud por un tono puro de audio con índice de modulación $m_i=0,5$.\n",
    "\n",
    "La impedancia del generador es totalmente resistiva y su valor es de $R_{g}= 100 \\Omega$.\n",
    "\n",
    "La impedancia de carga es totalmente resistiva y su valor es de $R_{L}= 50 \\Omega$.\n",
    "\n",
    "Todas las bobinas poseen la misma inductancia, tiene N espiras y $Q_{oL} = \\infty$\n",
    "\n",
    "Ambos Dobles Sintonizados están sobre-acoplados y con misma $f_o$, $k$ y $Q_c$.\n",
    "\n",
    "El segundo doble sintonizado se realiza empleando un acople capacitivo con acoplamiento $k = \\frac {C5}{\\sqrt{C4 C6}}$ \n",
    "\n",
    "Manteniéndose constantes $f_c$, $V_g$ y $m_i$ se barre la frecuencia del tono de senoidal modulante $f_m$ desde $1KHz$ hasta $5 KHz$ lo que arrojó los siguientes resultados:\n",
    "\n",
    "$m_o = 0,83$ para $f_m = 2 KHz$.\n",
    "\n",
    "$m_o = 0,91$ para $f_m = 4 KHz$.\n"
   ]
  },
  {
   "cell_type": "markdown",
   "metadata": {},
   "source": [
    "Determinar:\n",
    "\n",
    "   1. Los valores de Q y k con que operan ambos Doble Sintonizados.\n",
    "   2.  Los valores para L, M, (N2/N) y (N3/N).\n",
    "   3.  C1, C2, C3, C4, C5, C6.\n",
    "   4.  $\\mid A \\mid = \\mid \\frac {Vo}{Vg} \\mid$ a la frecuencia de portadora $f_c = 455 KHz$.\n",
    "   5.  El valor de $f_m$ que produce $m_o$ máximo y el $m_o$ máximo (medido antes del detector como relación entre los niveles de portadora y bandas laterales) \n",
    "   6.  La etapa siguiente es un detector de envolvente absolutamente lineal, sin ninguna distorsión, que opera con un Rendimiento de Detección= 90\\% recuperando en forma instantánea un valor de continua proporcional al módulo de cada ciclo de la señal de entrada. Despreciando el  ripple de $f_c$ en la señal recuperada encontrar el valor de la tensión de la señal demodulada para $f_m$ del ítem 4 si el valor pico de la portadora es 1V.\n",
    "   7.  En las condiciones del item anterior encontrar la distorsión de la señal recuperada definida como $THD = \\frac{P_{Eff}-P_{Fund}}{P_{Fund}}$. Considerar que el ancho de banda desde el detector hasta el parlante es suficiente como para mantener la forma de la señal demodulada idéntica a la de la envolvente de RF.\n",
    "   8.  Ganancia de Transducción a 455 KHz ($AT = \\frac{ P_{RL} }{P_{dis}}$)\n",
    "   9.  Proponga un circuito de polarización para el componente activo.\n",
    "   Suponga se realizan los siguientes cambios en el circuito:\n",
    "    \n",
    "   10. Se desconecta el capacitor C6.\n",
    "   11.  Se cortocircuita el capacitor C5. \n",
    "   12.  Se desconecta el inductor L en paralelo con el capacitor C4.\n",
    "\n",
    "Luego considerando que los inductores pueden tener una inductancia distinta entre sí, encuentre los valores de los componentes tal que la transferencia de tensión del amplificador posea máxima planicidad en la banda de paso, ¿Es posible obtenible una transferencia con aproximación Butterworth?. \n",
    "    \n",
    "Obtenga el diagrama de polos y ceros de la transferencia.\n"
   ]
  }
 ],
 "metadata": {
  "kernelspec": {
   "display_name": "Python 3",
   "language": "python",
   "name": "python3"
  },
  "language_info": {
   "codemirror_mode": {
    "name": "ipython",
    "version": 3
   },
   "file_extension": ".py",
   "mimetype": "text/x-python",
   "name": "python",
   "nbconvert_exporter": "python",
   "pygments_lexer": "ipython3",
   "version": "3.7.0"
  },
  "latex_envs": {
   "LaTeX_envs_menu_present": true,
   "autoclose": false,
   "autocomplete": true,
   "bibliofile": "biblio.bib",
   "cite_by": "apalike",
   "current_citInitial": 1,
   "eqLabelWithNumbers": true,
   "eqNumInitial": 1,
   "hotkeys": {
    "equation": "Ctrl-E",
    "itemize": "Ctrl-I"
   },
   "labels_anchors": false,
   "latex_user_defs": false,
   "report_style_numbering": false,
   "user_envs_cfg": false
  }
 },
 "nbformat": 4,
 "nbformat_minor": 2
}

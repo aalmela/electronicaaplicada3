{
 "cells": [
  {
   "cell_type": "markdown",
   "metadata": {},
   "source": [
    "# Ejercicio 2\n",
    "\n",
    "El circuito de la figura corresponde al circuito equivalente simplificado de la primer etapa de frecuencia intermedia de un receptor de RF. \n",
    "\n",
    "La frecuencia intermedia esta sintonizada a $f_o = 10 MHz$. Se busca que el ancho de banda sea de $BW = 200 KHz$.\n",
    "\n",
    "Los canales adyacentes se encuentran a $f_{ca} = f_o \\pm 500 KHz$.\n",
    "\n",
    "Suponer que los inductores tienen un $Q_o = 100$. \n",
    "\n",
    "Se busca que el $Q_{c2} = 4 Q_{c1}$, ambos son simple sintonizados sincronicos. \n",
    "\n",
    "La fuente tiene una potencia disponible $P_{disp}= 1 \\mu W$.\n",
    "\n",
    "\n",
    "![ejemplo2g-cuatrocientos](fig/ejercicio2g.png)\n",
    "\n",
    "\n",
    "Donde: $g_{11} = 1 mS$, $g_{22} = 0.1 mS$ y $g_m = 100 mS$\n",
    "\n",
    "Diseñar para máxima transferencia de energía a Q constante, para ambos sintonizados:\n",
    "\n",
    "1. $Q_{c}$\n",
    "\n",
    "2. $r_g$\n",
    "\n",
    "3. $L_1$\n",
    "\n",
    "4. $C_1$\n",
    "\n",
    "5. $R_L$\n",
    "\n",
    "6. $L_2$\n",
    "\n",
    "7. $C_2$\n",
    "\n",
    "8. $A_{r_o} = \\frac{v_o}{i_g}$\n",
    "\n",
    "9. $|A_{r_o}(8 MHz)|$ \n",
    "\n",
    "10. $|A_{r_o}(9.5 MHz)|$ \n",
    "\n",
    "11. $|A_{r_o}(10.5 MHz)|$ \n",
    "\n",
    "12. $P_{R_L}$ \n",
    "\n",
    "\n"
   ]
  },
  {
   "cell_type": "markdown",
   "metadata": {},
   "source": [
    "1. $Q_{c}$\n",
    "\n",
    "$f_c$ frecuencia de corte\n",
    "\n",
    "$$|\\bar{A_v}| =  \\frac{1}{\\sqrt{1 + Q_{c1}^2(\\frac{f_c}{f_o}-\\frac{ f_o}{f_c})^2}} \\cdot \n",
    "                 \\frac{1}{\\sqrt{1 + Q_{c2}^2(\\frac{f_c}{f_o}-\\frac{ f_o}{f_c})^2}}$$\n",
    "                 \n",
    "$$|\\bar{A_v}|(f_c) =  \\frac{1}{\\sqrt{1 + Q_{c1}^2(\\frac{f_c}{f_o}-\\frac{ f_o}{f_c})^2}} \\cdot \n",
    "                 \\frac{1}{\\sqrt{1 + Q_{c2}^2(\\frac{f_c}{f_o}-\\frac{ f_o}{f_c})^2}} = \\frac{1}{\\sqrt{2}}$$\n",
    "                 \n",
    "$$\\frac{1}{\\sqrt{1 + Q_{c1}^2(\\frac{f_c}{f_o}-\\frac{ f_o}{f_c})^2}} \\cdot \n",
    "                 \\frac{1}{\\sqrt{1 + 16 Q_{c1}^2(\\frac{f}{f_o}-\\frac{ f_o}{f_c})^2}}= \\frac{1}{\\sqrt{2}}$$                 \n",
    "\n",
    "$$\\sqrt{1 + Q_{c1}^2(\\frac{f_c}{f_o}-\\frac{ f_o}{f_c})^2} \\cdot \n",
    "                 \\sqrt{1 + 16 Q_{c1}^2(\\frac{f_c}{f_o}-\\frac{ f_o}{f_c})^2}= \\sqrt{2}$$                 \n",
    "\n",
    "\n",
    "$$(1 + Q_{c1}^2(\\frac{f_c}{f_o}-\\frac{ f_o}{f_c})^2) \\cdot \n",
    "                 (1 + 16 Q_{c1}^2(\\frac{f_c}{f_o}-\\frac{ f_o}{f_c})^2)= 2$$ \n",
    "                 \n",
    "$$1 + 17 Q_{c1}^2 (\\frac{f_c}{f_o}-\\frac{ f_o}{f_c})^2 + 16 Q_{c1}^4(\\frac{f_c}{f_o}-\\frac{ f_o}{f_c})^4= 2$$  \n",
    "\n",
    "$$-1 + 17 Q_{c1}^2 (\\frac{f_c}{f_o}-\\frac{ f_o}{f_c})^2 + 16 Q_{c1}^4(\\frac{f_c}{f_o}-\\frac{ f_o}{f_c})^4= 0$$ \n",
    "\n",
    "$$Q_{c1}  =  11.82$$\n",
    "\n",
    "$$Q_{c2}  =  23.64$$"
   ]
  },
  {
   "cell_type": "markdown",
   "metadata": {},
   "source": [
    "2. $r_g$\n",
    "\n",
    "$$r_{11} = \\frac{1}{g_{11}} = 1K\\Omega$$\n",
    "\n",
    "Para máxima transferencia de energía a Q constante  \n",
    "\n",
    "$$r_g = r_{11} = 1K\\Omega$$\n",
    "\n",
    "\n"
   ]
  },
  {
   "cell_type": "markdown",
   "metadata": {},
   "source": [
    "3. $L_1$\n",
    "\n",
    "A partir de $Q_{c1}$ es posible encontrar el inductor mediante la expresión\n",
    "\n",
    "$$\\frac{1}{Q_{c1}} =  \\frac{1}{Q_o} + \\frac{\\omega L_1}{r_{ext1}}$$\n",
    "\n",
    "donde $r_{ext1} = \\frac{r_{11} r_g }{ r_{1}+  r_g} =  500\\Omega$\n",
    "\n",
    "$$\\omega_o L_1 = r_{ext1} (\\frac{1}{Q_{c1}} -  \\frac{1}{Q_o})$$\n",
    "\n",
    "$$\\omega_o L_1 = 500\\Omega (\\frac{1}{11.82} -  \\frac{1}{100})$$\n",
    "\n",
    "\n",
    "El inductor $L_1 =  593.671   nHy$\n",
    "\n"
   ]
  },
  {
   "cell_type": "markdown",
   "metadata": {},
   "source": [
    "4. $C_1$\n",
    "\n",
    "El capacitor $C_1$\n",
    "\n",
    "$$C_1 = \\frac{1}{L_1 \\omega_o^2}$$\n",
    "\n",
    "$$C_1 =    426.672 pF $$\n",
    "\n",
    "\n"
   ]
  },
  {
   "cell_type": "markdown",
   "metadata": {},
   "source": [
    "5. $R_L$\n",
    "\n",
    "$$r_{22} = \\frac{1}{g_{22}} = 10K\\Omega$$\n",
    "\n",
    "Para máxima transferencia de energía a Q constante  \n",
    "\n",
    "$$R_L = r_{22} = 10K\\Omega$$\n",
    "\n"
   ]
  },
  {
   "cell_type": "markdown",
   "metadata": {},
   "source": [
    "6. $L_2$\n",
    "\n",
    "A partir de $Q_{c2}$ es posible encontrar el inductor mediante la expresión\n",
    "\n",
    "$$\\frac{1}{Q_{c2}} =  \\frac{1}{Q_o} + \\frac{\\omega L_2}{r_{ext2}}$$\n",
    "\n",
    "donde $r_{ext2} = \\frac{r_{22} R_L }{ r_{22}+  R_L} =  5K\\Omega$\n",
    "\n",
    "$$\\omega_o L_2 = r_{ext2} (\\frac{1}{Q_{c2}} -  \\frac{1}{Q_o})$$\n",
    "\n",
    "$$\\omega_o L_2 = 5K\\Omega (\\frac{1}{23.76} -  \\frac{1}{100})$$\n",
    "\n",
    "\n",
    "El inductor $L_2 =  2553.805   nHy$"
   ]
  },
  {
   "cell_type": "markdown",
   "metadata": {},
   "source": [
    "7. $C_2$\n",
    "\n",
    "El capacitor $C_2$\n",
    "\n",
    "$$C_2 = \\frac{1}{L_2 \\omega_o^2}$$\n",
    "\n",
    "$$C_2 =   99.186 pF$$"
   ]
  },
  {
   "cell_type": "markdown",
   "metadata": {},
   "source": [
    "8. $A_{r_o} = \\frac{v_o}{i_g}$\n",
    "\n",
    "$$A{ro} =  Q_{c1} \\cdot w_o \\cdot L_1 \\cdot abs(y_{21}) \\cdot Q_{c2} \\cdot w_o \\cdot L_2$$\n",
    "\n",
    "$$A_{ro}  =  168076.85$$\n",
    "\n",
    "$$A_{ro}  =  104.510 dB$$"
   ]
  },
  {
   "cell_type": "markdown",
   "metadata": {},
   "source": [
    "8. $|A_{r_o}(8 MHz)|$ \n",
    "\n",
    "9. $|A_{r_o}(9.5 MHz)|$ \n",
    "\n",
    "10. $|A_{r_o}(10.5 MHz)|$ \n",
    "\n",
    "12. $P_{R_L}$ \n"
   ]
  },
  {
   "cell_type": "code",
   "execution_count": 45,
   "metadata": {},
   "outputs": [],
   "source": [
    "import myplot as myp\n",
    "import numpy as np\n",
    "import matplotlib.pyplot as plt\n",
    "\n",
    "def AvF(f,fo,Qc,Avo = 1):\n",
    "    return -Avo/(1+1j*Qc*(f/fo-fo/f))\n",
    "\n",
    "def AvA(f,fo,Qc,Avo = 1):\n",
    "    X = 2*Qc*(f-fo)/fo\n",
    "    return -Avo/(1+1j*X)\n",
    "\n",
    "\n",
    "# Datos para los calculos \n",
    "Pdisp = 1e-6 \n",
    "\n",
    "fo    = 10e6\n",
    "wo    = 2*np.pi*fo\n",
    "\n",
    "r11   = 1/1e-3\n",
    "g21    = 0.1\n",
    "\n",
    "b21    = 0\n",
    "\n",
    "r22   = 1/0.10e-3\n",
    "\n",
    "Qo    = 100\n",
    "BW    = 200e3\n",
    "\n"
   ]
  },
  {
   "cell_type": "code",
   "execution_count": 46,
   "metadata": {},
   "outputs": [
    {
     "name": "stdout",
     "output_type": "stream",
     "text": [
      "0.23639838118470266 (6.475545607641622e-17+1.0575368526092828j)\n",
      "Qc1  =  11.82\n",
      "Qc2  =  23.64\n",
      "11.878724626694007 (3.2538811262278767e-15+53.13991149927237j)\n",
      "Qc1  =  11.82\n",
      "Qc2  =  23.76\n"
     ]
    }
   ],
   "source": [
    "# 1. Aproximacion banda angosta\n",
    "#(1+X1**2)**0.5*(1+X2**2)**0.5 = 2**0.5\n",
    "#(1+X1**2)*(1+(n*X1)**2) = 2\n",
    "#((1+X1**2)+(1+X1**2)*(n*X1)**2) = 2\n",
    "#(1+X1**2+(n*X1)**2+n**2*X1**4) = 2\n",
    "#(1+(1+n**2)*X1**2+2**2*X1**4) = 2\n",
    "a = 4**2\n",
    "b = 4**2+1\n",
    "c = -1\n",
    "\n",
    "X1a = ((-b+(b**2-4*a*c)**0.5)/(2*a))**0.5\n",
    "\n",
    "X1b = ((-b-(b**2-4*a*c)**0.5)/(2*a))**0.5\n",
    "\n",
    "print(X1a,X1b)\n",
    "\n",
    "Qc1 = X1a*fo/2/(BW/2)\n",
    "Qc2 = Qc1*2\n",
    "print('Qc1  =  {:1.2f}'.format(Qc1))\n",
    "print('Qc2  =  {:1.2f}'.format(Qc2))\n",
    "\n",
    "\n",
    "# 1. \n",
    "n = 4\n",
    "d = (fo+BW/2)/fo-fo/(fo+BW/2)\n",
    "# (1+(Q1*d)**2)*(1+(Q2*d)**2) = 2\n",
    "# (1+(Q1*d)**2)*(1+(n*Q1*d)**2) = 2\n",
    "# (1+(Q1*d)**2) + (1+(Q1*d)**2) *(n*Q1*d)**2 = 2\n",
    "# (1+(Q1*d)**2) + ((n*Q1*d)**2 +(Q1*d)**4 *n**2 = 2\n",
    "# (1+(Q1*d)**2 (1+n**2) +(Q1*d)**4 *n**2 = 2\n",
    "a = d**4*n**2\n",
    "b = d**2*(n**2+1)\n",
    "c = -1\n",
    "\n",
    "Qc1a = ((-b+(b**2-4*a*c)**0.5)/(2*a))**0.5\n",
    "\n",
    "Qc1b = ((-b-(b**2-4*a*c)**0.5)/(2*a))**0.5\n",
    "\n",
    "print(Qc1a,Qc1b)\n",
    "\n",
    "\n",
    "Qc2 = Qc1a*2\n",
    "\n",
    "print('Qc1  =  {:1.2f}'.format(Qc1))\n",
    "print('Qc2  =  {:1.2f}'.format(Qc2))"
   ]
  },
  {
   "cell_type": "code",
   "execution_count": 47,
   "metadata": {},
   "outputs": [
    {
     "name": "stdout",
     "output_type": "stream",
     "text": [
      "rg  =  1000.00 ohm\n",
      "L1  =  593.671 nHy\n",
      "C1  =  426.672 pF\n"
     ]
    }
   ],
   "source": [
    "rg    = r11 \n",
    "print('rg  =  {:1.2f} ohm'.format(rg))\n",
    "\n",
    "rext1 = r11*rg / (r11+rg)\n",
    "L1    = rext1*(1/Qc1-1/Qo)/wo\n",
    "print('L1  =  {:1.3f} nHy'.format(L1/1e-9))\n",
    "\n",
    "\n",
    "C1 = 1/(wo**2*L1)\n",
    "print('C1  =  {:1.3f} pF'.format(C1/1e-12))"
   ]
  },
  {
   "cell_type": "code",
   "execution_count": 48,
   "metadata": {},
   "outputs": [
    {
     "name": "stdout",
     "output_type": "stream",
     "text": [
      "RL  =  10000.00 ohm\n",
      "L2  =  2553.805 nHy\n",
      "C2  =  99.186 pF\n"
     ]
    }
   ],
   "source": [
    "RL    = r22 \n",
    "print('RL  =  {:1.2f} ohm'.format(RL))\n",
    "\n",
    "\n",
    "rext2 = r22*RL / (r22+RL)\n",
    "L2    = rext2*(1/Qc2-1/Qo)/wo\n",
    "print('L2  =  {:1.3f} nHy'.format(L2/1e-9))\n",
    "\n",
    "C2 = 1/(wo**2*L2)\n",
    "print('C2  =  {:1.3f} pF'.format(C2/1e-12))"
   ]
  },
  {
   "cell_type": "code",
   "execution_count": 49,
   "metadata": {},
   "outputs": [
    {
     "name": "stdout",
     "output_type": "stream",
     "text": [
      "Aro  =  168076.857\n",
      "Aro  =  104.510 dB\n"
     ]
    }
   ],
   "source": [
    "rp1 = Qo * wo * L1\n",
    "rp2 = Qo * wo * L2\n",
    "\n",
    "Aro =  Qc1 * wo*L1 * g21 * Qc2 * wo*L2\n",
    "\n",
    "print('Aro  =  {:1.3f}'.format(Aro))\n",
    "\n",
    "print('Aro  =  {:1.3f} dB'.format(20*np.log10(Aro)))\n",
    "\n",
    "\n"
   ]
  },
  {
   "cell_type": "code",
   "execution_count": 51,
   "metadata": {},
   "outputs": [
    {
     "name": "stdout",
     "output_type": "stream",
     "text": [
      ".param ig  = 8.944e-05\n",
      ".param rg  = 1000.00\n",
      ".param C1 = 4.27e-10\n",
      ".param L1 = 5.94e-07\n",
      ".param r11 = 1000.00\n",
      ".param g21 = 0.10\n",
      ".param b21 = 0.00\n",
      ".param r22 = 10000.00\n",
      ".param C2 = 9.92e-11\n",
      ".param L2 = 2.55e-06\n",
      ".param RL = 10000.00\n"
     ]
    }
   ],
   "source": [
    "ig = (Pdisp*8/rg)**0.5\n",
    "\n",
    "print('.param ig  = {:1.3e}'.format(ig))\n",
    "print('.param rg  = {:1.2f}'.format(rg))\n",
    "print('.param C1 = {:1.2e}'.format(C1))\n",
    "print('.param L1 = {:1.2e}'.format(L1))\n",
    "print('.param r11 = {:1.2f}'.format(r11))\n",
    "print('.param g21 = {:1.2f}'.format(g21))\n",
    "print('.param b21 = {:1.2f}'.format(b21))\n",
    "print('.param r22 = {:1.2f}'.format(r22))\n",
    "print('.param C2 = {:1.2e}'.format(C2))\n",
    "print('.param L2 = {:1.2e}'.format(L2))\n",
    "\n",
    "print('.param RL = {:1.2f}'.format(RL))\n"
   ]
  },
  {
   "cell_type": "code",
   "execution_count": null,
   "metadata": {},
   "outputs": [],
   "source": []
  }
 ],
 "metadata": {
  "kernelspec": {
   "display_name": "Python 3",
   "language": "python",
   "name": "python3"
  },
  "language_info": {
   "codemirror_mode": {
    "name": "ipython",
    "version": 3
   },
   "file_extension": ".py",
   "mimetype": "text/x-python",
   "name": "python",
   "nbconvert_exporter": "python",
   "pygments_lexer": "ipython3",
   "version": "3.7.0"
  },
  "latex_envs": {
   "LaTeX_envs_menu_present": true,
   "autoclose": false,
   "autocomplete": true,
   "bibliofile": "biblio.bib",
   "cite_by": "apalike",
   "current_citInitial": 1,
   "eqLabelWithNumbers": true,
   "eqNumInitial": 1,
   "hotkeys": {
    "equation": "Ctrl-E",
    "itemize": "Ctrl-I"
   },
   "labels_anchors": false,
   "latex_user_defs": false,
   "report_style_numbering": false,
   "user_envs_cfg": false
  }
 },
 "nbformat": 4,
 "nbformat_minor": 2
}

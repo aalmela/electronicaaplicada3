{
 "cells": [
  {
   "cell_type": "markdown",
   "metadata": {},
   "source": [
    "\n",
    "# Ejercicio 3\n",
    "\n",
    "El circuito de la figura corresponde a un amplificador de RF que opera a $F_o = 3\\,MHz$. \n",
    "\n",
    "Todos los sintonzados estan adaptados a MTE Qcte, son sincronicos. \n",
    "\n",
    "Los inductores son idénticos entre sí, presentan $Q_{oL} = 80$ y ambos están realizados con $N = 100$ espiras.\n",
    "\n",
    "\n",
    "![ejemplo4-cuatrocientos](fig/ejercicio3g.png)\n",
    "\n",
    "Se desea emplear un transistor PN918. Operando con $I_{Cq} = 6 mA$ y $V_{CE} = 10 V$, el transistor posée los siguientes parámetros, que se mantienen constantes en la banda de interes.\n",
    "\n",
    "$Y_{11} = (1.6 + j0.8) mS$\t\n",
    "\n",
    "$Y_{12} = (-0.02-j0.08) mS$\n",
    "\n",
    "$Y_{21} = (100-j20) mS$\n",
    "\n",
    "$Y_{22} = (0.1 + j0.2) mS$    \n",
    "\n",
    "Suponer que $Y_{12} = 0$ \n",
    "\n",
    "Debido a que se desea realizar un ensayo del mismo, el amplificador es conectado a un generador con $z_g = 50 \\Omega$, que entrega una señal de tensión cuadrada simétrica sin componente de DC con $V_{g} = 2 mV_{pp}$ y frecuencia fundamental $f_{c} = 1 MHz$.\n",
    "\n",
    "Un analizador de espectro, conectado sobre $R_L = 1\\,K\\Omega $, barriendo desde $100 KHz$ a $21 MHz$, encuentra que la mayor componente es de $3 MHz$ y esta se encuentra exactamente $60 dB$ por encima de siguiente armónico de mayor amplitud.\n",
    "\n",
    "\n",
    "\n",
    "Determinar:\n",
    "1. Dada la separación entre las componentes de la señal de excitación ¿Es adecuado el empleo de aproximación de Banda angosta? en caso de poderse ¿Cuando no sería adecuado?.\n",
    "\n",
    "2. Los $Q_{c}$ de cada Simple Sintonizado.\n",
    "\n",
    "3. $L_1$ \n",
    "\n",
    "4. $C_1$\n",
    "\n",
    "5. Los valores para $N_1$ y  $N_2$.\n",
    "\n",
    "6. $C_2$ y $C_3$\n",
    "\n",
    "7. Módulo de la componente en tensión de $f = 3 MHz$ sobre la carga $R_L$. \n",
    "\n",
    "8. Módulo de la componente en tensión de $f = 1 MHz$ sobre la carga $R_L$. \n",
    "\n",
    "9. Proponga una red de polarización para el transistor.\n",
    "\n",
    "10. Verificar empleando simuladores.\n"
   ]
  },
  {
   "cell_type": "markdown",
   "metadata": {},
   "source": [
    "Para resolver este ejercicios recordemos el desarrollo de series de fourier de una señal.\n",
    "\n",
    "La serie de Fourier asociada a $x(t)\\,$  de la señal cuadrada de la entrada, cuadrada $2 mVpp$ y $1 MHz$ es:\n",
    "\n",
    "$$x(t) \\sim \\frac{a_0}{2} + \\sum_{k=1}^\\infty\\left[a_k\\cos \\left( \\frac{2\\pi k}{T}t \\right) + b_k\\sin \\left( \\frac{2\\pi k}{T}t \\right) \\right]$$\n",
    "\n",
    "Donde $a_0$, $a_k$ y $b_k$ son los coeficientes de la serie de Fourier que toman los valores:\n",
    "\n",
    "$$a_0 = \\frac{2}{T} \\int_{-\\frac{T}{2}}^{\\frac{T}{2}}  x(t) dt$$\n",
    "\n",
    "$$a_k = \\frac{2}{T} \\int_{-T/2}^{T/2}  x(t) \\cos \\left( \\frac{2 \\pi k}{T} t \\right) dt$$\n",
    "\n",
    "$$b_k = \\frac{2}{T} \\int_{-T/2}^{T/2}  x(t) \\sin \\left(\\frac{2 \\pi  k}{T} t\\right) dt$$\n",
    "\n",
    "\n"
   ]
  },
  {
   "cell_type": "markdown",
   "metadata": {},
   "source": [
    "Luego, tengamos en cuenta las dos condiciones posibles:\n",
    "\n",
    "    . La de mayor amplitud esta en 5 MHz después de la componente de 3 MHz, entonces el circuito debe atenuar 55,56 dB.\n",
    "    \n",
    "    . Si suponemos que la de mayor amplitud esta en 1 MHz, para verificar el resultado anterior. Después de la componente de 3 MHz, entonces el circuito debe atenuar 69,54 dB\n"
   ]
  },
  {
   "cell_type": "markdown",
   "metadata": {},
   "source": [
    "Para resolver este ejercicios recordemos el desarrollo de series de fourier de una señal.\n",
    "\n",
    "La serie de Fourier asociada a $x(t)\\,$  de la señal cuadrada de la entrada, cuadrada $2 mVpp$ y $1 MHz$ es:\n",
    "\n",
    "$$x(t) \\sim \\frac{a_0}{2} + \\sum_{k=1}^\\infty\\left[a_k\\cos \\left( \\frac{2\\pi k}{T}t \\right) + b_k\\sin \\left( \\frac{2\\pi k}{T}t \\right) \\right]$$\n",
    "\n",
    "Donde $a_0$, $a_k$ y $b_k$ son los coeficientes de la serie de Fourier que toman los valores:\n",
    "\n",
    "$$a_0 = 0$$\n",
    "\n",
    "## Calculo de armonicos\n",
    "\n",
    "$$a_k = \\frac{ 2 \\cdot 2mV }{\\pi} \\int_{0}^{\\frac{\\pi}{4}} cos(\\theta \\cdot k) d\\theta$$\n",
    "\n",
    "$$a_k = \\frac{ 2mV }{\\pi}  \\frac{sin(\\theta \\cdot k)}{k} |_{\\frac{-\\pi}{4}}^{\\frac{\\pi}{4}}$$\n",
    "\n",
    "$$a_k = \\frac{ 2 2mV }{\\pi \\cdot k}  sin(\\frac{\\pi k}{4}) $$\n",
    "\n",
    "### 1er armonico\n",
    "\n",
    "$$a_1 = \\frac{2 \\cdot 2mV }{\\pi \\cdot 1}$$\n",
    "\n",
    "$$a_1 = 1.273 mV$$\n",
    "\n",
    "### 2do armonico\n",
    "$$a_2 =  0$$\n",
    "\n",
    "### 3er armonico\n",
    "\n",
    "$$a_3 = \\frac{2 \\cdot 2mV }{\\pi \\cdot 3}$$\n",
    "\n",
    "$$a_3 = -0.424 mV$$\n",
    "\n",
    "### 4to armonico\n",
    "\n",
    "$$a_4 = 0$$\n",
    "\n",
    "### 5to armonico\n",
    "\n",
    "$$a_5 = \\frac{2 \\cdot 2mV }{\\pi \\cdot 5}$$\n",
    "\n",
    "$$a_5 = 0.255 mV$$\n",
    "\n",
    "\n",
    "## Primera suposicion\n",
    "La de mayor amplitud esta en $5 MHz$ después de la componente de $3 MHz$, entonces el circuito debe atenuar $55,56 dB$.\n",
    "\n",
    "La transferencia de un simple sintonizado\n",
    "\n",
    "$|A| = \\frac{1}{\\sqrt{1 +  Q_c^2 (\\frac{f_{img}}{f_o}-\\frac{f_o}{f_{img}})^2 }}$\n"
   ]
  },
  {
   "cell_type": "code",
   "execution_count": 6,
   "metadata": {},
   "outputs": [],
   "source": [
    "import numpy as np\n",
    "from numpy import pi\n",
    "import matplotlib.pyplot as plt\n",
    "import scipy                  # http://scipy.org/\n",
    "from scipy import signal\n",
    "\n",
    "import matplotlib.pyplot as plt\n",
    "import numpy as np\n",
    "\n",
    "from scipy import signal\n",
    "\n",
    "from IPython.display import Image  \n",
    "%matplotlib inline\n",
    "params = {'legend.fontsize': 16,\n",
    "          'figure.figsize': (10, 8),\n",
    "         'axes.labelsize': 16,\n",
    "         'axes.titlesize': 16,\n",
    "         'xtick.labelsize':16,\n",
    "         'ytick.labelsize':16}\n",
    "plt.rcParams.update(params) \n",
    "\n",
    "from scipy.fftpack import fft, fftfreq\n",
    "from time import time"
   ]
  },
  {
   "cell_type": "code",
   "execution_count": 28,
   "metadata": {},
   "outputs": [
    {
     "name": "stdout",
     "output_type": "stream",
     "text": [
      "$$a_1 = 1.273 mV$$\n",
      "$$a_2 = 0.000 mV$$\n",
      "$$a_3 = -0.424 mV$$\n",
      "$$a_4 = -0.000 mV$$\n",
      "$$a_5 = 0.255 mV$$\n"
     ]
    }
   ],
   "source": [
    "# Señal cuadrada\n",
    "def FrSq(n):\n",
    "    return 2*np.sin(n*np.pi/2)/(np.pi*n)\n",
    "\n",
    "A = 2e-3\n",
    "\n",
    "a1 = A*FrSq(1)\n",
    "a2 = A*FrSq(2)\n",
    "a3 = A*FrSq(3)\n",
    "a4 = A*FrSq(4)\n",
    "a5 = A*FrSq(5)\n",
    "\n",
    "print('$$a_1 = {:1.3f} mV$$'.format(a1/1e-3))\n",
    "print('$$a_2 = {:1.3f} mV$$'.format(a2/1e-3))\n",
    "print('$$a_3 = {:1.3f} mV$$'.format(a3/1e-3))\n",
    "print('$$a_4 = {:1.3f} mV$$'.format(a4/1e-3))\n",
    "print('$$a_5 = {:1.3f} mV$$'.format(a5/1e-3))\n",
    "\n"
   ]
  },
  {
   "cell_type": "code",
   "execution_count": 12,
   "metadata": {},
   "outputs": [
    {
     "data": {
      "image/png": "[encoded data removed]",
      "text/plain": [
       "<Figure size 720x576 with 1 Axes>"
      ]
     },
     "metadata": {
      "needs_background": "light"
     },
     "output_type": "display_data"
    }
   ],
   "source": [
    "f  = 1e6     # Hz\n",
    "T  = (1/f)\n",
    "A  = 2e-3\n",
    "\n",
    "fs = f*50    # muestreo\n",
    "dt = 1/(fs)  # Espaciado (puntos por período)\n",
    "\n",
    "# np.linspace( inicio, fin, paso)\n",
    "t  = np.arange(0, T, dt)- T/2  # Intervalo de tiempo en segundos \n",
    "Nt= len(t)\n",
    "\n",
    "y  = signal.square(2*np.pi*f*t+np.pi/2,duty=0.5)   # Señal\n",
    "\n",
    "plt.plot(t, y)\n",
    "plt.plot(t, y, 'ko')\n",
    "plt.xlabel('Tiempo (s)')\n",
    "plt.ylabel('$y(t)$')\n",
    "plt.show()\n"
   ]
  },
  {
   "cell_type": "code",
   "execution_count": 16,
   "metadata": {},
   "outputs": [
    {
     "name": "stderr",
     "output_type": "stream",
     "text": [
      "/home/aalmela/anaconda3/lib/python3.7/site-packages/ipykernel_launcher.py:9: UserWarning: In Matplotlib 3.3 individual lines on a stem plot will be added as a LineCollection instead of individual lines. This significantly improves the performance of a stem plot. To remove this warning and switch to the new behaviour, set the \"use_line_collection\" keyword argument to True.\n",
      "  if __name__ == '__main__':\n"
     ]
    },
    {
     "data": {
      "image/png": "[encoded data removed]",
      "text/plain": [
       "<Figure size 720x576 with 1 Axes>"
      ]
     },
     "metadata": {
      "needs_background": "light"
     },
     "output_type": "display_data"
    }
   ],
   "source": [
    "#start_time = time()\n",
    "Y = fft(y) / len(y)  # Normalizada\n",
    "\n",
    "#elapsed_time = time() - start_time\n",
    "#print(\"Elapsed time: %.10f seconds.\" % elapsed_time)\n",
    "\n",
    "frq  = fftfreq(len(y), dt)  # Recuperamos las frecuencias\n",
    "\n",
    "plt.stem(frq, np.abs(Y)*2 )  # Representamos la parte imaginaria\n",
    "plt.xlim([0,6e6])\n",
    "plt.xlabel('Frecuencia (Hz)')\n",
    "plt.ylabel('Abs($Y$)')\n",
    "plt.grid()\n",
    "plt.show()"
   ]
  },
  {
   "cell_type": "code",
   "execution_count": null,
   "metadata": {},
   "outputs": [],
   "source": []
  }
 ],
 "metadata": {
  "kernelspec": {
   "display_name": "Python 3",
   "language": "python",
   "name": "python3"
  },
  "language_info": {
   "codemirror_mode": {
    "name": "ipython",
    "version": 3
   },
   "file_extension": ".py",
   "mimetype": "text/x-python",
   "name": "python",
   "nbconvert_exporter": "python",
   "pygments_lexer": "ipython3",
   "version": "3.8.8"
  },
  "latex_envs": {
   "LaTeX_envs_menu_present": true,
   "autoclose": false,
   "autocomplete": true,
   "bibliofile": "biblio.bib",
   "cite_by": "apalike",
   "current_citInitial": 1,
   "eqLabelWithNumbers": true,
   "eqNumInitial": 1,
   "hotkeys": {
    "equation": "Ctrl-E",
    "itemize": "Ctrl-I"
   },
   "labels_anchors": false,
   "latex_user_defs": false,
   "report_style_numbering": false,
   "user_envs_cfg": false
  }
 },
 "nbformat": 4,
 "nbformat_minor": 2
}

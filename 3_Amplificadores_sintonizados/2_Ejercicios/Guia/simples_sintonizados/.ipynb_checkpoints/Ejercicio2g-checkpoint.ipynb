{
 "cells": [
  {
   "cell_type": "markdown",
   "metadata": {},
   "source": [
    "\n",
    "El circuito de la figura corresponde al circuito equivalente simplificado de la primer etapa de frecuencia intermedia de un receptor de RF. \n",
    "\n",
    "La frecuencia intermedia esta sintonizada a $F_c = 10 MHz$.\n",
    "\n",
    "Suponer que  cada uno de los elementos reactivos tienen un $Q_o = 100$. \n",
    "\n",
    "La fuente tiene una potencia disponible $P_{disp}= 1 \\mu W$ y su resistencia interna es $r_g = 1 K\\Omega $.\n",
    "\n",
    "\n",
    "![ejemplo2g-cuatrocientos](fig/ejercicio2g.png)\n",
    "\n",
    "\n",
    "Donde: $g_{11} = 1 mS$, $g_{22} = 0.1 mS$ y $g_m = 100 mS$\n",
    "\n",
    "\n",
    "1. $Q_{c}$\n",
    "\n",
    "2. $L_1$\n",
    "\n",
    "3. $C_1$\n",
    "\n",
    "4. $L_2$\n",
    "\n",
    "5. $C_2$\n",
    "\n",
    "6. $R_L$\n",
    "\n",
    "7. $A_{v_o} = \\frac{v_o}{v_i}$\n",
    "\n",
    "8. $|A_{v_o}(8 MHz)|$ \n",
    "\n",
    "9. $|A_{v_o}(9.9 MHz)|$ \n",
    "\n",
    "10. $|A_{v_o}(10.1 MHz)|$ \n",
    "\n",
    "11. $P_{in}$\n",
    "\n",
    "12. $P_{R_L}$ \n",
    "\n",
    "\n",
    "Se desea utilizar el mismo valor de inductor en ambas etapas y un capacitor variable de $200 pF$ para cada sintonizado. Proponga una solución. Calcule el valor de los componentes.\n",
    "\n",
    "\n"
   ]
  },
  {
   "cell_type": "code",
   "execution_count": null,
   "metadata": {},
   "outputs": [],
   "source": []
  }
 ],
 "metadata": {
  "kernelspec": {
   "display_name": "Python 3",
   "language": "python",
   "name": "python3"
  },
  "language_info": {
   "codemirror_mode": {
    "name": "ipython",
    "version": 3
   },
   "file_extension": ".py",
   "mimetype": "text/x-python",
   "name": "python",
   "nbconvert_exporter": "python",
   "pygments_lexer": "ipython3",
   "version": "3.7.0"
  },
  "latex_envs": {
   "LaTeX_envs_menu_present": true,
   "autoclose": false,
   "autocomplete": true,
   "bibliofile": "biblio.bib",
   "cite_by": "apalike",
   "current_citInitial": 1,
   "eqLabelWithNumbers": true,
   "eqNumInitial": 1,
   "hotkeys": {
    "equation": "Ctrl-E",
    "itemize": "Ctrl-I"
   },
   "labels_anchors": false,
   "latex_user_defs": false,
   "report_style_numbering": false,
   "user_envs_cfg": false
  }
 },
 "nbformat": 4,
 "nbformat_minor": 2
}

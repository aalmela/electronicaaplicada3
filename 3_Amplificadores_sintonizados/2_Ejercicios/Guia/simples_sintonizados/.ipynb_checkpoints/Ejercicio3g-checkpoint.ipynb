{
 "cells": [
  {
   "cell_type": "markdown",
   "metadata": {},
   "source": [
    "El circuito de la figura corresponde a un amplificador de RF que opera a $F_o = 3\\,MHz$. Todos los Tanques estan adaptados a MTE Qcte. Los inductores son idénticos entre sí, presentan $Q_{oL} = 50$ y ambos están realizados con $N = 100$ espiras.\n",
    "\n",
    "El transistor posée los siguientes parámetros, que se mantienen constantes en la banda de interes.\n",
    "\n",
    "$Y_{11} = (1 + j0) mS$\t\n",
    "\n",
    "$Y_{22} = (0,1 + j0) mS$\n",
    "\n",
    "$Y_{12} = 0 mS$\n",
    "\n",
    "$Y_{21} = (0,05+j0.005) S$\n",
    "\n",
    "    \n",
    "Debido a que se desea realizar un ensayo del mismo, el amplificador es conectado a un generador con $z_g = 50 \\Omega$, que entrega una señal de tensión cuadrada simétrica sin componente de DC con $V_{g} = 2 mV_{pp}$ y frecuencia fundamental $f_{c} = 1 MHz$.\n",
    "\n",
    "Un analizador de espectro, conectado sobre $R_L = 1\\,K\\Omega $, barriendo desde $100 KHz$ a $21 MHz$, encuentra que la mayor componente es de $3 MHz$ y esta se encuentra exactamente $60 dB$ por encima de siguiente armónico de mayor amplitud.\n",
    "\n",
    "\n",
    "\n",
    "Determinar:\n",
    "\\begin{my_enumerate}\n",
    "\t\\item Dada la separación entre las componentes de la señal de excitación ¿Es adecuado el empleo de aproximación de Banda angosta? en caso de poderse ¿Cuando no sería adecuado?.\n",
    "    \\item Los $Q_{c}$ de cada Simple Sintonizado.\n",
    "    \\item Los valores para L y C.\n",
    "    \\item Los valores para N1, N2 y N3.\n",
    "    \\item Módulo de la componente en tensión de $3 MHz$ sobre la carga $R_L$. \n",
    "    \\item Proponga una red de polarización para el transistor Q1.\n",
    "\\end{my_enumerate}\n"
   ]
  },
  {
   "cell_type": "markdown",
   "metadata": {},
   "source": [
    "Determinar:\n",
    "\n",
    "1. $Q_{c}$ para la etapa de RF \n",
    "\n",
    "2. $L_1$\n",
    "\n",
    "3. $C_1$\n",
    "\n",
    "4. $N_1/N_t$\n",
    "\n",
    "5. $N_2/N_t$\n",
    "\n",
    "6. $N_3/N_t$\n",
    "\n",
    "7. Calcular el ancho de banda $BW$ del amplificador de RF. \n",
    "\n",
    "8. Calcular la ganacia de tensión de la etapa de RF.\n",
    "\n",
    "7. $Q_{c}$ para la etapa de FI. \n",
    "\n",
    "8. $L_2$\n",
    "\n",
    "9. $C_2$\n",
    "\n",
    "10. $C_3$\n",
    "\n",
    "11. Calcular el ancho de banda $BW$ del amplificador de RF. \n",
    "\n",
    "12. Calcular la ganacia de tensión de la etapa de RF.\n",
    "\n",
    "\n",
    "13. Con el receptor en su condición original ($f_{c} = 600 KHz$) una falla en el Oscilador Local hace que la frecuencia del mismo se corra a $f'_{ol} = 1070 Khz$.  \n",
    "\n",
    "Encontrar el índice de modulación (m) de la señal a la entrada del detector (Vo) siendo  $m = \\frac {V_{pico} - V_{valle}}{V_{pico} + V_{valle}}$.\n",
    "\n",
    "\n",
    "14. Se re-sintoniza a $F_{rf} = 1600 KHz$. \n",
    "\n",
    "Calcular el rechazo variando solamente $C_1$ y manteniendo constante $L_1$ \n",
    "\n",
    "15. Se re-sintoniza a $F_{rf} = 1600 KHz$. \n",
    "\n",
    "Calcular el rechazo variando solamente $L_1$ y manteniendo constante $C_1$, comparar con el resultado anterior. \n"
   ]
  },
  {
   "cell_type": "code",
   "execution_count": null,
   "metadata": {},
   "outputs": [],
   "source": []
  }
 ],
 "metadata": {
  "kernelspec": {
   "display_name": "Python 3",
   "language": "python",
   "name": "python3"
  },
  "language_info": {
   "codemirror_mode": {
    "name": "ipython",
    "version": 3
   },
   "file_extension": ".py",
   "mimetype": "text/x-python",
   "name": "python",
   "nbconvert_exporter": "python",
   "pygments_lexer": "ipython3",
   "version": "3.7.0"
  },
  "latex_envs": {
   "LaTeX_envs_menu_present": true,
   "autoclose": false,
   "autocomplete": true,
   "bibliofile": "biblio.bib",
   "cite_by": "apalike",
   "current_citInitial": 1,
   "eqLabelWithNumbers": true,
   "eqNumInitial": 1,
   "hotkeys": {
    "equation": "Ctrl-E",
    "itemize": "Ctrl-I"
   },
   "labels_anchors": false,
   "latex_user_defs": false,
   "report_style_numbering": false,
   "user_envs_cfg": false
  }
 },
 "nbformat": 4,
 "nbformat_minor": 2
}

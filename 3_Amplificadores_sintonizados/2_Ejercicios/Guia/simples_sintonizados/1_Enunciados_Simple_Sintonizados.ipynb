{
 "cells": [
  {
   "cell_type": "markdown",
   "id": "d8305289",
   "metadata": {},
   "source": [
    "# Ejercicio 1\n",
    "\n",
    "El circuito de la figura corresponde al circuito equivalente simplificado de un receptor de RF. \n",
    "Se desea amplificar una señal de frecuencia $F_c = 100 MHz$.\n",
    "\n",
    "Suponer que  el inductor tiene un factor de merito de $Q_o = 50$ y el capacitor tiene un factor de merito de $Q_o = \\infty$.\n",
    "\n",
    "La fuente tiene una potencia disponible $P_{disp}= 10 \\mu W$ y su resistencia interna es $r_g=1K\\Omega$.\n",
    "\n",
    "![ejemplo4-cuatrocientos](fig/ejercicio1g.png)\n",
    "\n",
    "Donde: $g_{11} = 1.25 mS$, $g_{22} = 0.1 mS$ y $g_m = 100 mS$\n",
    "\n",
    "Determinar para una atenuación de $|A_v|(120MHz) = -20 dB$ respecto a la frecuencia de sintonia. \n",
    "\n",
    "Diseñar para máxima transferencia de energía a Q constante:\n",
    "\n",
    "1. $R_L$\n",
    "2. $Q_{c}$\n",
    "3. $L$ \n",
    "4. $C$ \n",
    "5. $A_{v_o} = \\frac{v_o}{v_g}$ \n",
    "6. El ancho de banda $BW$ del amplificador. \n",
    "7. $P_{R_L}$ \n",
    "8. $|A_{v_o}|$ para $80 MHz$\n",
    "\n"
   ]
  },
  {
   "cell_type": "markdown",
   "id": "f2e80bb2",
   "metadata": {},
   "source": [
    "# Ejercicio 2\n",
    "\n",
    "El circuito de la figura corresponde al circuito equivalente simplificado de la primer etapa de frecuencia intermedia de un receptor de RF. \n",
    "\n",
    "La frecuencia intermedia esta sintonizada a $f_o = 10 MHz$. Se busca que el ancho de banda sea de $BW = 200 KHz$.\n",
    "\n",
    "Los canales adyacentes se encuentran a $f_{ca} = f_o \\pm 500 KHz$.\n",
    "\n",
    "Suponer que los inductores tienen un $Q_o = 100$. \n",
    "\n",
    "Se busca que el $Q_{c2} = 4 Q_{c1}$, ambos son simple sintonizados sincronicos. \n",
    "\n",
    "La fuente tiene una potencia disponible $P_{disp}= 1 \\mu W$.\n",
    "\n",
    "\n",
    "![ejemplo2g-cuatrocientos](fig/ejercicio2g.png)\n",
    "\n",
    "\n",
    "Donde: $g_{11} = 1 mS$, $g_{22} = 0.1 mS$ y $g_m = 100 mS$\n",
    "\n",
    "Diseñar para máxima transferencia de energía a Q constante, para ambos sintonizados:\n",
    "\n",
    "1. $Q_{c1}$\n",
    "\n",
    "2. $Q_{c2}$\n",
    "\n",
    "3. $r_g$\n",
    "\n",
    "4. $L_1$\n",
    "\n",
    "5. $C_1$\n",
    "\n",
    "6. $R_L$\n",
    "\n",
    "7. $L_2$\n",
    "\n",
    "8. $C_2$\n",
    "\n",
    "9. $A_{r_o} = \\frac{v_o}{i_g}$\n",
    "\n",
    "10. $|A_{r_o}(8 MHz)|$ \n",
    "\n"
   ]
  },
  {
   "cell_type": "code",
   "execution_count": null,
   "id": "f6e1b14e",
   "metadata": {},
   "outputs": [],
   "source": []
  }
 ],
 "metadata": {
  "kernelspec": {
   "display_name": "Python 3",
   "language": "python",
   "name": "python3"
  },
  "language_info": {
   "codemirror_mode": {
    "name": "ipython",
    "version": 3
   },
   "file_extension": ".py",
   "mimetype": "text/x-python",
   "name": "python",
   "nbconvert_exporter": "python",
   "pygments_lexer": "ipython3",
   "version": "3.8.8"
  }
 },
 "nbformat": 4,
 "nbformat_minor": 5
}

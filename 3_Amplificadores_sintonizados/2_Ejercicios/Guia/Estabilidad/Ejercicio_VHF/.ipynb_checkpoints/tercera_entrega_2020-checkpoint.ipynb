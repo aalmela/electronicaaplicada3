{
 "cells": [
  {
   "cell_type": "markdown",
   "metadata": {},
   "source": [
    "# Receptor VHF: estabilidad\n",
    "\n",
    "El circuito de la figura corresponde a un receptor de Banda Aeronáutica ($118\\,MHz$ a $137\\,MHz$).  \n",
    "Está sintonizado para recibir una señal AM de portadora de  $F_c = 120\\,MHz$ y modulado al 50\\%  por un tono único de $1\\,KHz$. \n",
    "Los canales adyacentes se encuentran a $50\\,KHz$ por arriba y debajo de la portadora de $120\\,MHz$.\n",
    "\n",
    "![ex 2.13](fig/receptor.png)\n",
    "\n",
    "\n",
    "Una señal interferencia en la frecuencia imagen, con una amplitud $20\\,dB$ por encima de la señal deseada (medida en bornes de antena), aparece a la entrada del detector $20\\,dB$ por debajo de la deseada.\n",
    "\n",
    "El receptor tiene una respuesta espuria en $119.09\\,MHz$ con un rechazo de $60\\,dB$ respecto de la portadora de $120\\,MHz$.\n",
    "\n",
    "Suponer que todos los elementos activos (amplificadores, mezcladores y detector) son lineales y de parámetros constantes dentro de toda la banda de interés. \n",
    "\n",
    "## Circuitos\n",
    "\n",
    "Para el diseño de los circuitos considerar los siguientes parámetros. \n",
    "\n",
    "\n",
    "|Frecuencia | $y_{11}$          | $y_{12}$          | $y_{21}$          | $y_{22}$          | Unidad |\n",
    "|-----------|-------------------|-------------------|-------------------|-------------------|--------|\n",
    "|455 KHz    | $0.5 + j\\, 0.05$  | $- j\\, 0.001$     | $40 - j\\, 0.1$    | $0.05 + j\\, 0.01$ | mS     |\n",
    "|10,7 MHz   | $1.0+j\\, 2.0$     | $- j\\, 0.1$       | $40 - j\\, 1.0$    | $0.1 + j\\, 0.4$   | mS     |\n",
    "|120 MHz    | $2.0+j\\, 10.0$    | $-0.1 - j\\, 1.0$  | $30 - j\\, 20$     | $0.5 + j\\, 2$     | mS     |\n",
    "\n",
    "\n",
    "\n",
    "Todos los tanques están adaptados a transferencia de energía a Q constate. Para los cálculos despreciar las capacidades del transistor solo si son despreciables respecto al capacitor de sintonía.  \n",
    "\n",
    "### Etapa RF.\n",
    "\n",
    "La antena presenta una impedancia $R_{a}= 50 \\Omega$ en toda la banda de interés. \n",
    "\n",
    "\n",
    "![ex 2.13](fig/RF.png)\n",
    "\n",
    "Las bobinas empleadas para el amplificador de RF poseen : $Q_{oL} = 100$ y $N = 20$ espiras.\n",
    "Capacitores con $Q_{oC} = \\infty$.\n",
    "\n",
    "\n",
    "### Etapa 1IF.\n",
    "\n",
    "![ex 2.13](fig/primeraFI.png)\n",
    "\n",
    "Primera FI (Amplificador + filtro)  Dos  etapas dobles sintonizadas sincrónicas con acoplamiento crítico\n",
    "\n",
    "Para el cálculo de estabilidad suponer comportamiento de simple sintonizado, empleando la impedancia que presenta el doble sintonizado (similar a el cálculo de adaptación).\n",
    "\n",
    "Las bobinas empleadas para el amplificador de 1FI poseen : $Q_{oL} = 100$ y $N = 100$ espiras.\n",
    "Capacitores con $Q_{oC} = \\infty$.\n",
    "\n",
    "\n",
    "### Etapa 2IF.\n",
    "\n",
    "![ex 2.13](fig/segundaFI.png)\n",
    "\n",
    "Segunda FI: 3 etapas Simple Sintonizadas en configuración Butterworth, con frecuencia central de $455\\,KHz$ y ancho de  banda $10\\,KHz$. \n",
    "\n",
    "Las bobinas empleadas para el amplificador de 2FI poseen : $Q_{oL} = 150$ y $N = 300$ espiras.\n",
    "Capacitores con $Q_{oC} = \\infty$.\n",
    "\n",
    "\n",
    "### Mezcladores.\n",
    "\n",
    "\n",
    "Primer oscilador local: senoide pura de $109.3\\,MHz$.\n",
    "\n",
    "Segundo oscilador local: senoide pura de $10.245\\,MHz$.\n",
    "\n",
    "\n",
    "Los parámetros del mezclador:\n",
    "\n",
    "| Símbolo   | Parametro               | typ | Unidad    |\n",
    "|-----------|-------------------------|-----|-----------|\n",
    "| $R_{in}$  | Resistencia de entrada  | 1   | $K\\Omega$ |\n",
    "| $R_{out}$ | Resistencia de salida   | 1   | $K\\Omega$ |\n",
    "| $G_{c}$   | Ganancia de conversión  | 12  | dB        |\n",
    "\n",
    "\n",
    "### Detector.\n",
    "\n",
    "El detector de envolvente presenta una impedancia $R_{a}= 1000 \\Omega$ en toda la banda de interés. \n",
    "\n",
    "\n",
    "\n",
    "###  Determine\n",
    "\n",
    "#### Etapa RF\n",
    "\n",
    "1. Para la etapa de RF, $Qc$ de los sintonizados para cumplir con la condición de filtros sincrónicos y $Q_{c2} = 2 \\cdot Q_{c1}$.\n",
    "\n",
    "2. Dado que el transistor es potencialmente inestable, $C= 6.62$ (coeficiente de Linvill), se propuso una red de neutralización. Empleando $C_{p} = 5 pF$, calcular el número de espiras de la red de neutralización (N3). Calcular los parámetros resultantes (transistor y red de neutralización) y el coeficiente de Stern resultante para la condición de máxima transferencia de energía a Q constante.    \n",
    "\n",
    "3. El valor de los componentes de la etapa de RF.\n",
    "\n",
    "4. Proponga alguna modificación para que la red sea de unilateralización, calcule los componentes de la nueva red y el coeficiente de Stern resultante.\n",
    " \n",
    "#### Etapa 1IF \n",
    "  \n",
    "5. Q y h de los resonadores de Primera FI\n",
    "\n",
    "6. Calcular el coeficiente de Linvill. En caso de ser potencialmente inestable, proponer una red de neutralización. Con el transistor neutralizado, determinar el coeficiente de Stern y el valor de los componentes de la etapa de 1IF.   \n",
    "    \n",
    "\n",
    "\n",
    "#### Etapa 2IF\n",
    "\n",
    "7. Q y frecuencia central de cada uno de los resonadores de Segunda FI.\n",
    "\n",
    "8. Calcular coeficiente de Linvill. En caso de ser potencialmente inestable, proponer una red de neutralización. Si es incondicionalmente estable, calcular el coeficiente de Stern para la condición de máxima transferencia de energía a Q constante.  Determinar valor de los componentes de la etapa de 2IF.  \n",
    "\n",
    "9. Rechazo de canal adyacente. \n",
    "\n",
    "10.  Ganacia de potencia, definada como $P_{out}/P_{in}$"
   ]
  },
  {
   "cell_type": "code",
   "execution_count": 2,
   "metadata": {},
   "outputs": [],
   "source": [
    "import numpy as np\n",
    "import matplotlib.pyplot as plt\n",
    "import scipy                  # http://scipy.org/\n",
    "from scipy import signal\n",
    "import cmath\n",
    "\n",
    "from IPython.display import Image  \n",
    "%matplotlib inline\n",
    "params = {'legend.fontsize': 24,\n",
    "          'figure.figsize': (12, 8),\n",
    "         'axes.labelsize': 24,\n",
    "         'axes.titlesize': 24,\n",
    "         'xtick.labelsize':24,\n",
    "         'ytick.labelsize':24}\n",
    "plt.rcParams.update(params) \n",
    "\n",
    "\n",
    "\n",
    "from IPython.display import Image\n",
    "import sys \n"
   ]
  },
  {
   "cell_type": "code",
   "execution_count": 3,
   "metadata": {},
   "outputs": [],
   "source": [
    "def Linvill(yt):\n",
    "    y11 = yt[0,0]\n",
    "    y12 = yt[0,1]\n",
    "    y21 = yt[1,0]\n",
    "    y22 = yt[1,1]\n",
    "    C = (abs(y12*y21)+(y12*y21).real)/(2*y11.real*y22.real)\n",
    "    print(abs(y12*y21))\n",
    "    print((y12*y21).real)\n",
    "    \n",
    "    \n",
    "    print('###############  LINVILL   #####################')\n",
    "    print( 'coeficiente de linvill C= {:4.2F}' .format(C))\n",
    "    if C < 1:\n",
    "        print( 'Es incondicionalmente estable')\n",
    "    else :\n",
    "        print( 'Es potencialmente inestable')\n",
    "    return C\n",
    "\n",
    "def Stern(yg, yl, yt):\n",
    "    y11 = yt[0,0]\n",
    "    y12 = yt[0,1]\n",
    "    y21 = yt[1,0]\n",
    "    y22 = yt[1,1]\n",
    "    K = (2*(y11.real+yg.real)*(y22.real+yl.real)) / (abs(y12*y21)+(y12*y21).real)\n",
    "    print('###############  STERN   #####################')\n",
    "    print( 'coeficiente de stern K= {:4.2F}' .format(K))\n",
    "    if K > 1:\n",
    "        print( 'Estable')\n",
    "    else :\n",
    "        print( 'Inestable')\n",
    "    return K\n",
    "\n",
    "\n",
    "def neutraliza(yt,wo,Cn, N):\n",
    "    Nn = (-yt[0,1].imag)/(wo*Cn)*N\n",
    "    y11 =  wo*Cn*1j\n",
    "    y12 =  wo*Cn*1j*(Nn/N)\n",
    "    y21 =  wo*Cn*1j*(Nn/N)\n",
    "    y22 =  wo*Cn*1j*(Nn/N)**2\n",
    "    yn  = np.matrix([[y11, y12],[ y21, y22]])\n",
    "    # cuadripolo resultante\n",
    "    ytn  = yt + yn\n",
    "\n",
    "\n",
    "    return (ytn,Nn)\n",
    "\n",
    "\n",
    "def unilateral(yt,wo,Cn, N):\n",
    "    Nn = (-yt[0,1].imag)/(wo*Cn)*N\n",
    "    r  =  (-1/yt[0,1].real) *(Nn/N)\n",
    "\n",
    "    y11 =  1/r  + 1j*wo*Cn\n",
    "    y12 =  y11*(Nn/N)\n",
    "    y21 =  y11*(Nn/N)\n",
    "    y22 =  y11*(Nn/N)**2\n",
    "    yn  = np.matrix([[y11, y12],[ y21, y22]])\n",
    "    # cuadripolo resultante\n",
    "    ytn  = yt + yn\n",
    "\n",
    "    return (ytn,Nn,r)"
   ]
  },
  {
   "cell_type": "markdown",
   "metadata": {},
   "source": [
    "#### Respuestas\n",
    "\n",
    "1. Para la etapa de RF, $Qc$ de los sintonizados para cumplir con la condición de filtros sincrónicos y $Q_{c2} = 2 \\cdot Q_{c1}$  .\n",
    "\n",
    "\n",
    "$\\frac{1}{\\sqrt{1+Q_1^2\\cdot(\\frac{fi}{fo}-\\frac{fo}{fi})^2}} \\cdot \\frac{1}{\\sqrt{1+Q_2^2\\cdot(\\frac{fi}{fo}-\\frac{fo}{fi})^2}} = \\frac{1}{10^{\\frac{40}{20}}}$\n",
    "\n",
    "\n",
    "$\\frac{1}{\\sqrt{1+Q_1^2\\cdot(\\frac{fi}{fo}-\\frac{fo}{fi})^2}} \\cdot \\frac{1}{\\sqrt{1+(2\\cdot Q_1)^2\\cdot(\\frac{fi}{fo}-\\frac{fo}{fi})^2}} = \\frac{1}{10^{\\frac{40}{20}}}$\n",
    "\n",
    "$(1+Q_1^2\\cdot(\\frac{fi}{fo}-\\frac{fo}{fi})^2) \\cdot (1+ 4\\cdot Q_1^2\\cdot(\\frac{fi}{fo}-\\frac{fo}{fi})^2) = 10^2$\n",
    "\n",
    "$1 + 5\\cdot Q_1^2\\cdot(\\frac{fi}{fo}-\\frac{fo}{fi})^2 + 4\\cdot Q_1^4\\cdot(\\frac{fi}{fo}-\\frac{fo}{fi})^4 = 100$\n",
    "\n",
    "$f_i = f_{osc} - f_{1FI} = 109.7 MHz - 10.7 MHz = 98.6 MHz$\n",
    "\n",
    "$(\\frac{fi}{fo}-\\frac{fo}{fi})^2 = (\\frac{98.6}{120}-\\frac{120}{98.6})^2 = 0.1563$\n",
    "\n",
    "$-999 + 5\\cdot Q_1^2\\cdot(0.1563) + 4\\cdot Q_1^4\\cdot(0.1563)^2 = 0$\n",
    "\n",
    "$Q1 =   5.3$\n",
    "\n",
    "$Q2 =  10.6$"
   ]
  },
  {
   "cell_type": "code",
   "execution_count": 4,
   "metadata": {},
   "outputs": [
    {
     "name": "stdout",
     "output_type": "stream",
     "text": [
      "Q1 =  5.30\n",
      "Q2 =  10.60\n"
     ]
    }
   ],
   "source": [
    "df =  (98.6/120-120/98.6)**2 \n",
    "\n",
    "c = -(10**(40/20)-1)\n",
    "b = 5*df\n",
    "a = 4*df**2\n",
    "\n",
    "d = b**2-4*a*c\n",
    "if d > 0: x = (-b+ (b**2-4*a*c)**0.5 )/(2*a)\n",
    "else    : x = (-b+ (b**2+4*a*c)**0.5 )/(2*a)\n",
    "\n",
    "Q1 = x**0.5\n",
    "Q2 = Q1 * 2\n",
    "\n",
    "print('Q1 =  {:1.2f}'.format(Q1))\n",
    "print('Q2 =  {:1.2f}'.format(Q2))"
   ]
  },
  {
   "cell_type": "markdown",
   "metadata": {},
   "source": [
    "2. Dado que el transistor es potencialmente inestable ($C= 6.62$, coeficiente de Linvill), se propuso una red de neutralización. Calcular el número de espiras de la red de neutralización. Calcular los parámetros resultantes (transistor y red de neutralización) y el coeficiente de Stern resultante para la condición de máxima transferencia de energía a Q constante.\n",
    "\n",
    "Linvil:\n",
    "$$C = \\frac{| y_{t12} \\cdot y_{t21} | +\\Re(y_{t12} \\cdot y_{t21})}{2 \\cdot \\Re(y_{t11}) \\cdot \\Re(y_{t22})}$$\n",
    "\n",
    "$C= 6.62$\n",
    "\n",
    "Numero de vueltas del secundario, \n",
    "\n",
    "$$Nn = \\frac{- \\Im(y_{t12})}{\\omega_o \\cdot C_n }\\cdot N$$\n",
    "\n",
    "Cuadripolo para neutralizar el transistor:\n",
    "\n",
    "$y_{n11} = j \\cdot \\omega_o \\cdot C_n$\n",
    "\n",
    "$y_{n12} = j \\cdot \\omega_o \\cdot C_n \\cdot \\frac{Nn}{N}$\n",
    "\n",
    "$y_{n21} = j \\cdot \\omega_o \\cdot C_n \\cdot \\frac{Nn}{N}$\n",
    "\n",
    "$y_{n22} = j \\cdot \\omega_o \\cdot C_n \\cdot (\\frac{Nn}{N})^2$\n",
    "\n",
    "Cuadripolo resultante\n",
    "\n",
    "$$y_{tn}  = y_{t} + y_{n}$$\n",
    "\n",
    "$y_{tn11} = 0.0020 S +0.013j S$\n",
    "\n",
    "$y_{tn12} = -0.0001 S +0.j S$\n",
    "\n",
    "$y_{tn21} = 0.0300 S -0.019jS$\n",
    "\n",
    "$y_{tn22} = 0.0005 S +0.0022jS$\n",
    "\n",
    "\n",
    "Stern para máxima transferencia de energía:  \n",
    "\n",
    "$$K = \\frac{2 \\cdot \\Re(y_{tn11} + y_{tn11}) \\cdot \\Re(y_{tn22}+ y_{tn22})}{| y_{tn12} \\cdot y_{tn21} | +\\Re(y_{tn12} \\cdot y_{tn21})} =14.52$$\n"
   ]
  },
  {
   "cell_type": "code",
   "execution_count": 5,
   "metadata": {},
   "outputs": [
    {
     "name": "stdout",
     "output_type": "stream",
     "text": [
      "3.623534186398688e-05\n",
      "-2.3000000000000003e-05\n",
      "###############  LINVILL   #####################\n",
      "coeficiente de linvill C= 6.62\n",
      "Es potencialmente inestable\n",
      "5.305164769729846\n",
      "[[ 0.002 +0.01376991j -0.0001+0.j        ]\n",
      " [ 0.03  -0.019j       0.0005+0.00226526j]]\n",
      "500.0\n",
      "0.035510561809129405\n",
      "2000.0\n",
      "###############  STERN   #####################\n",
      "coeficiente de stern K= 14.52\n",
      "Estable\n",
      "14.517576024183805\n"
     ]
    }
   ],
   "source": [
    "fo = 120e6\n",
    "wo= 2*np.pi*fo\n",
    "Cp = 5e-12\n",
    "# Parametros del transistor 120 MHz\n",
    "y11 =   2.0e-3 + 10.0e-3*1j\n",
    "y12 = - 0.1e-3 -  1.0e-3*1j\n",
    "y21 =  30.0e-3 - 20.0e-3*1j \n",
    "y22 =   0.5e-3 +  2.0e-3*1j\n",
    "\n",
    "\n",
    "yt  = np.matrix([[y11, y12],[ y21, y22]])\n",
    "\n",
    "Linvill(yt)\n",
    "\n",
    "\n",
    "# Calculo de n\n",
    "ytn, Np =  neutraliza(yt,wo,Cp,20)\n",
    "print(Np)\n",
    "\n",
    "print(ytn)\n",
    "\n",
    "yg = (ytn[0,0].real-ytn[0,0].imag*1j)\n",
    "print(1/yg.real)\n",
    "print(np.abs(ytn[1,0]) )\n",
    "yl= (ytn[1,1].real-ytn[1,1].imag*1j)\n",
    "print(1/yl.real)\n",
    "\n",
    "\n",
    "K = Stern(yg, yl, ytn)\n",
    "\n",
    "print(K)"
   ]
  },
  {
   "cell_type": "markdown",
   "metadata": {},
   "source": [
    "3. El valor de los componentes de la etapa de RF.\n",
    "\n"
   ]
  },
  {
   "cell_type": "code",
   "execution_count": 6,
   "metadata": {},
   "outputs": [
    {
     "data": {
      "image/png": "[encoded data removed]",
      "text/plain": [
       "<IPython.core.display.Image object>"
      ]
     },
     "execution_count": 6,
     "metadata": {
      "image/png": {
       "width": 450
      }
     },
     "output_type": "execute_result"
    }
   ],
   "source": [
    "Image(filename= \"fig/RF.png\",width=450)"
   ]
  },
  {
   "cell_type": "code",
   "execution_count": 7,
   "metadata": {},
   "outputs": [
    {
     "name": "stdout",
     "output_type": "stream",
     "text": [
      "0.0355105618091\n",
      "500.0 2000.0\n",
      "L1 =  1.12e-07F\n",
      "C1 =  1.57e-11F\n",
      "C2 =  5.37e-11F\n",
      "C3 =  2.22e-11F\n",
      "N1 =  4.60\n",
      "N2 =  9.95\n"
     ]
    }
   ],
   "source": [
    "Qo   = 100                    # Q libre de los inductores\n",
    "Ne   = 20                     # Numero de esperas total de los inductores\n",
    "rl   = 1e3                    # Resistencia carga\n",
    "rg   = 50                     # Resistencia del generador\n",
    "\n",
    "r11 =  1/ytn[0,0].real        # r11 \n",
    "r22   = 1/ytn[1,1].real       # r22\n",
    "print(abs(ytn[1,0]))\n",
    "print(r11,r22)\n",
    "\n",
    "# Sintonizado de salida\n",
    "rext = r22/2                  # Rexterna \n",
    "L1 = (1/Q2-1/Qo)*(rext)/wo    # Inductor \n",
    "C1 = 1/(wo**2*L1)             # Cap de sintonia \n",
    "\n",
    "# divisor Cap\n",
    "Qm2   = r22 * wo * C1\n",
    "#print(Qm2)\n",
    "N     = (r22/rl)**0.5\n",
    "Qm1   = Qm2/N\n",
    "\n",
    "\n",
    "C3 = C1*N\n",
    "C2 = C1*N/(N-1)\n",
    "\n",
    "print('L1 =  {:1.2e}F'.format(L1))\n",
    "print('C1 =  {:1.2e}F'.format(C1))\n",
    "print('C2 =  {:1.2e}F'.format(C2))\n",
    "print('C3 =  {:1.2e}F'.format(C3))\n",
    "\n",
    "# Sintonizado de  entrada\n",
    "rt = 2/( (1/Q1-1/Qo)/(L1*wo)) # Resistencia a tope de bobina\n",
    "\n",
    "# 50/rt = (N1/N)^2\n",
    "N1 = (rg/rt)**0.5  * Ne\n",
    "N2 = (r11/rt)**0.5 * Ne - N1\n",
    "print('N1 =  {:1.2f}'.format(N1))\n",
    "print('N2 =  {:1.2f}'.format(N2))\n"
   ]
  },
  {
   "cell_type": "code",
   "execution_count": null,
   "metadata": {},
   "outputs": [],
   "source": [
    "print('.param rpL1 = {:1.4e} '.format(XL1*Qolrf))\n",
    "print('.param L1a = {:1.4e} '.format(L1a))\n",
    "print('.param L1b = {:1.4e} '.format(L1b))\n",
    "print('.param L1c = {:1.4e} '.format(L1c))\n",
    "print('.param L1d = {:1.4e} '.format(L1d))\n",
    "print('.param L1e = {:1.4e} '.format(L1e))\n",
    "print('.param L1f = {:1.4e} '.format(L1f))\n",
    "print('.param C1  = {:1.4e} '.format(C1))\n",
    "\n",
    "print('.param g11 = {:1.4e} '.format(y11rf.real))\n",
    "print('.param c11 = {:1.4e} '.format(y11rf.imag/wrf))\n",
    "\n",
    "print('.param g12 = {:1.4e} '.format(y12rf.real))\n",
    "print('.param c12 = {:1.4e} '.format(y12rf.imag/wrf))\n",
    "\n",
    "print('.param g21 = {:1.4e} '.format(y21rf.real))\n",
    "print('.param c21 = {:1.4e} '.format(y21rf.imag/wrf))\n",
    "\n",
    "print('.param g22 = {:1.4e} '.format(y22rf.real))\n",
    "print('.param c22 = {:1.4e} '.format(y22rf.imag/wrf))"
   ]
  },
  {
   "cell_type": "markdown",
   "metadata": {},
   "source": [
    "4. Proponga alguna modificación para que la red sea de unilateralización, calcule los componentes y el coeficiente de Stern resultante.\n",
    "\n",
    "Un analisis similar al empleado para el neutralizador, con el que se obtiene:\n",
    "\n",
    "$Y_{rc} = \\frac{1}{r} + j \\cdot \\omega_o \\cdot C_n$\n",
    "\n",
    "$y_{u11} = Y_{rc}$\n",
    "\n",
    "$y_{u12} = Y_{rc} \\cdot \\frac{Nn}{N}$\n",
    "\n",
    "$y_{u21} = Y_{rc} \\cdot \\frac{Nn}{N}$\n",
    "\n",
    "$y_{u22} = Y_{rc} \\cdot (\\frac{Nn}{N})^2$\n",
    "\n",
    "\n",
    "\n"
   ]
  },
  {
   "cell_type": "code",
   "execution_count": 8,
   "metadata": {},
   "outputs": [
    {
     "name": "stdout",
     "output_type": "stream",
     "text": [
      "r  =  2652.58 ohm\n",
      "Np =  5.31\n",
      "r11  =  420.70 ohm\n",
      "gm  =  0.04 S\n",
      "r22  =  1899.24 ohm\n",
      "###############  STERN   #####################\n",
      "coeficiente de stern K= 134444365561491904.00\n",
      "Estable\n",
      "1.34444365561e+17\n"
     ]
    }
   ],
   "source": [
    "# Calculo de n\n",
    "Cp   = 5e-12\n",
    "ytu, Np, r =  unilateral(yt,wo,Cp,20)\n",
    "\n",
    "print('r  =  {:1.2f} ohm'.format(r))\n",
    "print('Np =  {:1.2f}'.format(Np))\n",
    "\n",
    "#print(ytu)\n",
    "\n",
    "yg = (ytu[0,0].real-ytu[0,0].imag*1j)\n",
    "print('r11  =  {:1.2f} ohm'.format(1/yg.real))\n",
    "\n",
    "\n",
    "print('gm  =  {:1.2f} S'.format(np.abs(ytu[1,0]))) \n",
    "\n",
    "\n",
    "yl= (ytu[1,1].real-ytu[1,1].imag*1j)\n",
    "print('r22  =  {:1.2f} ohm'.format(1/yl.real))\n",
    "\n",
    "\n",
    "K = Stern(yg, yl, ytu)\n",
    "\n",
    "print(K)"
   ]
  },
  {
   "cell_type": "markdown",
   "metadata": {},
   "source": [
    "5. Q y h de los resonadores de Primera FI.\n",
    "\n",
    "En segunda FI, la frecuencia imagen esta en $97.9\\,MHz$, que corresponde a la frecuencia de $119.09\\,MHz$.\n",
    "\n",
    "$\\frac{1}{1+\\frac{\\chi^4}{4}} = \\frac{1}{10^{\\frac{60}{20}}}$\n",
    "\n",
    "\n",
    "\n"
   ]
  },
  {
   "cell_type": "code",
   "execution_count": 9,
   "metadata": {},
   "outputs": [
    {
     "name": "stdout",
     "output_type": "stream",
     "text": [
      "Q  =  46.74 \n"
     ]
    }
   ],
   "source": [
    "fo = 10.7e6\n",
    "wo = 2* np.pi*fo\n",
    "\n",
    "X = ((10**3-1)*4)**(1/4)\n",
    "\n",
    "Q = X*fo/2/(fo-9.79e6)\n",
    "\n",
    "print('Q  =  {:1.2f} '.format(Q))\n",
    "\n",
    "h = 1"
   ]
  },
  {
   "cell_type": "markdown",
   "metadata": {},
   "source": [
    "6. Calcular el coeficiente de Linvill. En caso de ser potencialmente inestable, proponer una red de neutralización."
   ]
  },
  {
   "cell_type": "code",
   "execution_count": 10,
   "metadata": {},
   "outputs": [
    {
     "name": "stdout",
     "output_type": "stream",
     "text": [
      "###############  LINVILL   #####################\n",
      "coeficiente de linvill C= 19.51\n",
      "Es potencialmente inestable\n"
     ]
    },
    {
     "data": {
      "text/plain": [
       "19.506249023742559"
      ]
     },
     "execution_count": 10,
     "metadata": {},
     "output_type": "execute_result"
    }
   ],
   "source": [
    "fo = 10.7e6\n",
    "wo = 2*np.pi*fo\n",
    "\n",
    "\n",
    "y11 =   1.00e-3 + 2.00e-3*1j\n",
    "y12 = - 0.00e-3 - 0.10e-3*1j\n",
    "y21 =  40.00e-3 - 1.00e-3*1j \n",
    "y22 =   0.10e-3 + 0.400e-3*1j\n",
    "\n",
    "yt  = np.matrix([[y11, y12],[ y21, y22]])\n",
    "\n",
    "Linvill(yt)\n",
    "\n",
    "\n"
   ]
  },
  {
   "cell_type": "markdown",
   "metadata": {},
   "source": [
    "7. Calcular los parámetros resultantes (transistor y red de neutralización), teniendo en cuenta la red de neutralización en caso de ser necesaria, empleando $C_{p} = 5 pF$ y el coeficiente de Stern resultante para la condición de máxima transferencia de energía a Q constante."
   ]
  },
  {
   "cell_type": "code",
   "execution_count": 11,
   "metadata": {},
   "outputs": [
    {
     "name": "stdout",
     "output_type": "stream",
     "text": [
      "29.7485874938\n",
      "[[ 0.0010 +2.33615041e-03j  0.0000 -1.35525272e-20j]\n",
      " [ 0.0400 -9.00000000e-04j  0.0001 +4.29748587e-04j]]\n"
     ]
    }
   ],
   "source": [
    "# Calculo de n\n",
    "ytn, Np =  neutraliza(yt,wo,5e-12,100)\n",
    "print(Np)\n",
    "\n",
    "print(ytn)\n",
    "\n",
    "yl= (ytn[1,1].real-ytn[1,1].imag*1j)\n",
    "\n",
    "yg = (ytn[0,0].real-ytn[0,0].imag*1j)\n",
    "\n"
   ]
  },
  {
   "cell_type": "markdown",
   "metadata": {},
   "source": [
    "8. Q y frecuencia central de cada uno de los resonadores de Segunda FI.\n",
    "\n",
    "\n"
   ]
  },
  {
   "cell_type": "markdown",
   "metadata": {},
   "source": [
    "Butterworth con $n$ simples sintonizados, donde $m$ es de $1$ a $n$\n",
    "\n",
    "$$Q_{m} =\\frac{f_o}{BW} \\frac{1}{sin(\\frac{2 \\cdot m-1}{2n}\\pi)}  $$\n",
    "\n",
    "$$f_{m} = f_o + \\frac{BW}{2} cos(\\frac{2\\cdot m-1}{2n}\\pi) $$\n"
   ]
  },
  {
   "cell_type": "code",
   "execution_count": 12,
   "metadata": {},
   "outputs": [
    {
     "name": "stdout",
     "output_type": "stream",
     "text": [
      "Q1 =  91.00\n",
      "f1 =  4.59e+05Hz\n",
      "Q2 =  45.50\n",
      "f2 =  4.55e+05Hz\n",
      "Q3 =  91.00\n",
      "f3 =  4.51e+05Hz\n"
     ]
    }
   ],
   "source": [
    "fo = 455e3\n",
    "wo = 2*np.pi*fo\n",
    "bw = 10e3\n",
    "\n",
    "Q1 = fo/bw /(np.sin( (2*1-1)*np.pi/(2*3) ) )\n",
    "f1 = fo + bw/2*np.cos((2*1-1)*np.pi/(2*3) ) \n",
    "\n",
    "Q2 = fo/bw /(np.sin( (2*2-1)*np.pi/(2*3) ) )\n",
    "f2 = fo + bw/2*np.cos((2*2-1)*np.pi/(2*3) ) \n",
    "\n",
    "Q3 = fo/bw /(np.sin( (2*3-1)*np.pi/(2*3) ) )\n",
    "f3 = fo + bw/2*np.cos((2*3-1)*np.pi/(2*3) ) \n",
    "\n",
    "\n",
    "print('Q1 =  {:1.2f}'.format(Q1))\n",
    "print('f1 =  {:1.2e}Hz'.format(f1))\n",
    "print('Q2 =  {:1.2f}'.format(Q2))\n",
    "print('f2 =  {:1.2e}Hz'.format(f2))\n",
    "print('Q3 =  {:1.2f}'.format(Q3))\n",
    "print('f3 =  {:1.2e}Hz'.format(f3))\n"
   ]
  },
  {
   "cell_type": "markdown",
   "metadata": {},
   "source": [
    "9. Calcular coeficiente de Linvill. En caso de ser potencialmente inestable, proponer una red de neutralización. Si es incondicionalmente estable, calcular el coeficiente de Stern para la condición de máxima transferencia de energía a Q constante. "
   ]
  },
  {
   "cell_type": "code",
   "execution_count": 13,
   "metadata": {},
   "outputs": [
    {
     "name": "stdout",
     "output_type": "stream",
     "text": [
      "###############  LINVILL   #####################\n",
      "coeficiente de linvill C= 0.80\n",
      "Es incondicionalmente estable\n"
     ]
    },
    {
     "data": {
      "text/plain": [
       "0.79800249999609374"
      ]
     },
     "execution_count": 13,
     "metadata": {},
     "output_type": "execute_result"
    }
   ],
   "source": [
    "fo = 455e3\n",
    "wo = 2*np.pi*fo\n",
    "\n",
    "\n",
    "y11 =   0.50e-3 + 0.050e-3*1j\n",
    "y12 = - 0.00e-3 - 0.001e-3*1j\n",
    "y21 =  40.00e-3 - 0.100e-3*1j \n",
    "y22 =   0.05e-3 + 0.010e-3*1j\n",
    "\n",
    "yt  = np.matrix([[y11, y12],[ y21, y22]])\n",
    "\n",
    "Linvill(yt)\n",
    "\n"
   ]
  },
  {
   "cell_type": "markdown",
   "metadata": {},
   "source": [
    "10. Rechazo de canal adyacente. \n"
   ]
  },
  {
   "cell_type": "code",
   "execution_count": 15,
   "metadata": {},
   "outputs": [
    {
     "name": "stdout",
     "output_type": "stream",
     "text": [
      "91.0 45.5 91.0\n",
      "459330.127019 455000.0 450669.872981\n",
      "A =  2.91e-04\n",
      "A  =  -70.73dB\n"
     ]
    }
   ],
   "source": [
    "fca = fo + 50e3 \n",
    "print(Q1,Q2,Q3)\n",
    "print(f1,f2,f3)\n",
    "A1 = 1/(1+Q1**2*(fca/f1-f1/fca )**2 )**0.5\n",
    "A2 = 1/(1+Q2**2*(fca/f2-f2/fca )**2 )**0.5\n",
    "A3 = 1/(1+Q3**2*(fca/f3-f3/fca )**2 )**0.5\n",
    "\n",
    "A = A1 * A2 * A3\n",
    "print('A =  {:1.2e}'.format(A))\n",
    "print('A  =  {:1.2f}dB'.format(20*np.log10(A)))\n"
   ]
  },
  {
   "cell_type": "code",
   "execution_count": null,
   "metadata": {},
   "outputs": [],
   "source": []
  }
 ],
 "metadata": {
  "kernelspec": {
   "display_name": "Python 3",
   "language": "python",
   "name": "python3"
  },
  "language_info": {
   "codemirror_mode": {
    "name": "ipython",
    "version": 3
   },
   "file_extension": ".py",
   "mimetype": "text/x-python",
   "name": "python",
   "nbconvert_exporter": "python",
   "pygments_lexer": "ipython3",
   "version": "3.7.0"
  }
 },
 "nbformat": 4,
 "nbformat_minor": 2
}

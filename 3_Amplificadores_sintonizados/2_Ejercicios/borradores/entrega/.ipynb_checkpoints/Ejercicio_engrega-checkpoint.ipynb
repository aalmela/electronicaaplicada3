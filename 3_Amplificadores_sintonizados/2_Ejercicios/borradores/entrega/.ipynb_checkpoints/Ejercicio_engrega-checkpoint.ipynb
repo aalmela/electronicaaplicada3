{
 "cells": [
  {
   "cell_type": "markdown",
   "metadata": {},
   "source": [
    "### Ejercicio\n",
    "\n",
    "\n",
    "El circuito de la figura corresponde a un receptor de Banda Aeronáutica ($118 MHz$ a $137 MHz$).  \n",
    "Está sintonizado para recibir el canal de  $F_c = 120 MHz$, de ancho de banda del canal de $BW = 50 KHz$, y\n",
    " modulado al 50\\%  por un tono único de $15\\,KHz$.\n",
    "\n",
    "\n",
    "\n",
    "\n",
    "#### Diagrama en bloques \n",
    "\n",
    "<img src=\"fig/canvas.png\" width=450>\n",
    "\n",
    "#### Circuito RF\n",
    "<img src=\"fig/RF.png\" width=450>\n",
    "\n",
    "\n",
    "#### Circuito IF\n",
    "<img src=\"fig/IF.png\" width=450>\n",
    "\n",
    "\n",
    "\n",
    "Todos los elementos activos (Amplificadores, mezclador y detector) son lineales y de parámetros constantes dentro de toda la banda de interés. \n",
    "\n",
    "\n",
    "Ambos amplificadores (RF y FI) son sincrónicos.\n",
    "$F_{ol} = F_{c} + 10.7 MHz$, $F_{FI}= 10.7 MHz$\n",
    "\n",
    "\n",
    "La antena presenta una impedancia $R_{a}= 50 \\Omega$ en toda la banda de interés. \n",
    "\n",
    "El detector presenta una impedancia de $R_{det}= 1000 \\Omega$\n",
    "\n",
    "\n",
    "Todos los tanques están adaptados a transferencia de energía a Q constate.\n",
    "\n",
    "Las bobinas empleadas para el amplificador de RF poseen : $Q_{oL} = 100$ y $N = 100$ espiras.\n",
    "Las bobinas empleadas para el amplificador de FI poseen : $Q_{oL} = 120$.\n",
    "Capacitores con $Q_{oC} = \\infty$.\n",
    "\n",
    "Rechazo de frecuencia imagen  $\\mid A_v{@f_{Img}} \\mid = 55 dB$.\n",
    "\n",
    "\n",
    "Nota: Para los cálculos despreciar las capacidades del transistor si son despreciables respecto al capacitor de sintonía.  \n",
    "\n",
    "Los parámetros del transistor de RF:\n",
    "\n",
    "$Y_{11} = (  1  + j4 ) mS$\t\n",
    "\n",
    "$Y_{12} \\sim 0 S$ \n",
    "\n",
    "$Y_{21} = (  100 - j10  ) mS$ \n",
    "\n",
    "$Y_{22} = (0.2  + j8) mS$ \n",
    "\n",
    "\n",
    "    \n",
    "Los parámetros del transistor de FI:\n",
    "\n",
    "$Y_{11} = (  1  + j0.2) mS$\t\n",
    "\n",
    "$Y_{12} \\sim 0 S$\n",
    "\n",
    "$Y_{21} = (   40 - j2  ) mS$ \n",
    "\n",
    "$Y_{22} = (0.1 + j0.4) mS$\n",
    "\t\t\n",
    "\n",
    "\n",
    "Los parámetros del mezclador:\n",
    "\n",
    "$Y_{in}  = ( 1 ) mS$\t\n",
    "\n",
    "$Y_{out} = (0.1) mS$ \n",
    "\n",
    "$Av = 4 dB $  . \n",
    "\n",
    "\n",
    "\n",
    "\n",
    "Determinar:\n",
    "\n",
    "1. Los $Q_{c}$ para las etapas de RF y FI respectivamente (10 puntos).\n",
    "\n",
    "2. Los valores para L1, N1, N2, N3 y C1 (10 puntos).\n",
    "\n",
    "3. Los valores para L2, C2 y C3. (10 puntos).\n",
    "\n",
    "4. Calcular la ganancia de tensión del amplificador de RF (10 puntos). \n",
    "\n",
    "5. Calcular la ganancia de tensión del amplificador de FI (10 puntos). \n",
    "\n",
    "6. Calcular la ganancia de tensión total (10 puntos). \n",
    "\n",
    "7. Calcular la ganancia de potencia de cada amplificador y del amplificador total (10 puntos) (G = $\\frac{P_{RL}}{P{in}} $ ). \n",
    "\n",
    "8. Con el receptor en su condición original ($f_{c} = 118 MHz$), una falla en el Oscilador Local hace que la frecuencia del mismo se corra a $f'_{ol} = 128.71 MHz$.  \n",
    "Encontrar el índice de modulación (m) de la señal a la entrada del detector a la salida del mismo comparando con la condición de funcionamiento normal, siendo  $m = \\frac {V_{pico} - V_{valle}}{V_{pico} + V_{valle}}$ (10 puntos).\n",
    "\n",
    "9. Se re-sintoniza a $F_{rf} = 137 MHz$. Calcular el rechazo variando solamente $C_1$ y manteniendo constante $L_1$ (10 puntos)\n",
    "\n",
    "10. Idem 9, calcular el rechazo variando solamente $L_1$ y manteniendo constante $C_1$, comparar con el resultado anterior (10 puntos). \n"
   ]
  },
  {
   "cell_type": "code",
   "execution_count": 1,
   "metadata": {},
   "outputs": [],
   "source": [
    "import numpy as np\n",
    "import matplotlib.pyplot as plt\n",
    "import scipy                  # http://scipy.org/\n",
    "from scipy import signal\n",
    "\n",
    "from IPython.display import Image  \n",
    "%matplotlib inline\n",
    "params = {'legend.fontsize': 24,\n",
    "          'figure.figsize': (12, 8),\n",
    "         'axes.labelsize': 24,\n",
    "         'axes.titlesize': 24,\n",
    "         'xtick.labelsize':24,\n",
    "         'ytick.labelsize':24}\n",
    "plt.rcParams.update(params) \n",
    "\n",
    "\n",
    "\n",
    "from IPython.display import Image\n",
    "import sys \n",
    "sys.path.insert(0,'/home/aalmela/scm/git/utn/eaiii/2019/lib/')\n",
    "\n",
    "\n",
    "#Image(filename= \"fig/eje1.png\",width=450)"
   ]
  },
  {
   "cell_type": "code",
   "execution_count": 5,
   "metadata": {},
   "outputs": [
    {
     "name": "stdout",
     "output_type": "stream",
     "text": [
      "139400000.0\n"
     ]
    }
   ],
   "source": [
    "# Datos\n",
    "frf    = 118e6 #Hz\n",
    "fm     = 15e3 #Hz \n",
    "AttRF = 55 #dB\n",
    "BWif  = 50e3 #Hz\n",
    "\n",
    "#Numero de etapas RF\n",
    "NetRF = 2\n",
    "#Numero de etapas FI\n",
    "NetIF = 3\n",
    "\n",
    "# Impedancia de antena\n",
    "rg    = 50 #ohm\n",
    "\n",
    "# Impedancia detector\n",
    "rdet  = 1e3 \n",
    "\n",
    "# Transistor RF \n",
    "y11rf = 1e-3 + 1j * 4e-3\n",
    "y12rf = 0\n",
    "y21rf = 100e-3 - 1j * 10e-3\n",
    "y22rf = 0.2e-3 + 1j * 8e-3\n",
    "\n",
    "# Transistor IF \n",
    "y11if = 1e-3 + 1j * 0.2e-3\n",
    "y12if = 0\n",
    "y21if = 40e-3 - 1j * 2e-3\n",
    "y22if = 0.1e-3 + 1j * 0.4e-3\n",
    "\n",
    "# Mezclador \n",
    "yinmix  =  1e-3 \n",
    "youtmix = 0.1e-3\n",
    "Avmixdb = 4 #dB $  (G = $\\frac{P_{in}}{P{RL}} $ ). \n",
    "\n",
    "\n",
    "\n",
    "# componentes\n",
    "# Inductor RF\n",
    "Qolrf = 100 \n",
    "Nrf   = 100 # espiras\n",
    "\n",
    "# Inductor FI\n",
    "Qolif = 120\n",
    "Nfi   = 120\n",
    "\n",
    "Qoc = np.inf\n",
    "\n",
    "\n",
    "# Frecuancia FI \n",
    "fif   = 10.7e6\n",
    "\n",
    "# Frecuencia Oscilador\n",
    "fosc  = frf + fif\n",
    "\n",
    "# Frecuancia Imagen\n",
    "fimg  = fosc + fif \n",
    "print(fimg)"
   ]
  },
  {
   "cell_type": "markdown",
   "metadata": {},
   "source": [
    "Determinar:\n",
    "\n",
    "1. Los $Q_{c}$ para las etapas de RF y FI respectivamente (10 puntos).\n"
   ]
  },
  {
   "cell_type": "code",
   "execution_count": 6,
   "metadata": {},
   "outputs": [
    {
     "name": "stdout",
     "output_type": "stream",
     "text": [
      "Qrf = 70.75\n",
      "Qif = 109.10 (Aprox. Banda Angosta)\n",
      "Qif = 109.23 (Formula completa)\n"
     ]
    }
   ],
   "source": [
    "# Calculo de Qc de la etapa de RF\n",
    "# Formula completa \n",
    "# Att = ( 1/(1+Qrf^2*(f/fo-fo/f)^2)^0.5 )^NetRF\n",
    "# f = fimg\n",
    "Qrf  = (( (10**(AttRF/20))**(2/NetRF)  - 1 ) / (fimg/frf - frf/fimg)**2 )**(1/2)\n",
    "\n",
    "print('Qrf = {:1.2f}'.format(Qrf))\n",
    "\n",
    "\n",
    "# Calculo de Qc de la etapa de IF\n",
    "# Empleando aproximación de banda angosta\n",
    "# (1 /(1+Xif^2)^0.5 )^3 = 1/(2)^0.5  \n",
    "Xif = ( (2**(0.5))**(2/NetIF) - 1 )**0.5\n",
    "\n",
    "# Xif = 2*Q*df/fo \n",
    "Qif = Xif/2/(BWif/2)*fif\n",
    "\n",
    "print('Qif = {:1.2f} (Aprox. Banda Angosta)'.format(Qif))\n",
    "\n",
    "# De igual manera, pero usando la expesion completa.\n",
    "fifs = fif + (BWif/2)\n",
    "Qif  = (( (2**(0.5))**(2/NetIF)  - 1 ) / (fifs/fif - fif/fifs)**2 )**(1/2)\n",
    "\n",
    "print('Qif = {:1.2f} (Formula completa)'.format(Qif))\n"
   ]
  },
  {
   "cell_type": "markdown",
   "metadata": {},
   "source": [
    "2. Los valores para L1, N1, N2, N3 y C1 (10 puntos).\n"
   ]
  },
  {
   "cell_type": "code",
   "execution_count": 7,
   "metadata": {},
   "outputs": [
    {
     "name": "stdout",
     "output_type": "stream",
     "text": [
      "Componentes de RF\n",
      "L1 = 1.39e-08 Hy\n",
      "C1 = 1.31e-10 F\n",
      "N  = 100.00 e\n",
      "N1 = 10.00 e\n",
      "N2 = 44.72 e\n",
      "N3 = 44.72 e\n"
     ]
    }
   ],
   "source": [
    "# Calculo de la etapa de RF\n",
    "wrf = 2*np.pi*frf\n",
    "\n",
    "# resistencia de entrada \n",
    "ri = 1/y11rf.real\n",
    "ci = y11rf.imag/wrf\n",
    "\n",
    "ro = 1/y22rf.real\n",
    "co = y22rf.imag/wrf\n",
    "\n",
    "#sintonizado de colector\n",
    "# calculo a tope de bobina del colector \n",
    "XL1 = (1/Qrf-1/Qolrf) * (ro/2)\n",
    "L1   = XL1 / wrf  \n",
    "XC1 = XL1\n",
    "C1  = 1/(XC1*wrf)\n",
    "\n",
    "# Transformador de salida\n",
    "rmix = 1/yinmix.real\n",
    "\n",
    "# el transformador de salida debe llevar a rmix a ro para máxima transferencia de energía a Qcte\n",
    "# (ro/rmix) = (Nrf/N3)^2\n",
    "N3 = Nrf / ((ro/rmix)**(1/2) )\n",
    "\n",
    "# Transformador de la entrada\n",
    "# (ro/ri) = (Nrf/N2)^2\n",
    "N2 = Nrf / ((ro/ri)**(1/2) )\n",
    "\n",
    "# (ro/ri) = (Nrf/N2)^2\n",
    "N1 = Nrf / ((ro/rg)**(1/2) )\n",
    "\n",
    "print('Componentes de RF')\n",
    "print('L1 = {:1.2e} Hy'.format(L1))\n",
    "print('C1 = {:1.2e} F'.format(C1))\n",
    "print('N  = {:1.2f} e'.format(Nrf))\n",
    "print('N1 = {:1.2f} e'.format(N1))\n",
    "print('N2 = {:1.2f} e'.format(N2))\n",
    "print('N3 = {:1.2f} e'.format(N3))\n",
    "\n",
    "\n"
   ]
  },
  {
   "cell_type": "markdown",
   "metadata": {},
   "source": [
    "3. Los valores para L2, C2 y C3. (10 puntos)."
   ]
  },
  {
   "cell_type": "code",
   "execution_count": 8,
   "metadata": {},
   "outputs": [
    {
     "name": "stdout",
     "output_type": "stream",
     "text": [
      "Qm2 = 2434.03 \n",
      "Qm1 = 1368.76 \n",
      "Componentes de FI\n",
      "L2 = 6.11e-08 Hy\n",
      "Cif = 3.62e-09 F\n",
      "C2 = 5.29e-09 F\n",
      "C3 = 1.14e-08 F\n"
     ]
    }
   ],
   "source": [
    "# Calculo de la etapa de IF\n",
    "wif = 2*np.pi*fif\n",
    "\n",
    "# resistencia de entrada \n",
    "ri = 1/y11if.real\n",
    "ci = y11if.imag/wif\n",
    "ro = 1/y22if.real\n",
    "co = y22if.imag/wif\n",
    "\n",
    "#sintonizado de colector\n",
    "# calculo a tope de bobina del colector \n",
    "XL2 = (1/Qif-1/Qolif) * (ro/2)\n",
    "L2   = XL2 / wif\n",
    "\n",
    "# Capacitor de sintonia\n",
    "XCif = XL2\n",
    "Cif  = 1/(XCif*wif)\n",
    "\n",
    "\n",
    "# Divisor Capacitivo\n",
    "Qm2 = ro*wif*Cif \n",
    "\n",
    "print('Qm2 = {:1.2f} '.format(Qm2))\n",
    "# (ro/ri) = (nc)^2\n",
    "nc =  (ro/ri)**(1/2) \n",
    "Qm1 = ((1+Qm2**2)/nc-1)**0.5\n",
    "print('Qm1 = {:1.2f} '.format(Qm1))\n",
    "\n",
    "# Dado que Qm2 y Qm1 son mayores a 10, puedo emplear las ecuaciones aproximadas \\\n",
    "# para el calculo de los capacitorees\n",
    "C3 = nc*Cif\n",
    "C2 = nc/(nc-1)*Cif\n",
    "\n",
    "print('Componentes de FI')\n",
    "print('L2 = {:1.2e} Hy'.format(L2))\n",
    "print('Cif = {:1.2e} F'.format(Cif))\n",
    "print('C2 = {:1.2e} F'.format(C2))\n",
    "print('C3 = {:1.2e} F'.format(C3))\n"
   ]
  },
  {
   "cell_type": "markdown",
   "metadata": {},
   "source": [
    "4. Calcular la ganancia de tensión del amplificador de RF (10 puntos). \n"
   ]
  },
  {
   "cell_type": "code",
   "execution_count": 9,
   "metadata": {},
   "outputs": [
    {
     "data": {
      "image/png": "[encoded data removed]",
      "text/plain": [
       "<IPython.core.display.Image object>"
      ]
     },
     "execution_count": 9,
     "metadata": {
      "image/png": {
       "width": 650
      }
     },
     "output_type": "execute_result"
    }
   ],
   "source": [
    "Image(filename= \"fig/RFAv.png\",width=650)"
   ]
  },
  {
   "cell_type": "code",
   "execution_count": 10,
   "metadata": {},
   "outputs": [
    {
     "name": "stdout",
     "output_type": "stream",
     "text": [
      "|Avrf| = -146.97 \n",
      "|Avrf| = 43.34 dB\n"
     ]
    }
   ],
   "source": [
    "# Ganancia de tension RF\n",
    "# |Avrf(frf)|  = vo/vi = (vo/va) . (va/vb) . (vb/vc) . (vc/vi)\n",
    "\n",
    "Avoa = (N3/Nrf)\n",
    "\n",
    "\n",
    "gmrf = abs(y21rf)\n",
    "Avab = - gmrf * (wrf*L1*Qrf)\n",
    "\n",
    "Avbc = (N2/Nrf)\n",
    "\n",
    "Avci = (Nrf/N1)\n",
    "\n",
    "Avrf = Avoa * Avab * Avbc * Avci\n",
    "\n",
    "print('|Avrf| = {:1.2f} '.format(Avrf))\n",
    "\n",
    "print('|Avrf| = {:1.2f} dB'.format(20*np.log10(abs(Avrf)  )))\n"
   ]
  },
  {
   "cell_type": "markdown",
   "metadata": {},
   "source": [
    "5. Calcular la ganancia de tensión del amplificador de FI (10 puntos)."
   ]
  },
  {
   "cell_type": "code",
   "execution_count": 11,
   "metadata": {},
   "outputs": [
    {
     "data": {
      "image/png": "[encoded data removed]",
      "text/plain": [
       "<IPython.core.display.Image object>"
      ]
     },
     "execution_count": 11,
     "metadata": {
      "image/png": {
       "width": 650
      }
     },
     "output_type": "execute_result"
    }
   ],
   "source": [
    "Image(filename= \"fig/IFAv.png\",width=650)"
   ]
  },
  {
   "cell_type": "code",
   "execution_count": 12,
   "metadata": {},
   "outputs": [
    {
     "name": "stdout",
     "output_type": "stream",
     "text": [
      "|Avif| = 10.21 \n",
      "|Avif| = 20.18 dB\n"
     ]
    }
   ],
   "source": [
    "# Ganancia de tension IF\n",
    "# |Avif(frf)|  = vo/vi = (vo/va) . (va/vb) . (vb/vc) . (vc/vd) . (vd/vi) \n",
    "\n",
    "Avoa = (1/nc)\n",
    "\n",
    "\n",
    "gmif = abs(y21if)\n",
    "Avab = - gmif * Qif*wif*L2\n",
    "\n",
    "Avbc = (1/nc)\n",
    "\n",
    "Avcd = - gmif * Qif*wif*L2\n",
    "\n",
    "Avdi = (1/nc)\n",
    "\n",
    "\n",
    "Avif = Avoa * Avab * Avbc * Avcd * Avdi\n",
    "\n",
    "\n",
    "print('|Avif| = {:1.2f} '.format(Avif))\n",
    "\n",
    "print('|Avif| = {:1.2f} dB'.format(20*np.log10(abs(Avif)  )))"
   ]
  },
  {
   "cell_type": "markdown",
   "metadata": {},
   "source": [
    "6. Calcular la ganancia de tensión total (10 puntos)."
   ]
  },
  {
   "cell_type": "code",
   "execution_count": 13,
   "metadata": {},
   "outputs": [
    {
     "name": "stdout",
     "output_type": "stream",
     "text": [
      "|Av| = -2379.39 \n",
      "|Av| = 67.53 dB\n"
     ]
    }
   ],
   "source": [
    "# Ganancia de tensión del receptor\n",
    "Avmix = 10**(Avmixdb/20) \n",
    "\n",
    "Av = Avrf * Avmix * Avif\n",
    "\n",
    "\n",
    "print('|Av| = {:1.2f} '.format(Av))\n",
    "\n",
    "print('|Av| = {:1.2f} dB'.format(20*np.log10(abs(Av)  )))"
   ]
  },
  {
   "cell_type": "markdown",
   "metadata": {},
   "source": [
    "7. Calcular la ganancia de potencia de cada amplificador y del amplificador total (10 puntos) (G = $\\frac{P_{RL}}{P{in}} $ ). "
   ]
  },
  {
   "cell_type": "code",
   "execution_count": 14,
   "metadata": {},
   "outputs": [
    {
     "name": "stdout",
     "output_type": "stream",
     "text": [
      "|Grf| = 185.00 \n",
      "|Grf| = 22.67 dB\n"
     ]
    }
   ],
   "source": [
    "# Ganancia de potencia RF\n",
    "\n",
    "# G = Pout/Pin\n",
    "# Pin = vin^2/Rin\n",
    "# Pout = vout^2/RL\n",
    "# G = Av^2 * (rin/RL)\n",
    "\n",
    "# Resistencia de entrada del Amplificador de RF\n",
    "r11  = 1/(y11rf).real\n",
    "r11p = r11*(Nrf/N2)**2\n",
    "\n",
    "\n",
    "rpL1 = Qolrf * L1 * wrf \n",
    "\n",
    "rt  = (r11p*rpL1)/(r11p+rpL1)\n",
    "\n",
    "rinRF = rt*(N1/Nrf)**2\n",
    "\n",
    "\n",
    "# Resistencia de carga\n",
    "rinMIX  = 1/yinmix.real\n",
    "\n",
    "# Ganancia de potencia de RF\n",
    "Grf = Avrf**2 * (rinRF/rinMIX)\n",
    "\n",
    "print('|Grf| = {:1.2f} '.format(Grf))\n",
    "\n",
    "print('|Grf| = {:1.2f} dB'.format(10*np.log10(abs(Grf)  )))"
   ]
  },
  {
   "cell_type": "code",
   "execution_count": 15,
   "metadata": {},
   "outputs": [
    {
     "name": "stdout",
     "output_type": "stream",
     "text": [
      "|Gif| = 49.03 \n",
      "|Gif| = 16.90 dB\n"
     ]
    }
   ],
   "source": [
    "# Ganancia de potencia IF\n",
    "\n",
    "# G = Pout/Pin\n",
    "# Pin = vin^2/Rin\n",
    "# Pout = vout^2/RL\n",
    "# G = Av^2 * (Rin/RL)\n",
    "\n",
    "r11  = 1/(y11if).real\n",
    "r11p = r11*(nc)**2\n",
    "\n",
    "rpL2 = Qolif * L2 * wif \n",
    "\n",
    "\n",
    "rinIF  = (r11p*rpL2)/(r11p+rpL2)\n",
    "\n",
    "\n",
    "rl  = rdet\n",
    "\n",
    "# Ganancia de potencia de IF\n",
    "Gif = Avif**2 * (rinIF/rl)\n",
    "\n",
    "print('|Gif| = {:1.2f} '.format(Gif))\n",
    "\n",
    "print('|Gif| = {:1.2f} dB'.format(10*np.log10(abs(Gif)  )))"
   ]
  },
  {
   "cell_type": "code",
   "execution_count": 16,
   "metadata": {},
   "outputs": [
    {
     "name": "stdout",
     "output_type": "stream",
     "text": [
      "|Gmix| = 5.35 \n",
      "|Gmix| = 7.28 dB\n"
     ]
    }
   ],
   "source": [
    "# Ganancia de potencia del mezclador\n",
    "\n",
    "# G = Pout/Pin\n",
    "# Pin = vin^2/Rin\n",
    "# Pout = vout^2/RL\n",
    "# G = Av^2 * (Rin/RL)\n",
    "\n",
    "rin  = 1/yinmix.real\n",
    "ro   = 1/youtmix.real\n",
    "\n",
    " \n",
    "\n",
    "Gmix = Avmix**2 * (rin/rinIF)\n",
    "\n",
    "print('|Gmix| = {:1.2f} '.format(Gmix))\n",
    "\n",
    "print('|Gmix| = {:1.2f} dB'.format(10*np.log10(abs(Gmix)  )))"
   ]
  },
  {
   "cell_type": "code",
   "execution_count": 17,
   "metadata": {},
   "outputs": [
    {
     "name": "stdout",
     "output_type": "stream",
     "text": [
      "|G| = 48488.76 \n",
      "|G| = 46.86 dB\n"
     ]
    }
   ],
   "source": [
    "G = Grf * Gmix * Gif\n",
    "\n",
    "print('|G| = {:1.2f} '.format(G))\n",
    "\n",
    "print('|G| = {:1.2f} dB'.format(10*np.log10(abs(G)  )))"
   ]
  },
  {
   "cell_type": "markdown",
   "metadata": {},
   "source": [
    "8. Con el receptor en su condición original ($f_{c} = 118 MHz$), una falla en el Oscilador Local hace que la frecuencia del mismo se corra a $f'_{ol} = 128.71 MHz$.  \n",
    "Encontrar el índice de modulación (m) de la señal a la entrada del detector a la salida del mismo comparando con la condición de funcionamiento normal, siendo  $m = \\frac {V_{pico} - V_{valle}}{V_{pico} + V_{valle}}$ (10 puntos)."
   ]
  },
  {
   "cell_type": "code",
   "execution_count": 20,
   "metadata": {},
   "outputs": [
    {
     "name": "stdout",
     "output_type": "stream",
     "text": [
      "Frecuencia de la portadora en IF: 1.0710e+07 MHz\n",
      "Frecuencia de la frecuencia inferior en IF: 1.0695e+07 MHz\n",
      "Frecuencia de la frecuencia superior en IF: 1.0695e+07 MHz\n",
      "Ganancias:\n",
      "Ainf = 0.98 \n",
      "Aif1 = 0.94 \n",
      "Asup = 0.71 \n",
      "Respuestas:\n",
      "Vinf = 0.25 \n",
      "Vif1 = 0.94 \n",
      "Vsup = 0.18 \n",
      "m = 0.45 \n"
     ]
    }
   ],
   "source": [
    "# La sintonia de la etapa de RF no se modifica\n",
    "# Se modifica la respuesta del amplificador de IF \n",
    "\n",
    "# La frecuencia del oscilador local\n",
    "fosc1 = 128.71e6 \n",
    "\n",
    "# Portadora\n",
    "fif1  = fosc1 - frf  \n",
    "print('Frecuencia de la portadora en IF: {:1.4e} MHz'.format(fif1) )\n",
    "\n",
    "# Banda inferior\n",
    "fif1inf = fif1 - fm\n",
    "print('Frecuencia de la frecuencia inferior en IF: {:1.4e} MHz'.format(fif1inf) )\n",
    "\n",
    "# Banda inferior\n",
    "fif1sup = fif1 + fm \n",
    "print('Frecuencia de la frecuencia superior en IF: {:1.4e} MHz'.format(fif1inf) )\n",
    "\n",
    "# Calculo de la respuesta del filtro de IF \n",
    "Ainf = 1/(1+Qif**2 * (fif1inf/fif - fif/fif1inf)**2)**(NetIF/2)\n",
    "\n",
    "\n",
    "Aif1 = 1/(1+Qif**2 * (fif1/fif - fif/fif1)**2)**(NetIF/2)\n",
    "\n",
    "\n",
    "Asup = 1/(1+Qif**2 * (fif1sup/fif - fif/fif1sup)**2)**(NetIF/2)\n",
    "\n",
    "\n",
    "print('Ganancias:')\n",
    "print('Ainf = {:1.2f} '.format(Ainf))\n",
    "print('Aif1 = {:1.2f} '.format(Aif1))\n",
    "print('Asup = {:1.2f} '.format(Asup))\n",
    "\n",
    "Vinf = Ainf*0.25\n",
    "Vif1 = Aif1*1.00\n",
    "Vsup = Asup*0.25\n",
    "\n",
    "print('Respuestas:')\n",
    "print('Vinf = {:1.2f} '.format(Vinf))\n",
    "print('Vif1 = {:1.2f} '.format(Vif1))\n",
    "print('Vsup = {:1.2f} '.format(Vsup))\n",
    "\n",
    "Vpico  = Vif1 + Vinf  + Vsup\n",
    "Vvalle = Vif1 - Vinf  - Vsup\n",
    "\n",
    "m = (Vpico - Vvalle)/(Vpico + Vvalle)\n",
    "print('m = {:1.2f} '.format(m))"
   ]
  },
  {
   "cell_type": "markdown",
   "metadata": {},
   "source": [
    "9. Se re-sintoniza a $F_{rf} = 137 MHz$. Calcular el rechazo variando solamente $C_1$ y manteniendo constante $L_1$ (10 puntos)\n"
   ]
  },
  {
   "cell_type": "code",
   "execution_count": 21,
   "metadata": {},
   "outputs": [
    {
     "name": "stdout",
     "output_type": "stream",
     "text": [
      "Qrfa = 60.94 \n",
      "Qrf  = 70.75 \n"
     ]
    }
   ],
   "source": [
    "# Calculo de la etapa de RF\n",
    "frfa =  137e6\n",
    "wrfa = 2*np.pi*frfa\n",
    "\n",
    "# resistencia de entrada \n",
    "ri = 1/y11rf.real\n",
    "ci = y11rf.imag/wrf\n",
    "\n",
    "ro = 1/y22rf.real\n",
    "co = y22rf.imag/wrf\n",
    "\n",
    "#sintonizado de colector\n",
    "# calculo a tope de bobina del colector \n",
    "C1a  = 1/(L1*wrfa**2)\n",
    "\n",
    "Qrfa  = Qrf*wrf/wrfa\n",
    "\n",
    "print('Qrfa = {:1.2f} '.format(Qrfa))\n",
    "print('Qrf  = {:1.2f} '.format(Qrf))"
   ]
  },
  {
   "cell_type": "markdown",
   "metadata": {},
   "source": [
    "10. Idem 9, calcular el rechazo variando solamente $L_1$ y manteniendo constante $C_1$, comparar con el resultado anterior (10 puntos). "
   ]
  },
  {
   "cell_type": "code",
   "execution_count": null,
   "metadata": {},
   "outputs": [],
   "source": [
    "# Calculo de la etapa de RF\n",
    "frfb =  137e6\n",
    "wrfb = 2*np.pi*frfb\n",
    "\n",
    "\n",
    "\n",
    "#sintonizado de colector\n",
    "# calculo a tope de bobina del colector \n",
    "L1b  = 1/(C1*wrfb**2)\n",
    "\n",
    "Qrfb  = Qrf*(wrf*L1)/(wrfb*L1b)\n",
    "\n",
    "print('Qrfb = {:1.2f} '.format(Qrfb))\n",
    "print('Qrf  = {:1.2f} '.format(Qrf))"
   ]
  },
  {
   "cell_type": "markdown",
   "metadata": {},
   "source": [
    "Se desea que $R_s  = 10 \\Omega$, se vea a la entrada como $R_p  = 1000 \\Omega$    \n",
    "\n",
    "La conversión serie paralelo de una resistencia:\n",
    "$R_p = R_s \\cdot (1 + Q_m^2 ) $\n",
    "\n",
    "Entonces, $Q_m$:\n",
    "\n",
    "$Q_m = \\sqrt{\\frac{R_p}{R_s} - 1} $\n",
    "\n",
    "Para un circuito serie:\n",
    "\n",
    "$Q_m = \\frac{w_o \\cdot L_s}{R_s} $\n",
    "\n",
    "y para un circuito paralelo:\n",
    "\n",
    "$Q_m = \\frac{R_p}{w_o \\cdot L_p} $\n",
    "\n",
    "Si calculamos $L_s$:\n",
    "\n",
    "$L_s = \\frac{Q_m \\cdot R_s}{w_o} $\n",
    "\n",
    "La $r_p$ del inductor:\n",
    "\n",
    "$r_p = \\frac{w_o \\cdot L_s}{Q_o} $\n",
    "\n",
    "Entonces, $L_p$:\n",
    "\n",
    "$L_p = L_s \\cdot (1 + \\frac{1}{Q_m^2} ) $\n",
    "\n",
    "Por último, el $C$:\n",
    "\n",
    "$C = \\frac{1}{w_o^2 \\cdot L_p} $\n",
    "\n"
   ]
  },
  {
   "cell_type": "code",
   "execution_count": null,
   "metadata": {},
   "outputs": [],
   "source": [
    "fo = 100e6\n",
    "wo = 2*np.pi*fo\n",
    "Rs = 10\n",
    "Rp = 1000 \n",
    "Qo = 100\n",
    "\n",
    "Qm = (Rp/Rs -1 )**(1/2)\n",
    "Ls  = Rs*Qm/wo\n",
    "rp  = Ls*wo/Qo\n",
    "print('.param rp= {:3.3e}'.format(rp) )\n",
    "\n",
    "Lp  = Ls*(1+1/Qm**2)\n",
    "\n",
    "print('.param L= {:3.3e}'.format(Ls) )\n",
    "\n",
    "C  = 1/(wo**2*Lp)\n",
    "print('.param C= {:3.3e}'.format(C) )\n"
   ]
  },
  {
   "cell_type": "code",
   "execution_count": null,
   "metadata": {},
   "outputs": [],
   "source": []
  }
 ],
 "metadata": {
  "kernelspec": {
   "display_name": "Python 3",
   "language": "python",
   "name": "python3"
  },
  "language_info": {
   "codemirror_mode": {
    "name": "ipython",
    "version": 3
   },
   "file_extension": ".py",
   "mimetype": "text/x-python",
   "name": "python",
   "nbconvert_exporter": "python",
   "pygments_lexer": "ipython3",
   "version": "3.7.0"
  }
 },
 "nbformat": 4,
 "nbformat_minor": 2
}

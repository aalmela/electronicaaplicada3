{
 "cells": [
  {
   "cell_type": "code",
   "execution_count": 15,
   "metadata": {},
   "outputs": [],
   "source": [
    "import myplot as myp\n",
    "import numpy as np\n",
    "import matplotlib.pyplot as plt\n",
    "import scipy.signal as signal\n",
    "\n",
    "\n",
    "#$(s+1)$\n",
    "den = dict()\n",
    "den[1] = list() \n",
    "den[1].append([0,1,1])\n",
    "den[1].append([0,0,1])\n",
    "den[1].append([0,0,1])\n",
    "\n",
    "#·(s^2+1.4142s+1)$\n",
    "\n",
    "den[2] = list() \n",
    "den[2].append([1,2**0.5,1])\n",
    "den[2].append([0,0,1])\n",
    "den[2].append([0,0,1])\n",
    "\n",
    "#$(s+1)(s^2+s+1)$\n",
    "\n",
    "den[3] = list() \n",
    "den[3].append([0,1,1])\n",
    "den[3].append([1,1,1])\n",
    "den[3].append([0,0,1])\n",
    "\n",
    "#$(s^2+0.7654s+1)(s^2+1.8478s+1)$\n",
    "\n",
    "den[4] = list() \n",
    "den[4].append([1,0.7654,1])\n",
    "den[4].append([1,1.8478,1])\n",
    "den[4].append([0,0,1])\n",
    "\n",
    "#$(s+1)(s^2+0.6180s+1)(s^2+1.6180s+1)$\n",
    "\n",
    "den[5] = list() \n",
    "den[5].append([0,1,1])\n",
    "den[5].append([1,0.6180,1])\n",
    "den[5].append([1,1.688,1])\n",
    "\n",
    "#$(s^2+0.5176s+1)(s^2+1.4142s+1)(s^2+1.9319s+1)$\n",
    "\n",
    "den[6] = list() \n",
    "den[6].append([1,0.5176,1])\n",
    "den[6].append([1,1.4142,1])\n",
    "den[6].append([1,1.9319,1])\n",
    "\n",
    "\n",
    "#$(s+1)(s^2+0.4450s+1)(s^2+1.2470s+1)(s^2+1.8019s+1)$\n",
    "\n",
    "den[7] = list() \n",
    "den[7].append([0,1,1])\n",
    "den[7].append([1,0.445,1])\n",
    "den[7].append([1,1.247,1])\n",
    "den[7].append([1,1.8019,1]) \n",
    "\n",
    "#$(s^2+0.3902s+1)(s^2+1.1111s+1)(s^2+1.6629s+1)(s^2+1.9616s+1)$\n",
    " \n",
    "\n",
    "#$(s+1)(s^2+0.3473s+1)(s^2+s+1)(s^2+1.5321s+1)(s^2+1.879s+1)$\n",
    " \n",
    "\n",
    "#$(s^2+0.3129s+1)(s^2+0.9080s+1)(s^2+1.4142s+1)(s^2+1.7820s+1)(s^2+1.9754s+1)$\n"
   ]
  },
  {
   "cell_type": "code",
   "execution_count": 17,
   "metadata": {},
   "outputs": [
    {
     "name": "stdout",
     "output_type": "stream",
     "text": [
      "[[0, 1, 1], [0, 0, 1], [0, 0, 1]]\n"
     ]
    }
   ],
   "source": [
    "print(den[1])"
   ]
  },
  {
   "cell_type": "code",
   "execution_count": 24,
   "metadata": {},
   "outputs": [
    {
     "name": "stdout",
     "output_type": "stream",
     "text": [
      "[1.       3.306    5.349184 5.349184 3.306    1.      ]\n"
     ]
    },
    {
     "data": {
      "image/png": "[encoded data removed]",
      "text/plain": [
       "<Figure size 144x360 with 1 Axes>"
      ]
     },
     "metadata": {
      "needs_background": "light"
     },
     "output_type": "display_data"
    }
   ],
   "source": [
    "def H(den,n = 3):\n",
    "    numa =[  1   ]  \n",
    "    dena =[1] \n",
    "    for i in range(len(den[n])):\n",
    "        dena = np.polymul(dena,den[n][i]) \n",
    "    print(dena)\n",
    "    return signal.lti(numa,dena) \n",
    "\n",
    "\n",
    "# Transferencia\n",
    "sys1 = H(den,n = 5)\n",
    "\n",
    "plt.figure(figsize=(2,5))\n",
    "plt.plot(sys1.zeros.real, sys1.zeros.imag, 'o')\n",
    "plt.plot(sys1.poles.real, sys1.poles.imag, 'rx')\n",
    "plt.ylabel('Im()')\n",
    "plt.xlabel('Re()')\n",
    "plt.grid()\n",
    "plt.xlim([-4,2])\n",
    "plt.xlim([-3,3])\n",
    "#plt.savefig('figures/ejemplo1PZ.png')\n",
    "plt.show()"
   ]
  },
  {
   "cell_type": "code",
   "execution_count": 26,
   "metadata": {},
   "outputs": [
    {
     "data": {
      "image/png": "[encoded data removed]",
      "text/plain": [
       "<Figure size 432x288 with 1 Axes>"
      ]
     },
     "metadata": {
      "needs_background": "light"
     },
     "output_type": "display_data"
    },
    {
     "data": {
      "image/png": "[encoded data removed]",
      "text/plain": [
       "<Figure size 432x288 with 1 Axes>"
      ]
     },
     "metadata": {
      "needs_background": "light"
     },
     "output_type": "display_data"
    }
   ],
   "source": [
    "w, mag, phase = signal.bode(sys1)\n",
    "\n",
    "plt.figure()\n",
    "plt.semilogx(w, mag)    # Bode magnitude plot\n",
    "#plt.xlim([1e4,1e7])\n",
    "plt.figure()\n",
    "plt.semilogx(w, phase)  # Bode phase plot\n",
    "plt.show()"
   ]
  },
  {
   "cell_type": "code",
   "execution_count": null,
   "metadata": {},
   "outputs": [],
   "source": []
  }
 ],
 "metadata": {
  "kernelspec": {
   "display_name": "Python 3",
   "language": "python",
   "name": "python3"
  },
  "language_info": {
   "codemirror_mode": {
    "name": "ipython",
    "version": 3
   },
   "file_extension": ".py",
   "mimetype": "text/x-python",
   "name": "python",
   "nbconvert_exporter": "python",
   "pygments_lexer": "ipython3",
   "version": "3.7.0"
  },
  "latex_envs": {
   "LaTeX_envs_menu_present": true,
   "autoclose": false,
   "autocomplete": true,
   "bibliofile": "biblio.bib",
   "cite_by": "apalike",
   "current_citInitial": 1,
   "eqLabelWithNumbers": true,
   "eqNumInitial": 1,
   "hotkeys": {
    "equation": "Ctrl-E",
    "itemize": "Ctrl-I"
   },
   "labels_anchors": false,
   "latex_user_defs": false,
   "report_style_numbering": false,
   "user_envs_cfg": false
  }
 },
 "nbformat": 4,
 "nbformat_minor": 2
}
